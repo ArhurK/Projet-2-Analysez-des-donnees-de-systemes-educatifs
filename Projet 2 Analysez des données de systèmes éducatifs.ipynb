{
 "cells": [
  {
   "cell_type": "markdown",
   "metadata": {},
   "source": [
    "# Projet 2 Analysez des données de systèmes éducatifs"
   ]
  },
  {
   "cell_type": "markdown",
   "metadata": {},
   "source": [
    "Projet 2 du parcours Data Scientist chez Openclassrooms"
   ]
  },
  {
   "cell_type": "markdown",
   "metadata": {},
   "source": [
    "### Sommaire\n",
    "\n",
    "* [Analyse exploratoire](#Première-Partie-:-analyse-exploratoire)\n",
    "    * [Contexte](#Contexte)\n",
    "    * [Fichiers](#Fichiers)\n",
    "        * [I. fichier EdStatsCountry](#I.-fichier-EdStatsCountry)\n",
    "        * [II. Fichier EdStatsCountrySeries](#II.-Fichier-EdStatsCountrySeries)\n",
    "        * [III.EdStatsData](#III.-EdStatsData)\n",
    "        * [IV.  fichier EdStatsFootNote](#IV.--fichier-EdStatsFootNote)\n",
    "        * [V. fichier EdStatsSeries](#V.-fichier-EdStatsSeries)\n",
    "* [Nettoyage](#Nettoyage)  \n",
    "    * [Imputation KNN](#Imputation-KNN)\n",
    "* [Étude de marché](#chapter2)\n",
    "    * [Section 2.1](#section_2_1)\n",
    "    * [Section 2.2](#section_2_2)"
   ]
  },
  {
   "cell_type": "markdown",
   "metadata": {},
   "source": [
    "#  Première Partie : analyse exploratoire"
   ]
  },
  {
   "cell_type": "markdown",
   "metadata": {},
   "source": [
    "## Contexte"
   ]
  },
  {
   "cell_type": "markdown",
   "metadata": {},
   "source": [
    "Pour la pré-analyse, pourrais-tu :\n",
    "\n",
    "- Valider la qualité de ce jeu de données (comporte-t-il beaucoup de données manquantes, dupliquées ?)\n",
    "- Décrire les informations contenues dans le jeu de données (nombre de colonnes ? nombre de lignes ?)\n",
    "- Sélectionner les informations qui semblent pertinentes pour répondre à la problématique (quelles sont les colonnes contenant des informations qui peuvent être utiles pour répondre à la problématique de l’entreprise ?)\n",
    "- Déterminer des ordres de grandeurs des indicateurs statistiques classiques pour les différentes zones géographiques et pays du monde (moyenne/médiane/écart-type par pays et par continent ou bloc géographique)"
   ]
  },
  {
   "cell_type": "markdown",
   "metadata": {},
   "source": [
    "Nous disposons de 5 fichiers csv.\n",
    "\n",
    "- EdStatsCountry \n",
    "- EdStatsCountry-Series\n",
    "- EdStatsData\n",
    "- EdStatsFootNote\n",
    "- EdStatsSeries\n",
    "\n",
    "Ces fichiers proviennent de la Banque Mondiale.\n",
    "https://datatopics.worldbank.org/education/indicators"
   ]
  },
  {
   "cell_type": "code",
   "execution_count": 103,
   "metadata": {},
   "outputs": [],
   "source": [
    "import pandas as pd\n",
    "import numpy as np \n",
    "import matplotlib.pyplot as plt \n",
    "import seaborn as sns\n",
    "sns.set_theme(style=\"darkgrid\")\n"
   ]
  },
  {
   "cell_type": "markdown",
   "metadata": {},
   "source": [
    "## Fichiers "
   ]
  },
  {
   "cell_type": "markdown",
   "metadata": {},
   "source": [
    "### I. fichier EdStatsCountry"
   ]
  },
  {
   "cell_type": "code",
   "execution_count": 104,
   "metadata": {
    "scrolled": true
   },
   "outputs": [
    {
     "data": {
      "text/plain": [
       "Index(['Country Code', 'Short Name', 'Table Name', 'Long Name', '2-alpha code',\n",
       "       'Currency Unit', 'Special Notes', 'Region', 'Income Group', 'WB-2 code',\n",
       "       'National accounts base year', 'National accounts reference year',\n",
       "       'SNA price valuation', 'Lending category', 'Other groups',\n",
       "       'System of National Accounts', 'Alternative conversion factor',\n",
       "       'PPP survey year', 'Balance of Payments Manual in use',\n",
       "       'External debt Reporting status', 'System of trade',\n",
       "       'Government Accounting concept', 'IMF data dissemination standard',\n",
       "       'Latest population census', 'Latest household survey',\n",
       "       'Source of most recent Income and expenditure data',\n",
       "       'Vital registration complete', 'Latest agricultural census',\n",
       "       'Latest industrial data', 'Latest trade data',\n",
       "       'Latest water withdrawal data', 'Unnamed: 31'],\n",
       "      dtype='object')"
      ]
     },
     "execution_count": 104,
     "metadata": {},
     "output_type": "execute_result"
    }
   ],
   "source": [
    "## I. EdStatsCountry\n",
    "country = pd.read_csv('EdStatsCountry.csv')\n",
    "country.columns"
   ]
  },
  {
   "cell_type": "markdown",
   "metadata": {},
   "source": [
    "Variables d'intérets : \n",
    "- Clés pays :  Country Code \n",
    "- Region & Income Group : On cherche des clients potentiels/ des marchés sinificatifs: supprimer les pays low income ?\n",
    "- IMF data dissemination standard : soit les données du FMI, voir lien suivant https://dsbb.imf.org/\n",
    "- Latest population census: Pertinant ou non de prendre en compte les données de population.\n",
    "- Différentes sources industrielles, commerces, accès/qualité eau.\n",
    "- On a la dernière année d'enquête sur différents thèmes\n"
   ]
  },
  {
   "cell_type": "code",
   "execution_count": 105,
   "metadata": {},
   "outputs": [
    {
     "data": {
      "text/plain": [
       "array([nan, 'General Data Dissemination System (GDDS)',\n",
       "       'Special Data Dissemination Standard (SDDS)'], dtype=object)"
      ]
     },
     "execution_count": 105,
     "metadata": {},
     "output_type": "execute_result"
    }
   ],
   "source": [
    "country['IMF data dissemination standard'].unique()"
   ]
  },
  {
   "cell_type": "code",
   "execution_count": 106,
   "metadata": {},
   "outputs": [
    {
     "data": {
      "text/plain": [
       "array(['Country uses the 1993 System of National Accounts methodology.',\n",
       "       'Country uses the 1968 System of National Accounts methodology.',\n",
       "       nan,\n",
       "       'Country uses the 2008 System of National Accounts methodology.'],\n",
       "      dtype=object)"
      ]
     },
     "execution_count": 106,
     "metadata": {},
     "output_type": "execute_result"
    }
   ],
   "source": [
    "country['System of National Accounts'].unique()"
   ]
  },
  {
   "cell_type": "code",
   "execution_count": 107,
   "metadata": {
    "scrolled": true
   },
   "outputs": [
    {
     "data": {
      "text/html": [
       "<div>\n",
       "<style scoped>\n",
       "    .dataframe tbody tr th:only-of-type {\n",
       "        vertical-align: middle;\n",
       "    }\n",
       "\n",
       "    .dataframe tbody tr th {\n",
       "        vertical-align: top;\n",
       "    }\n",
       "\n",
       "    .dataframe thead th {\n",
       "        text-align: right;\n",
       "    }\n",
       "</style>\n",
       "<table border=\"1\" class=\"dataframe\">\n",
       "  <thead>\n",
       "    <tr style=\"text-align: right;\">\n",
       "      <th></th>\n",
       "      <th>Country Code</th>\n",
       "      <th>Short Name</th>\n",
       "      <th>Table Name</th>\n",
       "      <th>Long Name</th>\n",
       "      <th>2-alpha code</th>\n",
       "      <th>Currency Unit</th>\n",
       "      <th>Special Notes</th>\n",
       "      <th>Region</th>\n",
       "      <th>Income Group</th>\n",
       "      <th>WB-2 code</th>\n",
       "      <th>...</th>\n",
       "      <th>IMF data dissemination standard</th>\n",
       "      <th>Latest population census</th>\n",
       "      <th>Latest household survey</th>\n",
       "      <th>Source of most recent Income and expenditure data</th>\n",
       "      <th>Vital registration complete</th>\n",
       "      <th>Latest agricultural census</th>\n",
       "      <th>Latest industrial data</th>\n",
       "      <th>Latest trade data</th>\n",
       "      <th>Latest water withdrawal data</th>\n",
       "      <th>Unnamed: 31</th>\n",
       "    </tr>\n",
       "  </thead>\n",
       "  <tbody>\n",
       "    <tr>\n",
       "      <th>0</th>\n",
       "      <td>ABW</td>\n",
       "      <td>Aruba</td>\n",
       "      <td>Aruba</td>\n",
       "      <td>Aruba</td>\n",
       "      <td>AW</td>\n",
       "      <td>Aruban florin</td>\n",
       "      <td>SNA data for 2000-2011 are updated from offici...</td>\n",
       "      <td>Latin America &amp; Caribbean</td>\n",
       "      <td>High income: nonOECD</td>\n",
       "      <td>AW</td>\n",
       "      <td>...</td>\n",
       "      <td>NaN</td>\n",
       "      <td>2010</td>\n",
       "      <td>NaN</td>\n",
       "      <td>NaN</td>\n",
       "      <td>Yes</td>\n",
       "      <td>NaN</td>\n",
       "      <td>NaN</td>\n",
       "      <td>2012.0</td>\n",
       "      <td>NaN</td>\n",
       "      <td>NaN</td>\n",
       "    </tr>\n",
       "    <tr>\n",
       "      <th>1</th>\n",
       "      <td>AFG</td>\n",
       "      <td>Afghanistan</td>\n",
       "      <td>Afghanistan</td>\n",
       "      <td>Islamic State of Afghanistan</td>\n",
       "      <td>AF</td>\n",
       "      <td>Afghan afghani</td>\n",
       "      <td>Fiscal year end: March 20; reporting period fo...</td>\n",
       "      <td>South Asia</td>\n",
       "      <td>Low income</td>\n",
       "      <td>AF</td>\n",
       "      <td>...</td>\n",
       "      <td>General Data Dissemination System (GDDS)</td>\n",
       "      <td>1979</td>\n",
       "      <td>Multiple Indicator Cluster Survey (MICS), 2010/11</td>\n",
       "      <td>Integrated household survey (IHS), 2008</td>\n",
       "      <td>NaN</td>\n",
       "      <td>2013/14</td>\n",
       "      <td>NaN</td>\n",
       "      <td>2012.0</td>\n",
       "      <td>2000</td>\n",
       "      <td>NaN</td>\n",
       "    </tr>\n",
       "    <tr>\n",
       "      <th>2</th>\n",
       "      <td>AGO</td>\n",
       "      <td>Angola</td>\n",
       "      <td>Angola</td>\n",
       "      <td>People's Republic of Angola</td>\n",
       "      <td>AO</td>\n",
       "      <td>Angolan kwanza</td>\n",
       "      <td>April 2013 database update: Based on IMF data,...</td>\n",
       "      <td>Sub-Saharan Africa</td>\n",
       "      <td>Upper middle income</td>\n",
       "      <td>AO</td>\n",
       "      <td>...</td>\n",
       "      <td>General Data Dissemination System (GDDS)</td>\n",
       "      <td>1970</td>\n",
       "      <td>Malaria Indicator Survey (MIS), 2011</td>\n",
       "      <td>Integrated household survey (IHS), 2008</td>\n",
       "      <td>NaN</td>\n",
       "      <td>2015</td>\n",
       "      <td>NaN</td>\n",
       "      <td>NaN</td>\n",
       "      <td>2005</td>\n",
       "      <td>NaN</td>\n",
       "    </tr>\n",
       "    <tr>\n",
       "      <th>3</th>\n",
       "      <td>ALB</td>\n",
       "      <td>Albania</td>\n",
       "      <td>Albania</td>\n",
       "      <td>Republic of Albania</td>\n",
       "      <td>AL</td>\n",
       "      <td>Albanian lek</td>\n",
       "      <td>NaN</td>\n",
       "      <td>Europe &amp; Central Asia</td>\n",
       "      <td>Upper middle income</td>\n",
       "      <td>AL</td>\n",
       "      <td>...</td>\n",
       "      <td>General Data Dissemination System (GDDS)</td>\n",
       "      <td>2011</td>\n",
       "      <td>Demographic and Health Survey (DHS), 2008/09</td>\n",
       "      <td>Living Standards Measurement Study Survey (LSM...</td>\n",
       "      <td>Yes</td>\n",
       "      <td>2012</td>\n",
       "      <td>2010.0</td>\n",
       "      <td>2012.0</td>\n",
       "      <td>2006</td>\n",
       "      <td>NaN</td>\n",
       "    </tr>\n",
       "    <tr>\n",
       "      <th>4</th>\n",
       "      <td>AND</td>\n",
       "      <td>Andorra</td>\n",
       "      <td>Andorra</td>\n",
       "      <td>Principality of Andorra</td>\n",
       "      <td>AD</td>\n",
       "      <td>Euro</td>\n",
       "      <td>NaN</td>\n",
       "      <td>Europe &amp; Central Asia</td>\n",
       "      <td>High income: nonOECD</td>\n",
       "      <td>AD</td>\n",
       "      <td>...</td>\n",
       "      <td>NaN</td>\n",
       "      <td>2011. Population figures compiled from adminis...</td>\n",
       "      <td>NaN</td>\n",
       "      <td>NaN</td>\n",
       "      <td>Yes</td>\n",
       "      <td>NaN</td>\n",
       "      <td>NaN</td>\n",
       "      <td>2006.0</td>\n",
       "      <td>NaN</td>\n",
       "      <td>NaN</td>\n",
       "    </tr>\n",
       "  </tbody>\n",
       "</table>\n",
       "<p>5 rows × 32 columns</p>\n",
       "</div>"
      ],
      "text/plain": [
       "  Country Code   Short Name   Table Name                     Long Name  \\\n",
       "0          ABW        Aruba        Aruba                         Aruba   \n",
       "1          AFG  Afghanistan  Afghanistan  Islamic State of Afghanistan   \n",
       "2          AGO       Angola       Angola   People's Republic of Angola   \n",
       "3          ALB      Albania      Albania           Republic of Albania   \n",
       "4          AND      Andorra      Andorra       Principality of Andorra   \n",
       "\n",
       "  2-alpha code   Currency Unit  \\\n",
       "0           AW   Aruban florin   \n",
       "1           AF  Afghan afghani   \n",
       "2           AO  Angolan kwanza   \n",
       "3           AL    Albanian lek   \n",
       "4           AD            Euro   \n",
       "\n",
       "                                       Special Notes  \\\n",
       "0  SNA data for 2000-2011 are updated from offici...   \n",
       "1  Fiscal year end: March 20; reporting period fo...   \n",
       "2  April 2013 database update: Based on IMF data,...   \n",
       "3                                                NaN   \n",
       "4                                                NaN   \n",
       "\n",
       "                      Region          Income Group WB-2 code  ...  \\\n",
       "0  Latin America & Caribbean  High income: nonOECD        AW  ...   \n",
       "1                 South Asia            Low income        AF  ...   \n",
       "2         Sub-Saharan Africa   Upper middle income        AO  ...   \n",
       "3      Europe & Central Asia   Upper middle income        AL  ...   \n",
       "4      Europe & Central Asia  High income: nonOECD        AD  ...   \n",
       "\n",
       "            IMF data dissemination standard  \\\n",
       "0                                       NaN   \n",
       "1  General Data Dissemination System (GDDS)   \n",
       "2  General Data Dissemination System (GDDS)   \n",
       "3  General Data Dissemination System (GDDS)   \n",
       "4                                       NaN   \n",
       "\n",
       "                            Latest population census  \\\n",
       "0                                               2010   \n",
       "1                                               1979   \n",
       "2                                               1970   \n",
       "3                                               2011   \n",
       "4  2011. Population figures compiled from adminis...   \n",
       "\n",
       "                             Latest household survey  \\\n",
       "0                                                NaN   \n",
       "1  Multiple Indicator Cluster Survey (MICS), 2010/11   \n",
       "2               Malaria Indicator Survey (MIS), 2011   \n",
       "3       Demographic and Health Survey (DHS), 2008/09   \n",
       "4                                                NaN   \n",
       "\n",
       "   Source of most recent Income and expenditure data  \\\n",
       "0                                                NaN   \n",
       "1            Integrated household survey (IHS), 2008   \n",
       "2            Integrated household survey (IHS), 2008   \n",
       "3  Living Standards Measurement Study Survey (LSM...   \n",
       "4                                                NaN   \n",
       "\n",
       "  Vital registration complete Latest agricultural census  \\\n",
       "0                         Yes                        NaN   \n",
       "1                         NaN                    2013/14   \n",
       "2                         NaN                       2015   \n",
       "3                         Yes                       2012   \n",
       "4                         Yes                        NaN   \n",
       "\n",
       "  Latest industrial data Latest trade data Latest water withdrawal data  \\\n",
       "0                    NaN            2012.0                          NaN   \n",
       "1                    NaN            2012.0                         2000   \n",
       "2                    NaN               NaN                         2005   \n",
       "3                 2010.0            2012.0                         2006   \n",
       "4                    NaN            2006.0                          NaN   \n",
       "\n",
       "  Unnamed: 31  \n",
       "0         NaN  \n",
       "1         NaN  \n",
       "2         NaN  \n",
       "3         NaN  \n",
       "4         NaN  \n",
       "\n",
       "[5 rows x 32 columns]"
      ]
     },
     "execution_count": 107,
     "metadata": {},
     "output_type": "execute_result"
    }
   ],
   "source": [
    "country.head()"
   ]
  },
  {
   "cell_type": "code",
   "execution_count": 108,
   "metadata": {
    "scrolled": true
   },
   "outputs": [
    {
     "data": {
      "text/plain": [
       "241"
      ]
     },
     "execution_count": 108,
     "metadata": {},
     "output_type": "execute_result"
    }
   ],
   "source": [
    "country.iloc[:,0].nunique()"
   ]
  },
  {
   "cell_type": "code",
   "execution_count": 109,
   "metadata": {},
   "outputs": [
    {
     "data": {
      "text/plain": [
       "241"
      ]
     },
     "execution_count": 109,
     "metadata": {},
     "output_type": "execute_result"
    }
   ],
   "source": [
    "country.iloc[:,1].nunique()"
   ]
  },
  {
   "cell_type": "code",
   "execution_count": 110,
   "metadata": {
    "scrolled": true
   },
   "outputs": [
    {
     "name": "stdout",
     "output_type": "stream",
     "text": [
      "<class 'pandas.core.frame.DataFrame'>\n",
      "RangeIndex: 241 entries, 0 to 240\n",
      "Data columns (total 32 columns):\n",
      " #   Column                                             Non-Null Count  Dtype  \n",
      "---  ------                                             --------------  -----  \n",
      " 0   Country Code                                       241 non-null    object \n",
      " 1   Short Name                                         241 non-null    object \n",
      " 2   Table Name                                         241 non-null    object \n",
      " 3   Long Name                                          241 non-null    object \n",
      " 4   2-alpha code                                       238 non-null    object \n",
      " 5   Currency Unit                                      215 non-null    object \n",
      " 6   Special Notes                                      145 non-null    object \n",
      " 7   Region                                             214 non-null    object \n",
      " 8   Income Group                                       214 non-null    object \n",
      " 9   WB-2 code                                          240 non-null    object \n",
      " 10  National accounts base year                        205 non-null    object \n",
      " 11  National accounts reference year                   32 non-null     float64\n",
      " 12  SNA price valuation                                197 non-null    object \n",
      " 13  Lending category                                   144 non-null    object \n",
      " 14  Other groups                                       58 non-null     object \n",
      " 15  System of National Accounts                        215 non-null    object \n",
      " 16  Alternative conversion factor                      47 non-null     object \n",
      " 17  PPP survey year                                    145 non-null    object \n",
      " 18  Balance of Payments Manual in use                  181 non-null    object \n",
      " 19  External debt Reporting status                     124 non-null    object \n",
      " 20  System of trade                                    200 non-null    object \n",
      " 21  Government Accounting concept                      161 non-null    object \n",
      " 22  IMF data dissemination standard                    181 non-null    object \n",
      " 23  Latest population census                           213 non-null    object \n",
      " 24  Latest household survey                            141 non-null    object \n",
      " 25  Source of most recent Income and expenditure data  160 non-null    object \n",
      " 26  Vital registration complete                        111 non-null    object \n",
      " 27  Latest agricultural census                         142 non-null    object \n",
      " 28  Latest industrial data                             107 non-null    float64\n",
      " 29  Latest trade data                                  185 non-null    float64\n",
      " 30  Latest water withdrawal data                       179 non-null    object \n",
      " 31  Unnamed: 31                                        0 non-null      float64\n",
      "dtypes: float64(4), object(28)\n",
      "memory usage: 60.4+ KB\n"
     ]
    }
   ],
   "source": [
    "country.info()"
   ]
  },
  {
   "cell_type": "markdown",
   "metadata": {},
   "source": [
    "le fichier country contient 241 lignes et 32 colonnes \n",
    "Country Code n'a pas de doublon."
   ]
  },
  {
   "cell_type": "code",
   "execution_count": 111,
   "metadata": {
    "scrolled": true
   },
   "outputs": [
    {
     "data": {
      "text/plain": [
       "Country Code                                         0.000000\n",
       "Short Name                                           0.000000\n",
       "Table Name                                           0.000000\n",
       "Long Name                                            0.000000\n",
       "WB-2 code                                            0.004149\n",
       "2-alpha code                                         0.012448\n",
       "System of National Accounts                          0.107884\n",
       "Currency Unit                                        0.107884\n",
       "Region                                               0.112033\n",
       "Income Group                                         0.112033\n",
       "Latest population census                             0.116183\n",
       "National accounts base year                          0.149378\n",
       "System of trade                                      0.170124\n",
       "SNA price valuation                                  0.182573\n",
       "Latest trade data                                    0.232365\n",
       "IMF data dissemination standard                      0.248963\n",
       "Balance of Payments Manual in use                    0.248963\n",
       "Latest water withdrawal data                         0.257261\n",
       "Government Accounting concept                        0.331950\n",
       "Source of most recent Income and expenditure data    0.336100\n",
       "Special Notes                                        0.398340\n",
       "PPP survey year                                      0.398340\n",
       "Lending category                                     0.402490\n",
       "Latest agricultural census                           0.410788\n",
       "Latest household survey                              0.414938\n",
       "External debt Reporting status                       0.485477\n",
       "Vital registration complete                          0.539419\n",
       "Latest industrial data                               0.556017\n",
       "Other groups                                         0.759336\n",
       "Alternative conversion factor                        0.804979\n",
       "National accounts reference year                     0.867220\n",
       "Unnamed: 31                                          1.000000\n",
       "dtype: float64"
      ]
     },
     "execution_count": 111,
     "metadata": {},
     "output_type": "execute_result"
    }
   ],
   "source": [
    "country.isna().mean().sort_values()"
   ]
  },
  {
   "cell_type": "code",
   "execution_count": 112,
   "metadata": {},
   "outputs": [
    {
     "data": {
      "text/html": [
       "<div>\n",
       "<style scoped>\n",
       "    .dataframe tbody tr th:only-of-type {\n",
       "        vertical-align: middle;\n",
       "    }\n",
       "\n",
       "    .dataframe tbody tr th {\n",
       "        vertical-align: top;\n",
       "    }\n",
       "\n",
       "    .dataframe thead th {\n",
       "        text-align: right;\n",
       "    }\n",
       "</style>\n",
       "<table border=\"1\" class=\"dataframe\">\n",
       "  <thead>\n",
       "    <tr style=\"text-align: right;\">\n",
       "      <th></th>\n",
       "      <th>National accounts reference year</th>\n",
       "      <th>Latest industrial data</th>\n",
       "      <th>Latest trade data</th>\n",
       "      <th>Unnamed: 31</th>\n",
       "    </tr>\n",
       "  </thead>\n",
       "  <tbody>\n",
       "    <tr>\n",
       "      <th>0</th>\n",
       "      <td>NaN</td>\n",
       "      <td>NaN</td>\n",
       "      <td>2012.0</td>\n",
       "      <td>NaN</td>\n",
       "    </tr>\n",
       "    <tr>\n",
       "      <th>1</th>\n",
       "      <td>NaN</td>\n",
       "      <td>NaN</td>\n",
       "      <td>2012.0</td>\n",
       "      <td>NaN</td>\n",
       "    </tr>\n",
       "    <tr>\n",
       "      <th>2</th>\n",
       "      <td>NaN</td>\n",
       "      <td>NaN</td>\n",
       "      <td>NaN</td>\n",
       "      <td>NaN</td>\n",
       "    </tr>\n",
       "    <tr>\n",
       "      <th>3</th>\n",
       "      <td>1996.0</td>\n",
       "      <td>2010.0</td>\n",
       "      <td>2012.0</td>\n",
       "      <td>NaN</td>\n",
       "    </tr>\n",
       "    <tr>\n",
       "      <th>4</th>\n",
       "      <td>NaN</td>\n",
       "      <td>NaN</td>\n",
       "      <td>2006.0</td>\n",
       "      <td>NaN</td>\n",
       "    </tr>\n",
       "    <tr>\n",
       "      <th>...</th>\n",
       "      <td>...</td>\n",
       "      <td>...</td>\n",
       "      <td>...</td>\n",
       "      <td>...</td>\n",
       "    </tr>\n",
       "    <tr>\n",
       "      <th>236</th>\n",
       "      <td>NaN</td>\n",
       "      <td>NaN</td>\n",
       "      <td>NaN</td>\n",
       "      <td>NaN</td>\n",
       "    </tr>\n",
       "    <tr>\n",
       "      <th>237</th>\n",
       "      <td>NaN</td>\n",
       "      <td>2006.0</td>\n",
       "      <td>2012.0</td>\n",
       "      <td>NaN</td>\n",
       "    </tr>\n",
       "    <tr>\n",
       "      <th>238</th>\n",
       "      <td>NaN</td>\n",
       "      <td>2010.0</td>\n",
       "      <td>2012.0</td>\n",
       "      <td>NaN</td>\n",
       "    </tr>\n",
       "    <tr>\n",
       "      <th>239</th>\n",
       "      <td>NaN</td>\n",
       "      <td>NaN</td>\n",
       "      <td>2011.0</td>\n",
       "      <td>NaN</td>\n",
       "    </tr>\n",
       "    <tr>\n",
       "      <th>240</th>\n",
       "      <td>NaN</td>\n",
       "      <td>NaN</td>\n",
       "      <td>2012.0</td>\n",
       "      <td>NaN</td>\n",
       "    </tr>\n",
       "  </tbody>\n",
       "</table>\n",
       "<p>241 rows × 4 columns</p>\n",
       "</div>"
      ],
      "text/plain": [
       "     National accounts reference year  Latest industrial data  \\\n",
       "0                                 NaN                     NaN   \n",
       "1                                 NaN                     NaN   \n",
       "2                                 NaN                     NaN   \n",
       "3                              1996.0                  2010.0   \n",
       "4                                 NaN                     NaN   \n",
       "..                                ...                     ...   \n",
       "236                               NaN                     NaN   \n",
       "237                               NaN                  2006.0   \n",
       "238                               NaN                  2010.0   \n",
       "239                               NaN                     NaN   \n",
       "240                               NaN                     NaN   \n",
       "\n",
       "     Latest trade data  Unnamed: 31  \n",
       "0               2012.0          NaN  \n",
       "1               2012.0          NaN  \n",
       "2                  NaN          NaN  \n",
       "3               2012.0          NaN  \n",
       "4               2006.0          NaN  \n",
       "..                 ...          ...  \n",
       "236                NaN          NaN  \n",
       "237             2012.0          NaN  \n",
       "238             2012.0          NaN  \n",
       "239             2011.0          NaN  \n",
       "240             2012.0          NaN  \n",
       "\n",
       "[241 rows x 4 columns]"
      ]
     },
     "execution_count": 112,
     "metadata": {},
     "output_type": "execute_result"
    }
   ],
   "source": [
    "country.select_dtypes(include=['float64'])"
   ]
  },
  {
   "cell_type": "markdown",
   "metadata": {},
   "source": [
    "On constate des valeurs manquantes, cependants tous les pays présents ont une identité."
   ]
  },
  {
   "cell_type": "markdown",
   "metadata": {},
   "source": [
    "### Région et Income"
   ]
  },
  {
   "cell_type": "markdown",
   "metadata": {},
   "source": [
    "Il semblerait que des Régions soient des agrégations de pays."
   ]
  },
  {
   "cell_type": "code",
   "execution_count": 113,
   "metadata": {},
   "outputs": [
    {
     "data": {
      "text/plain": [
       "(27, 32)"
      ]
     },
     "execution_count": 113,
     "metadata": {},
     "output_type": "execute_result"
    }
   ],
   "source": [
    "region_na = country[country['Region'].isna()]\n",
    "region_na.shape"
   ]
  },
  {
   "cell_type": "code",
   "execution_count": 114,
   "metadata": {},
   "outputs": [
    {
     "data": {
      "text/plain": [
       "(27, 32)"
      ]
     },
     "execution_count": 114,
     "metadata": {},
     "output_type": "execute_result"
    }
   ],
   "source": [
    "income_na = country[country['Income Group'].isna()]\n",
    "income_na.shape"
   ]
  },
  {
   "cell_type": "code",
   "execution_count": 115,
   "metadata": {
    "scrolled": true
   },
   "outputs": [
    {
     "data": {
      "text/plain": [
       "5                                          Arab World\n",
       "57              East Asia & Pacific (developing only)\n",
       "58            East Asia & Pacific (all income levels)\n",
       "59            Europe & Central Asia (developing only)\n",
       "60          Europe & Central Asia (all income levels)\n",
       "63                                          Euro area\n",
       "68                                     European Union\n",
       "78                                          Gibraltar\n",
       "89                                        High income\n",
       "92             Heavily indebted poor countries (HIPC)\n",
       "116       Latin America & Caribbean (developing only)\n",
       "122     Latin America & Caribbean (all income levels)\n",
       "123      Least developed countries: UN classification\n",
       "124                                        Low income\n",
       "127                               Lower middle income\n",
       "128                               Low & middle income\n",
       "140    Middle East & North Africa (all income levels)\n",
       "143                                     Middle income\n",
       "148      Middle East & North Africa (developing only)\n",
       "157                                     North America\n",
       "166                                             Nauru\n",
       "168                                      OECD members\n",
       "187                                        South Asia\n",
       "198              Sub-Saharan Africa (developing only)\n",
       "200            Sub-Saharan Africa (all income levels)\n",
       "225                               Upper middle income\n",
       "234                                             World\n",
       "Name: Short Name, dtype: object"
      ]
     },
     "execution_count": 115,
     "metadata": {},
     "output_type": "execute_result"
    }
   ],
   "source": [
    "region_na[\"Short Name\"]"
   ]
  },
  {
   "cell_type": "code",
   "execution_count": 116,
   "metadata": {
    "scrolled": true
   },
   "outputs": [
    {
     "data": {
      "text/plain": [
       "27"
      ]
     },
     "execution_count": 116,
     "metadata": {},
     "output_type": "execute_result"
    }
   ],
   "source": [
    "(region_na[\"Short Name\"] == income_na[\"Short Name\"]).count()"
   ]
  },
  {
   "cell_type": "code",
   "execution_count": 117,
   "metadata": {
    "scrolled": true
   },
   "outputs": [
    {
     "data": {
      "text/plain": [
       "(241, 32)"
      ]
     },
     "execution_count": 117,
     "metadata": {},
     "output_type": "execute_result"
    }
   ],
   "source": [
    "country.shape "
   ]
  },
  {
   "cell_type": "code",
   "execution_count": 263,
   "metadata": {},
   "outputs": [
    {
     "data": {
      "text/plain": [
       "(214, 32)"
      ]
     },
     "execution_count": 263,
     "metadata": {},
     "output_type": "execute_result"
    }
   ],
   "source": [
    "region_a_supprimer = region_na[\"Short Name\"] \n",
    "\n",
    "country_clean = country[~country['Short Name'].isin(region_a_supprimer)] # On supprime les pays de type aggrégation\n",
    "country_clean.shape\n"
   ]
  },
  {
   "cell_type": "markdown",
   "metadata": {},
   "source": [
    "On a bien supprimer les 27 lignes correspondants à des aggrégations de pays. On remarque que notre fichier est passé de 241 lignes à 214 lignes."
   ]
  },
  {
   "cell_type": "markdown",
   "metadata": {},
   "source": [
    "#### Nombre de pays par classe de revenu"
   ]
  },
  {
   "cell_type": "code",
   "execution_count": 264,
   "metadata": {
    "scrolled": false
   },
   "outputs": [
    {
     "data": {
      "text/html": [
       "<div>\n",
       "<style scoped>\n",
       "    .dataframe tbody tr th:only-of-type {\n",
       "        vertical-align: middle;\n",
       "    }\n",
       "\n",
       "    .dataframe tbody tr th {\n",
       "        vertical-align: top;\n",
       "    }\n",
       "\n",
       "    .dataframe thead th {\n",
       "        text-align: right;\n",
       "    }\n",
       "</style>\n",
       "<table border=\"1\" class=\"dataframe\">\n",
       "  <thead>\n",
       "    <tr style=\"text-align: right;\">\n",
       "      <th></th>\n",
       "      <th>Income Group</th>\n",
       "    </tr>\n",
       "  </thead>\n",
       "  <tbody>\n",
       "    <tr>\n",
       "      <th>Upper middle income</th>\n",
       "      <td>55</td>\n",
       "    </tr>\n",
       "    <tr>\n",
       "      <th>Lower middle income</th>\n",
       "      <td>50</td>\n",
       "    </tr>\n",
       "    <tr>\n",
       "      <th>High income: nonOECD</th>\n",
       "      <td>44</td>\n",
       "    </tr>\n",
       "    <tr>\n",
       "      <th>Low income</th>\n",
       "      <td>34</td>\n",
       "    </tr>\n",
       "    <tr>\n",
       "      <th>High income: OECD</th>\n",
       "      <td>31</td>\n",
       "    </tr>\n",
       "  </tbody>\n",
       "</table>\n",
       "</div>"
      ],
      "text/plain": [
       "                      Income Group\n",
       "Upper middle income             55\n",
       "Lower middle income             50\n",
       "High income: nonOECD            44\n",
       "Low income                      34\n",
       "High income: OECD               31"
      ]
     },
     "execution_count": 264,
     "metadata": {},
     "output_type": "execute_result"
    }
   ],
   "source": [
    "income_group = country_clean[\"Income Group\"].value_counts()\n",
    "income_group = income_group.to_frame()\n",
    "income_group"
   ]
  },
  {
   "cell_type": "code",
   "execution_count": 120,
   "metadata": {},
   "outputs": [
    {
     "data": {
      "text/plain": [
       "[Text(0.5, 1.0, 'Nombre de pays par classe de revenu'), Text(0.5, 0, '')]"
      ]
     },
     "execution_count": 120,
     "metadata": {},
     "output_type": "execute_result"
    },
    {
     "data": {
      "image/png": "[encoded data removed]",
      "text/plain": [
       "<Figure size 648x216 with 1 Axes>"
      ]
     },
     "metadata": {},
     "output_type": "display_data"
    }
   ],
   "source": [
    "plt.figure(figsize=(9,3))\n",
    "sns.barplot(\n",
    "            y=income_group.index,\n",
    "            x=\"Income Group\",\n",
    "            data=income_group,\n",
    "            color = \"blue\").set(title='Nombre de pays par classe de revenu', xlabel='')\n",
    "               \n"
   ]
  },
  {
   "cell_type": "markdown",
   "metadata": {},
   "source": [
    "#### Nombre de pays par Région du monde"
   ]
  },
  {
   "cell_type": "code",
   "execution_count": 265,
   "metadata": {
    "scrolled": true
   },
   "outputs": [
    {
     "data": {
      "image/png": "[encoded data removed]",
      "text/plain": [
       "<Figure size 648x216 with 1 Axes>"
      ]
     },
     "metadata": {},
     "output_type": "display_data"
    }
   ],
   "source": [
    "plt.figure(figsize=(9,3))\n",
    "plt.barh(y = country_clean.groupby('Region')[['Short Name']].count().reset_index().sort_values(by='Short Name')['Region'], width = country.groupby('Region')[['Short Name']].count()['Short Name'].sort_values())\n",
    "plt.title('Nombre de pays par Région du monde')\n",
    "plt.grid(True)\n",
    "plt.show()"
   ]
  },
  {
   "cell_type": "markdown",
   "metadata": {},
   "source": [
    "#### histogramme des valeurs numériques"
   ]
  },
  {
   "cell_type": "code",
   "execution_count": 266,
   "metadata": {
    "scrolled": true
   },
   "outputs": [
    {
     "data": {
      "image/png": "[encoded data removed]",
      "text/plain": [
       "<Figure size 432x648 with 4 Axes>"
      ]
     },
     "metadata": {},
     "output_type": "display_data"
    }
   ],
   "source": [
    "_ = country_clean.drop(columns=\"Unnamed: 31\").hist(figsize=(6,9))"
   ]
  },
  {
   "cell_type": "markdown",
   "metadata": {},
   "source": [
    "On constate la disparité entre les années d'enquête"
   ]
  },
  {
   "cell_type": "markdown",
   "metadata": {},
   "source": [
    "### II. Fichier EdStatsCountrySeries"
   ]
  },
  {
   "cell_type": "code",
   "execution_count": 123,
   "metadata": {
    "scrolled": true
   },
   "outputs": [
    {
     "data": {
      "text/html": [
       "<div>\n",
       "<style scoped>\n",
       "    .dataframe tbody tr th:only-of-type {\n",
       "        vertical-align: middle;\n",
       "    }\n",
       "\n",
       "    .dataframe tbody tr th {\n",
       "        vertical-align: top;\n",
       "    }\n",
       "\n",
       "    .dataframe thead th {\n",
       "        text-align: right;\n",
       "    }\n",
       "</style>\n",
       "<table border=\"1\" class=\"dataframe\">\n",
       "  <thead>\n",
       "    <tr style=\"text-align: right;\">\n",
       "      <th></th>\n",
       "      <th>CountryCode</th>\n",
       "      <th>SeriesCode</th>\n",
       "      <th>DESCRIPTION</th>\n",
       "      <th>Unnamed: 3</th>\n",
       "    </tr>\n",
       "  </thead>\n",
       "  <tbody>\n",
       "    <tr>\n",
       "      <th>0</th>\n",
       "      <td>ABW</td>\n",
       "      <td>SP.POP.TOTL</td>\n",
       "      <td>Data sources : United Nations World Population...</td>\n",
       "      <td>NaN</td>\n",
       "    </tr>\n",
       "    <tr>\n",
       "      <th>1</th>\n",
       "      <td>ABW</td>\n",
       "      <td>SP.POP.GROW</td>\n",
       "      <td>Data sources: United Nations World Population ...</td>\n",
       "      <td>NaN</td>\n",
       "    </tr>\n",
       "    <tr>\n",
       "      <th>2</th>\n",
       "      <td>AFG</td>\n",
       "      <td>SP.POP.GROW</td>\n",
       "      <td>Data sources: United Nations World Population ...</td>\n",
       "      <td>NaN</td>\n",
       "    </tr>\n",
       "    <tr>\n",
       "      <th>3</th>\n",
       "      <td>AFG</td>\n",
       "      <td>NY.GDP.PCAP.PP.CD</td>\n",
       "      <td>Estimates are based on regression.</td>\n",
       "      <td>NaN</td>\n",
       "    </tr>\n",
       "    <tr>\n",
       "      <th>4</th>\n",
       "      <td>AFG</td>\n",
       "      <td>SP.POP.TOTL</td>\n",
       "      <td>Data sources : United Nations World Population...</td>\n",
       "      <td>NaN</td>\n",
       "    </tr>\n",
       "  </tbody>\n",
       "</table>\n",
       "</div>"
      ],
      "text/plain": [
       "  CountryCode         SeriesCode  \\\n",
       "0         ABW        SP.POP.TOTL   \n",
       "1         ABW        SP.POP.GROW   \n",
       "2         AFG        SP.POP.GROW   \n",
       "3         AFG  NY.GDP.PCAP.PP.CD   \n",
       "4         AFG        SP.POP.TOTL   \n",
       "\n",
       "                                         DESCRIPTION  Unnamed: 3  \n",
       "0  Data sources : United Nations World Population...         NaN  \n",
       "1  Data sources: United Nations World Population ...         NaN  \n",
       "2  Data sources: United Nations World Population ...         NaN  \n",
       "3                 Estimates are based on regression.         NaN  \n",
       "4  Data sources : United Nations World Population...         NaN  "
      ]
     },
     "execution_count": 123,
     "metadata": {},
     "output_type": "execute_result"
    }
   ],
   "source": [
    "## II. EdStatsCountry-Series\n",
    "country_series = pd.read_csv('EdStatsCountry-Series.csv')\n",
    "country_series.head()"
   ]
  },
  {
   "cell_type": "code",
   "execution_count": 124,
   "metadata": {},
   "outputs": [
    {
     "name": "stdout",
     "output_type": "stream",
     "text": [
      "<class 'pandas.core.frame.DataFrame'>\n",
      "RangeIndex: 613 entries, 0 to 612\n",
      "Data columns (total 4 columns):\n",
      " #   Column       Non-Null Count  Dtype  \n",
      "---  ------       --------------  -----  \n",
      " 0   CountryCode  613 non-null    object \n",
      " 1   SeriesCode   613 non-null    object \n",
      " 2   DESCRIPTION  613 non-null    object \n",
      " 3   Unnamed: 3   0 non-null      float64\n",
      "dtypes: float64(1), object(3)\n",
      "memory usage: 19.3+ KB\n"
     ]
    }
   ],
   "source": [
    "country_series.info()"
   ]
  },
  {
   "cell_type": "code",
   "execution_count": 125,
   "metadata": {},
   "outputs": [
    {
     "data": {
      "text/plain": [
       "CountryCode    0.0\n",
       "SeriesCode     0.0\n",
       "DESCRIPTION    0.0\n",
       "Unnamed: 3     1.0\n",
       "dtype: float64"
      ]
     },
     "execution_count": 125,
     "metadata": {},
     "output_type": "execute_result"
    }
   ],
   "source": [
    "country_series.isna().mean()"
   ]
  },
  {
   "cell_type": "code",
   "execution_count": 126,
   "metadata": {
    "scrolled": true
   },
   "outputs": [
    {
     "data": {
      "text/plain": [
       "array(['Data sources : United Nations World Population Prospects',\n",
       "       'Data sources: United Nations World Population Prospects',\n",
       "       'Estimates are based on regression.',\n",
       "       'Data sources : Institute of Statistics, Eurostat',\n",
       "       'Data sources : Australian Bureau of Statistics',\n",
       "       'Including Other Territories comprising Jervis Bay Territory, Christmas Island and the Cocos (Keeling) Islands. ',\n",
       "       'Data sources: Australian Bureau of Statistics',\n",
       "       'Data sources : Eurostat',\n",
       "       'Data sources : Eurostat, State Statistical Committee, United Nations World Population Prospects',\n",
       "       'Data sources: Eurostat, State Statistical Committee, United Nations World Population Prospects',\n",
       "       'Data sources : National Statistical Committee of the Republic of Belarus',\n",
       "       'Data sources: National Statistical Committee of the Republic of Belarus',\n",
       "       'Data sources : Bermuda Government Department of Statistics',\n",
       "       'Data sources: Bermuda Government Department of Statistics',\n",
       "       'Data sources : Statistics Canada',\n",
       "       'Data sources: Statistics Canada',\n",
       "       'Refers to Guernsey, and Jersey.',\n",
       "       'Data sources : National Bureau of Statistics',\n",
       "       'Excluding Hong Kong SAR, Macao SAR, Taiwan.',\n",
       "       'Data sources: National Bureau of Statistics',\n",
       "       'Data are for areas under the effective control of the Government of the Republic of Cyprus.',\n",
       "       'Including Northern-Cyprus.',\n",
       "       'Data sources: Eurostat, United Nations World Population Prospects. Including the French overseas departments of French Guiana, Guadeloupe, Martinique, Mayotte, and Réunion.',\n",
       "       'Including the four French overseas departments (French Guyana, Guadeloupe, Martinique and Réunion)',\n",
       "       'Data sources : Eurostat, United Nations World Population Prospects. Including the French overseas departments of French Guiana, Guadeloupe, Martinique, Mayotte, and Réunion.',\n",
       "       'Data sources: Eurostat',\n",
       "       'Data sources : GeoStats. GeoStats. Adjusted to mid-year population using geometric mean for the years where mid-year population figures are not available. Excluding Abkhazia and South Ossetia.',\n",
       "       'Including Abkhazia and South Ossetia.',\n",
       "       'Excludes Abkhazia and South Ossetia.',\n",
       "       'Derived using ratio of age group from WPP and World Bank population.',\n",
       "       'Data sources: GeoStats. GeoStats. Adjusted to mid-year population using geometric mean for the years where mid-year population figures are not available. Excluding Abkhazia and South Ossetia.',\n",
       "       'Excluding Abkhazia and South Ossetia.',\n",
       "       'Data sources: Statistics Greenland',\n",
       "       'Data sources : Statistics Greenland',\n",
       "       'Data sources: Census and Statistics Department',\n",
       "       'Data sources : Census and Statistics Department',\n",
       "       'Data sources: Croatian Bureau of Statistics, Council of Europe',\n",
       "       'Data sources : Croatian Bureau of Statistics, Council of Europe',\n",
       "       'Data sources: Central Bureau of Statistics',\n",
       "       'Data sources : Central Bureau of Statistics',\n",
       "       'Data sources: Ministry of Internal Affairs and Communications, Statistics Bureau; United Nations Population and Vital Statistics Report',\n",
       "       'Data sources : Ministry of Internal Affairs and Communications, Statistics Bureau; United Nations Population and Vital Statistics Report',\n",
       "       'Data sources : Statistical Agency of Kazakhstan, 1979 Census, 1989 Census, United Nations World Population Prospects',\n",
       "       'Data sources: Statistical Agency of Kazakhstan, 1979 Census, 1989 Census, United Nations World Population Prospects',\n",
       "       'Data sources : National Statistical Committee, United Nations World Population Prospects',\n",
       "       'Data sources: National Statistical Committee, United Nations World Population Prospects',\n",
       "       'Data sources : Korean Statistical Information Service',\n",
       "       'Data sources: Korean Statistical Information Service',\n",
       "       \"Data sources : Registrar General's Department, Department of Census and Statistics\",\n",
       "       \"Data sources: Registrar General's Department, Department of Census and Statistics\",\n",
       "       'Includes Former Spanish Sahara.',\n",
       "       'Morocco only. (Excluding former Spanish Sahara)',\n",
       "       \"Data sources : National Bureau of Statistics. Excluding Transnistria. For 1950-94, World Bank estimates using UN World Population Prospects' growth rates of whole Moldova.\",\n",
       "       'Excludes Transnistria.', 'Including Transnistria.',\n",
       "       \"Data sources: National Bureau of Statistics. Excluding Transnistria. For 1950-94, World Bank estimates using UN World Population Prospects 2010 Revision's growth rates of whole Moldova.\",\n",
       "       'Excluding Transnistria.',\n",
       "       'Data sources : For 1960-1989, United Nations World Population Prospects. For 1990 onwards, 1990, 1995, 2000, 2006, 2014 censuses, and data on expatriate employment from Maldives National Bureau of Statistics. The census data are adjusted for mid-year and for foreign population.',\n",
       "       'Data sources: For 1960-1989, United Nations World Population Prospects. For 1990 onwards, 1990, 1995, 2000, 2006, 2014 censuses, and data on expatriate employment from Maldives National Bureau of Statistics. The census data are adjusted for mid-year and for foreign population.',\n",
       "       'Data sources : For years after 2000, Statistical Office of Montenegro. For years 1960-1999, growth rates of United Nations World Population Prospects were used to estimate backwards.',\n",
       "       'Data sources : Statistics Mauritius, United Nations World Population Prospects',\n",
       "       'Including Agalega and St. Brandon.',\n",
       "       'Data sources: Central Statistics Office, United Nations Population and Vital Statistics Report, United Nations World Population Prospects',\n",
       "       'Excluding Agalega and St. Brandon.',\n",
       "       'Including Sabah and Sarawak.',\n",
       "       'Data sources : Institute of Statistics and Economic Studies',\n",
       "       'Data sources: Institute of Statistics and Economic Studies, 1983 Census, 1989 Census, 1996 Census',\n",
       "       'Data sources: Statistics New Zealand',\n",
       "       'Data sources : Statistics New Zealand',\n",
       "       'Data sources : U.S. Census Bureau, 1990 Census',\n",
       "       'Data sources: U.S. Census Bureau, 1990 Census',\n",
       "       'Data sources : World Bank estimates based on data from Palestinian Central Bureau of Statistics, excluding E. Jerusalem.',\n",
       "       'Excluding East Jerusalem.',\n",
       "       'Data sources: World Bank estimates based on data from Palestinian Central Bureau of Statistics, excluding E. Jerusalem.',\n",
       "       'Data sources : Russian Federation Federal State Statistics Service (its January 1st populations were adjusted to mid-year populations by using geometric mean), 1979 Census, 1989 Census.',\n",
       "       'Data sources : United Nations World Population Prospects. Estimates are for Sudan excluding South Sudan.',\n",
       "       'Data sources: Department of Statistics Singapore',\n",
       "       'Data sources : Department of Statistics Singapore',\n",
       "       'Data sources: Statistical Office of the Republic of Serbia, Eurostat, TransMONEE, Council of Europe. Excluding Kosovo for all years 1950-2011',\n",
       "       'Including Kosovo.',\n",
       "       'Data sources : Statistical Office of the Republic of Serbia, Eurostat, TransMONEE, Council of Europe. Note : Excluding Kosovo.',\n",
       "       'Excluding Kosovo.', 'Covers mainland Tanzania only.',\n",
       "       'Including Zanzibar.',\n",
       "       'Data sources : State Statistics Committee of Ukraine, United Nations World Population Prospects, Council of Europe, United Nations Population and Vital Statistics Report',\n",
       "       'Data sources: State Statistics Committee of Ukraine, United Nations World Population Prospects, Council of Europe, United Nations Population and Vital Statistics Report',\n",
       "       'Data sources : U.S. Census Bureau',\n",
       "       'Data sources: U.S. Census Bureau',\n",
       "       'Data sources : State Committee of the Republic of Uzbekistan on Statistics, United Nations World Population Prospects',\n",
       "       'Based on official exchange rates.',\n",
       "       'Data sources : U.S. Census Bureau, United Nations Population and Vital Statistics Report',\n",
       "       'Data sources: U.S. Census Bureau, United Nations Population and Vital Statistics Report',\n",
       "       'Data sources: General Statistics Office of Vietnam',\n",
       "       'Data sources : General Statistics Office of Vietnam',\n",
       "       \"Data sources : World Bank's Kosovo coutnry office, Kosovo Agency of Statistics, U.S. Census Bureau\",\n",
       "       \"Data sources: World Bank's Kosovo coutnry office, Kosovo Agency of Statistics, U.S. Census Bureau\",\n",
       "       'Data sources : Statistics South Africa, United Nations World Population Prospects'],\n",
       "      dtype=object)"
      ]
     },
     "execution_count": 126,
     "metadata": {},
     "output_type": "execute_result"
    }
   ],
   "source": [
    "country_series.DESCRIPTION.unique()"
   ]
  },
  {
   "cell_type": "markdown",
   "metadata": {},
   "source": [
    "le fichier country series contient 613 lignes et 4 colonnes. \n",
    "C'est un répertoire de sources d'enquêtes associés à chaques pays."
   ]
  },
  {
   "cell_type": "markdown",
   "metadata": {},
   "source": [
    "### III. EdStatsData"
   ]
  },
  {
   "cell_type": "markdown",
   "metadata": {},
   "source": [
    "C'est notre fichier principal avec le plus d'information."
   ]
  },
  {
   "cell_type": "code",
   "execution_count": 127,
   "metadata": {},
   "outputs": [],
   "source": [
    "## III. EdStatsData\n",
    "df = pd.read_csv('EdStatsData.csv')"
   ]
  },
  {
   "cell_type": "code",
   "execution_count": 128,
   "metadata": {
    "scrolled": true
   },
   "outputs": [
    {
     "name": "stdout",
     "output_type": "stream",
     "text": [
      "<class 'pandas.core.frame.DataFrame'>\n",
      "RangeIndex: 886930 entries, 0 to 886929\n",
      "Data columns (total 70 columns):\n",
      " #   Column          Non-Null Count   Dtype  \n",
      "---  ------          --------------   -----  \n",
      " 0   Country Name    886930 non-null  object \n",
      " 1   Country Code    886930 non-null  object \n",
      " 2   Indicator Name  886930 non-null  object \n",
      " 3   Indicator Code  886930 non-null  object \n",
      " 4   1970            72288 non-null   float64\n",
      " 5   1971            35537 non-null   float64\n",
      " 6   1972            35619 non-null   float64\n",
      " 7   1973            35545 non-null   float64\n",
      " 8   1974            35730 non-null   float64\n",
      " 9   1975            87306 non-null   float64\n",
      " 10  1976            37483 non-null   float64\n",
      " 11  1977            37574 non-null   float64\n",
      " 12  1978            37576 non-null   float64\n",
      " 13  1979            36809 non-null   float64\n",
      " 14  1980            89122 non-null   float64\n",
      " 15  1981            38777 non-null   float64\n",
      " 16  1982            37511 non-null   float64\n",
      " 17  1983            38460 non-null   float64\n",
      " 18  1984            38606 non-null   float64\n",
      " 19  1985            90296 non-null   float64\n",
      " 20  1986            39372 non-null   float64\n",
      " 21  1987            38641 non-null   float64\n",
      " 22  1988            38552 non-null   float64\n",
      " 23  1989            37540 non-null   float64\n",
      " 24  1990            124405 non-null  float64\n",
      " 25  1991            74437 non-null   float64\n",
      " 26  1992            75543 non-null   float64\n",
      " 27  1993            75793 non-null   float64\n",
      " 28  1994            77462 non-null   float64\n",
      " 29  1995            131361 non-null  float64\n",
      " 30  1996            76807 non-null   float64\n",
      " 31  1997            73453 non-null   float64\n",
      " 32  1998            84914 non-null   float64\n",
      " 33  1999            118839 non-null  float64\n",
      " 34  2000            176676 non-null  float64\n",
      " 35  2001            123509 non-null  float64\n",
      " 36  2002            124205 non-null  float64\n",
      " 37  2003            130363 non-null  float64\n",
      " 38  2004            128814 non-null  float64\n",
      " 39  2005            184108 non-null  float64\n",
      " 40  2006            140312 non-null  float64\n",
      " 41  2007            137272 non-null  float64\n",
      " 42  2008            134387 non-null  float64\n",
      " 43  2009            142108 non-null  float64\n",
      " 44  2010            242442 non-null  float64\n",
      " 45  2011            146012 non-null  float64\n",
      " 46  2012            147264 non-null  float64\n",
      " 47  2013            137509 non-null  float64\n",
      " 48  2014            113789 non-null  float64\n",
      " 49  2015            131058 non-null  float64\n",
      " 50  2016            16460 non-null   float64\n",
      " 51  2017            143 non-null     float64\n",
      " 52  2020            51436 non-null   float64\n",
      " 53  2025            51436 non-null   float64\n",
      " 54  2030            51436 non-null   float64\n",
      " 55  2035            51436 non-null   float64\n",
      " 56  2040            51436 non-null   float64\n",
      " 57  2045            51436 non-null   float64\n",
      " 58  2050            51436 non-null   float64\n",
      " 59  2055            51436 non-null   float64\n",
      " 60  2060            51436 non-null   float64\n",
      " 61  2065            51436 non-null   float64\n",
      " 62  2070            51436 non-null   float64\n",
      " 63  2075            51436 non-null   float64\n",
      " 64  2080            51436 non-null   float64\n",
      " 65  2085            51436 non-null   float64\n",
      " 66  2090            51436 non-null   float64\n",
      " 67  2095            51436 non-null   float64\n",
      " 68  2100            51436 non-null   float64\n",
      " 69  Unnamed: 69     0 non-null       float64\n",
      "dtypes: float64(66), object(4)\n",
      "memory usage: 473.7+ MB\n"
     ]
    }
   ],
   "source": [
    "df.info()"
   ]
  },
  {
   "cell_type": "markdown",
   "metadata": {},
   "source": [
    "df comporte 886930 lignes et 70 colonnes."
   ]
  },
  {
   "cell_type": "code",
   "execution_count": 129,
   "metadata": {
    "scrolled": false
   },
   "outputs": [
    {
     "data": {
      "text/plain": [
       "Country Name      0.000000\n",
       "Country Code      0.000000\n",
       "Indicator Name    0.000000\n",
       "Indicator Code    0.000000\n",
       "2010              0.726650\n",
       "                    ...   \n",
       "1973              0.959924\n",
       "1971              0.959933\n",
       "2016              0.981442\n",
       "2017              0.999839\n",
       "Unnamed: 69       1.000000\n",
       "Length: 70, dtype: float64"
      ]
     },
     "execution_count": 129,
     "metadata": {},
     "output_type": "execute_result"
    }
   ],
   "source": [
    "df.isna().mean().sort_values()"
   ]
  },
  {
   "cell_type": "markdown",
   "metadata": {},
   "source": [
    "Les valeurs manquantes sont importantes dans notre fichier df."
   ]
  },
  {
   "cell_type": "code",
   "execution_count": 130,
   "metadata": {
    "scrolled": true
   },
   "outputs": [
    {
     "name": "stdout",
     "output_type": "stream",
     "text": [
      "Il y a dans le fichier EdStatsData.csv 1 nom de pays qui ne figure pas dans Country.csv\n"
     ]
    }
   ],
   "source": [
    "liste_pays_unique_country_no_df = df[~df['Country Code'].isin(country['Country Code'])]['Country Code'].nunique()\n",
    "print(\"Il y a dans le fichier EdStatsData.csv %d nom de pays qui ne figure pas dans Country.csv\" %(liste_pays_unique_country_no_df))"
   ]
  },
  {
   "cell_type": "markdown",
   "metadata": {},
   "source": [
    "Inversement ?"
   ]
  },
  {
   "cell_type": "code",
   "execution_count": 131,
   "metadata": {
    "scrolled": true
   },
   "outputs": [
    {
     "name": "stdout",
     "output_type": "stream",
     "text": [
      "Il y a dans le fichier Country.csv 0 nom de pays qui ne figure pas dans EdStatData.csv\n"
     ]
    }
   ],
   "source": [
    "liste_pays_unique_df_no_country = country[~country['Country Code'].isin(df['Country Code'])]['Country Code'].nunique()\n",
    "print(\"Il y a dans le fichier Country.csv %d nom de pays qui ne figure pas dans EdStatData.csv\" %(liste_pays_unique_df_no_country))"
   ]
  },
  {
   "cell_type": "code",
   "execution_count": 132,
   "metadata": {
    "scrolled": true
   },
   "outputs": [
    {
     "data": {
      "text/plain": [
       "array(['VGB'], dtype=object)"
      ]
     },
     "execution_count": 132,
     "metadata": {},
     "output_type": "execute_result"
    }
   ],
   "source": [
    "temp = df[~df['Country Code'].isin(country['Country Code'])]['Country Code'].unique()\n",
    "temp"
   ]
  },
  {
   "cell_type": "markdown",
   "metadata": {},
   "source": [
    "Quoi correspond ce pays ?"
   ]
  },
  {
   "cell_type": "code",
   "execution_count": 133,
   "metadata": {
    "scrolled": true
   },
   "outputs": [
    {
     "data": {
      "text/html": [
       "<div>\n",
       "<style scoped>\n",
       "    .dataframe tbody tr th:only-of-type {\n",
       "        vertical-align: middle;\n",
       "    }\n",
       "\n",
       "    .dataframe tbody tr th {\n",
       "        vertical-align: top;\n",
       "    }\n",
       "\n",
       "    .dataframe thead th {\n",
       "        text-align: right;\n",
       "    }\n",
       "</style>\n",
       "<table border=\"1\" class=\"dataframe\">\n",
       "  <thead>\n",
       "    <tr style=\"text-align: right;\">\n",
       "      <th></th>\n",
       "      <th>Country Name</th>\n",
       "      <th>Country Code</th>\n",
       "      <th>Indicator Name</th>\n",
       "      <th>Indicator Code</th>\n",
       "      <th>1970</th>\n",
       "      <th>1971</th>\n",
       "      <th>1972</th>\n",
       "      <th>1973</th>\n",
       "      <th>1974</th>\n",
       "      <th>1975</th>\n",
       "      <th>...</th>\n",
       "      <th>2060</th>\n",
       "      <th>2065</th>\n",
       "      <th>2070</th>\n",
       "      <th>2075</th>\n",
       "      <th>2080</th>\n",
       "      <th>2085</th>\n",
       "      <th>2090</th>\n",
       "      <th>2095</th>\n",
       "      <th>2100</th>\n",
       "      <th>Unnamed: 69</th>\n",
       "    </tr>\n",
       "  </thead>\n",
       "  <tbody>\n",
       "    <tr>\n",
       "      <th>190580</th>\n",
       "      <td>British Virgin Islands</td>\n",
       "      <td>VGB</td>\n",
       "      <td>Adjusted net enrolment rate, lower secondary, ...</td>\n",
       "      <td>UIS.NERA.2</td>\n",
       "      <td>NaN</td>\n",
       "      <td>NaN</td>\n",
       "      <td>NaN</td>\n",
       "      <td>NaN</td>\n",
       "      <td>NaN</td>\n",
       "      <td>NaN</td>\n",
       "      <td>...</td>\n",
       "      <td>NaN</td>\n",
       "      <td>NaN</td>\n",
       "      <td>NaN</td>\n",
       "      <td>NaN</td>\n",
       "      <td>NaN</td>\n",
       "      <td>NaN</td>\n",
       "      <td>NaN</td>\n",
       "      <td>NaN</td>\n",
       "      <td>NaN</td>\n",
       "      <td>NaN</td>\n",
       "    </tr>\n",
       "  </tbody>\n",
       "</table>\n",
       "<p>1 rows × 70 columns</p>\n",
       "</div>"
      ],
      "text/plain": [
       "                  Country Name Country Code  \\\n",
       "190580  British Virgin Islands          VGB   \n",
       "\n",
       "                                           Indicator Name Indicator Code  \\\n",
       "190580  Adjusted net enrolment rate, lower secondary, ...     UIS.NERA.2   \n",
       "\n",
       "        1970  1971  1972  1973  1974  1975  ...  2060  2065  2070  2075  2080  \\\n",
       "190580   NaN   NaN   NaN   NaN   NaN   NaN  ...   NaN   NaN   NaN   NaN   NaN   \n",
       "\n",
       "        2085  2090  2095  2100  Unnamed: 69  \n",
       "190580   NaN   NaN   NaN   NaN          NaN  \n",
       "\n",
       "[1 rows x 70 columns]"
      ]
     },
     "execution_count": 133,
     "metadata": {},
     "output_type": "execute_result"
    }
   ],
   "source": [
    "df.loc[df[\"Country Code\"]==\"VGB\"].head(1)"
   ]
  },
  {
   "cell_type": "markdown",
   "metadata": {},
   "source": [
    "### indicateurs à sélectionner ?"
   ]
  },
  {
   "cell_type": "code",
   "execution_count": 134,
   "metadata": {},
   "outputs": [
    {
     "data": {
      "text/plain": [
       "3665"
      ]
     },
     "execution_count": 134,
     "metadata": {},
     "output_type": "execute_result"
    }
   ],
   "source": [
    "df[\"Indicator Name\"].nunique()"
   ]
  },
  {
   "cell_type": "code",
   "execution_count": 135,
   "metadata": {
    "scrolled": true
   },
   "outputs": [
    {
     "data": {
      "text/html": [
       "<div>\n",
       "<style scoped>\n",
       "    .dataframe tbody tr th:only-of-type {\n",
       "        vertical-align: middle;\n",
       "    }\n",
       "\n",
       "    .dataframe tbody tr th {\n",
       "        vertical-align: top;\n",
       "    }\n",
       "\n",
       "    .dataframe thead th {\n",
       "        text-align: right;\n",
       "    }\n",
       "</style>\n",
       "<table border=\"1\" class=\"dataframe\">\n",
       "  <thead>\n",
       "    <tr style=\"text-align: right;\">\n",
       "      <th></th>\n",
       "      <th>Indicator Name</th>\n",
       "      <th>Indicator Code</th>\n",
       "    </tr>\n",
       "  </thead>\n",
       "  <tbody>\n",
       "    <tr>\n",
       "      <th>0</th>\n",
       "      <td>Adjusted net enrolment rate, lower secondary, ...</td>\n",
       "      <td>UIS.NERA.2</td>\n",
       "    </tr>\n",
       "    <tr>\n",
       "      <th>1</th>\n",
       "      <td>Adjusted net enrolment rate, lower secondary, ...</td>\n",
       "      <td>UIS.NERA.2.F</td>\n",
       "    </tr>\n",
       "    <tr>\n",
       "      <th>2</th>\n",
       "      <td>Adjusted net enrolment rate, lower secondary, ...</td>\n",
       "      <td>UIS.NERA.2.GPI</td>\n",
       "    </tr>\n",
       "    <tr>\n",
       "      <th>3</th>\n",
       "      <td>Adjusted net enrolment rate, lower secondary, ...</td>\n",
       "      <td>UIS.NERA.2.M</td>\n",
       "    </tr>\n",
       "    <tr>\n",
       "      <th>4</th>\n",
       "      <td>Adjusted net enrolment rate, primary, both sex...</td>\n",
       "      <td>SE.PRM.TENR</td>\n",
       "    </tr>\n",
       "  </tbody>\n",
       "</table>\n",
       "</div>"
      ],
      "text/plain": [
       "                                      Indicator Name  Indicator Code\n",
       "0  Adjusted net enrolment rate, lower secondary, ...      UIS.NERA.2\n",
       "1  Adjusted net enrolment rate, lower secondary, ...    UIS.NERA.2.F\n",
       "2  Adjusted net enrolment rate, lower secondary, ...  UIS.NERA.2.GPI\n",
       "3  Adjusted net enrolment rate, lower secondary, ...    UIS.NERA.2.M\n",
       "4  Adjusted net enrolment rate, primary, both sex...     SE.PRM.TENR"
      ]
     },
     "execution_count": 135,
     "metadata": {},
     "output_type": "execute_result"
    }
   ],
   "source": [
    "list_indicator = df.loc[:,['Indicator Name','Indicator Code']].drop_duplicates()\n",
    "list_indicator.head()"
   ]
  },
  {
   "cell_type": "code",
   "execution_count": 136,
   "metadata": {},
   "outputs": [
    {
     "data": {
      "text/html": [
       "<div>\n",
       "<style scoped>\n",
       "    .dataframe tbody tr th:only-of-type {\n",
       "        vertical-align: middle;\n",
       "    }\n",
       "\n",
       "    .dataframe tbody tr th {\n",
       "        vertical-align: top;\n",
       "    }\n",
       "\n",
       "    .dataframe thead th {\n",
       "        text-align: right;\n",
       "    }\n",
       "</style>\n",
       "<table border=\"1\" class=\"dataframe\">\n",
       "  <thead>\n",
       "    <tr style=\"text-align: right;\">\n",
       "      <th></th>\n",
       "      <th>Indicator Name</th>\n",
       "      <th>Indicator Code</th>\n",
       "    </tr>\n",
       "  </thead>\n",
       "  <tbody>\n",
       "    <tr>\n",
       "      <th>3660</th>\n",
       "      <td>Youth illiterate population, 15-24 years, male...</td>\n",
       "      <td>UIS.LP.AG15T24.M</td>\n",
       "    </tr>\n",
       "    <tr>\n",
       "      <th>3661</th>\n",
       "      <td>Youth literacy rate, population 15-24 years, b...</td>\n",
       "      <td>SE.ADT.1524.LT.ZS</td>\n",
       "    </tr>\n",
       "    <tr>\n",
       "      <th>3662</th>\n",
       "      <td>Youth literacy rate, population 15-24 years, f...</td>\n",
       "      <td>SE.ADT.1524.LT.FE.ZS</td>\n",
       "    </tr>\n",
       "    <tr>\n",
       "      <th>3663</th>\n",
       "      <td>Youth literacy rate, population 15-24 years, g...</td>\n",
       "      <td>SE.ADT.1524.LT.FM.ZS</td>\n",
       "    </tr>\n",
       "    <tr>\n",
       "      <th>3664</th>\n",
       "      <td>Youth literacy rate, population 15-24 years, m...</td>\n",
       "      <td>SE.ADT.1524.LT.MA.ZS</td>\n",
       "    </tr>\n",
       "  </tbody>\n",
       "</table>\n",
       "</div>"
      ],
      "text/plain": [
       "                                         Indicator Name        Indicator Code\n",
       "3660  Youth illiterate population, 15-24 years, male...      UIS.LP.AG15T24.M\n",
       "3661  Youth literacy rate, population 15-24 years, b...     SE.ADT.1524.LT.ZS\n",
       "3662  Youth literacy rate, population 15-24 years, f...  SE.ADT.1524.LT.FE.ZS\n",
       "3663  Youth literacy rate, population 15-24 years, g...  SE.ADT.1524.LT.FM.ZS\n",
       "3664  Youth literacy rate, population 15-24 years, m...  SE.ADT.1524.LT.MA.ZS"
      ]
     },
     "execution_count": 136,
     "metadata": {},
     "output_type": "execute_result"
    }
   ],
   "source": [
    "list_indicator.tail()"
   ]
  },
  {
   "cell_type": "markdown",
   "metadata": {},
   "source": [
    "Nous devons selectionner à minima 4 indicateurs parmis 3665. On peut s'informer sur le site de la Banque Mondiale.\n",
    "https://datatopics.worldbank.org/education/indicators\n"
   ]
  },
  {
   "cell_type": "code",
   "execution_count": 137,
   "metadata": {
    "scrolled": false
   },
   "outputs": [
    {
     "data": {
      "text/html": [
       "<div>\n",
       "<style scoped>\n",
       "    .dataframe tbody tr th:only-of-type {\n",
       "        vertical-align: middle;\n",
       "    }\n",
       "\n",
       "    .dataframe tbody tr th {\n",
       "        vertical-align: top;\n",
       "    }\n",
       "\n",
       "    .dataframe thead th {\n",
       "        text-align: right;\n",
       "    }\n",
       "</style>\n",
       "<table border=\"1\" class=\"dataframe\">\n",
       "  <thead>\n",
       "    <tr style=\"text-align: right;\">\n",
       "      <th></th>\n",
       "      <th>Indicator Name</th>\n",
       "      <th>Indicator Code</th>\n",
       "    </tr>\n",
       "  </thead>\n",
       "  <tbody>\n",
       "    <tr>\n",
       "      <th>1375</th>\n",
       "      <td>Internet users (per 100 people)</td>\n",
       "      <td>IT.NET.USER.P2</td>\n",
       "    </tr>\n",
       "  </tbody>\n",
       "</table>\n",
       "</div>"
      ],
      "text/plain": [
       "                       Indicator Name  Indicator Code\n",
       "1375  Internet users (per 100 people)  IT.NET.USER.P2"
      ]
     },
     "execution_count": 137,
     "metadata": {},
     "output_type": "execute_result"
    }
   ],
   "source": [
    "list_indicator[list_indicator[\"Indicator Name\"].str.contains(\"Internet\")] # taux d'accès à internet"
   ]
  },
  {
   "cell_type": "markdown",
   "metadata": {},
   "source": [
    "Taux d'internet pour 100 personnes est un indicateur qui nous intéresse. IT.NET.USER.P2"
   ]
  },
  {
   "cell_type": "code",
   "execution_count": 138,
   "metadata": {
    "scrolled": true
   },
   "outputs": [
    {
     "data": {
      "text/html": [
       "<div>\n",
       "<style scoped>\n",
       "    .dataframe tbody tr th:only-of-type {\n",
       "        vertical-align: middle;\n",
       "    }\n",
       "\n",
       "    .dataframe tbody tr th {\n",
       "        vertical-align: top;\n",
       "    }\n",
       "\n",
       "    .dataframe thead th {\n",
       "        text-align: right;\n",
       "    }\n",
       "</style>\n",
       "<table border=\"1\" class=\"dataframe\">\n",
       "  <thead>\n",
       "    <tr style=\"text-align: right;\">\n",
       "      <th></th>\n",
       "      <th>Indicator Name</th>\n",
       "      <th>Indicator Code</th>\n",
       "    </tr>\n",
       "  </thead>\n",
       "  <tbody>\n",
       "    <tr>\n",
       "      <th>2084</th>\n",
       "      <td>Personal computers (per 100 people)</td>\n",
       "      <td>IT.CMP.PCMP.P2</td>\n",
       "    </tr>\n",
       "    <tr>\n",
       "      <th>2102</th>\n",
       "      <td>PIAAC: Adults by proficiency level in problem ...</td>\n",
       "      <td>LO.PIAAC.TEC.NO</td>\n",
       "    </tr>\n",
       "    <tr>\n",
       "      <th>2103</th>\n",
       "      <td>PIAAC: Adults by proficiency level in problem ...</td>\n",
       "      <td>LO.PIAAC.TEC.OPT</td>\n",
       "    </tr>\n",
       "    <tr>\n",
       "      <th>2139</th>\n",
       "      <td>PIAAC: Female adults by proficiency level in p...</td>\n",
       "      <td>LO.PIAAC.TEC.FE.FAILNO</td>\n",
       "    </tr>\n",
       "    <tr>\n",
       "      <th>2154</th>\n",
       "      <td>PIAAC: Male adults by proficiency level in pro...</td>\n",
       "      <td>LO.PIAAC.TEC.MA.FAILNO</td>\n",
       "    </tr>\n",
       "    <tr>\n",
       "      <th>2181</th>\n",
       "      <td>PIAAC: Young adults by proficiency level in pr...</td>\n",
       "      <td>LO.PIAAC.TEC.YOU.FAILNO</td>\n",
       "    </tr>\n",
       "    <tr>\n",
       "      <th>2182</th>\n",
       "      <td>PIAAC: Young adults by proficiency level in pr...</td>\n",
       "      <td>LO.PIAAC.TEC.YOU.OPT</td>\n",
       "    </tr>\n",
       "  </tbody>\n",
       "</table>\n",
       "</div>"
      ],
      "text/plain": [
       "                                         Indicator Name  \\\n",
       "2084                Personal computers (per 100 people)   \n",
       "2102  PIAAC: Adults by proficiency level in problem ...   \n",
       "2103  PIAAC: Adults by proficiency level in problem ...   \n",
       "2139  PIAAC: Female adults by proficiency level in p...   \n",
       "2154  PIAAC: Male adults by proficiency level in pro...   \n",
       "2181  PIAAC: Young adults by proficiency level in pr...   \n",
       "2182  PIAAC: Young adults by proficiency level in pr...   \n",
       "\n",
       "               Indicator Code  \n",
       "2084           IT.CMP.PCMP.P2  \n",
       "2102          LO.PIAAC.TEC.NO  \n",
       "2103         LO.PIAAC.TEC.OPT  \n",
       "2139   LO.PIAAC.TEC.FE.FAILNO  \n",
       "2154   LO.PIAAC.TEC.MA.FAILNO  \n",
       "2181  LO.PIAAC.TEC.YOU.FAILNO  \n",
       "2182     LO.PIAAC.TEC.YOU.OPT  "
      ]
     },
     "execution_count": 138,
     "metadata": {},
     "output_type": "execute_result"
    }
   ],
   "source": [
    "list_indicator[list_indicator[\"Indicator Name\"].str.contains(\"computer\")] # taux d'odinateur personnel"
   ]
  },
  {
   "cell_type": "markdown",
   "metadata": {},
   "source": [
    "Taux d'ordinateur personnel pour 100 personnes est un indicateur qui nous intéresse également. IT.CMP.PCMP.P2\n"
   ]
  },
  {
   "cell_type": "code",
   "execution_count": 139,
   "metadata": {
    "scrolled": false
   },
   "outputs": [
    {
     "data": {
      "text/html": [
       "<div>\n",
       "<style scoped>\n",
       "    .dataframe tbody tr th:only-of-type {\n",
       "        vertical-align: middle;\n",
       "    }\n",
       "\n",
       "    .dataframe tbody tr th {\n",
       "        vertical-align: top;\n",
       "    }\n",
       "\n",
       "    .dataframe thead th {\n",
       "        text-align: right;\n",
       "    }\n",
       "</style>\n",
       "<table border=\"1\" class=\"dataframe\">\n",
       "  <thead>\n",
       "    <tr style=\"text-align: right;\">\n",
       "      <th></th>\n",
       "      <th>Indicator Name</th>\n",
       "      <th>Indicator Code</th>\n",
       "    </tr>\n",
       "  </thead>\n",
       "  <tbody>\n",
       "    <tr>\n",
       "      <th>16</th>\n",
       "      <td>Adult illiterate population, 15+ years, % female</td>\n",
       "      <td>UIS.LPP.AG15T99</td>\n",
       "    </tr>\n",
       "    <tr>\n",
       "      <th>17</th>\n",
       "      <td>Adult illiterate population, 15+ years, both s...</td>\n",
       "      <td>UIS.LP.AG15T99</td>\n",
       "    </tr>\n",
       "    <tr>\n",
       "      <th>18</th>\n",
       "      <td>Adult illiterate population, 15+ years, female...</td>\n",
       "      <td>UIS.LP.AG15T99.F</td>\n",
       "    </tr>\n",
       "    <tr>\n",
       "      <th>19</th>\n",
       "      <td>Adult illiterate population, 15+ years, male (...</td>\n",
       "      <td>UIS.LP.AG15T99.M</td>\n",
       "    </tr>\n",
       "    <tr>\n",
       "      <th>20</th>\n",
       "      <td>Adult literacy rate, population 15+ years, bot...</td>\n",
       "      <td>SE.ADT.LITR.ZS</td>\n",
       "    </tr>\n",
       "    <tr>\n",
       "      <th>...</th>\n",
       "      <td>...</td>\n",
       "      <td>...</td>\n",
       "    </tr>\n",
       "    <tr>\n",
       "      <th>3660</th>\n",
       "      <td>Youth illiterate population, 15-24 years, male...</td>\n",
       "      <td>UIS.LP.AG15T24.M</td>\n",
       "    </tr>\n",
       "    <tr>\n",
       "      <th>3661</th>\n",
       "      <td>Youth literacy rate, population 15-24 years, b...</td>\n",
       "      <td>SE.ADT.1524.LT.ZS</td>\n",
       "    </tr>\n",
       "    <tr>\n",
       "      <th>3662</th>\n",
       "      <td>Youth literacy rate, population 15-24 years, f...</td>\n",
       "      <td>SE.ADT.1524.LT.FE.ZS</td>\n",
       "    </tr>\n",
       "    <tr>\n",
       "      <th>3663</th>\n",
       "      <td>Youth literacy rate, population 15-24 years, g...</td>\n",
       "      <td>SE.ADT.1524.LT.FM.ZS</td>\n",
       "    </tr>\n",
       "    <tr>\n",
       "      <th>3664</th>\n",
       "      <td>Youth literacy rate, population 15-24 years, m...</td>\n",
       "      <td>SE.ADT.1524.LT.MA.ZS</td>\n",
       "    </tr>\n",
       "  </tbody>\n",
       "</table>\n",
       "<p>509 rows × 2 columns</p>\n",
       "</div>"
      ],
      "text/plain": [
       "                                         Indicator Name        Indicator Code\n",
       "16     Adult illiterate population, 15+ years, % female       UIS.LPP.AG15T99\n",
       "17    Adult illiterate population, 15+ years, both s...        UIS.LP.AG15T99\n",
       "18    Adult illiterate population, 15+ years, female...      UIS.LP.AG15T99.F\n",
       "19    Adult illiterate population, 15+ years, male (...      UIS.LP.AG15T99.M\n",
       "20    Adult literacy rate, population 15+ years, bot...        SE.ADT.LITR.ZS\n",
       "...                                                 ...                   ...\n",
       "3660  Youth illiterate population, 15-24 years, male...      UIS.LP.AG15T24.M\n",
       "3661  Youth literacy rate, population 15-24 years, b...     SE.ADT.1524.LT.ZS\n",
       "3662  Youth literacy rate, population 15-24 years, f...  SE.ADT.1524.LT.FE.ZS\n",
       "3663  Youth literacy rate, population 15-24 years, g...  SE.ADT.1524.LT.FM.ZS\n",
       "3664  Youth literacy rate, population 15-24 years, m...  SE.ADT.1524.LT.MA.ZS\n",
       "\n",
       "[509 rows x 2 columns]"
      ]
     },
     "execution_count": 139,
     "metadata": {},
     "output_type": "execute_result"
    }
   ],
   "source": [
    "list_indicator[list_indicator[\"Indicator Name\"].str.contains(\"population\")] # niveau de population"
   ]
  },
  {
   "cell_type": "code",
   "execution_count": 140,
   "metadata": {},
   "outputs": [
    {
     "data": {
      "text/html": [
       "<div>\n",
       "<style scoped>\n",
       "    .dataframe tbody tr th:only-of-type {\n",
       "        vertical-align: middle;\n",
       "    }\n",
       "\n",
       "    .dataframe tbody tr th {\n",
       "        vertical-align: top;\n",
       "    }\n",
       "\n",
       "    .dataframe thead th {\n",
       "        text-align: right;\n",
       "    }\n",
       "</style>\n",
       "<table border=\"1\" class=\"dataframe\">\n",
       "  <thead>\n",
       "    <tr style=\"text-align: right;\">\n",
       "      <th></th>\n",
       "      <th>Indicator Name</th>\n",
       "      <th>Indicator Code</th>\n",
       "    </tr>\n",
       "  </thead>\n",
       "  <tbody>\n",
       "    <tr>\n",
       "      <th>1204</th>\n",
       "      <td>Enrolment in tertiary education, all programme...</td>\n",
       "      <td>SE.TER.ENRL</td>\n",
       "    </tr>\n",
       "    <tr>\n",
       "      <th>1205</th>\n",
       "      <td>Enrolment in tertiary education, all programme...</td>\n",
       "      <td>SE.TER.ENRL.FE</td>\n",
       "    </tr>\n",
       "    <tr>\n",
       "      <th>2050</th>\n",
       "      <td>Percentage of students in tertiary education w...</td>\n",
       "      <td>SE.TER.ENRL.FE.ZS</td>\n",
       "    </tr>\n",
       "  </tbody>\n",
       "</table>\n",
       "</div>"
      ],
      "text/plain": [
       "                                         Indicator Name     Indicator Code\n",
       "1204  Enrolment in tertiary education, all programme...        SE.TER.ENRL\n",
       "1205  Enrolment in tertiary education, all programme...     SE.TER.ENRL.FE\n",
       "2050  Percentage of students in tertiary education w...  SE.TER.ENRL.FE.ZS"
      ]
     },
     "execution_count": 140,
     "metadata": {},
     "output_type": "execute_result"
    }
   ],
   "source": [
    "list_indicator[list_indicator[\"Indicator Code\"].str.contains(\"SE.TER.ENRL\")] # étudiant du tertiaire (université)"
   ]
  },
  {
   "cell_type": "code",
   "execution_count": 141,
   "metadata": {},
   "outputs": [
    {
     "data": {
      "text/html": [
       "<div>\n",
       "<style scoped>\n",
       "    .dataframe tbody tr th:only-of-type {\n",
       "        vertical-align: middle;\n",
       "    }\n",
       "\n",
       "    .dataframe tbody tr th {\n",
       "        vertical-align: top;\n",
       "    }\n",
       "\n",
       "    .dataframe thead th {\n",
       "        text-align: right;\n",
       "    }\n",
       "</style>\n",
       "<table border=\"1\" class=\"dataframe\">\n",
       "  <thead>\n",
       "    <tr style=\"text-align: right;\">\n",
       "      <th></th>\n",
       "      <th>Indicator Name</th>\n",
       "      <th>Indicator Code</th>\n",
       "    </tr>\n",
       "  </thead>\n",
       "  <tbody>\n",
       "    <tr>\n",
       "      <th>1214</th>\n",
       "      <td>Enrolment in upper secondary education, both s...</td>\n",
       "      <td>UIS.E.3</td>\n",
       "    </tr>\n",
       "  </tbody>\n",
       "</table>\n",
       "</div>"
      ],
      "text/plain": [
       "                                         Indicator Name Indicator Code\n",
       "1214  Enrolment in upper secondary education, both s...        UIS.E.3"
      ]
     },
     "execution_count": 141,
     "metadata": {},
     "output_type": "execute_result"
    }
   ],
   "source": [
    "# UIS.E.3     UIS.E.4\n",
    "list_indicator[list_indicator[\"Indicator Code\"].str.contains(\"UIS.E.3\")].head(1) # étudiant secondaire"
   ]
  },
  {
   "cell_type": "code",
   "execution_count": 142,
   "metadata": {
    "scrolled": false
   },
   "outputs": [
    {
     "data": {
      "text/html": [
       "<div>\n",
       "<style scoped>\n",
       "    .dataframe tbody tr th:only-of-type {\n",
       "        vertical-align: middle;\n",
       "    }\n",
       "\n",
       "    .dataframe tbody tr th {\n",
       "        vertical-align: top;\n",
       "    }\n",
       "\n",
       "    .dataframe thead th {\n",
       "        text-align: right;\n",
       "    }\n",
       "</style>\n",
       "<table border=\"1\" class=\"dataframe\">\n",
       "  <thead>\n",
       "    <tr style=\"text-align: right;\">\n",
       "      <th></th>\n",
       "      <th>Indicator Name</th>\n",
       "      <th>Indicator Code</th>\n",
       "    </tr>\n",
       "  </thead>\n",
       "  <tbody>\n",
       "    <tr>\n",
       "      <th>1248</th>\n",
       "      <td>GDP, PPP (constant 2011 international $)</td>\n",
       "      <td>NY.GDP.MKTP.PP.KD</td>\n",
       "    </tr>\n",
       "    <tr>\n",
       "      <th>1249</th>\n",
       "      <td>GDP, PPP (current international $)</td>\n",
       "      <td>NY.GDP.MKTP.PP.CD</td>\n",
       "    </tr>\n",
       "  </tbody>\n",
       "</table>\n",
       "</div>"
      ],
      "text/plain": [
       "                                Indicator Name     Indicator Code\n",
       "1248  GDP, PPP (constant 2011 international $)  NY.GDP.MKTP.PP.KD\n",
       "1249        GDP, PPP (current international $)  NY.GDP.MKTP.PP.CD"
      ]
     },
     "execution_count": 142,
     "metadata": {},
     "output_type": "execute_result"
    }
   ],
   "source": [
    "list_indicator[list_indicator[\"Indicator Name\"].str.contains(\"GDP, PPP\")] # niveau de richesse"
   ]
  },
  {
   "cell_type": "markdown",
   "metadata": {},
   "source": [
    "NY.GDP.MKTP.PP.CD"
   ]
  },
  {
   "cell_type": "markdown",
   "metadata": {},
   "source": [
    "On identifie les années avec le moins de valeurs manquantes."
   ]
  },
  {
   "cell_type": "code",
   "execution_count": 143,
   "metadata": {},
   "outputs": [
    {
     "data": {
      "text/plain": [
       "2010    0.726650\n",
       "2005    0.792421\n",
       "2000    0.800801\n",
       "2012    0.833962\n",
       "2011    0.835374\n",
       "2009    0.839775\n",
       "2006    0.841800\n",
       "2013    0.844961\n",
       "2007    0.845228\n",
       "2008    0.848481\n",
       "dtype: float64"
      ]
     },
     "execution_count": 143,
     "metadata": {},
     "output_type": "execute_result"
    }
   ],
   "source": [
    "df.select_dtypes(include=['float64']).isna().mean().sort_values().head(10)"
   ]
  },
  {
   "cell_type": "markdown",
   "metadata": {},
   "source": [
    "On regarde les années et indicateurs qui ont le moins de valeurs manquantes pour finaliser notre sélection."
   ]
  },
  {
   "cell_type": "code",
   "execution_count": 144,
   "metadata": {},
   "outputs": [
    {
     "data": {
      "text/html": [
       "<div>\n",
       "<style scoped>\n",
       "    .dataframe tbody tr th:only-of-type {\n",
       "        vertical-align: middle;\n",
       "    }\n",
       "\n",
       "    .dataframe tbody tr th {\n",
       "        vertical-align: top;\n",
       "    }\n",
       "\n",
       "    .dataframe thead th {\n",
       "        text-align: right;\n",
       "    }\n",
       "</style>\n",
       "<table border=\"1\" class=\"dataframe\">\n",
       "  <thead>\n",
       "    <tr style=\"text-align: right;\">\n",
       "      <th></th>\n",
       "      <th></th>\n",
       "      <th>Indicator Name</th>\n",
       "      <th>Indicator Code</th>\n",
       "      <th>2010</th>\n",
       "      <th>2015</th>\n",
       "      <th>2017</th>\n",
       "    </tr>\n",
       "    <tr>\n",
       "      <th>Indicator Name</th>\n",
       "      <th>Indicator Code</th>\n",
       "      <th></th>\n",
       "      <th></th>\n",
       "      <th></th>\n",
       "      <th></th>\n",
       "      <th></th>\n",
       "    </tr>\n",
       "  </thead>\n",
       "  <tbody>\n",
       "    <tr>\n",
       "      <th>Adjusted net enrolment rate, lower secondary, both sexes (%)</th>\n",
       "      <th>UIS.NERA.2</th>\n",
       "      <td>0</td>\n",
       "      <td>0</td>\n",
       "      <td>136</td>\n",
       "      <td>239</td>\n",
       "      <td>242</td>\n",
       "    </tr>\n",
       "    <tr>\n",
       "      <th>Adjusted net enrolment rate, lower secondary, female (%)</th>\n",
       "      <th>UIS.NERA.2.F</th>\n",
       "      <td>0</td>\n",
       "      <td>0</td>\n",
       "      <td>139</td>\n",
       "      <td>239</td>\n",
       "      <td>242</td>\n",
       "    </tr>\n",
       "    <tr>\n",
       "      <th>Adjusted net enrolment rate, lower secondary, gender parity index (GPI)</th>\n",
       "      <th>UIS.NERA.2.GPI</th>\n",
       "      <td>0</td>\n",
       "      <td>0</td>\n",
       "      <td>139</td>\n",
       "      <td>239</td>\n",
       "      <td>242</td>\n",
       "    </tr>\n",
       "    <tr>\n",
       "      <th>Adjusted net enrolment rate, lower secondary, male (%)</th>\n",
       "      <th>UIS.NERA.2.M</th>\n",
       "      <td>0</td>\n",
       "      <td>0</td>\n",
       "      <td>139</td>\n",
       "      <td>239</td>\n",
       "      <td>242</td>\n",
       "    </tr>\n",
       "    <tr>\n",
       "      <th>Adjusted net enrolment rate, primary, both sexes (%)</th>\n",
       "      <th>SE.PRM.TENR</th>\n",
       "      <td>0</td>\n",
       "      <td>0</td>\n",
       "      <td>86</td>\n",
       "      <td>123</td>\n",
       "      <td>242</td>\n",
       "    </tr>\n",
       "    <tr>\n",
       "      <th>...</th>\n",
       "      <th>...</th>\n",
       "      <td>...</td>\n",
       "      <td>...</td>\n",
       "      <td>...</td>\n",
       "      <td>...</td>\n",
       "      <td>...</td>\n",
       "    </tr>\n",
       "    <tr>\n",
       "      <th>Youth illiterate population, 15-24 years, male (number)</th>\n",
       "      <th>UIS.LP.AG15T24.M</th>\n",
       "      <td>0</td>\n",
       "      <td>0</td>\n",
       "      <td>182</td>\n",
       "      <td>211</td>\n",
       "      <td>242</td>\n",
       "    </tr>\n",
       "    <tr>\n",
       "      <th>Youth literacy rate, population 15-24 years, both sexes (%)</th>\n",
       "      <th>SE.ADT.1524.LT.ZS</th>\n",
       "      <td>0</td>\n",
       "      <td>0</td>\n",
       "      <td>175</td>\n",
       "      <td>210</td>\n",
       "      <td>242</td>\n",
       "    </tr>\n",
       "    <tr>\n",
       "      <th>Youth literacy rate, population 15-24 years, female (%)</th>\n",
       "      <th>SE.ADT.1524.LT.FE.ZS</th>\n",
       "      <td>0</td>\n",
       "      <td>0</td>\n",
       "      <td>175</td>\n",
       "      <td>210</td>\n",
       "      <td>242</td>\n",
       "    </tr>\n",
       "    <tr>\n",
       "      <th>Youth literacy rate, population 15-24 years, gender parity index (GPI)</th>\n",
       "      <th>SE.ADT.1524.LT.FM.ZS</th>\n",
       "      <td>0</td>\n",
       "      <td>0</td>\n",
       "      <td>175</td>\n",
       "      <td>210</td>\n",
       "      <td>242</td>\n",
       "    </tr>\n",
       "    <tr>\n",
       "      <th>Youth literacy rate, population 15-24 years, male (%)</th>\n",
       "      <th>SE.ADT.1524.LT.MA.ZS</th>\n",
       "      <td>0</td>\n",
       "      <td>0</td>\n",
       "      <td>175</td>\n",
       "      <td>210</td>\n",
       "      <td>242</td>\n",
       "    </tr>\n",
       "  </tbody>\n",
       "</table>\n",
       "<p>3665 rows × 5 columns</p>\n",
       "</div>"
      ],
      "text/plain": [
       "                                                                         Indicator Name  \\\n",
       "Indicator Name                                     Indicator Code                         \n",
       "Adjusted net enrolment rate, lower secondary, b... UIS.NERA.2                         0   \n",
       "Adjusted net enrolment rate, lower secondary, f... UIS.NERA.2.F                       0   \n",
       "Adjusted net enrolment rate, lower secondary, g... UIS.NERA.2.GPI                     0   \n",
       "Adjusted net enrolment rate, lower secondary, m... UIS.NERA.2.M                       0   \n",
       "Adjusted net enrolment rate, primary, both sexe... SE.PRM.TENR                        0   \n",
       "...                                                                                 ...   \n",
       "Youth illiterate population, 15-24 years, male ... UIS.LP.AG15T24.M                   0   \n",
       "Youth literacy rate, population 15-24 years, bo... SE.ADT.1524.LT.ZS                  0   \n",
       "Youth literacy rate, population 15-24 years, fe... SE.ADT.1524.LT.FE.ZS               0   \n",
       "Youth literacy rate, population 15-24 years, ge... SE.ADT.1524.LT.FM.ZS               0   \n",
       "Youth literacy rate, population 15-24 years, ma... SE.ADT.1524.LT.MA.ZS               0   \n",
       "\n",
       "                                                                         Indicator Code  \\\n",
       "Indicator Name                                     Indicator Code                         \n",
       "Adjusted net enrolment rate, lower secondary, b... UIS.NERA.2                         0   \n",
       "Adjusted net enrolment rate, lower secondary, f... UIS.NERA.2.F                       0   \n",
       "Adjusted net enrolment rate, lower secondary, g... UIS.NERA.2.GPI                     0   \n",
       "Adjusted net enrolment rate, lower secondary, m... UIS.NERA.2.M                       0   \n",
       "Adjusted net enrolment rate, primary, both sexe... SE.PRM.TENR                        0   \n",
       "...                                                                                 ...   \n",
       "Youth illiterate population, 15-24 years, male ... UIS.LP.AG15T24.M                   0   \n",
       "Youth literacy rate, population 15-24 years, bo... SE.ADT.1524.LT.ZS                  0   \n",
       "Youth literacy rate, population 15-24 years, fe... SE.ADT.1524.LT.FE.ZS               0   \n",
       "Youth literacy rate, population 15-24 years, ge... SE.ADT.1524.LT.FM.ZS               0   \n",
       "Youth literacy rate, population 15-24 years, ma... SE.ADT.1524.LT.MA.ZS               0   \n",
       "\n",
       "                                                                         2010  \\\n",
       "Indicator Name                                     Indicator Code               \n",
       "Adjusted net enrolment rate, lower secondary, b... UIS.NERA.2             136   \n",
       "Adjusted net enrolment rate, lower secondary, f... UIS.NERA.2.F           139   \n",
       "Adjusted net enrolment rate, lower secondary, g... UIS.NERA.2.GPI         139   \n",
       "Adjusted net enrolment rate, lower secondary, m... UIS.NERA.2.M           139   \n",
       "Adjusted net enrolment rate, primary, both sexe... SE.PRM.TENR             86   \n",
       "...                                                                       ...   \n",
       "Youth illiterate population, 15-24 years, male ... UIS.LP.AG15T24.M       182   \n",
       "Youth literacy rate, population 15-24 years, bo... SE.ADT.1524.LT.ZS      175   \n",
       "Youth literacy rate, population 15-24 years, fe... SE.ADT.1524.LT.FE.ZS   175   \n",
       "Youth literacy rate, population 15-24 years, ge... SE.ADT.1524.LT.FM.ZS   175   \n",
       "Youth literacy rate, population 15-24 years, ma... SE.ADT.1524.LT.MA.ZS   175   \n",
       "\n",
       "                                                                         2015  \\\n",
       "Indicator Name                                     Indicator Code               \n",
       "Adjusted net enrolment rate, lower secondary, b... UIS.NERA.2             239   \n",
       "Adjusted net enrolment rate, lower secondary, f... UIS.NERA.2.F           239   \n",
       "Adjusted net enrolment rate, lower secondary, g... UIS.NERA.2.GPI         239   \n",
       "Adjusted net enrolment rate, lower secondary, m... UIS.NERA.2.M           239   \n",
       "Adjusted net enrolment rate, primary, both sexe... SE.PRM.TENR            123   \n",
       "...                                                                       ...   \n",
       "Youth illiterate population, 15-24 years, male ... UIS.LP.AG15T24.M       211   \n",
       "Youth literacy rate, population 15-24 years, bo... SE.ADT.1524.LT.ZS      210   \n",
       "Youth literacy rate, population 15-24 years, fe... SE.ADT.1524.LT.FE.ZS   210   \n",
       "Youth literacy rate, population 15-24 years, ge... SE.ADT.1524.LT.FM.ZS   210   \n",
       "Youth literacy rate, population 15-24 years, ma... SE.ADT.1524.LT.MA.ZS   210   \n",
       "\n",
       "                                                                         2017  \n",
       "Indicator Name                                     Indicator Code              \n",
       "Adjusted net enrolment rate, lower secondary, b... UIS.NERA.2             242  \n",
       "Adjusted net enrolment rate, lower secondary, f... UIS.NERA.2.F           242  \n",
       "Adjusted net enrolment rate, lower secondary, g... UIS.NERA.2.GPI         242  \n",
       "Adjusted net enrolment rate, lower secondary, m... UIS.NERA.2.M           242  \n",
       "Adjusted net enrolment rate, primary, both sexe... SE.PRM.TENR            242  \n",
       "...                                                                       ...  \n",
       "Youth illiterate population, 15-24 years, male ... UIS.LP.AG15T24.M       242  \n",
       "Youth literacy rate, population 15-24 years, bo... SE.ADT.1524.LT.ZS      242  \n",
       "Youth literacy rate, population 15-24 years, fe... SE.ADT.1524.LT.FE.ZS   242  \n",
       "Youth literacy rate, population 15-24 years, ge... SE.ADT.1524.LT.FM.ZS   242  \n",
       "Youth literacy rate, population 15-24 years, ma... SE.ADT.1524.LT.MA.ZS   242  \n",
       "\n",
       "[3665 rows x 5 columns]"
      ]
     },
     "execution_count": 144,
     "metadata": {},
     "output_type": "execute_result"
    }
   ],
   "source": [
    "df2 = df[[\"Indicator Name\",\"Indicator Code\",\"2010\",\"2015\",\"2017\"]].groupby([\"Indicator Name\",\"Indicator Code\"]).apply(lambda x: x.isnull().sum())\n",
    "df2"
   ]
  },
  {
   "cell_type": "code",
   "execution_count": 145,
   "metadata": {
    "scrolled": true
   },
   "outputs": [
    {
     "data": {
      "text/html": [
       "<div>\n",
       "<style scoped>\n",
       "    .dataframe tbody tr th:only-of-type {\n",
       "        vertical-align: middle;\n",
       "    }\n",
       "\n",
       "    .dataframe tbody tr th {\n",
       "        vertical-align: top;\n",
       "    }\n",
       "\n",
       "    .dataframe thead th {\n",
       "        text-align: right;\n",
       "    }\n",
       "</style>\n",
       "<table border=\"1\" class=\"dataframe\">\n",
       "  <thead>\n",
       "    <tr style=\"text-align: right;\">\n",
       "      <th></th>\n",
       "      <th></th>\n",
       "      <th>Indicator Name</th>\n",
       "      <th>Indicator Code</th>\n",
       "      <th>2010</th>\n",
       "      <th>2015</th>\n",
       "      <th>2017</th>\n",
       "    </tr>\n",
       "    <tr>\n",
       "      <th>Indicator Name</th>\n",
       "      <th>Indicator Code</th>\n",
       "      <th></th>\n",
       "      <th></th>\n",
       "      <th></th>\n",
       "      <th></th>\n",
       "      <th></th>\n",
       "    </tr>\n",
       "  </thead>\n",
       "  <tbody>\n",
       "    <tr>\n",
       "      <th>Population, total</th>\n",
       "      <th>SP.POP.TOTL</th>\n",
       "      <td>0</td>\n",
       "      <td>0</td>\n",
       "      <td>2</td>\n",
       "      <td>10</td>\n",
       "      <td>242</td>\n",
       "    </tr>\n",
       "    <tr>\n",
       "      <th>Population growth (annual %)</th>\n",
       "      <th>SP.POP.GROW</th>\n",
       "      <td>0</td>\n",
       "      <td>0</td>\n",
       "      <td>2</td>\n",
       "      <td>10</td>\n",
       "      <td>242</td>\n",
       "    </tr>\n",
       "    <tr>\n",
       "      <th>GDP at market prices (current US$)</th>\n",
       "      <th>NY.GDP.MKTP.CD</th>\n",
       "      <td>0</td>\n",
       "      <td>0</td>\n",
       "      <td>14</td>\n",
       "      <td>24</td>\n",
       "      <td>242</td>\n",
       "    </tr>\n",
       "    <tr>\n",
       "      <th>GDP per capita (current US$)</th>\n",
       "      <th>NY.GDP.PCAP.CD</th>\n",
       "      <td>0</td>\n",
       "      <td>0</td>\n",
       "      <td>14</td>\n",
       "      <td>24</td>\n",
       "      <td>242</td>\n",
       "    </tr>\n",
       "    <tr>\n",
       "      <th>GDP at market prices (constant 2005 US$)</th>\n",
       "      <th>NY.GDP.MKTP.KD</th>\n",
       "      <td>0</td>\n",
       "      <td>0</td>\n",
       "      <td>15</td>\n",
       "      <td>27</td>\n",
       "      <td>242</td>\n",
       "    </tr>\n",
       "  </tbody>\n",
       "</table>\n",
       "</div>"
      ],
      "text/plain": [
       "                                                         Indicator Name  \\\n",
       "Indicator Name                           Indicator Code                   \n",
       "Population, total                        SP.POP.TOTL                  0   \n",
       "Population growth (annual %)             SP.POP.GROW                  0   \n",
       "GDP at market prices (current US$)       NY.GDP.MKTP.CD               0   \n",
       "GDP per capita (current US$)             NY.GDP.PCAP.CD               0   \n",
       "GDP at market prices (constant 2005 US$) NY.GDP.MKTP.KD               0   \n",
       "\n",
       "                                                         Indicator Code  2010  \\\n",
       "Indicator Name                           Indicator Code                         \n",
       "Population, total                        SP.POP.TOTL                  0     2   \n",
       "Population growth (annual %)             SP.POP.GROW                  0     2   \n",
       "GDP at market prices (current US$)       NY.GDP.MKTP.CD               0    14   \n",
       "GDP per capita (current US$)             NY.GDP.PCAP.CD               0    14   \n",
       "GDP at market prices (constant 2005 US$) NY.GDP.MKTP.KD               0    15   \n",
       "\n",
       "                                                         2015  2017  \n",
       "Indicator Name                           Indicator Code              \n",
       "Population, total                        SP.POP.TOTL       10   242  \n",
       "Population growth (annual %)             SP.POP.GROW       10   242  \n",
       "GDP at market prices (current US$)       NY.GDP.MKTP.CD    24   242  \n",
       "GDP per capita (current US$)             NY.GDP.PCAP.CD    24   242  \n",
       "GDP at market prices (constant 2005 US$) NY.GDP.MKTP.KD    27   242  "
      ]
     },
     "execution_count": 145,
     "metadata": {},
     "output_type": "execute_result"
    }
   ],
   "source": [
    "df2.sort_values(\"2010\").head()"
   ]
  },
  {
   "cell_type": "code",
   "execution_count": 146,
   "metadata": {
    "scrolled": false
   },
   "outputs": [
    {
     "data": {
      "text/html": [
       "<div>\n",
       "<style scoped>\n",
       "    .dataframe tbody tr th:only-of-type {\n",
       "        vertical-align: middle;\n",
       "    }\n",
       "\n",
       "    .dataframe tbody tr th {\n",
       "        vertical-align: top;\n",
       "    }\n",
       "\n",
       "    .dataframe thead th {\n",
       "        text-align: right;\n",
       "    }\n",
       "</style>\n",
       "<table border=\"1\" class=\"dataframe\">\n",
       "  <thead>\n",
       "    <tr style=\"text-align: right;\">\n",
       "      <th></th>\n",
       "      <th></th>\n",
       "      <th>Indicator Name</th>\n",
       "      <th>Indicator Code</th>\n",
       "      <th>2010</th>\n",
       "      <th>2015</th>\n",
       "      <th>2017</th>\n",
       "    </tr>\n",
       "    <tr>\n",
       "      <th>Indicator Name</th>\n",
       "      <th>Indicator Code</th>\n",
       "      <th></th>\n",
       "      <th></th>\n",
       "      <th></th>\n",
       "      <th></th>\n",
       "      <th></th>\n",
       "    </tr>\n",
       "  </thead>\n",
       "  <tbody>\n",
       "    <tr>\n",
       "      <th>Population growth (annual %)</th>\n",
       "      <th>SP.POP.GROW</th>\n",
       "      <td>0</td>\n",
       "      <td>0</td>\n",
       "      <td>2</td>\n",
       "      <td>10</td>\n",
       "      <td>242</td>\n",
       "    </tr>\n",
       "    <tr>\n",
       "      <th>Population, total</th>\n",
       "      <th>SP.POP.TOTL</th>\n",
       "      <td>0</td>\n",
       "      <td>0</td>\n",
       "      <td>2</td>\n",
       "      <td>10</td>\n",
       "      <td>242</td>\n",
       "    </tr>\n",
       "    <tr>\n",
       "      <th>Internet users (per 100 people)</th>\n",
       "      <th>IT.NET.USER.P2</th>\n",
       "      <td>0</td>\n",
       "      <td>0</td>\n",
       "      <td>15</td>\n",
       "      <td>19</td>\n",
       "      <td>242</td>\n",
       "    </tr>\n",
       "    <tr>\n",
       "      <th>GDP at market prices (current US$)</th>\n",
       "      <th>NY.GDP.MKTP.CD</th>\n",
       "      <td>0</td>\n",
       "      <td>0</td>\n",
       "      <td>14</td>\n",
       "      <td>24</td>\n",
       "      <td>242</td>\n",
       "    </tr>\n",
       "    <tr>\n",
       "      <th>GDP per capita (current US$)</th>\n",
       "      <th>NY.GDP.PCAP.CD</th>\n",
       "      <td>0</td>\n",
       "      <td>0</td>\n",
       "      <td>14</td>\n",
       "      <td>24</td>\n",
       "      <td>242</td>\n",
       "    </tr>\n",
       "  </tbody>\n",
       "</table>\n",
       "</div>"
      ],
      "text/plain": [
       "                                                   Indicator Name  \\\n",
       "Indicator Name                     Indicator Code                   \n",
       "Population growth (annual %)       SP.POP.GROW                  0   \n",
       "Population, total                  SP.POP.TOTL                  0   \n",
       "Internet users (per 100 people)    IT.NET.USER.P2               0   \n",
       "GDP at market prices (current US$) NY.GDP.MKTP.CD               0   \n",
       "GDP per capita (current US$)       NY.GDP.PCAP.CD               0   \n",
       "\n",
       "                                                   Indicator Code  2010  2015  \\\n",
       "Indicator Name                     Indicator Code                               \n",
       "Population growth (annual %)       SP.POP.GROW                  0     2    10   \n",
       "Population, total                  SP.POP.TOTL                  0     2    10   \n",
       "Internet users (per 100 people)    IT.NET.USER.P2               0    15    19   \n",
       "GDP at market prices (current US$) NY.GDP.MKTP.CD               0    14    24   \n",
       "GDP per capita (current US$)       NY.GDP.PCAP.CD               0    14    24   \n",
       "\n",
       "                                                   2017  \n",
       "Indicator Name                     Indicator Code        \n",
       "Population growth (annual %)       SP.POP.GROW      242  \n",
       "Population, total                  SP.POP.TOTL      242  \n",
       "Internet users (per 100 people)    IT.NET.USER.P2   242  \n",
       "GDP at market prices (current US$) NY.GDP.MKTP.CD   242  \n",
       "GDP per capita (current US$)       NY.GDP.PCAP.CD   242  "
      ]
     },
     "execution_count": 146,
     "metadata": {},
     "output_type": "execute_result"
    }
   ],
   "source": [
    "df2.sort_values(\"2015\").head()"
   ]
  },
  {
   "cell_type": "markdown",
   "metadata": {},
   "source": [
    "Si les années 2010 et 2015 donnent peut de NA sur les données économiques\n",
    "L'année 2020  nous offre des données démographique mieux renseigné sur la partie % d'étudiant."
   ]
  },
  {
   "cell_type": "code",
   "execution_count": 147,
   "metadata": {
    "scrolled": true
   },
   "outputs": [
    {
     "data": {
      "text/plain": [
       "Indicator Code    0.0\n",
       "2020              1.0\n",
       "dtype: float64"
      ]
     },
     "execution_count": 147,
     "metadata": {},
     "output_type": "execute_result"
    }
   ],
   "source": [
    "df.loc[df[\"Indicator Code\"]==\"UIS.E.3\",[\"Indicator Code\",\"2020\"]].isna().mean()"
   ]
  },
  {
   "cell_type": "markdown",
   "metadata": {},
   "source": [
    "## Sélection des variables en fonction du taux de remplissage"
   ]
  },
  {
   "cell_type": "code",
   "execution_count": 288,
   "metadata": {},
   "outputs": [],
   "source": [
    "nos_indicateurs = [\"IT.NET.USER.P2\", # taux d'accès internet\n",
    "                   \"IT.CMP.PCMP.P2\", # taux d'accès à un ordinateur personnel\n",
    "                   \"SE.TER.ENRL\", #  étudiant du tertiaire (université)\n",
    "                   \"UIS.E.3\", # étudiant secondaire\n",
    "                   \"UIS.E.4\", # étudiant post secondaire\n",
    "                   \"SP.POP.TOTL\", # population totale\n",
    "                   \"SP.POP.GROW\", # croissance démographique \n",
    "                   \"NY.GDP.MKTP.CD\", # Pib prix des marchés\n",
    "                   \"NY.GDP.PCAP.CD\"] # pib par tête/habitant"
   ]
  },
  {
   "cell_type": "code",
   "execution_count": 289,
   "metadata": {},
   "outputs": [],
   "source": [
    "data = df.loc[df[\"Indicator Code\"].isin(nos_indicateurs),:]\n"
   ]
  },
  {
   "cell_type": "code",
   "execution_count": 290,
   "metadata": {},
   "outputs": [
    {
     "data": {
      "image/png": "[encoded data removed]",
      "text/plain": [
       "<Figure size 2160x432 with 1 Axes>"
      ]
     },
     "metadata": {},
     "output_type": "display_data"
    }
   ],
   "source": [
    "taux_de_remplissage = 1-((data.isna().sum())/data.shape[0])\n",
    "taux_de_remplissage = taux_de_remplissage.to_frame()\n",
    "#taux_de_remplissage\n",
    "plt.figure(figsize=(30,6))\n",
    "sns.lineplot(x=taux_de_remplissage.index, y=taux_de_remplissage[0], data=taux_de_remplissage).set(title='Taux de remplissage par variables', xlabel='',ylabel='')\n",
    "plt.show()"
   ]
  },
  {
   "cell_type": "markdown",
   "metadata": {},
   "source": [
    "On sélectionne des dates pertinantes"
   ]
  },
  {
   "cell_type": "code",
   "execution_count": 291,
   "metadata": {},
   "outputs": [],
   "source": [
    "nos_variables = ['Country Name', 'Country Code', 'Indicator Name', 'Indicator Code','1985','1990','1995','1998','1999','2000','2010',\n",
    "       '2015','2016','2017','2020', '2025', '2030', '2035', '2040', '2045',\n",
    "       '2050']"
   ]
  },
  {
   "cell_type": "code",
   "execution_count": 292,
   "metadata": {},
   "outputs": [],
   "source": [
    "data = df.loc[df[\"Indicator Code\"].isin(nos_indicateurs),:]\n",
    "data = data[nos_variables]"
   ]
  },
  {
   "cell_type": "code",
   "execution_count": 293,
   "metadata": {},
   "outputs": [
    {
     "data": {
      "text/html": [
       "<div>\n",
       "<style scoped>\n",
       "    .dataframe tbody tr th:only-of-type {\n",
       "        vertical-align: middle;\n",
       "    }\n",
       "\n",
       "    .dataframe tbody tr th {\n",
       "        vertical-align: top;\n",
       "    }\n",
       "\n",
       "    .dataframe thead th {\n",
       "        text-align: right;\n",
       "    }\n",
       "</style>\n",
       "<table border=\"1\" class=\"dataframe\">\n",
       "  <thead>\n",
       "    <tr style=\"text-align: right;\">\n",
       "      <th></th>\n",
       "      <th>Country Code</th>\n",
       "      <th>Indicator Name</th>\n",
       "      <th>Indicator Code</th>\n",
       "      <th>1985</th>\n",
       "      <th>1990</th>\n",
       "      <th>1995</th>\n",
       "      <th>1998</th>\n",
       "      <th>1999</th>\n",
       "      <th>2000</th>\n",
       "      <th>2010</th>\n",
       "      <th>2015</th>\n",
       "      <th>2016</th>\n",
       "      <th>2017</th>\n",
       "      <th>2020</th>\n",
       "      <th>2025</th>\n",
       "      <th>2030</th>\n",
       "      <th>2035</th>\n",
       "      <th>2040</th>\n",
       "      <th>2045</th>\n",
       "      <th>2050</th>\n",
       "    </tr>\n",
       "    <tr>\n",
       "      <th>Country Name</th>\n",
       "      <th></th>\n",
       "      <th></th>\n",
       "      <th></th>\n",
       "      <th></th>\n",
       "      <th></th>\n",
       "      <th></th>\n",
       "      <th></th>\n",
       "      <th></th>\n",
       "      <th></th>\n",
       "      <th></th>\n",
       "      <th></th>\n",
       "      <th></th>\n",
       "      <th></th>\n",
       "      <th></th>\n",
       "      <th></th>\n",
       "      <th></th>\n",
       "      <th></th>\n",
       "      <th></th>\n",
       "      <th></th>\n",
       "      <th></th>\n",
       "    </tr>\n",
       "  </thead>\n",
       "  <tbody>\n",
       "    <tr>\n",
       "      <th>False</th>\n",
       "      <td>0.0</td>\n",
       "      <td>0.0</td>\n",
       "      <td>0.0</td>\n",
       "      <td>0.549128</td>\n",
       "      <td>0.385675</td>\n",
       "      <td>0.380624</td>\n",
       "      <td>0.329201</td>\n",
       "      <td>0.192378</td>\n",
       "      <td>0.187787</td>\n",
       "      <td>0.266758</td>\n",
       "      <td>0.426997</td>\n",
       "      <td>0.487603</td>\n",
       "      <td>1.0</td>\n",
       "      <td>1.0</td>\n",
       "      <td>1.0</td>\n",
       "      <td>1.0</td>\n",
       "      <td>1.0</td>\n",
       "      <td>1.0</td>\n",
       "      <td>1.0</td>\n",
       "      <td>1.0</td>\n",
       "    </tr>\n",
       "  </tbody>\n",
       "</table>\n",
       "</div>"
      ],
      "text/plain": [
       "              Country Code  Indicator Name  Indicator Code      1985  \\\n",
       "Country Name                                                           \n",
       "False                  0.0             0.0             0.0  0.549128   \n",
       "\n",
       "                  1990      1995      1998      1999      2000      2010  \\\n",
       "Country Name                                                               \n",
       "False         0.385675  0.380624  0.329201  0.192378  0.187787  0.266758   \n",
       "\n",
       "                  2015      2016  2017  2020  2025  2030  2035  2040  2045  \\\n",
       "Country Name                                                                 \n",
       "False         0.426997  0.487603   1.0   1.0   1.0   1.0   1.0   1.0   1.0   \n",
       "\n",
       "              2050  \n",
       "Country Name        \n",
       "False          1.0  "
      ]
     },
     "execution_count": 293,
     "metadata": {},
     "output_type": "execute_result"
    }
   ],
   "source": [
    "data.isna().groupby('Country Name').mean()"
   ]
  },
  {
   "cell_type": "code",
   "execution_count": 294,
   "metadata": {
    "scrolled": true
   },
   "outputs": [],
   "source": [
    "taux_de_remplissage = 1-((data.isna().sum())/data.shape[0])\n",
    "taux_de_remplissage = taux_de_remplissage.to_frame()\n",
    "#taux_de_remplissage"
   ]
  },
  {
   "cell_type": "code",
   "execution_count": 295,
   "metadata": {},
   "outputs": [
    {
     "data": {
      "image/png": "[encoded data removed]",
      "text/plain": [
       "<Figure size 2160x432 with 1 Axes>"
      ]
     },
     "metadata": {},
     "output_type": "display_data"
    }
   ],
   "source": [
    "plt.figure(figsize=(30,6))\n",
    "sns.lineplot(x=taux_de_remplissage.index, y=taux_de_remplissage[0], data=taux_de_remplissage).set(title='Taux de remplissage par variables', xlabel='',ylabel='')\n",
    "plt.show()"
   ]
  },
  {
   "cell_type": "code",
   "execution_count": 299,
   "metadata": {},
   "outputs": [
    {
     "data": {
      "text/plain": [
       "array(['Enrolment in post-secondary non-tertiary education, both sexes (number)',\n",
       "       'Enrolment in tertiary education, all programmes, both sexes (number)',\n",
       "       'Enrolment in upper secondary education, both sexes (number)',\n",
       "       'GDP at market prices (current US$)',\n",
       "       'GDP per capita (current US$)', 'Internet users (per 100 people)',\n",
       "       'Personal computers (per 100 people)',\n",
       "       'Population growth (annual %)', 'Population, total'], dtype=object)"
      ]
     },
     "execution_count": 299,
     "metadata": {},
     "output_type": "execute_result"
    }
   ],
   "source": [
    "data[\"Indicator Name\"].unique()"
   ]
  },
  {
   "cell_type": "markdown",
   "metadata": {},
   "source": [
    "Le meilleur taux de remplissage se situe en 2000.\\\n",
    "2015 et 2016 ont un taux de remplissage de 60 % et ont l'avantage d'être plus récente."
   ]
  },
  {
   "cell_type": "markdown",
   "metadata": {},
   "source": [
    "###  IV.  fichier EdStatsFootNote "
   ]
  },
  {
   "cell_type": "code",
   "execution_count": 5,
   "metadata": {},
   "outputs": [
    {
     "data": {
      "text/html": [
       "<div>\n",
       "<style scoped>\n",
       "    .dataframe tbody tr th:only-of-type {\n",
       "        vertical-align: middle;\n",
       "    }\n",
       "\n",
       "    .dataframe tbody tr th {\n",
       "        vertical-align: top;\n",
       "    }\n",
       "\n",
       "    .dataframe thead th {\n",
       "        text-align: right;\n",
       "    }\n",
       "</style>\n",
       "<table border=\"1\" class=\"dataframe\">\n",
       "  <thead>\n",
       "    <tr style=\"text-align: right;\">\n",
       "      <th></th>\n",
       "      <th>CountryCode</th>\n",
       "      <th>SeriesCode</th>\n",
       "      <th>Year</th>\n",
       "      <th>DESCRIPTION</th>\n",
       "      <th>Unnamed: 4</th>\n",
       "    </tr>\n",
       "  </thead>\n",
       "  <tbody>\n",
       "    <tr>\n",
       "      <th>0</th>\n",
       "      <td>ABW</td>\n",
       "      <td>SE.PRE.ENRL.FE</td>\n",
       "      <td>YR2001</td>\n",
       "      <td>Country estimation.</td>\n",
       "      <td>NaN</td>\n",
       "    </tr>\n",
       "    <tr>\n",
       "      <th>1</th>\n",
       "      <td>ABW</td>\n",
       "      <td>SE.TER.TCHR.FE</td>\n",
       "      <td>YR2005</td>\n",
       "      <td>Country estimation.</td>\n",
       "      <td>NaN</td>\n",
       "    </tr>\n",
       "    <tr>\n",
       "      <th>2</th>\n",
       "      <td>ABW</td>\n",
       "      <td>SE.PRE.TCHR.FE</td>\n",
       "      <td>YR2000</td>\n",
       "      <td>Country estimation.</td>\n",
       "      <td>NaN</td>\n",
       "    </tr>\n",
       "  </tbody>\n",
       "</table>\n",
       "</div>"
      ],
      "text/plain": [
       "  CountryCode      SeriesCode    Year          DESCRIPTION  Unnamed: 4\n",
       "0         ABW  SE.PRE.ENRL.FE  YR2001  Country estimation.         NaN\n",
       "1         ABW  SE.TER.TCHR.FE  YR2005  Country estimation.         NaN\n",
       "2         ABW  SE.PRE.TCHR.FE  YR2000  Country estimation.         NaN"
      ]
     },
     "execution_count": 5,
     "metadata": {},
     "output_type": "execute_result"
    }
   ],
   "source": [
    "## IV. EdStatsFootNote\n",
    "footnote = pd.read_csv('EdStatsFootNote.csv')\n",
    "footnote.head(3)"
   ]
  },
  {
   "cell_type": "code",
   "execution_count": 50,
   "metadata": {
    "scrolled": true
   },
   "outputs": [
    {
     "data": {
      "text/plain": [
       "239"
      ]
     },
     "execution_count": 50,
     "metadata": {},
     "output_type": "execute_result"
    }
   ],
   "source": [
    "footnote.CountryCode.nunique()"
   ]
  },
  {
   "cell_type": "code",
   "execution_count": 51,
   "metadata": {
    "scrolled": true
   },
   "outputs": [
    {
     "data": {
      "text/plain": [
       "5"
      ]
     },
     "execution_count": 51,
     "metadata": {},
     "output_type": "execute_result"
    }
   ],
   "source": [
    "footnote.columns.nunique()"
   ]
  },
  {
   "cell_type": "code",
   "execution_count": 3,
   "metadata": {
    "scrolled": true
   },
   "outputs": [
    {
     "data": {
      "text/plain": [
       "CountryCode         0\n",
       "SeriesCode          0\n",
       "Year                0\n",
       "DESCRIPTION         0\n",
       "Unnamed: 4     643638\n",
       "dtype: int64"
      ]
     },
     "execution_count": 3,
     "metadata": {},
     "output_type": "execute_result"
    }
   ],
   "source": [
    "footnote.isna().sum()"
   ]
  },
  {
   "cell_type": "code",
   "execution_count": 4,
   "metadata": {},
   "outputs": [
    {
     "data": {
      "text/plain": [
       "CountryCode    0.0\n",
       "SeriesCode     0.0\n",
       "Year           0.0\n",
       "DESCRIPTION    0.0\n",
       "Unnamed: 4     1.0\n",
       "dtype: float64"
      ]
     },
     "execution_count": 4,
     "metadata": {},
     "output_type": "execute_result"
    }
   ],
   "source": [
    "footnote.isna().mean()"
   ]
  },
  {
   "cell_type": "markdown",
   "metadata": {},
   "source": [
    "On supprimme la colonne 'Unnamed: 4' composée exclusivement de valeurs manquantes"
   ]
  },
  {
   "cell_type": "code",
   "execution_count": 87,
   "metadata": {},
   "outputs": [],
   "source": [
    "footnote.drop('Unnamed: 4', axis=1, inplace = True)"
   ]
  },
  {
   "cell_type": "code",
   "execution_count": 88,
   "metadata": {},
   "outputs": [
    {
     "data": {
      "text/html": [
       "<div>\n",
       "<style scoped>\n",
       "    .dataframe tbody tr th:only-of-type {\n",
       "        vertical-align: middle;\n",
       "    }\n",
       "\n",
       "    .dataframe tbody tr th {\n",
       "        vertical-align: top;\n",
       "    }\n",
       "\n",
       "    .dataframe thead th {\n",
       "        text-align: right;\n",
       "    }\n",
       "</style>\n",
       "<table border=\"1\" class=\"dataframe\">\n",
       "  <thead>\n",
       "    <tr style=\"text-align: right;\">\n",
       "      <th></th>\n",
       "      <th>CountryCode</th>\n",
       "      <th>SeriesCode</th>\n",
       "      <th>Year</th>\n",
       "      <th>DESCRIPTION</th>\n",
       "    </tr>\n",
       "  </thead>\n",
       "  <tbody>\n",
       "    <tr>\n",
       "      <th>0</th>\n",
       "      <td>ABW</td>\n",
       "      <td>SE.PRE.ENRL.FE</td>\n",
       "      <td>YR2001</td>\n",
       "      <td>Country estimation.</td>\n",
       "    </tr>\n",
       "  </tbody>\n",
       "</table>\n",
       "</div>"
      ],
      "text/plain": [
       "  CountryCode      SeriesCode    Year          DESCRIPTION\n",
       "0         ABW  SE.PRE.ENRL.FE  YR2001  Country estimation."
      ]
     },
     "execution_count": 88,
     "metadata": {},
     "output_type": "execute_result"
    }
   ],
   "source": [
    "footnote.head(1)"
   ]
  },
  {
   "cell_type": "code",
   "execution_count": 80,
   "metadata": {},
   "outputs": [
    {
     "data": {
      "text/plain": [
       "array(['YR2001', 'YR2005', 'YR2000', 'YR2004', 'YR2006', 'YR2003',\n",
       "       'YR1999', 'YR2008', 'YR2002', 'YR2007', 'YR2017', 'YR2010',\n",
       "       'YR2009', 'YR2011', 'YR2012', 'YR2015', 'YR2014', 'YR1970',\n",
       "       'YR1971', 'YR1972', 'YR1973', 'YR1974', 'YR1975', 'YR1976',\n",
       "       'YR1977', 'YR1978', 'YR1979', 'YR1980', 'YR1981', 'YR1982',\n",
       "       'YR1983', 'YR1984', 'YR1985', 'YR1986', 'YR1987', 'YR1988',\n",
       "       'YR1989', 'YR1990', 'YR1991', 'YR1992', 'YR1993', 'YR1994',\n",
       "       'YR1995', 'YR1996', 'YR1997', 'YR1998', 'YR2013', 'YR2016',\n",
       "       'YR2020', 'YR2025', 'YR2030', 'YR2035', 'YR2040', 'YR2045',\n",
       "       'YR2050', 'yr2012'], dtype=object)"
      ]
     },
     "execution_count": 80,
     "metadata": {},
     "output_type": "execute_result"
    }
   ],
   "source": [
    "footnote.Year.unique()"
   ]
  },
  {
   "cell_type": "code",
   "execution_count": 78,
   "metadata": {},
   "outputs": [
    {
     "data": {
      "text/plain": [
       "56"
      ]
     },
     "execution_count": 78,
     "metadata": {},
     "output_type": "execute_result"
    }
   ],
   "source": [
    "footnote.Year.nunique()"
   ]
  },
  {
   "cell_type": "code",
   "execution_count": 76,
   "metadata": {
    "scrolled": true
   },
   "outputs": [
    {
     "data": {
      "text/plain": [
       "array(['SE.PRE.ENRL.FE', 'SE.TER.TCHR.FE', 'SE.PRE.TCHR.FE', ...,\n",
       "       'UIS.AFR.GTCTR.2.F', 'UIS.AFR.GTCTR.2.M', 'UIS.AFR.GTCTR.2.T'],\n",
       "      dtype=object)"
      ]
     },
     "execution_count": 76,
     "metadata": {},
     "output_type": "execute_result"
    }
   ],
   "source": [
    "footnote.SeriesCode.unique()"
   ]
  },
  {
   "cell_type": "code",
   "execution_count": 77,
   "metadata": {},
   "outputs": [
    {
     "data": {
      "text/plain": [
       "array(['Country estimation.', 'UIS Estimation',\n",
       "       'UNESCO Institute for Statistics (UIS) estimate', ...,\n",
       "       'Uncertainty bound is 91.6 - 109.3',\n",
       "       'Uncertainty bound is 54.3 - 76',\n",
       "       'Uncertainty bound is 48.3 - 73.3'], dtype=object)"
      ]
     },
     "execution_count": 77,
     "metadata": {},
     "output_type": "execute_result"
    }
   ],
   "source": [
    "footnote.DESCRIPTION.unique()"
   ]
  },
  {
   "cell_type": "code",
   "execution_count": 92,
   "metadata": {},
   "outputs": [
    {
     "data": {
      "text/html": [
       "<div>\n",
       "<style scoped>\n",
       "    .dataframe tbody tr th:only-of-type {\n",
       "        vertical-align: middle;\n",
       "    }\n",
       "\n",
       "    .dataframe tbody tr th {\n",
       "        vertical-align: top;\n",
       "    }\n",
       "\n",
       "    .dataframe thead th {\n",
       "        text-align: right;\n",
       "    }\n",
       "</style>\n",
       "<table border=\"1\" class=\"dataframe\">\n",
       "  <thead>\n",
       "    <tr style=\"text-align: right;\">\n",
       "      <th></th>\n",
       "      <th></th>\n",
       "      <th>SeriesCode</th>\n",
       "      <th>DESCRIPTION</th>\n",
       "    </tr>\n",
       "    <tr>\n",
       "      <th>Year</th>\n",
       "      <th>CountryCode</th>\n",
       "      <th></th>\n",
       "      <th></th>\n",
       "    </tr>\n",
       "  </thead>\n",
       "  <tbody>\n",
       "    <tr>\n",
       "      <th rowspan=\"5\" valign=\"top\">YR1970</th>\n",
       "      <th>ABW</th>\n",
       "      <td>5</td>\n",
       "      <td>5</td>\n",
       "    </tr>\n",
       "    <tr>\n",
       "      <th>AFG</th>\n",
       "      <td>45</td>\n",
       "      <td>45</td>\n",
       "    </tr>\n",
       "    <tr>\n",
       "      <th>AGO</th>\n",
       "      <td>5</td>\n",
       "      <td>5</td>\n",
       "    </tr>\n",
       "    <tr>\n",
       "      <th>ALB</th>\n",
       "      <td>5</td>\n",
       "      <td>5</td>\n",
       "    </tr>\n",
       "    <tr>\n",
       "      <th>AND</th>\n",
       "      <td>4</td>\n",
       "      <td>4</td>\n",
       "    </tr>\n",
       "    <tr>\n",
       "      <th>...</th>\n",
       "      <th>...</th>\n",
       "      <td>...</td>\n",
       "      <td>...</td>\n",
       "    </tr>\n",
       "    <tr>\n",
       "      <th rowspan=\"5\" valign=\"top\">yr2012</th>\n",
       "      <th>MNA</th>\n",
       "      <td>1</td>\n",
       "      <td>1</td>\n",
       "    </tr>\n",
       "    <tr>\n",
       "      <th>SAS</th>\n",
       "      <td>1</td>\n",
       "      <td>1</td>\n",
       "    </tr>\n",
       "    <tr>\n",
       "      <th>SSA</th>\n",
       "      <td>1</td>\n",
       "      <td>1</td>\n",
       "    </tr>\n",
       "    <tr>\n",
       "      <th>UMC</th>\n",
       "      <td>1</td>\n",
       "      <td>1</td>\n",
       "    </tr>\n",
       "    <tr>\n",
       "      <th>WLD</th>\n",
       "      <td>1</td>\n",
       "      <td>1</td>\n",
       "    </tr>\n",
       "  </tbody>\n",
       "</table>\n",
       "<p>11234 rows × 2 columns</p>\n",
       "</div>"
      ],
      "text/plain": [
       "                    SeriesCode  DESCRIPTION\n",
       "Year   CountryCode                         \n",
       "YR1970 ABW                   5            5\n",
       "       AFG                  45           45\n",
       "       AGO                   5            5\n",
       "       ALB                   5            5\n",
       "       AND                   4            4\n",
       "...                        ...          ...\n",
       "yr2012 MNA                   1            1\n",
       "       SAS                   1            1\n",
       "       SSA                   1            1\n",
       "       UMC                   1            1\n",
       "       WLD                   1            1\n",
       "\n",
       "[11234 rows x 2 columns]"
      ]
     },
     "execution_count": 92,
     "metadata": {},
     "output_type": "execute_result"
    }
   ],
   "source": [
    "footnote.groupby(['Year','CountryCode']).count()"
   ]
  },
  {
   "cell_type": "code",
   "execution_count": 91,
   "metadata": {},
   "outputs": [
    {
     "data": {
      "text/html": [
       "<div>\n",
       "<style scoped>\n",
       "    .dataframe tbody tr th:only-of-type {\n",
       "        vertical-align: middle;\n",
       "    }\n",
       "\n",
       "    .dataframe tbody tr th {\n",
       "        vertical-align: top;\n",
       "    }\n",
       "\n",
       "    .dataframe thead th {\n",
       "        text-align: right;\n",
       "    }\n",
       "</style>\n",
       "<table border=\"1\" class=\"dataframe\">\n",
       "  <thead>\n",
       "    <tr style=\"text-align: right;\">\n",
       "      <th></th>\n",
       "      <th></th>\n",
       "      <th>SeriesCode</th>\n",
       "      <th>DESCRIPTION</th>\n",
       "    </tr>\n",
       "    <tr>\n",
       "      <th>Year</th>\n",
       "      <th>CountryCode</th>\n",
       "      <th></th>\n",
       "      <th></th>\n",
       "    </tr>\n",
       "  </thead>\n",
       "  <tbody>\n",
       "    <tr>\n",
       "      <th>YR2004</th>\n",
       "      <th>TTO</th>\n",
       "      <td>489</td>\n",
       "      <td>489</td>\n",
       "    </tr>\n",
       "    <tr>\n",
       "      <th>YR2005</th>\n",
       "      <th>LBN</th>\n",
       "      <td>421</td>\n",
       "      <td>421</td>\n",
       "    </tr>\n",
       "    <tr>\n",
       "      <th>YR2004</th>\n",
       "      <th>LBN</th>\n",
       "      <td>420</td>\n",
       "      <td>420</td>\n",
       "    </tr>\n",
       "    <tr>\n",
       "      <th>YR2002</th>\n",
       "      <th>LBN</th>\n",
       "      <td>414</td>\n",
       "      <td>414</td>\n",
       "    </tr>\n",
       "    <tr>\n",
       "      <th>YR2003</th>\n",
       "      <th>LBN</th>\n",
       "      <td>402</td>\n",
       "      <td>402</td>\n",
       "    </tr>\n",
       "    <tr>\n",
       "      <th>...</th>\n",
       "      <th>...</th>\n",
       "      <td>...</td>\n",
       "      <td>...</td>\n",
       "    </tr>\n",
       "    <tr>\n",
       "      <th>YR2016</th>\n",
       "      <th>LCN</th>\n",
       "      <td>1</td>\n",
       "      <td>1</td>\n",
       "    </tr>\n",
       "    <tr>\n",
       "      <th rowspan=\"3\" valign=\"top\">YR2014</th>\n",
       "      <th>TON</th>\n",
       "      <td>1</td>\n",
       "      <td>1</td>\n",
       "    </tr>\n",
       "    <tr>\n",
       "      <th>TLS</th>\n",
       "      <td>1</td>\n",
       "      <td>1</td>\n",
       "    </tr>\n",
       "    <tr>\n",
       "      <th>TCA</th>\n",
       "      <td>1</td>\n",
       "      <td>1</td>\n",
       "    </tr>\n",
       "    <tr>\n",
       "      <th>yr2012</th>\n",
       "      <th>WLD</th>\n",
       "      <td>1</td>\n",
       "      <td>1</td>\n",
       "    </tr>\n",
       "  </tbody>\n",
       "</table>\n",
       "<p>11234 rows × 2 columns</p>\n",
       "</div>"
      ],
      "text/plain": [
       "                    SeriesCode  DESCRIPTION\n",
       "Year   CountryCode                         \n",
       "YR2004 TTO                 489          489\n",
       "YR2005 LBN                 421          421\n",
       "YR2004 LBN                 420          420\n",
       "YR2002 LBN                 414          414\n",
       "YR2003 LBN                 402          402\n",
       "...                        ...          ...\n",
       "YR2016 LCN                   1            1\n",
       "YR2014 TON                   1            1\n",
       "       TLS                   1            1\n",
       "       TCA                   1            1\n",
       "yr2012 WLD                   1            1\n",
       "\n",
       "[11234 rows x 2 columns]"
      ]
     },
     "execution_count": 91,
     "metadata": {},
     "output_type": "execute_result"
    }
   ],
   "source": [
    "footnote.groupby(['Year','CountryCode']).count().sort_values(by = 'SeriesCode', ascending = False)"
   ]
  },
  {
   "cell_type": "code",
   "execution_count": 93,
   "metadata": {},
   "outputs": [
    {
     "data": {
      "text/html": [
       "<div>\n",
       "<style scoped>\n",
       "    .dataframe tbody tr th:only-of-type {\n",
       "        vertical-align: middle;\n",
       "    }\n",
       "\n",
       "    .dataframe tbody tr th {\n",
       "        vertical-align: top;\n",
       "    }\n",
       "\n",
       "    .dataframe thead th {\n",
       "        text-align: right;\n",
       "    }\n",
       "</style>\n",
       "<table border=\"1\" class=\"dataframe\">\n",
       "  <thead>\n",
       "    <tr style=\"text-align: right;\">\n",
       "      <th></th>\n",
       "      <th>SeriesCode</th>\n",
       "      <th>DESCRIPTION</th>\n",
       "    </tr>\n",
       "  </thead>\n",
       "  <tbody>\n",
       "    <tr>\n",
       "      <th>count</th>\n",
       "      <td>11234.000000</td>\n",
       "      <td>11234.000000</td>\n",
       "    </tr>\n",
       "    <tr>\n",
       "      <th>mean</th>\n",
       "      <td>57.293751</td>\n",
       "      <td>57.293751</td>\n",
       "    </tr>\n",
       "    <tr>\n",
       "      <th>std</th>\n",
       "      <td>54.431511</td>\n",
       "      <td>54.431511</td>\n",
       "    </tr>\n",
       "    <tr>\n",
       "      <th>min</th>\n",
       "      <td>1.000000</td>\n",
       "      <td>1.000000</td>\n",
       "    </tr>\n",
       "    <tr>\n",
       "      <th>25%</th>\n",
       "      <td>16.000000</td>\n",
       "      <td>16.000000</td>\n",
       "    </tr>\n",
       "    <tr>\n",
       "      <th>50%</th>\n",
       "      <td>44.000000</td>\n",
       "      <td>44.000000</td>\n",
       "    </tr>\n",
       "    <tr>\n",
       "      <th>75%</th>\n",
       "      <td>79.000000</td>\n",
       "      <td>79.000000</td>\n",
       "    </tr>\n",
       "    <tr>\n",
       "      <th>max</th>\n",
       "      <td>489.000000</td>\n",
       "      <td>489.000000</td>\n",
       "    </tr>\n",
       "  </tbody>\n",
       "</table>\n",
       "</div>"
      ],
      "text/plain": [
       "         SeriesCode   DESCRIPTION\n",
       "count  11234.000000  11234.000000\n",
       "mean      57.293751     57.293751\n",
       "std       54.431511     54.431511\n",
       "min        1.000000      1.000000\n",
       "25%       16.000000     16.000000\n",
       "50%       44.000000     44.000000\n",
       "75%       79.000000     79.000000\n",
       "max      489.000000    489.000000"
      ]
     },
     "execution_count": 93,
     "metadata": {},
     "output_type": "execute_result"
    }
   ],
   "source": [
    "footnote.groupby(['Year','CountryCode']).count().sort_values(by = 'SeriesCode', ascending = False).describe()"
   ]
  },
  {
   "cell_type": "code",
   "execution_count": 44,
   "metadata": {},
   "outputs": [
    {
     "name": "stdout",
     "output_type": "stream",
     "text": [
      "<class 'pandas.core.frame.DataFrame'>\n",
      "RangeIndex: 643638 entries, 0 to 643637\n",
      "Data columns (total 5 columns):\n",
      " #   Column       Non-Null Count   Dtype  \n",
      "---  ------       --------------   -----  \n",
      " 0   CountryCode  643638 non-null  object \n",
      " 1   SeriesCode   643638 non-null  object \n",
      " 2   Year         643638 non-null  object \n",
      " 3   DESCRIPTION  643638 non-null  object \n",
      " 4   Unnamed: 4   0 non-null       float64\n",
      "dtypes: float64(1), object(4)\n",
      "memory usage: 24.6+ MB\n"
     ]
    }
   ],
   "source": [
    "footnote.info()"
   ]
  },
  {
   "cell_type": "code",
   "execution_count": 15,
   "metadata": {},
   "outputs": [
    {
     "data": {
      "text/html": [
       "<div>\n",
       "<style scoped>\n",
       "    .dataframe tbody tr th:only-of-type {\n",
       "        vertical-align: middle;\n",
       "    }\n",
       "\n",
       "    .dataframe tbody tr th {\n",
       "        vertical-align: top;\n",
       "    }\n",
       "\n",
       "    .dataframe thead th {\n",
       "        text-align: right;\n",
       "    }\n",
       "</style>\n",
       "<table border=\"1\" class=\"dataframe\">\n",
       "  <thead>\n",
       "    <tr style=\"text-align: right;\">\n",
       "      <th></th>\n",
       "      <th>Year</th>\n",
       "    </tr>\n",
       "    <tr>\n",
       "      <th>CountryCode</th>\n",
       "      <th></th>\n",
       "    </tr>\n",
       "  </thead>\n",
       "  <tbody>\n",
       "    <tr>\n",
       "      <th>LIC</th>\n",
       "      <td>7320</td>\n",
       "    </tr>\n",
       "    <tr>\n",
       "      <th>CYP</th>\n",
       "      <td>7183</td>\n",
       "    </tr>\n",
       "    <tr>\n",
       "      <th>LDC</th>\n",
       "      <td>6481</td>\n",
       "    </tr>\n",
       "    <tr>\n",
       "      <th>SSA</th>\n",
       "      <td>6389</td>\n",
       "    </tr>\n",
       "    <tr>\n",
       "      <th>SSF</th>\n",
       "      <td>6336</td>\n",
       "    </tr>\n",
       "    <tr>\n",
       "      <th>...</th>\n",
       "      <td>...</td>\n",
       "    </tr>\n",
       "    <tr>\n",
       "      <th>IMN</th>\n",
       "      <td>32</td>\n",
       "    </tr>\n",
       "    <tr>\n",
       "      <th>CUW</th>\n",
       "      <td>23</td>\n",
       "    </tr>\n",
       "    <tr>\n",
       "      <th>XKX</th>\n",
       "      <td>12</td>\n",
       "    </tr>\n",
       "    <tr>\n",
       "      <th>MNP</th>\n",
       "      <td>4</td>\n",
       "    </tr>\n",
       "    <tr>\n",
       "      <th>FRO</th>\n",
       "      <td>2</td>\n",
       "    </tr>\n",
       "  </tbody>\n",
       "</table>\n",
       "<p>239 rows × 1 columns</p>\n",
       "</div>"
      ],
      "text/plain": [
       "             Year\n",
       "CountryCode      \n",
       "LIC          7320\n",
       "CYP          7183\n",
       "LDC          6481\n",
       "SSA          6389\n",
       "SSF          6336\n",
       "...           ...\n",
       "IMN            32\n",
       "CUW            23\n",
       "XKX            12\n",
       "MNP             4\n",
       "FRO             2\n",
       "\n",
       "[239 rows x 1 columns]"
      ]
     },
     "execution_count": 15,
     "metadata": {},
     "output_type": "execute_result"
    }
   ],
   "source": [
    "footnote.groupby(\"CountryCode\")[\"Year\"].count().sort_values(ascending=False).to_frame()"
   ]
  },
  {
   "cell_type": "markdown",
   "metadata": {},
   "source": [
    "### V. fichier EdStatsSeries"
   ]
  },
  {
   "cell_type": "code",
   "execution_count": 94,
   "metadata": {},
   "outputs": [
    {
     "name": "stdout",
     "output_type": "stream",
     "text": [
      "<class 'pandas.core.frame.DataFrame'>\n",
      "RangeIndex: 3665 entries, 0 to 3664\n",
      "Data columns (total 21 columns):\n",
      " #   Column                               Non-Null Count  Dtype  \n",
      "---  ------                               --------------  -----  \n",
      " 0   Series Code                          3665 non-null   object \n",
      " 1   Topic                                3665 non-null   object \n",
      " 2   Indicator Name                       3665 non-null   object \n",
      " 3   Short definition                     2156 non-null   object \n",
      " 4   Long definition                      3665 non-null   object \n",
      " 5   Unit of measure                      0 non-null      float64\n",
      " 6   Periodicity                          99 non-null     object \n",
      " 7   Base Period                          314 non-null    object \n",
      " 8   Other notes                          552 non-null    object \n",
      " 9   Aggregation method                   47 non-null     object \n",
      " 10  Limitations and exceptions           14 non-null     object \n",
      " 11  Notes from original source           0 non-null      float64\n",
      " 12  General comments                     14 non-null     object \n",
      " 13  Source                               3665 non-null   object \n",
      " 14  Statistical concept and methodology  23 non-null     object \n",
      " 15  Development relevance                3 non-null      object \n",
      " 16  Related source links                 215 non-null    object \n",
      " 17  Other web links                      0 non-null      float64\n",
      " 18  Related indicators                   0 non-null      float64\n",
      " 19  License Type                         0 non-null      float64\n",
      " 20  Unnamed: 20                          0 non-null      float64\n",
      "dtypes: float64(6), object(15)\n",
      "memory usage: 601.4+ KB\n"
     ]
    }
   ],
   "source": [
    "## V. EdStatsSeries\n",
    "series = pd.read_csv('EdStatsSeries.csv')\n",
    "series.info()"
   ]
  },
  {
   "cell_type": "code",
   "execution_count": 97,
   "metadata": {
    "scrolled": false
   },
   "outputs": [
    {
     "data": {
      "text/plain": [
       "<AxesSubplot:>"
      ]
     },
     "execution_count": 97,
     "metadata": {},
     "output_type": "execute_result"
    },
    {
     "data": {
      "image/png": "[encoded data removed]",
      "text/plain": [
       "<Figure size 432x288 with 2 Axes>"
      ]
     },
     "metadata": {
      "needs_background": "light"
     },
     "output_type": "display_data"
    }
   ],
   "source": [
    "sns.heatmap(series.isna())"
   ]
  },
  {
   "cell_type": "code",
   "execution_count": 105,
   "metadata": {},
   "outputs": [
    {
     "data": {
      "text/plain": [
       "Series Code                            0.000000\n",
       "Topic                                  0.000000\n",
       "Indicator Name                         0.000000\n",
       "Long definition                        0.000000\n",
       "Source                                 0.000000\n",
       "Short definition                       0.411733\n",
       "Other notes                            0.849386\n",
       "Base Period                            0.914325\n",
       "Related source links                   0.941337\n",
       "Periodicity                            0.972988\n",
       "Aggregation method                     0.987176\n",
       "Statistical concept and methodology    0.993724\n",
       "Limitations and exceptions             0.996180\n",
       "General comments                       0.996180\n",
       "Development relevance                  0.999181\n",
       "Notes from original source             1.000000\n",
       "License Type                           1.000000\n",
       "Unit of measure                        1.000000\n",
       "Other web links                        1.000000\n",
       "Related indicators                     1.000000\n",
       "Unnamed: 20                            1.000000\n",
       "dtype: float64"
      ]
     },
     "execution_count": 105,
     "metadata": {},
     "output_type": "execute_result"
    }
   ],
   "source": [
    "# On check notre graphique \n",
    "series.isna().mean().sort_values()"
   ]
  },
  {
   "cell_type": "code",
   "execution_count": 101,
   "metadata": {
    "scrolled": true
   },
   "outputs": [
    {
     "data": {
      "text/html": [
       "<div>\n",
       "<style scoped>\n",
       "    .dataframe tbody tr th:only-of-type {\n",
       "        vertical-align: middle;\n",
       "    }\n",
       "\n",
       "    .dataframe tbody tr th {\n",
       "        vertical-align: top;\n",
       "    }\n",
       "\n",
       "    .dataframe thead th {\n",
       "        text-align: right;\n",
       "    }\n",
       "</style>\n",
       "<table border=\"1\" class=\"dataframe\">\n",
       "  <thead>\n",
       "    <tr style=\"text-align: right;\">\n",
       "      <th></th>\n",
       "      <th>Series Code</th>\n",
       "      <th>Topic</th>\n",
       "      <th>Indicator Name</th>\n",
       "      <th>Short definition</th>\n",
       "      <th>Long definition</th>\n",
       "      <th>Unit of measure</th>\n",
       "      <th>Periodicity</th>\n",
       "      <th>Base Period</th>\n",
       "      <th>Other notes</th>\n",
       "      <th>Aggregation method</th>\n",
       "      <th>...</th>\n",
       "      <th>Notes from original source</th>\n",
       "      <th>General comments</th>\n",
       "      <th>Source</th>\n",
       "      <th>Statistical concept and methodology</th>\n",
       "      <th>Development relevance</th>\n",
       "      <th>Related source links</th>\n",
       "      <th>Other web links</th>\n",
       "      <th>Related indicators</th>\n",
       "      <th>License Type</th>\n",
       "      <th>Unnamed: 20</th>\n",
       "    </tr>\n",
       "  </thead>\n",
       "  <tbody>\n",
       "    <tr>\n",
       "      <th>3660</th>\n",
       "      <td>UIS.XUNIT.USCONST.3.FSGOV</td>\n",
       "      <td>Expenditures</td>\n",
       "      <td>Government expenditure per upper secondary stu...</td>\n",
       "      <td>NaN</td>\n",
       "      <td>Average total (current, capital and transfers)...</td>\n",
       "      <td>NaN</td>\n",
       "      <td>NaN</td>\n",
       "      <td>NaN</td>\n",
       "      <td>NaN</td>\n",
       "      <td>NaN</td>\n",
       "      <td>...</td>\n",
       "      <td>NaN</td>\n",
       "      <td>NaN</td>\n",
       "      <td>UNESCO Institute for Statistics</td>\n",
       "      <td>NaN</td>\n",
       "      <td>NaN</td>\n",
       "      <td>NaN</td>\n",
       "      <td>NaN</td>\n",
       "      <td>NaN</td>\n",
       "      <td>NaN</td>\n",
       "      <td>NaN</td>\n",
       "    </tr>\n",
       "    <tr>\n",
       "      <th>3661</th>\n",
       "      <td>UIS.XUNIT.USCONST.4.FSGOV</td>\n",
       "      <td>Expenditures</td>\n",
       "      <td>Government expenditure per post-secondary non-...</td>\n",
       "      <td>NaN</td>\n",
       "      <td>Average total (current, capital and transfers)...</td>\n",
       "      <td>NaN</td>\n",
       "      <td>NaN</td>\n",
       "      <td>NaN</td>\n",
       "      <td>NaN</td>\n",
       "      <td>NaN</td>\n",
       "      <td>...</td>\n",
       "      <td>NaN</td>\n",
       "      <td>NaN</td>\n",
       "      <td>UNESCO Institute for Statistics</td>\n",
       "      <td>NaN</td>\n",
       "      <td>NaN</td>\n",
       "      <td>NaN</td>\n",
       "      <td>NaN</td>\n",
       "      <td>NaN</td>\n",
       "      <td>NaN</td>\n",
       "      <td>NaN</td>\n",
       "    </tr>\n",
       "    <tr>\n",
       "      <th>3662</th>\n",
       "      <td>UIS.XUNIT.USCONST.56.FSGOV</td>\n",
       "      <td>Expenditures</td>\n",
       "      <td>Government expenditure per tertiary student (c...</td>\n",
       "      <td>NaN</td>\n",
       "      <td>Average total (current, capital and transfers)...</td>\n",
       "      <td>NaN</td>\n",
       "      <td>NaN</td>\n",
       "      <td>NaN</td>\n",
       "      <td>NaN</td>\n",
       "      <td>NaN</td>\n",
       "      <td>...</td>\n",
       "      <td>NaN</td>\n",
       "      <td>NaN</td>\n",
       "      <td>UNESCO Institute for Statistics</td>\n",
       "      <td>NaN</td>\n",
       "      <td>NaN</td>\n",
       "      <td>NaN</td>\n",
       "      <td>NaN</td>\n",
       "      <td>NaN</td>\n",
       "      <td>NaN</td>\n",
       "      <td>NaN</td>\n",
       "    </tr>\n",
       "    <tr>\n",
       "      <th>3663</th>\n",
       "      <td>XGDP.23.FSGOV.FDINSTADM.FFD</td>\n",
       "      <td>Expenditures</td>\n",
       "      <td>Government expenditure in secondary institutio...</td>\n",
       "      <td>Total general (local, regional and central) go...</td>\n",
       "      <td>Total general (local, regional and central) go...</td>\n",
       "      <td>NaN</td>\n",
       "      <td>NaN</td>\n",
       "      <td>NaN</td>\n",
       "      <td>Secondary</td>\n",
       "      <td>NaN</td>\n",
       "      <td>...</td>\n",
       "      <td>NaN</td>\n",
       "      <td>NaN</td>\n",
       "      <td>UNESCO Institute for Statistics</td>\n",
       "      <td>NaN</td>\n",
       "      <td>NaN</td>\n",
       "      <td>NaN</td>\n",
       "      <td>NaN</td>\n",
       "      <td>NaN</td>\n",
       "      <td>NaN</td>\n",
       "      <td>NaN</td>\n",
       "    </tr>\n",
       "    <tr>\n",
       "      <th>3664</th>\n",
       "      <td>XGDP.56.FSGOV.FDINSTADM.FFD</td>\n",
       "      <td>Expenditures</td>\n",
       "      <td>Government expenditure in tertiary institution...</td>\n",
       "      <td>Total general (local, regional and central) go...</td>\n",
       "      <td>Total general (local, regional and central) go...</td>\n",
       "      <td>NaN</td>\n",
       "      <td>NaN</td>\n",
       "      <td>NaN</td>\n",
       "      <td>Tertiary</td>\n",
       "      <td>NaN</td>\n",
       "      <td>...</td>\n",
       "      <td>NaN</td>\n",
       "      <td>NaN</td>\n",
       "      <td>UNESCO Institute for Statistics</td>\n",
       "      <td>NaN</td>\n",
       "      <td>NaN</td>\n",
       "      <td>NaN</td>\n",
       "      <td>NaN</td>\n",
       "      <td>NaN</td>\n",
       "      <td>NaN</td>\n",
       "      <td>NaN</td>\n",
       "    </tr>\n",
       "  </tbody>\n",
       "</table>\n",
       "<p>5 rows × 21 columns</p>\n",
       "</div>"
      ],
      "text/plain": [
       "                      Series Code         Topic  \\\n",
       "3660    UIS.XUNIT.USCONST.3.FSGOV  Expenditures   \n",
       "3661    UIS.XUNIT.USCONST.4.FSGOV  Expenditures   \n",
       "3662   UIS.XUNIT.USCONST.56.FSGOV  Expenditures   \n",
       "3663  XGDP.23.FSGOV.FDINSTADM.FFD  Expenditures   \n",
       "3664  XGDP.56.FSGOV.FDINSTADM.FFD  Expenditures   \n",
       "\n",
       "                                         Indicator Name  \\\n",
       "3660  Government expenditure per upper secondary stu...   \n",
       "3661  Government expenditure per post-secondary non-...   \n",
       "3662  Government expenditure per tertiary student (c...   \n",
       "3663  Government expenditure in secondary institutio...   \n",
       "3664  Government expenditure in tertiary institution...   \n",
       "\n",
       "                                       Short definition  \\\n",
       "3660                                                NaN   \n",
       "3661                                                NaN   \n",
       "3662                                                NaN   \n",
       "3663  Total general (local, regional and central) go...   \n",
       "3664  Total general (local, regional and central) go...   \n",
       "\n",
       "                                        Long definition  Unit of measure  \\\n",
       "3660  Average total (current, capital and transfers)...              NaN   \n",
       "3661  Average total (current, capital and transfers)...              NaN   \n",
       "3662  Average total (current, capital and transfers)...              NaN   \n",
       "3663  Total general (local, regional and central) go...              NaN   \n",
       "3664  Total general (local, regional and central) go...              NaN   \n",
       "\n",
       "     Periodicity Base Period Other notes Aggregation method  ...  \\\n",
       "3660         NaN         NaN         NaN                NaN  ...   \n",
       "3661         NaN         NaN         NaN                NaN  ...   \n",
       "3662         NaN         NaN         NaN                NaN  ...   \n",
       "3663         NaN         NaN   Secondary                NaN  ...   \n",
       "3664         NaN         NaN    Tertiary                NaN  ...   \n",
       "\n",
       "     Notes from original source  General comments  \\\n",
       "3660                        NaN               NaN   \n",
       "3661                        NaN               NaN   \n",
       "3662                        NaN               NaN   \n",
       "3663                        NaN               NaN   \n",
       "3664                        NaN               NaN   \n",
       "\n",
       "                               Source Statistical concept and methodology  \\\n",
       "3660  UNESCO Institute for Statistics                                 NaN   \n",
       "3661  UNESCO Institute for Statistics                                 NaN   \n",
       "3662  UNESCO Institute for Statistics                                 NaN   \n",
       "3663  UNESCO Institute for Statistics                                 NaN   \n",
       "3664  UNESCO Institute for Statistics                                 NaN   \n",
       "\n",
       "     Development relevance Related source links Other web links  \\\n",
       "3660                   NaN                  NaN             NaN   \n",
       "3661                   NaN                  NaN             NaN   \n",
       "3662                   NaN                  NaN             NaN   \n",
       "3663                   NaN                  NaN             NaN   \n",
       "3664                   NaN                  NaN             NaN   \n",
       "\n",
       "      Related indicators  License Type  Unnamed: 20  \n",
       "3660                 NaN           NaN          NaN  \n",
       "3661                 NaN           NaN          NaN  \n",
       "3662                 NaN           NaN          NaN  \n",
       "3663                 NaN           NaN          NaN  \n",
       "3664                 NaN           NaN          NaN  \n",
       "\n",
       "[5 rows x 21 columns]"
      ]
     },
     "execution_count": 101,
     "metadata": {},
     "output_type": "execute_result"
    }
   ],
   "source": [
    "series.tail(5)"
   ]
  },
  {
   "cell_type": "code",
   "execution_count": 106,
   "metadata": {
    "scrolled": true
   },
   "outputs": [
    {
     "data": {
      "text/html": [
       "<div>\n",
       "<style scoped>\n",
       "    .dataframe tbody tr th:only-of-type {\n",
       "        vertical-align: middle;\n",
       "    }\n",
       "\n",
       "    .dataframe tbody tr th {\n",
       "        vertical-align: top;\n",
       "    }\n",
       "\n",
       "    .dataframe thead th {\n",
       "        text-align: right;\n",
       "    }\n",
       "</style>\n",
       "<table border=\"1\" class=\"dataframe\">\n",
       "  <thead>\n",
       "    <tr style=\"text-align: right;\">\n",
       "      <th></th>\n",
       "      <th>Series Code</th>\n",
       "      <th>Topic</th>\n",
       "      <th>Indicator Name</th>\n",
       "      <th>Source</th>\n",
       "    </tr>\n",
       "  </thead>\n",
       "  <tbody>\n",
       "    <tr>\n",
       "      <th>0</th>\n",
       "      <td>BAR.NOED.1519.FE.ZS</td>\n",
       "      <td>Attainment</td>\n",
       "      <td>Barro-Lee: Percentage of female population age...</td>\n",
       "      <td>Robert J. Barro and Jong-Wha Lee: http://www.b...</td>\n",
       "    </tr>\n",
       "    <tr>\n",
       "      <th>1</th>\n",
       "      <td>BAR.NOED.1519.ZS</td>\n",
       "      <td>Attainment</td>\n",
       "      <td>Barro-Lee: Percentage of population age 15-19 ...</td>\n",
       "      <td>Robert J. Barro and Jong-Wha Lee: http://www.b...</td>\n",
       "    </tr>\n",
       "    <tr>\n",
       "      <th>2</th>\n",
       "      <td>BAR.NOED.15UP.FE.ZS</td>\n",
       "      <td>Attainment</td>\n",
       "      <td>Barro-Lee: Percentage of female population age...</td>\n",
       "      <td>Robert J. Barro and Jong-Wha Lee: http://www.b...</td>\n",
       "    </tr>\n",
       "    <tr>\n",
       "      <th>3</th>\n",
       "      <td>BAR.NOED.15UP.ZS</td>\n",
       "      <td>Attainment</td>\n",
       "      <td>Barro-Lee: Percentage of population age 15+ wi...</td>\n",
       "      <td>Robert J. Barro and Jong-Wha Lee: http://www.b...</td>\n",
       "    </tr>\n",
       "    <tr>\n",
       "      <th>4</th>\n",
       "      <td>BAR.NOED.2024.FE.ZS</td>\n",
       "      <td>Attainment</td>\n",
       "      <td>Barro-Lee: Percentage of female population age...</td>\n",
       "      <td>Robert J. Barro and Jong-Wha Lee: http://www.b...</td>\n",
       "    </tr>\n",
       "    <tr>\n",
       "      <th>...</th>\n",
       "      <td>...</td>\n",
       "      <td>...</td>\n",
       "      <td>...</td>\n",
       "      <td>...</td>\n",
       "    </tr>\n",
       "    <tr>\n",
       "      <th>3660</th>\n",
       "      <td>UIS.XUNIT.USCONST.3.FSGOV</td>\n",
       "      <td>Expenditures</td>\n",
       "      <td>Government expenditure per upper secondary stu...</td>\n",
       "      <td>UNESCO Institute for Statistics</td>\n",
       "    </tr>\n",
       "    <tr>\n",
       "      <th>3661</th>\n",
       "      <td>UIS.XUNIT.USCONST.4.FSGOV</td>\n",
       "      <td>Expenditures</td>\n",
       "      <td>Government expenditure per post-secondary non-...</td>\n",
       "      <td>UNESCO Institute for Statistics</td>\n",
       "    </tr>\n",
       "    <tr>\n",
       "      <th>3662</th>\n",
       "      <td>UIS.XUNIT.USCONST.56.FSGOV</td>\n",
       "      <td>Expenditures</td>\n",
       "      <td>Government expenditure per tertiary student (c...</td>\n",
       "      <td>UNESCO Institute for Statistics</td>\n",
       "    </tr>\n",
       "    <tr>\n",
       "      <th>3663</th>\n",
       "      <td>XGDP.23.FSGOV.FDINSTADM.FFD</td>\n",
       "      <td>Expenditures</td>\n",
       "      <td>Government expenditure in secondary institutio...</td>\n",
       "      <td>UNESCO Institute for Statistics</td>\n",
       "    </tr>\n",
       "    <tr>\n",
       "      <th>3664</th>\n",
       "      <td>XGDP.56.FSGOV.FDINSTADM.FFD</td>\n",
       "      <td>Expenditures</td>\n",
       "      <td>Government expenditure in tertiary institution...</td>\n",
       "      <td>UNESCO Institute for Statistics</td>\n",
       "    </tr>\n",
       "  </tbody>\n",
       "</table>\n",
       "<p>3665 rows × 4 columns</p>\n",
       "</div>"
      ],
      "text/plain": [
       "                      Series Code         Topic  \\\n",
       "0             BAR.NOED.1519.FE.ZS    Attainment   \n",
       "1                BAR.NOED.1519.ZS    Attainment   \n",
       "2             BAR.NOED.15UP.FE.ZS    Attainment   \n",
       "3                BAR.NOED.15UP.ZS    Attainment   \n",
       "4             BAR.NOED.2024.FE.ZS    Attainment   \n",
       "...                           ...           ...   \n",
       "3660    UIS.XUNIT.USCONST.3.FSGOV  Expenditures   \n",
       "3661    UIS.XUNIT.USCONST.4.FSGOV  Expenditures   \n",
       "3662   UIS.XUNIT.USCONST.56.FSGOV  Expenditures   \n",
       "3663  XGDP.23.FSGOV.FDINSTADM.FFD  Expenditures   \n",
       "3664  XGDP.56.FSGOV.FDINSTADM.FFD  Expenditures   \n",
       "\n",
       "                                         Indicator Name  \\\n",
       "0     Barro-Lee: Percentage of female population age...   \n",
       "1     Barro-Lee: Percentage of population age 15-19 ...   \n",
       "2     Barro-Lee: Percentage of female population age...   \n",
       "3     Barro-Lee: Percentage of population age 15+ wi...   \n",
       "4     Barro-Lee: Percentage of female population age...   \n",
       "...                                                 ...   \n",
       "3660  Government expenditure per upper secondary stu...   \n",
       "3661  Government expenditure per post-secondary non-...   \n",
       "3662  Government expenditure per tertiary student (c...   \n",
       "3663  Government expenditure in secondary institutio...   \n",
       "3664  Government expenditure in tertiary institution...   \n",
       "\n",
       "                                                 Source  \n",
       "0     Robert J. Barro and Jong-Wha Lee: http://www.b...  \n",
       "1     Robert J. Barro and Jong-Wha Lee: http://www.b...  \n",
       "2     Robert J. Barro and Jong-Wha Lee: http://www.b...  \n",
       "3     Robert J. Barro and Jong-Wha Lee: http://www.b...  \n",
       "4     Robert J. Barro and Jong-Wha Lee: http://www.b...  \n",
       "...                                                 ...  \n",
       "3660                    UNESCO Institute for Statistics  \n",
       "3661                    UNESCO Institute for Statistics  \n",
       "3662                    UNESCO Institute for Statistics  \n",
       "3663                    UNESCO Institute for Statistics  \n",
       "3664                    UNESCO Institute for Statistics  \n",
       "\n",
       "[3665 rows x 4 columns]"
      ]
     },
     "execution_count": 106,
     "metadata": {},
     "output_type": "execute_result"
    }
   ],
   "source": [
    "# On conserve uniquement les variables avec des données\n",
    "series = series.loc[:,['Series Code','Topic','Indicator Name','Source']]\n",
    "series"
   ]
  },
  {
   "cell_type": "code",
   "execution_count": 111,
   "metadata": {
    "scrolled": true
   },
   "outputs": [
    {
     "data": {
      "text/plain": [
       "array(['Robert J. Barro and Jong-Wha Lee: http://www.barrolee.com/',\n",
       "       'Demographic and Health Surveys (DHS)',\n",
       "       'World Bank staff calculations based on Multiple Indicator Cluster Survey (MICS) data',\n",
       "       'Multiple Indicator Cluster Surveys (MICS)',\n",
       "       'International Telecommunication Union, World Telecommunication/ICT Development Report and database.',\n",
       "       'Early Grade Reading Assessment (EGRA): https://www.eddataglobal.org/reading/',\n",
       "       'Latin American Laboratory for Assessment of the Quality of Education (LLECE)',\n",
       "       \"Programme d'Analyse des Systèmes Educatifs de la CONFEMEN/Program for the Analysis of CONFEMEN Education Systems (PASEC): http://www.pasec.confemen.org/\",\n",
       "       'OECD Programme for the International Assessment of Adult Competencies (PIAAC)',\n",
       "       'International Association for the Evaluation of Educational Achievement (IEA) Progress in International Reading Literacy Study (PIRLS)',\n",
       "       'OECD Programme for International Student Assessment (PISA)',\n",
       "       'Southern and Eastern Africa Consortium for Monitoring Educational Quality (SACMEQ) Data Archive, www.sacmeq.org',\n",
       "       \"International Association for the Evaluation of Educational Achievement (IEA)'s Trends in International Mathematics and Science Study\",\n",
       "       'World Bank national accounts data, and OECD National Accounts data files.',\n",
       "       'World Bank, International Comparison Program database.',\n",
       "       'Organisation for Economic Co-operation and Development (OECD)',\n",
       "       'Wittgenstein Centre for Demography and Global Human Capital: http://www.oeaw.ac.at/vid/dataexplorer/',\n",
       "       'Systems Approach for Better Education Results (SABER), World Bank',\n",
       "       'UNESCO Institute for Statistics', 'UNAIDS estimates.',\n",
       "       'Estimates Developed by the UN Inter-agency Group for Child Mortality Estimation (UNICEF, WHO, World Bank, UN DESA Population Division) at www.childmortality.org.',\n",
       "       'International Labour Organization, ILOSTAT database. Data retrieved in March 2017.',\n",
       "       'Derived using data from International Labour Organization, ILOSTAT database and World Bank population estimates. Labor data retrieved in November 2017.',\n",
       "       'International Labour Organization, Key Indicators of the Labour Market database.',\n",
       "       'International Labour Organization, ILOSTAT database. Data retrieved in November 2017.',\n",
       "       \"World Bank staff estimates using the World Bank's total population and age/sex distributions of the United Nations Population Division's World Population Prospects.\",\n",
       "       \"World Bank staff estimates based on age/sex distributions of United Nations Population Division's World Population Prospects.\",\n",
       "       'UNESCO Institute for Statistics (Derived)',\n",
       "       'UNESCO Institute for Statistics.',\n",
       "       'Derived from total population. Population source: (1) United Nations Population Division. World Population Prospects, (2) Census reports and other statistical publications from national statistical offices, (3) Eurostat: Demographic Statistics, (4) United Nations Statistical Division. Population and Vital Statistics Reprot (various years), (5) U.S. Census Bureau: International Database, and (6) Secretariat of the Pacific Community: Statistics and Demography Programme.',\n",
       "       '(1) United Nations Population Division. World Population Prospects, (2) Census reports and other statistical publications from national statistical offices, (3) Eurostat: Demographic Statistics, (4) United Nations Statistical Division. Population and Vital Statistics Report (various years), (5) U.S. Census Bureau: International Database, and (6) Secretariat of the Pacific Community: Statistics and Demography Programme.'],\n",
       "      dtype=object)"
      ]
     },
     "execution_count": 111,
     "metadata": {},
     "output_type": "execute_result"
    }
   ],
   "source": [
    "series.Source.unique()"
   ]
  },
  {
   "cell_type": "markdown",
   "metadata": {},
   "source": [
    "Ce dernier fichier semble être un recueil de sources académiques/conférences\n",
    "Définitions de variables ?"
   ]
  },
  {
   "cell_type": "code",
   "execution_count": 123,
   "metadata": {
    "scrolled": true
   },
   "outputs": [
    {
     "data": {
      "text/plain": [
       "3665"
      ]
     },
     "execution_count": 123,
     "metadata": {},
     "output_type": "execute_result"
    }
   ],
   "source": [
    "series['Series Code'].nunique()"
   ]
  },
  {
   "cell_type": "code",
   "execution_count": 125,
   "metadata": {
    "scrolled": true
   },
   "outputs": [
    {
     "data": {
      "text/plain": [
       "array(['Barro-Lee: Percentage of female population age 15-19 with no education',\n",
       "       'Barro-Lee: Percentage of population age 15-19 with no education',\n",
       "       'Barro-Lee: Percentage of female population age 15+ with no education',\n",
       "       ..., 'Government expenditure per tertiary student (constant US$)',\n",
       "       'Government expenditure in secondary institutions education as % of GDP (%)',\n",
       "       'Government expenditure in tertiary institutions as % of GDP (%)'],\n",
       "      dtype=object)"
      ]
     },
     "execution_count": 125,
     "metadata": {},
     "output_type": "execute_result"
    }
   ],
   "source": [
    "series['Indicator Name'].unique()\n",
    "# source : http://barrolee.com/"
   ]
  },
  {
   "cell_type": "markdown",
   "metadata": {},
   "source": [
    "# Nettoyage"
   ]
  },
  {
   "cell_type": "markdown",
   "metadata": {},
   "source": [
    "On va joindre notre fichier principale avec le fichier country_clean: lea agrégats de pays sont supprimés.\\\n",
    "On conserve par ligne des pays.\\\n",
    "Sélectionner les pays pertinants.\\\n",
    "On conserve les dates avec le plus d'informations.\n"
   ]
  },
  {
   "cell_type": "code",
   "execution_count": 300,
   "metadata": {
    "scrolled": false
   },
   "outputs": [],
   "source": [
    "country_clean_select = country_clean[[\"Country Code\",\"Region\",\"Income Group\"]]\n",
    "\n",
    "data_select = data[['Country Name', 'Country Code', 'Indicator Name', 'Indicator Code','1990',\n",
    "       '1995', '1998', '1999', '2000', '2010', '2015', '2016']]"
   ]
  },
  {
   "cell_type": "code",
   "execution_count": 301,
   "metadata": {},
   "outputs": [
    {
     "data": {
      "text/html": [
       "<div>\n",
       "<style scoped>\n",
       "    .dataframe tbody tr th:only-of-type {\n",
       "        vertical-align: middle;\n",
       "    }\n",
       "\n",
       "    .dataframe tbody tr th {\n",
       "        vertical-align: top;\n",
       "    }\n",
       "\n",
       "    .dataframe thead th {\n",
       "        text-align: right;\n",
       "    }\n",
       "</style>\n",
       "<table border=\"1\" class=\"dataframe\">\n",
       "  <thead>\n",
       "    <tr style=\"text-align: right;\">\n",
       "      <th></th>\n",
       "      <th>Country Code</th>\n",
       "      <th>Region</th>\n",
       "      <th>Income Group</th>\n",
       "      <th>Country Name</th>\n",
       "      <th>Indicator Name</th>\n",
       "      <th>Indicator Code</th>\n",
       "      <th>1990</th>\n",
       "      <th>1995</th>\n",
       "      <th>1998</th>\n",
       "      <th>1999</th>\n",
       "      <th>2000</th>\n",
       "      <th>2010</th>\n",
       "      <th>2015</th>\n",
       "      <th>2016</th>\n",
       "    </tr>\n",
       "  </thead>\n",
       "  <tbody>\n",
       "    <tr>\n",
       "      <th>0</th>\n",
       "      <td>ABW</td>\n",
       "      <td>Latin America &amp; Caribbean</td>\n",
       "      <td>High income: nonOECD</td>\n",
       "      <td>Aruba</td>\n",
       "      <td>Enrolment in post-secondary non-tertiary educa...</td>\n",
       "      <td>UIS.E.4</td>\n",
       "      <td>NaN</td>\n",
       "      <td>NaN</td>\n",
       "      <td>NaN</td>\n",
       "      <td>2.400000e+01</td>\n",
       "      <td>1.240000e+02</td>\n",
       "      <td>NaN</td>\n",
       "      <td>NaN</td>\n",
       "      <td>NaN</td>\n",
       "    </tr>\n",
       "    <tr>\n",
       "      <th>1</th>\n",
       "      <td>ABW</td>\n",
       "      <td>Latin America &amp; Caribbean</td>\n",
       "      <td>High income: nonOECD</td>\n",
       "      <td>Aruba</td>\n",
       "      <td>Enrolment in tertiary education, all programme...</td>\n",
       "      <td>SE.TER.ENRL</td>\n",
       "      <td>NaN</td>\n",
       "      <td>NaN</td>\n",
       "      <td>NaN</td>\n",
       "      <td>1.446000e+03</td>\n",
       "      <td>1.578000e+03</td>\n",
       "      <td>2.330000e+03</td>\n",
       "      <td>1166.0</td>\n",
       "      <td>NaN</td>\n",
       "    </tr>\n",
       "    <tr>\n",
       "      <th>2</th>\n",
       "      <td>ABW</td>\n",
       "      <td>Latin America &amp; Caribbean</td>\n",
       "      <td>High income: nonOECD</td>\n",
       "      <td>Aruba</td>\n",
       "      <td>Enrolment in upper secondary education, both s...</td>\n",
       "      <td>UIS.E.3</td>\n",
       "      <td>NaN</td>\n",
       "      <td>NaN</td>\n",
       "      <td>NaN</td>\n",
       "      <td>3.258000e+03</td>\n",
       "      <td>3.119000e+03</td>\n",
       "      <td>3.913000e+03</td>\n",
       "      <td>NaN</td>\n",
       "      <td>NaN</td>\n",
       "    </tr>\n",
       "    <tr>\n",
       "      <th>3</th>\n",
       "      <td>ABW</td>\n",
       "      <td>Latin America &amp; Caribbean</td>\n",
       "      <td>High income: nonOECD</td>\n",
       "      <td>Aruba</td>\n",
       "      <td>GDP at market prices (current US$)</td>\n",
       "      <td>NY.GDP.MKTP.CD</td>\n",
       "      <td>NaN</td>\n",
       "      <td>1.320670e+09</td>\n",
       "      <td>1.665363e+09</td>\n",
       "      <td>1.722799e+09</td>\n",
       "      <td>1.873453e+09</td>\n",
       "      <td>2.467704e+09</td>\n",
       "      <td>NaN</td>\n",
       "      <td>NaN</td>\n",
       "    </tr>\n",
       "    <tr>\n",
       "      <th>4</th>\n",
       "      <td>ABW</td>\n",
       "      <td>Latin America &amp; Caribbean</td>\n",
       "      <td>High income: nonOECD</td>\n",
       "      <td>Aruba</td>\n",
       "      <td>GDP per capita (current US$)</td>\n",
       "      <td>NY.GDP.PCAP.CD</td>\n",
       "      <td>NaN</td>\n",
       "      <td>1.644179e+04</td>\n",
       "      <td>1.908135e+04</td>\n",
       "      <td>1.935620e+04</td>\n",
       "      <td>2.062070e+04</td>\n",
       "      <td>2.427194e+04</td>\n",
       "      <td>NaN</td>\n",
       "      <td>NaN</td>\n",
       "    </tr>\n",
       "  </tbody>\n",
       "</table>\n",
       "</div>"
      ],
      "text/plain": [
       "  Country Code                     Region          Income Group Country Name  \\\n",
       "0          ABW  Latin America & Caribbean  High income: nonOECD        Aruba   \n",
       "1          ABW  Latin America & Caribbean  High income: nonOECD        Aruba   \n",
       "2          ABW  Latin America & Caribbean  High income: nonOECD        Aruba   \n",
       "3          ABW  Latin America & Caribbean  High income: nonOECD        Aruba   \n",
       "4          ABW  Latin America & Caribbean  High income: nonOECD        Aruba   \n",
       "\n",
       "                                      Indicator Name  Indicator Code  1990  \\\n",
       "0  Enrolment in post-secondary non-tertiary educa...         UIS.E.4   NaN   \n",
       "1  Enrolment in tertiary education, all programme...     SE.TER.ENRL   NaN   \n",
       "2  Enrolment in upper secondary education, both s...         UIS.E.3   NaN   \n",
       "3                 GDP at market prices (current US$)  NY.GDP.MKTP.CD   NaN   \n",
       "4                       GDP per capita (current US$)  NY.GDP.PCAP.CD   NaN   \n",
       "\n",
       "           1995          1998          1999          2000          2010  \\\n",
       "0           NaN           NaN  2.400000e+01  1.240000e+02           NaN   \n",
       "1           NaN           NaN  1.446000e+03  1.578000e+03  2.330000e+03   \n",
       "2           NaN           NaN  3.258000e+03  3.119000e+03  3.913000e+03   \n",
       "3  1.320670e+09  1.665363e+09  1.722799e+09  1.873453e+09  2.467704e+09   \n",
       "4  1.644179e+04  1.908135e+04  1.935620e+04  2.062070e+04  2.427194e+04   \n",
       "\n",
       "     2015  2016  \n",
       "0     NaN   NaN  \n",
       "1  1166.0   NaN  \n",
       "2     NaN   NaN  \n",
       "3     NaN   NaN  \n",
       "4     NaN   NaN  "
      ]
     },
     "execution_count": 301,
     "metadata": {},
     "output_type": "execute_result"
    }
   ],
   "source": [
    "dt = pd.merge(country_clean_select,data_select,how='left')\n",
    "dt.head()"
   ]
  },
  {
   "cell_type": "code",
   "execution_count": 302,
   "metadata": {
    "scrolled": true
   },
   "outputs": [
    {
     "data": {
      "text/html": [
       "<div>\n",
       "<style scoped>\n",
       "    .dataframe tbody tr th:only-of-type {\n",
       "        vertical-align: middle;\n",
       "    }\n",
       "\n",
       "    .dataframe tbody tr th {\n",
       "        vertical-align: top;\n",
       "    }\n",
       "\n",
       "    .dataframe thead th {\n",
       "        text-align: right;\n",
       "    }\n",
       "</style>\n",
       "<table border=\"1\" class=\"dataframe\">\n",
       "  <thead>\n",
       "    <tr style=\"text-align: right;\">\n",
       "      <th></th>\n",
       "      <th>Country Code</th>\n",
       "      <th>Region</th>\n",
       "      <th>Income Group</th>\n",
       "      <th>Country Name</th>\n",
       "      <th>Indicator Code</th>\n",
       "      <th>1990</th>\n",
       "      <th>1995</th>\n",
       "      <th>1998</th>\n",
       "      <th>1999</th>\n",
       "      <th>2000</th>\n",
       "      <th>2010</th>\n",
       "      <th>2015</th>\n",
       "      <th>2016</th>\n",
       "    </tr>\n",
       "    <tr>\n",
       "      <th>Indicator Name</th>\n",
       "      <th></th>\n",
       "      <th></th>\n",
       "      <th></th>\n",
       "      <th></th>\n",
       "      <th></th>\n",
       "      <th></th>\n",
       "      <th></th>\n",
       "      <th></th>\n",
       "      <th></th>\n",
       "      <th></th>\n",
       "      <th></th>\n",
       "      <th></th>\n",
       "      <th></th>\n",
       "    </tr>\n",
       "  </thead>\n",
       "  <tbody>\n",
       "    <tr>\n",
       "      <th>Enrolment in post-secondary non-tertiary education, both sexes (number)</th>\n",
       "      <td>214</td>\n",
       "      <td>214</td>\n",
       "      <td>214</td>\n",
       "      <td>214</td>\n",
       "      <td>214</td>\n",
       "      <td>0</td>\n",
       "      <td>0</td>\n",
       "      <td>0</td>\n",
       "      <td>79</td>\n",
       "      <td>85</td>\n",
       "      <td>70</td>\n",
       "      <td>2</td>\n",
       "      <td>0</td>\n",
       "    </tr>\n",
       "    <tr>\n",
       "      <th>Enrolment in tertiary education, all programmes, both sexes (number)</th>\n",
       "      <td>214</td>\n",
       "      <td>214</td>\n",
       "      <td>214</td>\n",
       "      <td>214</td>\n",
       "      <td>214</td>\n",
       "      <td>123</td>\n",
       "      <td>110</td>\n",
       "      <td>86</td>\n",
       "      <td>132</td>\n",
       "      <td>123</td>\n",
       "      <td>140</td>\n",
       "      <td>109</td>\n",
       "      <td>7</td>\n",
       "    </tr>\n",
       "    <tr>\n",
       "      <th>Enrolment in upper secondary education, both sexes (number)</th>\n",
       "      <td>214</td>\n",
       "      <td>214</td>\n",
       "      <td>214</td>\n",
       "      <td>214</td>\n",
       "      <td>214</td>\n",
       "      <td>0</td>\n",
       "      <td>0</td>\n",
       "      <td>0</td>\n",
       "      <td>149</td>\n",
       "      <td>147</td>\n",
       "      <td>149</td>\n",
       "      <td>7</td>\n",
       "      <td>0</td>\n",
       "    </tr>\n",
       "    <tr>\n",
       "      <th>GDP at market prices (current US$)</th>\n",
       "      <td>214</td>\n",
       "      <td>214</td>\n",
       "      <td>214</td>\n",
       "      <td>214</td>\n",
       "      <td>214</td>\n",
       "      <td>179</td>\n",
       "      <td>192</td>\n",
       "      <td>194</td>\n",
       "      <td>195</td>\n",
       "      <td>199</td>\n",
       "      <td>203</td>\n",
       "      <td>196</td>\n",
       "      <td>189</td>\n",
       "    </tr>\n",
       "    <tr>\n",
       "      <th>GDP per capita (current US$)</th>\n",
       "      <td>214</td>\n",
       "      <td>214</td>\n",
       "      <td>214</td>\n",
       "      <td>214</td>\n",
       "      <td>214</td>\n",
       "      <td>179</td>\n",
       "      <td>192</td>\n",
       "      <td>194</td>\n",
       "      <td>195</td>\n",
       "      <td>199</td>\n",
       "      <td>203</td>\n",
       "      <td>196</td>\n",
       "      <td>189</td>\n",
       "    </tr>\n",
       "    <tr>\n",
       "      <th>Internet users (per 100 people)</th>\n",
       "      <td>214</td>\n",
       "      <td>214</td>\n",
       "      <td>214</td>\n",
       "      <td>214</td>\n",
       "      <td>214</td>\n",
       "      <td>205</td>\n",
       "      <td>138</td>\n",
       "      <td>186</td>\n",
       "      <td>193</td>\n",
       "      <td>195</td>\n",
       "      <td>201</td>\n",
       "      <td>201</td>\n",
       "      <td>200</td>\n",
       "    </tr>\n",
       "    <tr>\n",
       "      <th>Personal computers (per 100 people)</th>\n",
       "      <td>214</td>\n",
       "      <td>214</td>\n",
       "      <td>214</td>\n",
       "      <td>214</td>\n",
       "      <td>214</td>\n",
       "      <td>61</td>\n",
       "      <td>109</td>\n",
       "      <td>150</td>\n",
       "      <td>157</td>\n",
       "      <td>161</td>\n",
       "      <td>0</td>\n",
       "      <td>0</td>\n",
       "      <td>0</td>\n",
       "    </tr>\n",
       "    <tr>\n",
       "      <th>Population growth (annual %)</th>\n",
       "      <td>214</td>\n",
       "      <td>214</td>\n",
       "      <td>214</td>\n",
       "      <td>214</td>\n",
       "      <td>214</td>\n",
       "      <td>211</td>\n",
       "      <td>211</td>\n",
       "      <td>212</td>\n",
       "      <td>214</td>\n",
       "      <td>214</td>\n",
       "      <td>214</td>\n",
       "      <td>209</td>\n",
       "      <td>209</td>\n",
       "    </tr>\n",
       "    <tr>\n",
       "      <th>Population, total</th>\n",
       "      <td>214</td>\n",
       "      <td>214</td>\n",
       "      <td>214</td>\n",
       "      <td>214</td>\n",
       "      <td>214</td>\n",
       "      <td>212</td>\n",
       "      <td>212</td>\n",
       "      <td>214</td>\n",
       "      <td>214</td>\n",
       "      <td>214</td>\n",
       "      <td>214</td>\n",
       "      <td>209</td>\n",
       "      <td>209</td>\n",
       "    </tr>\n",
       "  </tbody>\n",
       "</table>\n",
       "</div>"
      ],
      "text/plain": [
       "                                                    Country Code  Region  \\\n",
       "Indicator Name                                                             \n",
       "Enrolment in post-secondary non-tertiary educat...           214     214   \n",
       "Enrolment in tertiary education, all programmes...           214     214   \n",
       "Enrolment in upper secondary education, both se...           214     214   \n",
       "GDP at market prices (current US$)                           214     214   \n",
       "GDP per capita (current US$)                                 214     214   \n",
       "Internet users (per 100 people)                              214     214   \n",
       "Personal computers (per 100 people)                          214     214   \n",
       "Population growth (annual %)                                 214     214   \n",
       "Population, total                                            214     214   \n",
       "\n",
       "                                                    Income Group  \\\n",
       "Indicator Name                                                     \n",
       "Enrolment in post-secondary non-tertiary educat...           214   \n",
       "Enrolment in tertiary education, all programmes...           214   \n",
       "Enrolment in upper secondary education, both se...           214   \n",
       "GDP at market prices (current US$)                           214   \n",
       "GDP per capita (current US$)                                 214   \n",
       "Internet users (per 100 people)                              214   \n",
       "Personal computers (per 100 people)                          214   \n",
       "Population growth (annual %)                                 214   \n",
       "Population, total                                            214   \n",
       "\n",
       "                                                    Country Name  \\\n",
       "Indicator Name                                                     \n",
       "Enrolment in post-secondary non-tertiary educat...           214   \n",
       "Enrolment in tertiary education, all programmes...           214   \n",
       "Enrolment in upper secondary education, both se...           214   \n",
       "GDP at market prices (current US$)                           214   \n",
       "GDP per capita (current US$)                                 214   \n",
       "Internet users (per 100 people)                              214   \n",
       "Personal computers (per 100 people)                          214   \n",
       "Population growth (annual %)                                 214   \n",
       "Population, total                                            214   \n",
       "\n",
       "                                                    Indicator Code  1990  \\\n",
       "Indicator Name                                                             \n",
       "Enrolment in post-secondary non-tertiary educat...             214     0   \n",
       "Enrolment in tertiary education, all programmes...             214   123   \n",
       "Enrolment in upper secondary education, both se...             214     0   \n",
       "GDP at market prices (current US$)                             214   179   \n",
       "GDP per capita (current US$)                                   214   179   \n",
       "Internet users (per 100 people)                                214   205   \n",
       "Personal computers (per 100 people)                            214    61   \n",
       "Population growth (annual %)                                   214   211   \n",
       "Population, total                                              214   212   \n",
       "\n",
       "                                                    1995  1998  1999  2000  \\\n",
       "Indicator Name                                                               \n",
       "Enrolment in post-secondary non-tertiary educat...     0     0    79    85   \n",
       "Enrolment in tertiary education, all programmes...   110    86   132   123   \n",
       "Enrolment in upper secondary education, both se...     0     0   149   147   \n",
       "GDP at market prices (current US$)                   192   194   195   199   \n",
       "GDP per capita (current US$)                         192   194   195   199   \n",
       "Internet users (per 100 people)                      138   186   193   195   \n",
       "Personal computers (per 100 people)                  109   150   157   161   \n",
       "Population growth (annual %)                         211   212   214   214   \n",
       "Population, total                                    212   214   214   214   \n",
       "\n",
       "                                                    2010  2015  2016  \n",
       "Indicator Name                                                        \n",
       "Enrolment in post-secondary non-tertiary educat...    70     2     0  \n",
       "Enrolment in tertiary education, all programmes...   140   109     7  \n",
       "Enrolment in upper secondary education, both se...   149     7     0  \n",
       "GDP at market prices (current US$)                   203   196   189  \n",
       "GDP per capita (current US$)                         203   196   189  \n",
       "Internet users (per 100 people)                      201   201   200  \n",
       "Personal computers (per 100 people)                    0     0     0  \n",
       "Population growth (annual %)                         214   209   209  \n",
       "Population, total                                    214   209   209  "
      ]
     },
     "execution_count": 302,
     "metadata": {},
     "output_type": "execute_result"
    }
   ],
   "source": [
    "dt.groupby('Indicator Name').count()"
   ]
  },
  {
   "cell_type": "code",
   "execution_count": null,
   "metadata": {},
   "outputs": [],
   "source": []
  },
  {
   "cell_type": "code",
   "execution_count": null,
   "metadata": {},
   "outputs": [],
   "source": []
  },
  {
   "cell_type": "code",
   "execution_count": 329,
   "metadata": {
    "scrolled": false
   },
   "outputs": [
    {
     "data": {
      "text/html": [
       "<div>\n",
       "<style scoped>\n",
       "    .dataframe tbody tr th:only-of-type {\n",
       "        vertical-align: middle;\n",
       "    }\n",
       "\n",
       "    .dataframe tbody tr th {\n",
       "        vertical-align: top;\n",
       "    }\n",
       "\n",
       "    .dataframe thead th {\n",
       "        text-align: right;\n",
       "    }\n",
       "</style>\n",
       "<table border=\"1\" class=\"dataframe\">\n",
       "  <thead>\n",
       "    <tr style=\"text-align: right;\">\n",
       "      <th></th>\n",
       "      <th>1990</th>\n",
       "      <th>1995</th>\n",
       "      <th>1998</th>\n",
       "      <th>1999</th>\n",
       "      <th>2000</th>\n",
       "      <th>2010</th>\n",
       "      <th>2015</th>\n",
       "      <th>2016</th>\n",
       "    </tr>\n",
       "  </thead>\n",
       "  <tbody>\n",
       "    <tr>\n",
       "      <th>0</th>\n",
       "      <td>NaN</td>\n",
       "      <td>NaN</td>\n",
       "      <td>NaN</td>\n",
       "      <td>24.0</td>\n",
       "      <td>124.0</td>\n",
       "      <td>NaN</td>\n",
       "      <td>NaN</td>\n",
       "      <td>NaN</td>\n",
       "    </tr>\n",
       "    <tr>\n",
       "      <th>1</th>\n",
       "      <td>NaN</td>\n",
       "      <td>NaN</td>\n",
       "      <td>NaN</td>\n",
       "      <td>1446.0</td>\n",
       "      <td>1578.0</td>\n",
       "      <td>2330.0</td>\n",
       "      <td>1166.0</td>\n",
       "      <td>NaN</td>\n",
       "    </tr>\n",
       "    <tr>\n",
       "      <th>2</th>\n",
       "      <td>NaN</td>\n",
       "      <td>NaN</td>\n",
       "      <td>NaN</td>\n",
       "      <td>3258.0</td>\n",
       "      <td>3119.0</td>\n",
       "      <td>3913.0</td>\n",
       "      <td>NaN</td>\n",
       "      <td>NaN</td>\n",
       "    </tr>\n",
       "  </tbody>\n",
       "</table>\n",
       "</div>"
      ],
      "text/plain": [
       "   1990  1995  1998    1999    2000    2010    2015  2016\n",
       "0   NaN   NaN   NaN    24.0   124.0     NaN     NaN   NaN\n",
       "1   NaN   NaN   NaN  1446.0  1578.0  2330.0  1166.0   NaN\n",
       "2   NaN   NaN   NaN  3258.0  3119.0  3913.0     NaN   NaN"
      ]
     },
     "execution_count": 329,
     "metadata": {},
     "output_type": "execute_result"
    }
   ],
   "source": [
    "dt2 = dt.loc[:,'1990':'2016']\n",
    "row_indices = dt2.index\n",
    "column_names = dt2.columns\n",
    "dt2.head(3)"
   ]
  },
  {
   "cell_type": "markdown",
   "metadata": {},
   "source": [
    "## Imputation KNN"
   ]
  },
  {
   "cell_type": "code",
   "execution_count": 308,
   "metadata": {},
   "outputs": [],
   "source": [
    "# import the KNNimputer class\n",
    "from sklearn.impute import KNNImputer"
   ]
  },
  {
   "cell_type": "code",
   "execution_count": 330,
   "metadata": {},
   "outputs": [
    {
     "data": {
      "text/plain": [
       "array([[2.99673955e+00, 2.02329632e+01, 2.89376559e+01, ...,\n",
       "        2.95166667e+01, 4.13986113e+01, 4.34759540e+01],\n",
       "       [8.95175112e+02, 7.58384418e+02, 1.03192459e+03, ...,\n",
       "        2.33000000e+03, 1.16600000e+03, 1.70692874e+03],\n",
       "       [4.79801433e+03, 2.41745480e+03, 2.87525308e+03, ...,\n",
       "        3.91300000e+03, 1.04476116e+04, 4.74430429e+03],\n",
       "       ...,\n",
       "       [1.91172020e-02, 2.83520646e-01, 1.06300339e+00, ...,\n",
       "        3.16666667e+00, 1.61600000e+01, 1.90239920e+01],\n",
       "       [2.79394702e+00, 1.81308470e+00, 1.55299407e+00, ...,\n",
       "        1.97675598e+00, 2.34564297e+00, 2.33606955e+00],\n",
       "       [1.01831130e+07, 1.13203460e+07, 1.18932720e+07, ...,\n",
       "        1.40863170e+07, 1.57774510e+07, 1.61503620e+07]])"
      ]
     },
     "execution_count": 330,
     "metadata": {},
     "output_type": "execute_result"
    }
   ],
   "source": [
    "imputer = KNNImputer(n_neighbors=3, weights=\"uniform\")\n",
    "array_impute = imputer.fit_transform(dt2)\n",
    "array_impute"
   ]
  },
  {
   "cell_type": "code",
   "execution_count": 331,
   "metadata": {},
   "outputs": [
    {
     "data": {
      "text/html": [
       "<div>\n",
       "<style scoped>\n",
       "    .dataframe tbody tr th:only-of-type {\n",
       "        vertical-align: middle;\n",
       "    }\n",
       "\n",
       "    .dataframe tbody tr th {\n",
       "        vertical-align: top;\n",
       "    }\n",
       "\n",
       "    .dataframe thead th {\n",
       "        text-align: right;\n",
       "    }\n",
       "</style>\n",
       "<table border=\"1\" class=\"dataframe\">\n",
       "  <thead>\n",
       "    <tr style=\"text-align: right;\">\n",
       "      <th></th>\n",
       "      <th>1990</th>\n",
       "      <th>1995</th>\n",
       "      <th>1998</th>\n",
       "      <th>1999</th>\n",
       "      <th>2000</th>\n",
       "      <th>2010</th>\n",
       "      <th>2015</th>\n",
       "      <th>2016</th>\n",
       "    </tr>\n",
       "  </thead>\n",
       "  <tbody>\n",
       "    <tr>\n",
       "      <th>0</th>\n",
       "      <td>2.996740e+00</td>\n",
       "      <td>2.023296e+01</td>\n",
       "      <td>2.893766e+01</td>\n",
       "      <td>2.400000e+01</td>\n",
       "      <td>1.240000e+02</td>\n",
       "      <td>2.951667e+01</td>\n",
       "      <td>4.139861e+01</td>\n",
       "      <td>4.347595e+01</td>\n",
       "    </tr>\n",
       "    <tr>\n",
       "      <th>1</th>\n",
       "      <td>8.951751e+02</td>\n",
       "      <td>7.583844e+02</td>\n",
       "      <td>1.031925e+03</td>\n",
       "      <td>1.446000e+03</td>\n",
       "      <td>1.578000e+03</td>\n",
       "      <td>2.330000e+03</td>\n",
       "      <td>1.166000e+03</td>\n",
       "      <td>1.706929e+03</td>\n",
       "    </tr>\n",
       "    <tr>\n",
       "      <th>2</th>\n",
       "      <td>4.798014e+03</td>\n",
       "      <td>2.417455e+03</td>\n",
       "      <td>2.875253e+03</td>\n",
       "      <td>3.258000e+03</td>\n",
       "      <td>3.119000e+03</td>\n",
       "      <td>3.913000e+03</td>\n",
       "      <td>1.044761e+04</td>\n",
       "      <td>4.744304e+03</td>\n",
       "    </tr>\n",
       "    <tr>\n",
       "      <th>3</th>\n",
       "      <td>1.328141e+09</td>\n",
       "      <td>1.320670e+09</td>\n",
       "      <td>1.665363e+09</td>\n",
       "      <td>1.722799e+09</td>\n",
       "      <td>1.873453e+09</td>\n",
       "      <td>2.467704e+09</td>\n",
       "      <td>3.566374e+09</td>\n",
       "      <td>3.987382e+09</td>\n",
       "    </tr>\n",
       "    <tr>\n",
       "      <th>4</th>\n",
       "      <td>1.336571e+04</td>\n",
       "      <td>1.644179e+04</td>\n",
       "      <td>1.908135e+04</td>\n",
       "      <td>1.935620e+04</td>\n",
       "      <td>2.062070e+04</td>\n",
       "      <td>2.427194e+04</td>\n",
       "      <td>2.867845e+04</td>\n",
       "      <td>2.915474e+04</td>\n",
       "    </tr>\n",
       "    <tr>\n",
       "      <th>...</th>\n",
       "      <td>...</td>\n",
       "      <td>...</td>\n",
       "      <td>...</td>\n",
       "      <td>...</td>\n",
       "      <td>...</td>\n",
       "      <td>...</td>\n",
       "      <td>...</td>\n",
       "      <td>...</td>\n",
       "    </tr>\n",
       "    <tr>\n",
       "      <th>1921</th>\n",
       "      <td>8.625866e+02</td>\n",
       "      <td>6.281849e+02</td>\n",
       "      <td>5.382849e+02</td>\n",
       "      <td>5.684440e+02</td>\n",
       "      <td>5.473589e+02</td>\n",
       "      <td>7.199795e+02</td>\n",
       "      <td>1.033416e+03</td>\n",
       "      <td>1.029077e+03</td>\n",
       "    </tr>\n",
       "    <tr>\n",
       "      <th>1922</th>\n",
       "      <td>0.000000e+00</td>\n",
       "      <td>7.683540e-03</td>\n",
       "      <td>8.164848e-02</td>\n",
       "      <td>1.616755e-01</td>\n",
       "      <td>4.014335e-01</td>\n",
       "      <td>6.400000e+00</td>\n",
       "      <td>2.274282e+01</td>\n",
       "      <td>2.311999e+01</td>\n",
       "    </tr>\n",
       "    <tr>\n",
       "      <th>1923</th>\n",
       "      <td>1.911720e-02</td>\n",
       "      <td>2.835206e-01</td>\n",
       "      <td>1.063003e+00</td>\n",
       "      <td>1.211169e+00</td>\n",
       "      <td>1.559544e+00</td>\n",
       "      <td>3.166667e+00</td>\n",
       "      <td>1.616000e+01</td>\n",
       "      <td>1.902399e+01</td>\n",
       "    </tr>\n",
       "    <tr>\n",
       "      <th>1924</th>\n",
       "      <td>2.793947e+00</td>\n",
       "      <td>1.813085e+00</td>\n",
       "      <td>1.552994e+00</td>\n",
       "      <td>1.429746e+00</td>\n",
       "      <td>1.298782e+00</td>\n",
       "      <td>1.976756e+00</td>\n",
       "      <td>2.345643e+00</td>\n",
       "      <td>2.336070e+00</td>\n",
       "    </tr>\n",
       "    <tr>\n",
       "      <th>1925</th>\n",
       "      <td>1.018311e+07</td>\n",
       "      <td>1.132035e+07</td>\n",
       "      <td>1.189327e+07</td>\n",
       "      <td>1.206454e+07</td>\n",
       "      <td>1.222225e+07</td>\n",
       "      <td>1.408632e+07</td>\n",
       "      <td>1.577745e+07</td>\n",
       "      <td>1.615036e+07</td>\n",
       "    </tr>\n",
       "  </tbody>\n",
       "</table>\n",
       "<p>1926 rows × 8 columns</p>\n",
       "</div>"
      ],
      "text/plain": [
       "              1990          1995          1998          1999          2000  \\\n",
       "0     2.996740e+00  2.023296e+01  2.893766e+01  2.400000e+01  1.240000e+02   \n",
       "1     8.951751e+02  7.583844e+02  1.031925e+03  1.446000e+03  1.578000e+03   \n",
       "2     4.798014e+03  2.417455e+03  2.875253e+03  3.258000e+03  3.119000e+03   \n",
       "3     1.328141e+09  1.320670e+09  1.665363e+09  1.722799e+09  1.873453e+09   \n",
       "4     1.336571e+04  1.644179e+04  1.908135e+04  1.935620e+04  2.062070e+04   \n",
       "...            ...           ...           ...           ...           ...   \n",
       "1921  8.625866e+02  6.281849e+02  5.382849e+02  5.684440e+02  5.473589e+02   \n",
       "1922  0.000000e+00  7.683540e-03  8.164848e-02  1.616755e-01  4.014335e-01   \n",
       "1923  1.911720e-02  2.835206e-01  1.063003e+00  1.211169e+00  1.559544e+00   \n",
       "1924  2.793947e+00  1.813085e+00  1.552994e+00  1.429746e+00  1.298782e+00   \n",
       "1925  1.018311e+07  1.132035e+07  1.189327e+07  1.206454e+07  1.222225e+07   \n",
       "\n",
       "              2010          2015          2016  \n",
       "0     2.951667e+01  4.139861e+01  4.347595e+01  \n",
       "1     2.330000e+03  1.166000e+03  1.706929e+03  \n",
       "2     3.913000e+03  1.044761e+04  4.744304e+03  \n",
       "3     2.467704e+09  3.566374e+09  3.987382e+09  \n",
       "4     2.427194e+04  2.867845e+04  2.915474e+04  \n",
       "...            ...           ...           ...  \n",
       "1921  7.199795e+02  1.033416e+03  1.029077e+03  \n",
       "1922  6.400000e+00  2.274282e+01  2.311999e+01  \n",
       "1923  3.166667e+00  1.616000e+01  1.902399e+01  \n",
       "1924  1.976756e+00  2.345643e+00  2.336070e+00  \n",
       "1925  1.408632e+07  1.577745e+07  1.615036e+07  \n",
       "\n",
       "[1926 rows x 8 columns]"
      ]
     },
     "execution_count": 331,
     "metadata": {},
     "output_type": "execute_result"
    }
   ],
   "source": [
    "dt_impute = pd.DataFrame(array_impute, index=row_indices, columns=column_names) # Transformation en df \n",
    "dt_impute"
   ]
  },
  {
   "cell_type": "code",
   "execution_count": 342,
   "metadata": {
    "scrolled": true
   },
   "outputs": [
    {
     "data": {
      "text/html": [
       "<div>\n",
       "<style scoped>\n",
       "    .dataframe tbody tr th:only-of-type {\n",
       "        vertical-align: middle;\n",
       "    }\n",
       "\n",
       "    .dataframe tbody tr th {\n",
       "        vertical-align: top;\n",
       "    }\n",
       "\n",
       "    .dataframe thead th {\n",
       "        text-align: right;\n",
       "    }\n",
       "</style>\n",
       "<table border=\"1\" class=\"dataframe\">\n",
       "  <thead>\n",
       "    <tr style=\"text-align: right;\">\n",
       "      <th></th>\n",
       "      <th>Country Code</th>\n",
       "      <th>Region</th>\n",
       "      <th>Income Group</th>\n",
       "      <th>Country Name</th>\n",
       "      <th>Indicator Name</th>\n",
       "      <th>Indicator Code</th>\n",
       "      <th>1990</th>\n",
       "      <th>1995</th>\n",
       "      <th>1998</th>\n",
       "      <th>1999</th>\n",
       "      <th>2000</th>\n",
       "      <th>2010</th>\n",
       "      <th>2015</th>\n",
       "      <th>2016</th>\n",
       "    </tr>\n",
       "  </thead>\n",
       "  <tbody>\n",
       "    <tr>\n",
       "      <th>0</th>\n",
       "      <td>ABW</td>\n",
       "      <td>Latin America &amp; Caribbean</td>\n",
       "      <td>High income: nonOECD</td>\n",
       "      <td>Aruba</td>\n",
       "      <td>Enrolment in post-secondary non-tertiary educa...</td>\n",
       "      <td>UIS.E.4</td>\n",
       "      <td>2.996740e+00</td>\n",
       "      <td>2.023296e+01</td>\n",
       "      <td>2.893766e+01</td>\n",
       "      <td>2.400000e+01</td>\n",
       "      <td>1.240000e+02</td>\n",
       "      <td>2.951667e+01</td>\n",
       "      <td>4.139861e+01</td>\n",
       "      <td>4.347595e+01</td>\n",
       "    </tr>\n",
       "    <tr>\n",
       "      <th>1</th>\n",
       "      <td>ABW</td>\n",
       "      <td>Latin America &amp; Caribbean</td>\n",
       "      <td>High income: nonOECD</td>\n",
       "      <td>Aruba</td>\n",
       "      <td>Enrolment in tertiary education, all programme...</td>\n",
       "      <td>SE.TER.ENRL</td>\n",
       "      <td>8.951751e+02</td>\n",
       "      <td>7.583844e+02</td>\n",
       "      <td>1.031925e+03</td>\n",
       "      <td>1.446000e+03</td>\n",
       "      <td>1.578000e+03</td>\n",
       "      <td>2.330000e+03</td>\n",
       "      <td>1.166000e+03</td>\n",
       "      <td>1.706929e+03</td>\n",
       "    </tr>\n",
       "    <tr>\n",
       "      <th>2</th>\n",
       "      <td>ABW</td>\n",
       "      <td>Latin America &amp; Caribbean</td>\n",
       "      <td>High income: nonOECD</td>\n",
       "      <td>Aruba</td>\n",
       "      <td>Enrolment in upper secondary education, both s...</td>\n",
       "      <td>UIS.E.3</td>\n",
       "      <td>4.798014e+03</td>\n",
       "      <td>2.417455e+03</td>\n",
       "      <td>2.875253e+03</td>\n",
       "      <td>3.258000e+03</td>\n",
       "      <td>3.119000e+03</td>\n",
       "      <td>3.913000e+03</td>\n",
       "      <td>1.044761e+04</td>\n",
       "      <td>4.744304e+03</td>\n",
       "    </tr>\n",
       "    <tr>\n",
       "      <th>3</th>\n",
       "      <td>ABW</td>\n",
       "      <td>Latin America &amp; Caribbean</td>\n",
       "      <td>High income: nonOECD</td>\n",
       "      <td>Aruba</td>\n",
       "      <td>GDP at market prices (current US$)</td>\n",
       "      <td>NY.GDP.MKTP.CD</td>\n",
       "      <td>1.328141e+09</td>\n",
       "      <td>1.320670e+09</td>\n",
       "      <td>1.665363e+09</td>\n",
       "      <td>1.722799e+09</td>\n",
       "      <td>1.873453e+09</td>\n",
       "      <td>2.467704e+09</td>\n",
       "      <td>3.566374e+09</td>\n",
       "      <td>3.987382e+09</td>\n",
       "    </tr>\n",
       "    <tr>\n",
       "      <th>4</th>\n",
       "      <td>ABW</td>\n",
       "      <td>Latin America &amp; Caribbean</td>\n",
       "      <td>High income: nonOECD</td>\n",
       "      <td>Aruba</td>\n",
       "      <td>GDP per capita (current US$)</td>\n",
       "      <td>NY.GDP.PCAP.CD</td>\n",
       "      <td>1.336571e+04</td>\n",
       "      <td>1.644179e+04</td>\n",
       "      <td>1.908135e+04</td>\n",
       "      <td>1.935620e+04</td>\n",
       "      <td>2.062070e+04</td>\n",
       "      <td>2.427194e+04</td>\n",
       "      <td>2.867845e+04</td>\n",
       "      <td>2.915474e+04</td>\n",
       "    </tr>\n",
       "  </tbody>\n",
       "</table>\n",
       "</div>"
      ],
      "text/plain": [
       "  Country Code                     Region          Income Group Country Name  \\\n",
       "0          ABW  Latin America & Caribbean  High income: nonOECD        Aruba   \n",
       "1          ABW  Latin America & Caribbean  High income: nonOECD        Aruba   \n",
       "2          ABW  Latin America & Caribbean  High income: nonOECD        Aruba   \n",
       "3          ABW  Latin America & Caribbean  High income: nonOECD        Aruba   \n",
       "4          ABW  Latin America & Caribbean  High income: nonOECD        Aruba   \n",
       "\n",
       "                                      Indicator Name  Indicator Code  \\\n",
       "0  Enrolment in post-secondary non-tertiary educa...         UIS.E.4   \n",
       "1  Enrolment in tertiary education, all programme...     SE.TER.ENRL   \n",
       "2  Enrolment in upper secondary education, both s...         UIS.E.3   \n",
       "3                 GDP at market prices (current US$)  NY.GDP.MKTP.CD   \n",
       "4                       GDP per capita (current US$)  NY.GDP.PCAP.CD   \n",
       "\n",
       "           1990          1995          1998          1999          2000  \\\n",
       "0  2.996740e+00  2.023296e+01  2.893766e+01  2.400000e+01  1.240000e+02   \n",
       "1  8.951751e+02  7.583844e+02  1.031925e+03  1.446000e+03  1.578000e+03   \n",
       "2  4.798014e+03  2.417455e+03  2.875253e+03  3.258000e+03  3.119000e+03   \n",
       "3  1.328141e+09  1.320670e+09  1.665363e+09  1.722799e+09  1.873453e+09   \n",
       "4  1.336571e+04  1.644179e+04  1.908135e+04  1.935620e+04  2.062070e+04   \n",
       "\n",
       "           2010          2015          2016  \n",
       "0  2.951667e+01  4.139861e+01  4.347595e+01  \n",
       "1  2.330000e+03  1.166000e+03  1.706929e+03  \n",
       "2  3.913000e+03  1.044761e+04  4.744304e+03  \n",
       "3  2.467704e+09  3.566374e+09  3.987382e+09  \n",
       "4  2.427194e+04  2.867845e+04  2.915474e+04  "
      ]
     },
     "execution_count": 342,
     "metadata": {},
     "output_type": "execute_result"
    }
   ],
   "source": [
    "temp = dt\n",
    "temp.loc[:,\"1990\":\"2016\"] = dt_impute\n",
    "temp.head()"
   ]
  },
  {
   "cell_type": "markdown",
   "metadata": {},
   "source": [
    "A faire:\n",
    "- Normaliser avec SK learn scaler()\n",
    "- Mettre à jour commentaire, mise en page\n",
    "- K-means ? regression linéaire ? Z score ?"
   ]
  }
 ],
 "metadata": {
  "kernelspec": {
   "display_name": "Python 3",
   "language": "python",
   "name": "python3"
  },
  "language_info": {
   "codemirror_mode": {
    "name": "ipython",
    "version": 3
   },
   "file_extension": ".py",
   "mimetype": "text/x-python",
   "name": "python",
   "nbconvert_exporter": "python",
   "pygments_lexer": "ipython3",
   "version": "3.8.5"
  }
 },
 "nbformat": 4,
 "nbformat_minor": 4
}
