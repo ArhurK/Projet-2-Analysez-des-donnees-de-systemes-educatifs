{
 "cells": [
  {
   "cell_type": "markdown",
   "metadata": {},
   "source": [
    "# Projet 2 Analysez des données de systèmes éducatifs"
   ]
  },
  {
   "cell_type": "markdown",
   "metadata": {},
   "source": [
    "Projet 2 du parcours Data Scientist chez Openclassrooms"
   ]
  },
  {
   "cell_type": "markdown",
   "metadata": {},
   "source": [
    "### Sommaire\n",
    "\n",
    "* [Analyse exploratoire](#Première-Partie-:-analyse-exploratoire)\n",
    "    * [Contexte](#Contexte)\n",
    "    * [Fichiers](#Fichiers)\n",
    "        * [I. fichier EdStatsCountry](#I.-fichier-EdStatsCountry)\n",
    "        * [II. Fichier EdStatsCountrySeries](#II.-Fichier-EdStatsCountrySeries)\n",
    "        * [III.EdStatsData](#III.-EdStatsData)\n",
    "        * [IV.  fichier EdStatsFootNote](#IV.--fichier-EdStatsFootNote)\n",
    "        * [V. fichier EdStatsSeries](#V.-fichier-EdStatsSeries)\n",
    "* [Nettoyage](#Nettoyage)  \n",
    "    * [Imputation par la dernière valeure observée](#Imputation-par-la-dernière-valeure-observée)\n",
    "    * [imputation KNN](#imputation-KNN)\n",
    "* [Analyse](#Analyse)\n",
    "    * [Matrice des corrélations](#Matrice-des-corrélations)\n",
    "    * [Rang](#Rang)\n",
    "    * [Pays candidats](#Pays-candidats)\n",
    "    * [Prévisions](#Prévisions)"
   ]
  },
  {
   "cell_type": "markdown",
   "metadata": {},
   "source": [
    "#  Première Partie : analyse exploratoire"
   ]
  },
  {
   "cell_type": "markdown",
   "metadata": {},
   "source": [
    "## Contexte"
   ]
  },
  {
   "cell_type": "markdown",
   "metadata": {},
   "source": [
    "Pour la pré-analyse, pourrais-tu :\n",
    "\n",
    "- Valider la qualité de ce jeu de données (comporte-t-il beaucoup de données manquantes, dupliquées ?)\n",
    "- Décrire les informations contenues dans le jeu de données (nombre de colonnes ? nombre de lignes ?)\n",
    "- Sélectionner les informations qui semblent pertinentes pour répondre à la problématique (quelles sont les colonnes contenant des informations qui peuvent être utiles pour répondre à la problématique de l’entreprise ?)\n",
    "- Déterminer des ordres de grandeurs des indicateurs statistiques classiques pour les différentes zones géographiques et pays du monde (moyenne/médiane/écart-type par pays et par continent ou bloc géographique)"
   ]
  },
  {
   "cell_type": "markdown",
   "metadata": {},
   "source": [
    "Nous disposons de 5 fichiers csv.\n",
    "\n",
    "- EdStatsCountry \n",
    "- EdStatsCountry-Series\n",
    "- EdStatsData\n",
    "- EdStatsFootNote\n",
    "- EdStatsSeries\n",
    "\n",
    "Ces fichiers proviennent de la Banque Mondiale.\n",
    "https://datatopics.worldbank.org/education/indicators"
   ]
  },
  {
   "cell_type": "code",
   "execution_count": 1,
   "metadata": {},
   "outputs": [],
   "source": [
    "import pandas as pd\n",
    "import numpy as np \n",
    "import matplotlib.pyplot as plt \n",
    "import seaborn as sns\n",
    "sns.set_theme(style=\"darkgrid\")\n"
   ]
  },
  {
   "cell_type": "markdown",
   "metadata": {},
   "source": [
    "## Fichiers "
   ]
  },
  {
   "cell_type": "markdown",
   "metadata": {},
   "source": [
    "### I. fichier EdStatsCountry"
   ]
  },
  {
   "cell_type": "code",
   "execution_count": 2,
   "metadata": {
    "scrolled": true
   },
   "outputs": [
    {
     "data": {
      "text/plain": [
       "Index(['Country Code', 'Short Name', 'Table Name', 'Long Name', '2-alpha code',\n",
       "       'Currency Unit', 'Special Notes', 'Region', 'Income Group', 'WB-2 code',\n",
       "       'National accounts base year', 'National accounts reference year',\n",
       "       'SNA price valuation', 'Lending category', 'Other groups',\n",
       "       'System of National Accounts', 'Alternative conversion factor',\n",
       "       'PPP survey year', 'Balance of Payments Manual in use',\n",
       "       'External debt Reporting status', 'System of trade',\n",
       "       'Government Accounting concept', 'IMF data dissemination standard',\n",
       "       'Latest population census', 'Latest household survey',\n",
       "       'Source of most recent Income and expenditure data',\n",
       "       'Vital registration complete', 'Latest agricultural census',\n",
       "       'Latest industrial data', 'Latest trade data',\n",
       "       'Latest water withdrawal data', 'Unnamed: 31'],\n",
       "      dtype='object')"
      ]
     },
     "execution_count": 2,
     "metadata": {},
     "output_type": "execute_result"
    }
   ],
   "source": [
    "## I. EdStatsCountry\n",
    "country = pd.read_csv('EdStatsCountry.csv')\n",
    "country.columns"
   ]
  },
  {
   "cell_type": "markdown",
   "metadata": {},
   "source": [
    "Variables d'intérets : \n",
    "- Clés pays :  Country Code \n",
    "- Region & Income Group : On cherche des clients potentiels/ des marchés sinificatifs: supprimer les pays low income ?\n",
    "- IMF data dissemination standard : soit les données du FMI, voir lien suivant https://dsbb.imf.org/\n",
    "- Latest population census: Pertinant ou non de prendre en compte les données de population.\n",
    "- Différentes sources industrielles, commerces, accès/qualité eau.\n",
    "- On a la dernière année d'enquête sur différents thèmes\n"
   ]
  },
  {
   "cell_type": "code",
   "execution_count": 3,
   "metadata": {},
   "outputs": [
    {
     "data": {
      "text/plain": [
       "array([nan, 'General Data Dissemination System (GDDS)',\n",
       "       'Special Data Dissemination Standard (SDDS)'], dtype=object)"
      ]
     },
     "execution_count": 3,
     "metadata": {},
     "output_type": "execute_result"
    }
   ],
   "source": [
    "country['IMF data dissemination standard'].unique()"
   ]
  },
  {
   "cell_type": "code",
   "execution_count": 4,
   "metadata": {},
   "outputs": [
    {
     "data": {
      "text/plain": [
       "array(['Country uses the 1993 System of National Accounts methodology.',\n",
       "       'Country uses the 1968 System of National Accounts methodology.',\n",
       "       nan,\n",
       "       'Country uses the 2008 System of National Accounts methodology.'],\n",
       "      dtype=object)"
      ]
     },
     "execution_count": 4,
     "metadata": {},
     "output_type": "execute_result"
    }
   ],
   "source": [
    "country['System of National Accounts'].unique()"
   ]
  },
  {
   "cell_type": "code",
   "execution_count": 5,
   "metadata": {
    "scrolled": true
   },
   "outputs": [
    {
     "data": {
      "text/html": [
       "<div>\n",
       "<style scoped>\n",
       "    .dataframe tbody tr th:only-of-type {\n",
       "        vertical-align: middle;\n",
       "    }\n",
       "\n",
       "    .dataframe tbody tr th {\n",
       "        vertical-align: top;\n",
       "    }\n",
       "\n",
       "    .dataframe thead th {\n",
       "        text-align: right;\n",
       "    }\n",
       "</style>\n",
       "<table border=\"1\" class=\"dataframe\">\n",
       "  <thead>\n",
       "    <tr style=\"text-align: right;\">\n",
       "      <th></th>\n",
       "      <th>Country Code</th>\n",
       "      <th>Short Name</th>\n",
       "      <th>Table Name</th>\n",
       "      <th>Long Name</th>\n",
       "      <th>2-alpha code</th>\n",
       "      <th>Currency Unit</th>\n",
       "      <th>Special Notes</th>\n",
       "      <th>Region</th>\n",
       "      <th>Income Group</th>\n",
       "      <th>WB-2 code</th>\n",
       "      <th>...</th>\n",
       "      <th>IMF data dissemination standard</th>\n",
       "      <th>Latest population census</th>\n",
       "      <th>Latest household survey</th>\n",
       "      <th>Source of most recent Income and expenditure data</th>\n",
       "      <th>Vital registration complete</th>\n",
       "      <th>Latest agricultural census</th>\n",
       "      <th>Latest industrial data</th>\n",
       "      <th>Latest trade data</th>\n",
       "      <th>Latest water withdrawal data</th>\n",
       "      <th>Unnamed: 31</th>\n",
       "    </tr>\n",
       "  </thead>\n",
       "  <tbody>\n",
       "    <tr>\n",
       "      <th>0</th>\n",
       "      <td>ABW</td>\n",
       "      <td>Aruba</td>\n",
       "      <td>Aruba</td>\n",
       "      <td>Aruba</td>\n",
       "      <td>AW</td>\n",
       "      <td>Aruban florin</td>\n",
       "      <td>SNA data for 2000-2011 are updated from offici...</td>\n",
       "      <td>Latin America &amp; Caribbean</td>\n",
       "      <td>High income: nonOECD</td>\n",
       "      <td>AW</td>\n",
       "      <td>...</td>\n",
       "      <td>NaN</td>\n",
       "      <td>2010</td>\n",
       "      <td>NaN</td>\n",
       "      <td>NaN</td>\n",
       "      <td>Yes</td>\n",
       "      <td>NaN</td>\n",
       "      <td>NaN</td>\n",
       "      <td>2012.0</td>\n",
       "      <td>NaN</td>\n",
       "      <td>NaN</td>\n",
       "    </tr>\n",
       "    <tr>\n",
       "      <th>1</th>\n",
       "      <td>AFG</td>\n",
       "      <td>Afghanistan</td>\n",
       "      <td>Afghanistan</td>\n",
       "      <td>Islamic State of Afghanistan</td>\n",
       "      <td>AF</td>\n",
       "      <td>Afghan afghani</td>\n",
       "      <td>Fiscal year end: March 20; reporting period fo...</td>\n",
       "      <td>South Asia</td>\n",
       "      <td>Low income</td>\n",
       "      <td>AF</td>\n",
       "      <td>...</td>\n",
       "      <td>General Data Dissemination System (GDDS)</td>\n",
       "      <td>1979</td>\n",
       "      <td>Multiple Indicator Cluster Survey (MICS), 2010/11</td>\n",
       "      <td>Integrated household survey (IHS), 2008</td>\n",
       "      <td>NaN</td>\n",
       "      <td>2013/14</td>\n",
       "      <td>NaN</td>\n",
       "      <td>2012.0</td>\n",
       "      <td>2000</td>\n",
       "      <td>NaN</td>\n",
       "    </tr>\n",
       "    <tr>\n",
       "      <th>2</th>\n",
       "      <td>AGO</td>\n",
       "      <td>Angola</td>\n",
       "      <td>Angola</td>\n",
       "      <td>People's Republic of Angola</td>\n",
       "      <td>AO</td>\n",
       "      <td>Angolan kwanza</td>\n",
       "      <td>April 2013 database update: Based on IMF data,...</td>\n",
       "      <td>Sub-Saharan Africa</td>\n",
       "      <td>Upper middle income</td>\n",
       "      <td>AO</td>\n",
       "      <td>...</td>\n",
       "      <td>General Data Dissemination System (GDDS)</td>\n",
       "      <td>1970</td>\n",
       "      <td>Malaria Indicator Survey (MIS), 2011</td>\n",
       "      <td>Integrated household survey (IHS), 2008</td>\n",
       "      <td>NaN</td>\n",
       "      <td>2015</td>\n",
       "      <td>NaN</td>\n",
       "      <td>NaN</td>\n",
       "      <td>2005</td>\n",
       "      <td>NaN</td>\n",
       "    </tr>\n",
       "    <tr>\n",
       "      <th>3</th>\n",
       "      <td>ALB</td>\n",
       "      <td>Albania</td>\n",
       "      <td>Albania</td>\n",
       "      <td>Republic of Albania</td>\n",
       "      <td>AL</td>\n",
       "      <td>Albanian lek</td>\n",
       "      <td>NaN</td>\n",
       "      <td>Europe &amp; Central Asia</td>\n",
       "      <td>Upper middle income</td>\n",
       "      <td>AL</td>\n",
       "      <td>...</td>\n",
       "      <td>General Data Dissemination System (GDDS)</td>\n",
       "      <td>2011</td>\n",
       "      <td>Demographic and Health Survey (DHS), 2008/09</td>\n",
       "      <td>Living Standards Measurement Study Survey (LSM...</td>\n",
       "      <td>Yes</td>\n",
       "      <td>2012</td>\n",
       "      <td>2010.0</td>\n",
       "      <td>2012.0</td>\n",
       "      <td>2006</td>\n",
       "      <td>NaN</td>\n",
       "    </tr>\n",
       "    <tr>\n",
       "      <th>4</th>\n",
       "      <td>AND</td>\n",
       "      <td>Andorra</td>\n",
       "      <td>Andorra</td>\n",
       "      <td>Principality of Andorra</td>\n",
       "      <td>AD</td>\n",
       "      <td>Euro</td>\n",
       "      <td>NaN</td>\n",
       "      <td>Europe &amp; Central Asia</td>\n",
       "      <td>High income: nonOECD</td>\n",
       "      <td>AD</td>\n",
       "      <td>...</td>\n",
       "      <td>NaN</td>\n",
       "      <td>2011. Population figures compiled from adminis...</td>\n",
       "      <td>NaN</td>\n",
       "      <td>NaN</td>\n",
       "      <td>Yes</td>\n",
       "      <td>NaN</td>\n",
       "      <td>NaN</td>\n",
       "      <td>2006.0</td>\n",
       "      <td>NaN</td>\n",
       "      <td>NaN</td>\n",
       "    </tr>\n",
       "  </tbody>\n",
       "</table>\n",
       "<p>5 rows × 32 columns</p>\n",
       "</div>"
      ],
      "text/plain": [
       "  Country Code   Short Name   Table Name                     Long Name  \\\n",
       "0          ABW        Aruba        Aruba                         Aruba   \n",
       "1          AFG  Afghanistan  Afghanistan  Islamic State of Afghanistan   \n",
       "2          AGO       Angola       Angola   People's Republic of Angola   \n",
       "3          ALB      Albania      Albania           Republic of Albania   \n",
       "4          AND      Andorra      Andorra       Principality of Andorra   \n",
       "\n",
       "  2-alpha code   Currency Unit  \\\n",
       "0           AW   Aruban florin   \n",
       "1           AF  Afghan afghani   \n",
       "2           AO  Angolan kwanza   \n",
       "3           AL    Albanian lek   \n",
       "4           AD            Euro   \n",
       "\n",
       "                                       Special Notes  \\\n",
       "0  SNA data for 2000-2011 are updated from offici...   \n",
       "1  Fiscal year end: March 20; reporting period fo...   \n",
       "2  April 2013 database update: Based on IMF data,...   \n",
       "3                                                NaN   \n",
       "4                                                NaN   \n",
       "\n",
       "                      Region          Income Group WB-2 code  ...  \\\n",
       "0  Latin America & Caribbean  High income: nonOECD        AW  ...   \n",
       "1                 South Asia            Low income        AF  ...   \n",
       "2         Sub-Saharan Africa   Upper middle income        AO  ...   \n",
       "3      Europe & Central Asia   Upper middle income        AL  ...   \n",
       "4      Europe & Central Asia  High income: nonOECD        AD  ...   \n",
       "\n",
       "            IMF data dissemination standard  \\\n",
       "0                                       NaN   \n",
       "1  General Data Dissemination System (GDDS)   \n",
       "2  General Data Dissemination System (GDDS)   \n",
       "3  General Data Dissemination System (GDDS)   \n",
       "4                                       NaN   \n",
       "\n",
       "                            Latest population census  \\\n",
       "0                                               2010   \n",
       "1                                               1979   \n",
       "2                                               1970   \n",
       "3                                               2011   \n",
       "4  2011. Population figures compiled from adminis...   \n",
       "\n",
       "                             Latest household survey  \\\n",
       "0                                                NaN   \n",
       "1  Multiple Indicator Cluster Survey (MICS), 2010/11   \n",
       "2               Malaria Indicator Survey (MIS), 2011   \n",
       "3       Demographic and Health Survey (DHS), 2008/09   \n",
       "4                                                NaN   \n",
       "\n",
       "   Source of most recent Income and expenditure data  \\\n",
       "0                                                NaN   \n",
       "1            Integrated household survey (IHS), 2008   \n",
       "2            Integrated household survey (IHS), 2008   \n",
       "3  Living Standards Measurement Study Survey (LSM...   \n",
       "4                                                NaN   \n",
       "\n",
       "  Vital registration complete Latest agricultural census  \\\n",
       "0                         Yes                        NaN   \n",
       "1                         NaN                    2013/14   \n",
       "2                         NaN                       2015   \n",
       "3                         Yes                       2012   \n",
       "4                         Yes                        NaN   \n",
       "\n",
       "  Latest industrial data Latest trade data Latest water withdrawal data  \\\n",
       "0                    NaN            2012.0                          NaN   \n",
       "1                    NaN            2012.0                         2000   \n",
       "2                    NaN               NaN                         2005   \n",
       "3                 2010.0            2012.0                         2006   \n",
       "4                    NaN            2006.0                          NaN   \n",
       "\n",
       "  Unnamed: 31  \n",
       "0         NaN  \n",
       "1         NaN  \n",
       "2         NaN  \n",
       "3         NaN  \n",
       "4         NaN  \n",
       "\n",
       "[5 rows x 32 columns]"
      ]
     },
     "execution_count": 5,
     "metadata": {},
     "output_type": "execute_result"
    }
   ],
   "source": [
    "country.head()"
   ]
  },
  {
   "cell_type": "code",
   "execution_count": 6,
   "metadata": {
    "scrolled": true
   },
   "outputs": [
    {
     "data": {
      "text/plain": [
       "241"
      ]
     },
     "execution_count": 6,
     "metadata": {},
     "output_type": "execute_result"
    }
   ],
   "source": [
    "country.iloc[:,0].nunique()"
   ]
  },
  {
   "cell_type": "code",
   "execution_count": 7,
   "metadata": {},
   "outputs": [
    {
     "data": {
      "text/plain": [
       "241"
      ]
     },
     "execution_count": 7,
     "metadata": {},
     "output_type": "execute_result"
    }
   ],
   "source": [
    "country.iloc[:,1].nunique()"
   ]
  },
  {
   "cell_type": "code",
   "execution_count": 8,
   "metadata": {
    "scrolled": true
   },
   "outputs": [
    {
     "name": "stdout",
     "output_type": "stream",
     "text": [
      "<class 'pandas.core.frame.DataFrame'>\n",
      "RangeIndex: 241 entries, 0 to 240\n",
      "Data columns (total 32 columns):\n",
      " #   Column                                             Non-Null Count  Dtype  \n",
      "---  ------                                             --------------  -----  \n",
      " 0   Country Code                                       241 non-null    object \n",
      " 1   Short Name                                         241 non-null    object \n",
      " 2   Table Name                                         241 non-null    object \n",
      " 3   Long Name                                          241 non-null    object \n",
      " 4   2-alpha code                                       238 non-null    object \n",
      " 5   Currency Unit                                      215 non-null    object \n",
      " 6   Special Notes                                      145 non-null    object \n",
      " 7   Region                                             214 non-null    object \n",
      " 8   Income Group                                       214 non-null    object \n",
      " 9   WB-2 code                                          240 non-null    object \n",
      " 10  National accounts base year                        205 non-null    object \n",
      " 11  National accounts reference year                   32 non-null     float64\n",
      " 12  SNA price valuation                                197 non-null    object \n",
      " 13  Lending category                                   144 non-null    object \n",
      " 14  Other groups                                       58 non-null     object \n",
      " 15  System of National Accounts                        215 non-null    object \n",
      " 16  Alternative conversion factor                      47 non-null     object \n",
      " 17  PPP survey year                                    145 non-null    object \n",
      " 18  Balance of Payments Manual in use                  181 non-null    object \n",
      " 19  External debt Reporting status                     124 non-null    object \n",
      " 20  System of trade                                    200 non-null    object \n",
      " 21  Government Accounting concept                      161 non-null    object \n",
      " 22  IMF data dissemination standard                    181 non-null    object \n",
      " 23  Latest population census                           213 non-null    object \n",
      " 24  Latest household survey                            141 non-null    object \n",
      " 25  Source of most recent Income and expenditure data  160 non-null    object \n",
      " 26  Vital registration complete                        111 non-null    object \n",
      " 27  Latest agricultural census                         142 non-null    object \n",
      " 28  Latest industrial data                             107 non-null    float64\n",
      " 29  Latest trade data                                  185 non-null    float64\n",
      " 30  Latest water withdrawal data                       179 non-null    object \n",
      " 31  Unnamed: 31                                        0 non-null      float64\n",
      "dtypes: float64(4), object(28)\n",
      "memory usage: 60.4+ KB\n"
     ]
    }
   ],
   "source": [
    "country.info()"
   ]
  },
  {
   "cell_type": "markdown",
   "metadata": {},
   "source": [
    "Le fichier country contient 241 lignes et 32 colonnes \n",
    "Country Code n'a pas de doublon."
   ]
  },
  {
   "cell_type": "code",
   "execution_count": 9,
   "metadata": {
    "scrolled": true
   },
   "outputs": [
    {
     "data": {
      "text/plain": [
       "Country Code                                         0.000000\n",
       "Short Name                                           0.000000\n",
       "Table Name                                           0.000000\n",
       "Long Name                                            0.000000\n",
       "WB-2 code                                            0.004149\n",
       "2-alpha code                                         0.012448\n",
       "System of National Accounts                          0.107884\n",
       "Currency Unit                                        0.107884\n",
       "Region                                               0.112033\n",
       "Income Group                                         0.112033\n",
       "Latest population census                             0.116183\n",
       "National accounts base year                          0.149378\n",
       "System of trade                                      0.170124\n",
       "SNA price valuation                                  0.182573\n",
       "Latest trade data                                    0.232365\n",
       "IMF data dissemination standard                      0.248963\n",
       "Balance of Payments Manual in use                    0.248963\n",
       "Latest water withdrawal data                         0.257261\n",
       "Government Accounting concept                        0.331950\n",
       "Source of most recent Income and expenditure data    0.336100\n",
       "Special Notes                                        0.398340\n",
       "PPP survey year                                      0.398340\n",
       "Lending category                                     0.402490\n",
       "Latest agricultural census                           0.410788\n",
       "Latest household survey                              0.414938\n",
       "External debt Reporting status                       0.485477\n",
       "Vital registration complete                          0.539419\n",
       "Latest industrial data                               0.556017\n",
       "Other groups                                         0.759336\n",
       "Alternative conversion factor                        0.804979\n",
       "National accounts reference year                     0.867220\n",
       "Unnamed: 31                                          1.000000\n",
       "dtype: float64"
      ]
     },
     "execution_count": 9,
     "metadata": {},
     "output_type": "execute_result"
    }
   ],
   "source": [
    "country.isna().mean().sort_values()"
   ]
  },
  {
   "cell_type": "code",
   "execution_count": 10,
   "metadata": {},
   "outputs": [
    {
     "data": {
      "text/html": [
       "<div>\n",
       "<style scoped>\n",
       "    .dataframe tbody tr th:only-of-type {\n",
       "        vertical-align: middle;\n",
       "    }\n",
       "\n",
       "    .dataframe tbody tr th {\n",
       "        vertical-align: top;\n",
       "    }\n",
       "\n",
       "    .dataframe thead th {\n",
       "        text-align: right;\n",
       "    }\n",
       "</style>\n",
       "<table border=\"1\" class=\"dataframe\">\n",
       "  <thead>\n",
       "    <tr style=\"text-align: right;\">\n",
       "      <th></th>\n",
       "      <th>National accounts reference year</th>\n",
       "      <th>Latest industrial data</th>\n",
       "      <th>Latest trade data</th>\n",
       "      <th>Unnamed: 31</th>\n",
       "    </tr>\n",
       "  </thead>\n",
       "  <tbody>\n",
       "    <tr>\n",
       "      <th>0</th>\n",
       "      <td>NaN</td>\n",
       "      <td>NaN</td>\n",
       "      <td>2012.0</td>\n",
       "      <td>NaN</td>\n",
       "    </tr>\n",
       "    <tr>\n",
       "      <th>1</th>\n",
       "      <td>NaN</td>\n",
       "      <td>NaN</td>\n",
       "      <td>2012.0</td>\n",
       "      <td>NaN</td>\n",
       "    </tr>\n",
       "    <tr>\n",
       "      <th>2</th>\n",
       "      <td>NaN</td>\n",
       "      <td>NaN</td>\n",
       "      <td>NaN</td>\n",
       "      <td>NaN</td>\n",
       "    </tr>\n",
       "    <tr>\n",
       "      <th>3</th>\n",
       "      <td>1996.0</td>\n",
       "      <td>2010.0</td>\n",
       "      <td>2012.0</td>\n",
       "      <td>NaN</td>\n",
       "    </tr>\n",
       "    <tr>\n",
       "      <th>4</th>\n",
       "      <td>NaN</td>\n",
       "      <td>NaN</td>\n",
       "      <td>2006.0</td>\n",
       "      <td>NaN</td>\n",
       "    </tr>\n",
       "    <tr>\n",
       "      <th>...</th>\n",
       "      <td>...</td>\n",
       "      <td>...</td>\n",
       "      <td>...</td>\n",
       "      <td>...</td>\n",
       "    </tr>\n",
       "    <tr>\n",
       "      <th>236</th>\n",
       "      <td>NaN</td>\n",
       "      <td>NaN</td>\n",
       "      <td>NaN</td>\n",
       "      <td>NaN</td>\n",
       "    </tr>\n",
       "    <tr>\n",
       "      <th>237</th>\n",
       "      <td>NaN</td>\n",
       "      <td>2006.0</td>\n",
       "      <td>2012.0</td>\n",
       "      <td>NaN</td>\n",
       "    </tr>\n",
       "    <tr>\n",
       "      <th>238</th>\n",
       "      <td>NaN</td>\n",
       "      <td>2010.0</td>\n",
       "      <td>2012.0</td>\n",
       "      <td>NaN</td>\n",
       "    </tr>\n",
       "    <tr>\n",
       "      <th>239</th>\n",
       "      <td>NaN</td>\n",
       "      <td>NaN</td>\n",
       "      <td>2011.0</td>\n",
       "      <td>NaN</td>\n",
       "    </tr>\n",
       "    <tr>\n",
       "      <th>240</th>\n",
       "      <td>NaN</td>\n",
       "      <td>NaN</td>\n",
       "      <td>2012.0</td>\n",
       "      <td>NaN</td>\n",
       "    </tr>\n",
       "  </tbody>\n",
       "</table>\n",
       "<p>241 rows × 4 columns</p>\n",
       "</div>"
      ],
      "text/plain": [
       "     National accounts reference year  Latest industrial data  \\\n",
       "0                                 NaN                     NaN   \n",
       "1                                 NaN                     NaN   \n",
       "2                                 NaN                     NaN   \n",
       "3                              1996.0                  2010.0   \n",
       "4                                 NaN                     NaN   \n",
       "..                                ...                     ...   \n",
       "236                               NaN                     NaN   \n",
       "237                               NaN                  2006.0   \n",
       "238                               NaN                  2010.0   \n",
       "239                               NaN                     NaN   \n",
       "240                               NaN                     NaN   \n",
       "\n",
       "     Latest trade data  Unnamed: 31  \n",
       "0               2012.0          NaN  \n",
       "1               2012.0          NaN  \n",
       "2                  NaN          NaN  \n",
       "3               2012.0          NaN  \n",
       "4               2006.0          NaN  \n",
       "..                 ...          ...  \n",
       "236                NaN          NaN  \n",
       "237             2012.0          NaN  \n",
       "238             2012.0          NaN  \n",
       "239             2011.0          NaN  \n",
       "240             2012.0          NaN  \n",
       "\n",
       "[241 rows x 4 columns]"
      ]
     },
     "execution_count": 10,
     "metadata": {},
     "output_type": "execute_result"
    }
   ],
   "source": [
    "country.select_dtypes(include=['float64'])"
   ]
  },
  {
   "cell_type": "markdown",
   "metadata": {},
   "source": [
    "On constate des valeurs manquantes, cependants tous les pays présents ont une identité."
   ]
  },
  {
   "cell_type": "markdown",
   "metadata": {},
   "source": [
    "### Région et Income"
   ]
  },
  {
   "cell_type": "markdown",
   "metadata": {},
   "source": [
    "Il semblerait que des pays avec des valeurs manquantes NA soient des régions c'est à dire des agrégations de pays."
   ]
  },
  {
   "cell_type": "code",
   "execution_count": 11,
   "metadata": {},
   "outputs": [
    {
     "data": {
      "text/plain": [
       "(27, 32)"
      ]
     },
     "execution_count": 11,
     "metadata": {},
     "output_type": "execute_result"
    }
   ],
   "source": [
    "region_na = country[country['Region'].isna()]\n",
    "region_na.shape"
   ]
  },
  {
   "cell_type": "code",
   "execution_count": 12,
   "metadata": {},
   "outputs": [
    {
     "data": {
      "text/plain": [
       "(27, 32)"
      ]
     },
     "execution_count": 12,
     "metadata": {},
     "output_type": "execute_result"
    }
   ],
   "source": [
    "income_na = country[country['Income Group'].isna()]\n",
    "income_na.shape"
   ]
  },
  {
   "cell_type": "markdown",
   "metadata": {},
   "source": [
    "Regardons ces régions."
   ]
  },
  {
   "cell_type": "code",
   "execution_count": 13,
   "metadata": {
    "scrolled": true
   },
   "outputs": [
    {
     "data": {
      "text/plain": [
       "5                                          Arab World\n",
       "57              East Asia & Pacific (developing only)\n",
       "58            East Asia & Pacific (all income levels)\n",
       "59            Europe & Central Asia (developing only)\n",
       "60          Europe & Central Asia (all income levels)\n",
       "63                                          Euro area\n",
       "68                                     European Union\n",
       "78                                          Gibraltar\n",
       "89                                        High income\n",
       "92             Heavily indebted poor countries (HIPC)\n",
       "116       Latin America & Caribbean (developing only)\n",
       "122     Latin America & Caribbean (all income levels)\n",
       "123      Least developed countries: UN classification\n",
       "124                                        Low income\n",
       "127                               Lower middle income\n",
       "128                               Low & middle income\n",
       "140    Middle East & North Africa (all income levels)\n",
       "143                                     Middle income\n",
       "148      Middle East & North Africa (developing only)\n",
       "157                                     North America\n",
       "166                                             Nauru\n",
       "168                                      OECD members\n",
       "187                                        South Asia\n",
       "198              Sub-Saharan Africa (developing only)\n",
       "200            Sub-Saharan Africa (all income levels)\n",
       "225                               Upper middle income\n",
       "234                                             World\n",
       "Name: Short Name, dtype: object"
      ]
     },
     "execution_count": 13,
     "metadata": {},
     "output_type": "execute_result"
    }
   ],
   "source": [
    "region_na[\"Short Name\"]"
   ]
  },
  {
   "cell_type": "code",
   "execution_count": 14,
   "metadata": {
    "scrolled": true
   },
   "outputs": [
    {
     "data": {
      "text/plain": [
       "27"
      ]
     },
     "execution_count": 14,
     "metadata": {},
     "output_type": "execute_result"
    }
   ],
   "source": [
    "(region_na[\"Short Name\"] == income_na[\"Short Name\"]).count()"
   ]
  },
  {
   "cell_type": "code",
   "execution_count": 15,
   "metadata": {
    "scrolled": true
   },
   "outputs": [
    {
     "data": {
      "text/plain": [
       "(241, 32)"
      ]
     },
     "execution_count": 15,
     "metadata": {},
     "output_type": "execute_result"
    }
   ],
   "source": [
    "country.shape "
   ]
  },
  {
   "cell_type": "code",
   "execution_count": 16,
   "metadata": {},
   "outputs": [
    {
     "data": {
      "text/plain": [
       "(214, 32)"
      ]
     },
     "execution_count": 16,
     "metadata": {},
     "output_type": "execute_result"
    }
   ],
   "source": [
    "region_a_supprimer = region_na[\"Short Name\"] \n",
    "\n",
    "country_clean = country[~country['Short Name'].isin(region_a_supprimer)] # On supprime les pays de type aggrégation\n",
    "country_clean.shape\n"
   ]
  },
  {
   "cell_type": "markdown",
   "metadata": {},
   "source": [
    "On a bien supprimer les 27 lignes correspondants à des aggrégations de pays. On remarque que notre fichier est passé de 241 lignes à 214 lignes."
   ]
  },
  {
   "cell_type": "markdown",
   "metadata": {},
   "source": [
    "#### Nombre de pays par classe de revenu"
   ]
  },
  {
   "cell_type": "code",
   "execution_count": 17,
   "metadata": {
    "scrolled": false
   },
   "outputs": [
    {
     "data": {
      "text/html": [
       "<div>\n",
       "<style scoped>\n",
       "    .dataframe tbody tr th:only-of-type {\n",
       "        vertical-align: middle;\n",
       "    }\n",
       "\n",
       "    .dataframe tbody tr th {\n",
       "        vertical-align: top;\n",
       "    }\n",
       "\n",
       "    .dataframe thead th {\n",
       "        text-align: right;\n",
       "    }\n",
       "</style>\n",
       "<table border=\"1\" class=\"dataframe\">\n",
       "  <thead>\n",
       "    <tr style=\"text-align: right;\">\n",
       "      <th></th>\n",
       "      <th>Income Group</th>\n",
       "    </tr>\n",
       "  </thead>\n",
       "  <tbody>\n",
       "    <tr>\n",
       "      <th>Upper middle income</th>\n",
       "      <td>55</td>\n",
       "    </tr>\n",
       "    <tr>\n",
       "      <th>Lower middle income</th>\n",
       "      <td>50</td>\n",
       "    </tr>\n",
       "    <tr>\n",
       "      <th>High income: nonOECD</th>\n",
       "      <td>44</td>\n",
       "    </tr>\n",
       "    <tr>\n",
       "      <th>Low income</th>\n",
       "      <td>34</td>\n",
       "    </tr>\n",
       "    <tr>\n",
       "      <th>High income: OECD</th>\n",
       "      <td>31</td>\n",
       "    </tr>\n",
       "  </tbody>\n",
       "</table>\n",
       "</div>"
      ],
      "text/plain": [
       "                      Income Group\n",
       "Upper middle income             55\n",
       "Lower middle income             50\n",
       "High income: nonOECD            44\n",
       "Low income                      34\n",
       "High income: OECD               31"
      ]
     },
     "execution_count": 17,
     "metadata": {},
     "output_type": "execute_result"
    }
   ],
   "source": [
    "income_group = country_clean[\"Income Group\"].value_counts()\n",
    "income_group = income_group.to_frame()\n",
    "income_group"
   ]
  },
  {
   "cell_type": "code",
   "execution_count": 18,
   "metadata": {},
   "outputs": [
    {
     "data": {
      "text/plain": [
       "[Text(0.5, 1.0, 'Nombre de pays par classe de revenu'), Text(0.5, 0, '')]"
      ]
     },
     "execution_count": 18,
     "metadata": {},
     "output_type": "execute_result"
    },
    {
     "data": {
      "image/png": "[encoded data removed]",
      "text/plain": [
       "<Figure size 648x216 with 1 Axes>"
      ]
     },
     "metadata": {},
     "output_type": "display_data"
    }
   ],
   "source": [
    "plt.figure(figsize=(9,3))\n",
    "sns.barplot(\n",
    "            y=income_group.index,\n",
    "            x=\"Income Group\",\n",
    "            data=income_group,\n",
    "            color = \"blue\").set(title='Nombre de pays par classe de revenu', xlabel='')\n",
    "               \n"
   ]
  },
  {
   "cell_type": "markdown",
   "metadata": {},
   "source": [
    "#### Nombre de pays par Région du monde"
   ]
  },
  {
   "cell_type": "code",
   "execution_count": 19,
   "metadata": {
    "scrolled": true
   },
   "outputs": [
    {
     "data": {
      "image/png": "[encoded data removed]",
      "text/plain": [
       "<Figure size 648x216 with 1 Axes>"
      ]
     },
     "metadata": {},
     "output_type": "display_data"
    }
   ],
   "source": [
    "plt.figure(figsize=(9,3))\n",
    "plt.barh(y = country_clean.groupby('Region')[['Short Name']].count().reset_index().sort_values(by='Short Name')['Region'], width = country.groupby('Region')[['Short Name']].count()['Short Name'].sort_values())\n",
    "plt.title('Nombre de pays par Région du monde')\n",
    "plt.grid(True)\n",
    "plt.show()"
   ]
  },
  {
   "cell_type": "markdown",
   "metadata": {},
   "source": [
    "#### histogramme des valeurs numériques"
   ]
  },
  {
   "cell_type": "code",
   "execution_count": 20,
   "metadata": {
    "scrolled": true
   },
   "outputs": [
    {
     "data": {
      "image/png": "[encoded data removed]",
      "text/plain": [
       "<Figure size 432x648 with 4 Axes>"
      ]
     },
     "metadata": {},
     "output_type": "display_data"
    }
   ],
   "source": [
    "_ = country_clean.drop(columns=\"Unnamed: 31\").hist(figsize=(6,9))"
   ]
  },
  {
   "cell_type": "markdown",
   "metadata": {},
   "source": [
    "On constate de forte disparité entre les années d'enquête"
   ]
  },
  {
   "cell_type": "markdown",
   "metadata": {},
   "source": [
    "Résumé: Le fichier country nous permet d'avoir une liste et des agrégats de pays en fonction d'airs géographiques et économiques."
   ]
  },
  {
   "cell_type": "markdown",
   "metadata": {},
   "source": [
    "### II. Fichier EdStatsCountrySeries"
   ]
  },
  {
   "cell_type": "code",
   "execution_count": 21,
   "metadata": {
    "scrolled": true
   },
   "outputs": [
    {
     "data": {
      "text/html": [
       "<div>\n",
       "<style scoped>\n",
       "    .dataframe tbody tr th:only-of-type {\n",
       "        vertical-align: middle;\n",
       "    }\n",
       "\n",
       "    .dataframe tbody tr th {\n",
       "        vertical-align: top;\n",
       "    }\n",
       "\n",
       "    .dataframe thead th {\n",
       "        text-align: right;\n",
       "    }\n",
       "</style>\n",
       "<table border=\"1\" class=\"dataframe\">\n",
       "  <thead>\n",
       "    <tr style=\"text-align: right;\">\n",
       "      <th></th>\n",
       "      <th>CountryCode</th>\n",
       "      <th>SeriesCode</th>\n",
       "      <th>DESCRIPTION</th>\n",
       "      <th>Unnamed: 3</th>\n",
       "    </tr>\n",
       "  </thead>\n",
       "  <tbody>\n",
       "    <tr>\n",
       "      <th>0</th>\n",
       "      <td>ABW</td>\n",
       "      <td>SP.POP.TOTL</td>\n",
       "      <td>Data sources : United Nations World Population...</td>\n",
       "      <td>NaN</td>\n",
       "    </tr>\n",
       "    <tr>\n",
       "      <th>1</th>\n",
       "      <td>ABW</td>\n",
       "      <td>SP.POP.GROW</td>\n",
       "      <td>Data sources: United Nations World Population ...</td>\n",
       "      <td>NaN</td>\n",
       "    </tr>\n",
       "    <tr>\n",
       "      <th>2</th>\n",
       "      <td>AFG</td>\n",
       "      <td>SP.POP.GROW</td>\n",
       "      <td>Data sources: United Nations World Population ...</td>\n",
       "      <td>NaN</td>\n",
       "    </tr>\n",
       "    <tr>\n",
       "      <th>3</th>\n",
       "      <td>AFG</td>\n",
       "      <td>NY.GDP.PCAP.PP.CD</td>\n",
       "      <td>Estimates are based on regression.</td>\n",
       "      <td>NaN</td>\n",
       "    </tr>\n",
       "    <tr>\n",
       "      <th>4</th>\n",
       "      <td>AFG</td>\n",
       "      <td>SP.POP.TOTL</td>\n",
       "      <td>Data sources : United Nations World Population...</td>\n",
       "      <td>NaN</td>\n",
       "    </tr>\n",
       "  </tbody>\n",
       "</table>\n",
       "</div>"
      ],
      "text/plain": [
       "  CountryCode         SeriesCode  \\\n",
       "0         ABW        SP.POP.TOTL   \n",
       "1         ABW        SP.POP.GROW   \n",
       "2         AFG        SP.POP.GROW   \n",
       "3         AFG  NY.GDP.PCAP.PP.CD   \n",
       "4         AFG        SP.POP.TOTL   \n",
       "\n",
       "                                         DESCRIPTION  Unnamed: 3  \n",
       "0  Data sources : United Nations World Population...         NaN  \n",
       "1  Data sources: United Nations World Population ...         NaN  \n",
       "2  Data sources: United Nations World Population ...         NaN  \n",
       "3                 Estimates are based on regression.         NaN  \n",
       "4  Data sources : United Nations World Population...         NaN  "
      ]
     },
     "execution_count": 21,
     "metadata": {},
     "output_type": "execute_result"
    }
   ],
   "source": [
    "## II. EdStatsCountry-Series\n",
    "country_series = pd.read_csv('EdStatsCountry-Series.csv')\n",
    "country_series.head()"
   ]
  },
  {
   "cell_type": "code",
   "execution_count": 22,
   "metadata": {},
   "outputs": [
    {
     "name": "stdout",
     "output_type": "stream",
     "text": [
      "<class 'pandas.core.frame.DataFrame'>\n",
      "RangeIndex: 613 entries, 0 to 612\n",
      "Data columns (total 4 columns):\n",
      " #   Column       Non-Null Count  Dtype  \n",
      "---  ------       --------------  -----  \n",
      " 0   CountryCode  613 non-null    object \n",
      " 1   SeriesCode   613 non-null    object \n",
      " 2   DESCRIPTION  613 non-null    object \n",
      " 3   Unnamed: 3   0 non-null      float64\n",
      "dtypes: float64(1), object(3)\n",
      "memory usage: 19.3+ KB\n"
     ]
    }
   ],
   "source": [
    "country_series.info()"
   ]
  },
  {
   "cell_type": "code",
   "execution_count": 23,
   "metadata": {},
   "outputs": [
    {
     "data": {
      "text/plain": [
       "CountryCode    0.0\n",
       "SeriesCode     0.0\n",
       "DESCRIPTION    0.0\n",
       "Unnamed: 3     1.0\n",
       "dtype: float64"
      ]
     },
     "execution_count": 23,
     "metadata": {},
     "output_type": "execute_result"
    }
   ],
   "source": [
    "country_series.isna().mean()"
   ]
  },
  {
   "cell_type": "code",
   "execution_count": 24,
   "metadata": {
    "scrolled": true
   },
   "outputs": [
    {
     "data": {
      "text/plain": [
       "array(['Data sources : United Nations World Population Prospects',\n",
       "       'Data sources: United Nations World Population Prospects',\n",
       "       'Estimates are based on regression.',\n",
       "       'Data sources : Institute of Statistics, Eurostat',\n",
       "       'Data sources : Australian Bureau of Statistics',\n",
       "       'Including Other Territories comprising Jervis Bay Territory, Christmas Island and the Cocos (Keeling) Islands. ',\n",
       "       'Data sources: Australian Bureau of Statistics',\n",
       "       'Data sources : Eurostat',\n",
       "       'Data sources : Eurostat, State Statistical Committee, United Nations World Population Prospects',\n",
       "       'Data sources: Eurostat, State Statistical Committee, United Nations World Population Prospects',\n",
       "       'Data sources : National Statistical Committee of the Republic of Belarus',\n",
       "       'Data sources: National Statistical Committee of the Republic of Belarus',\n",
       "       'Data sources : Bermuda Government Department of Statistics',\n",
       "       'Data sources: Bermuda Government Department of Statistics',\n",
       "       'Data sources : Statistics Canada',\n",
       "       'Data sources: Statistics Canada',\n",
       "       'Refers to Guernsey, and Jersey.',\n",
       "       'Data sources : National Bureau of Statistics',\n",
       "       'Excluding Hong Kong SAR, Macao SAR, Taiwan.',\n",
       "       'Data sources: National Bureau of Statistics',\n",
       "       'Data are for areas under the effective control of the Government of the Republic of Cyprus.',\n",
       "       'Including Northern-Cyprus.',\n",
       "       'Data sources: Eurostat, United Nations World Population Prospects. Including the French overseas departments of French Guiana, Guadeloupe, Martinique, Mayotte, and Réunion.',\n",
       "       'Including the four French overseas departments (French Guyana, Guadeloupe, Martinique and Réunion)',\n",
       "       'Data sources : Eurostat, United Nations World Population Prospects. Including the French overseas departments of French Guiana, Guadeloupe, Martinique, Mayotte, and Réunion.',\n",
       "       'Data sources: Eurostat',\n",
       "       'Data sources : GeoStats. GeoStats. Adjusted to mid-year population using geometric mean for the years where mid-year population figures are not available. Excluding Abkhazia and South Ossetia.',\n",
       "       'Including Abkhazia and South Ossetia.',\n",
       "       'Excludes Abkhazia and South Ossetia.',\n",
       "       'Derived using ratio of age group from WPP and World Bank population.',\n",
       "       'Data sources: GeoStats. GeoStats. Adjusted to mid-year population using geometric mean for the years where mid-year population figures are not available. Excluding Abkhazia and South Ossetia.',\n",
       "       'Excluding Abkhazia and South Ossetia.',\n",
       "       'Data sources: Statistics Greenland',\n",
       "       'Data sources : Statistics Greenland',\n",
       "       'Data sources: Census and Statistics Department',\n",
       "       'Data sources : Census and Statistics Department',\n",
       "       'Data sources: Croatian Bureau of Statistics, Council of Europe',\n",
       "       'Data sources : Croatian Bureau of Statistics, Council of Europe',\n",
       "       'Data sources: Central Bureau of Statistics',\n",
       "       'Data sources : Central Bureau of Statistics',\n",
       "       'Data sources: Ministry of Internal Affairs and Communications, Statistics Bureau; United Nations Population and Vital Statistics Report',\n",
       "       'Data sources : Ministry of Internal Affairs and Communications, Statistics Bureau; United Nations Population and Vital Statistics Report',\n",
       "       'Data sources : Statistical Agency of Kazakhstan, 1979 Census, 1989 Census, United Nations World Population Prospects',\n",
       "       'Data sources: Statistical Agency of Kazakhstan, 1979 Census, 1989 Census, United Nations World Population Prospects',\n",
       "       'Data sources : National Statistical Committee, United Nations World Population Prospects',\n",
       "       'Data sources: National Statistical Committee, United Nations World Population Prospects',\n",
       "       'Data sources : Korean Statistical Information Service',\n",
       "       'Data sources: Korean Statistical Information Service',\n",
       "       \"Data sources : Registrar General's Department, Department of Census and Statistics\",\n",
       "       \"Data sources: Registrar General's Department, Department of Census and Statistics\",\n",
       "       'Includes Former Spanish Sahara.',\n",
       "       'Morocco only. (Excluding former Spanish Sahara)',\n",
       "       \"Data sources : National Bureau of Statistics. Excluding Transnistria. For 1950-94, World Bank estimates using UN World Population Prospects' growth rates of whole Moldova.\",\n",
       "       'Excludes Transnistria.', 'Including Transnistria.',\n",
       "       \"Data sources: National Bureau of Statistics. Excluding Transnistria. For 1950-94, World Bank estimates using UN World Population Prospects 2010 Revision's growth rates of whole Moldova.\",\n",
       "       'Excluding Transnistria.',\n",
       "       'Data sources : For 1960-1989, United Nations World Population Prospects. For 1990 onwards, 1990, 1995, 2000, 2006, 2014 censuses, and data on expatriate employment from Maldives National Bureau of Statistics. The census data are adjusted for mid-year and for foreign population.',\n",
       "       'Data sources: For 1960-1989, United Nations World Population Prospects. For 1990 onwards, 1990, 1995, 2000, 2006, 2014 censuses, and data on expatriate employment from Maldives National Bureau of Statistics. The census data are adjusted for mid-year and for foreign population.',\n",
       "       'Data sources : For years after 2000, Statistical Office of Montenegro. For years 1960-1999, growth rates of United Nations World Population Prospects were used to estimate backwards.',\n",
       "       'Data sources : Statistics Mauritius, United Nations World Population Prospects',\n",
       "       'Including Agalega and St. Brandon.',\n",
       "       'Data sources: Central Statistics Office, United Nations Population and Vital Statistics Report, United Nations World Population Prospects',\n",
       "       'Excluding Agalega and St. Brandon.',\n",
       "       'Including Sabah and Sarawak.',\n",
       "       'Data sources : Institute of Statistics and Economic Studies',\n",
       "       'Data sources: Institute of Statistics and Economic Studies, 1983 Census, 1989 Census, 1996 Census',\n",
       "       'Data sources: Statistics New Zealand',\n",
       "       'Data sources : Statistics New Zealand',\n",
       "       'Data sources : U.S. Census Bureau, 1990 Census',\n",
       "       'Data sources: U.S. Census Bureau, 1990 Census',\n",
       "       'Data sources : World Bank estimates based on data from Palestinian Central Bureau of Statistics, excluding E. Jerusalem.',\n",
       "       'Excluding East Jerusalem.',\n",
       "       'Data sources: World Bank estimates based on data from Palestinian Central Bureau of Statistics, excluding E. Jerusalem.',\n",
       "       'Data sources : Russian Federation Federal State Statistics Service (its January 1st populations were adjusted to mid-year populations by using geometric mean), 1979 Census, 1989 Census.',\n",
       "       'Data sources : United Nations World Population Prospects. Estimates are for Sudan excluding South Sudan.',\n",
       "       'Data sources: Department of Statistics Singapore',\n",
       "       'Data sources : Department of Statistics Singapore',\n",
       "       'Data sources: Statistical Office of the Republic of Serbia, Eurostat, TransMONEE, Council of Europe. Excluding Kosovo for all years 1950-2011',\n",
       "       'Including Kosovo.',\n",
       "       'Data sources : Statistical Office of the Republic of Serbia, Eurostat, TransMONEE, Council of Europe. Note : Excluding Kosovo.',\n",
       "       'Excluding Kosovo.', 'Covers mainland Tanzania only.',\n",
       "       'Including Zanzibar.',\n",
       "       'Data sources : State Statistics Committee of Ukraine, United Nations World Population Prospects, Council of Europe, United Nations Population and Vital Statistics Report',\n",
       "       'Data sources: State Statistics Committee of Ukraine, United Nations World Population Prospects, Council of Europe, United Nations Population and Vital Statistics Report',\n",
       "       'Data sources : U.S. Census Bureau',\n",
       "       'Data sources: U.S. Census Bureau',\n",
       "       'Data sources : State Committee of the Republic of Uzbekistan on Statistics, United Nations World Population Prospects',\n",
       "       'Based on official exchange rates.',\n",
       "       'Data sources : U.S. Census Bureau, United Nations Population and Vital Statistics Report',\n",
       "       'Data sources: U.S. Census Bureau, United Nations Population and Vital Statistics Report',\n",
       "       'Data sources: General Statistics Office of Vietnam',\n",
       "       'Data sources : General Statistics Office of Vietnam',\n",
       "       \"Data sources : World Bank's Kosovo coutnry office, Kosovo Agency of Statistics, U.S. Census Bureau\",\n",
       "       \"Data sources: World Bank's Kosovo coutnry office, Kosovo Agency of Statistics, U.S. Census Bureau\",\n",
       "       'Data sources : Statistics South Africa, United Nations World Population Prospects'],\n",
       "      dtype=object)"
      ]
     },
     "execution_count": 24,
     "metadata": {},
     "output_type": "execute_result"
    }
   ],
   "source": [
    "country_series.DESCRIPTION.unique()"
   ]
  },
  {
   "cell_type": "markdown",
   "metadata": {},
   "source": [
    "Résumé : Le fichier country series contient 613 lignes et 4 colonnes. \n",
    "C'est un répertoire de sources d'enquêtes associés à chaques pays."
   ]
  },
  {
   "cell_type": "markdown",
   "metadata": {},
   "source": [
    "### III. EdStatsData"
   ]
  },
  {
   "cell_type": "markdown",
   "metadata": {},
   "source": [
    "C'est notre fichier principal avec le plus d'information."
   ]
  },
  {
   "cell_type": "code",
   "execution_count": 25,
   "metadata": {},
   "outputs": [],
   "source": [
    "## III. EdStatsData\n",
    "df = pd.read_csv('EdStatsData.csv')"
   ]
  },
  {
   "cell_type": "code",
   "execution_count": 26,
   "metadata": {
    "scrolled": true
   },
   "outputs": [
    {
     "name": "stdout",
     "output_type": "stream",
     "text": [
      "<class 'pandas.core.frame.DataFrame'>\n",
      "RangeIndex: 886930 entries, 0 to 886929\n",
      "Data columns (total 70 columns):\n",
      " #   Column          Non-Null Count   Dtype  \n",
      "---  ------          --------------   -----  \n",
      " 0   Country Name    886930 non-null  object \n",
      " 1   Country Code    886930 non-null  object \n",
      " 2   Indicator Name  886930 non-null  object \n",
      " 3   Indicator Code  886930 non-null  object \n",
      " 4   1970            72288 non-null   float64\n",
      " 5   1971            35537 non-null   float64\n",
      " 6   1972            35619 non-null   float64\n",
      " 7   1973            35545 non-null   float64\n",
      " 8   1974            35730 non-null   float64\n",
      " 9   1975            87306 non-null   float64\n",
      " 10  1976            37483 non-null   float64\n",
      " 11  1977            37574 non-null   float64\n",
      " 12  1978            37576 non-null   float64\n",
      " 13  1979            36809 non-null   float64\n",
      " 14  1980            89122 non-null   float64\n",
      " 15  1981            38777 non-null   float64\n",
      " 16  1982            37511 non-null   float64\n",
      " 17  1983            38460 non-null   float64\n",
      " 18  1984            38606 non-null   float64\n",
      " 19  1985            90296 non-null   float64\n",
      " 20  1986            39372 non-null   float64\n",
      " 21  1987            38641 non-null   float64\n",
      " 22  1988            38552 non-null   float64\n",
      " 23  1989            37540 non-null   float64\n",
      " 24  1990            124405 non-null  float64\n",
      " 25  1991            74437 non-null   float64\n",
      " 26  1992            75543 non-null   float64\n",
      " 27  1993            75793 non-null   float64\n",
      " 28  1994            77462 non-null   float64\n",
      " 29  1995            131361 non-null  float64\n",
      " 30  1996            76807 non-null   float64\n",
      " 31  1997            73453 non-null   float64\n",
      " 32  1998            84914 non-null   float64\n",
      " 33  1999            118839 non-null  float64\n",
      " 34  2000            176676 non-null  float64\n",
      " 35  2001            123509 non-null  float64\n",
      " 36  2002            124205 non-null  float64\n",
      " 37  2003            130363 non-null  float64\n",
      " 38  2004            128814 non-null  float64\n",
      " 39  2005            184108 non-null  float64\n",
      " 40  2006            140312 non-null  float64\n",
      " 41  2007            137272 non-null  float64\n",
      " 42  2008            134387 non-null  float64\n",
      " 43  2009            142108 non-null  float64\n",
      " 44  2010            242442 non-null  float64\n",
      " 45  2011            146012 non-null  float64\n",
      " 46  2012            147264 non-null  float64\n",
      " 47  2013            137509 non-null  float64\n",
      " 48  2014            113789 non-null  float64\n",
      " 49  2015            131058 non-null  float64\n",
      " 50  2016            16460 non-null   float64\n",
      " 51  2017            143 non-null     float64\n",
      " 52  2020            51436 non-null   float64\n",
      " 53  2025            51436 non-null   float64\n",
      " 54  2030            51436 non-null   float64\n",
      " 55  2035            51436 non-null   float64\n",
      " 56  2040            51436 non-null   float64\n",
      " 57  2045            51436 non-null   float64\n",
      " 58  2050            51436 non-null   float64\n",
      " 59  2055            51436 non-null   float64\n",
      " 60  2060            51436 non-null   float64\n",
      " 61  2065            51436 non-null   float64\n",
      " 62  2070            51436 non-null   float64\n",
      " 63  2075            51436 non-null   float64\n",
      " 64  2080            51436 non-null   float64\n",
      " 65  2085            51436 non-null   float64\n",
      " 66  2090            51436 non-null   float64\n",
      " 67  2095            51436 non-null   float64\n",
      " 68  2100            51436 non-null   float64\n",
      " 69  Unnamed: 69     0 non-null       float64\n",
      "dtypes: float64(66), object(4)\n",
      "memory usage: 473.7+ MB\n"
     ]
    }
   ],
   "source": [
    "df.info()"
   ]
  },
  {
   "cell_type": "markdown",
   "metadata": {},
   "source": [
    "df comporte 886930 lignes et 70 colonnes."
   ]
  },
  {
   "cell_type": "code",
   "execution_count": 27,
   "metadata": {
    "scrolled": false
   },
   "outputs": [
    {
     "data": {
      "text/plain": [
       "Country Name      0.000000\n",
       "Country Code      0.000000\n",
       "Indicator Name    0.000000\n",
       "Indicator Code    0.000000\n",
       "2010              0.726650\n",
       "                    ...   \n",
       "1973              0.959924\n",
       "1971              0.959933\n",
       "2016              0.981442\n",
       "2017              0.999839\n",
       "Unnamed: 69       1.000000\n",
       "Length: 70, dtype: float64"
      ]
     },
     "execution_count": 27,
     "metadata": {},
     "output_type": "execute_result"
    }
   ],
   "source": [
    "df.isna().mean().sort_values()"
   ]
  },
  {
   "cell_type": "markdown",
   "metadata": {},
   "source": [
    "Les valeurs manquantes sont importantes dans notre fichier df."
   ]
  },
  {
   "cell_type": "code",
   "execution_count": 28,
   "metadata": {
    "scrolled": true
   },
   "outputs": [
    {
     "name": "stdout",
     "output_type": "stream",
     "text": [
      "Il y a dans le fichier EdStatsData.csv 1 nom de pays qui ne figure pas dans Country.csv\n"
     ]
    }
   ],
   "source": [
    "liste_pays_unique_country_no_df = df[~df['Country Code'].isin(country['Country Code'])]['Country Code'].nunique()\n",
    "print(\"Il y a dans le fichier EdStatsData.csv %d nom de pays qui ne figure pas dans Country.csv\" %(liste_pays_unique_country_no_df))"
   ]
  },
  {
   "cell_type": "markdown",
   "metadata": {},
   "source": [
    "Inversement ?"
   ]
  },
  {
   "cell_type": "code",
   "execution_count": 29,
   "metadata": {
    "scrolled": true
   },
   "outputs": [
    {
     "name": "stdout",
     "output_type": "stream",
     "text": [
      "Il y a dans le fichier Country.csv 0 nom de pays qui ne figure pas dans EdStatData.csv\n"
     ]
    }
   ],
   "source": [
    "liste_pays_unique_df_no_country = country[~country['Country Code'].isin(df['Country Code'])]['Country Code'].nunique()\n",
    "print(\"Il y a dans le fichier Country.csv %d nom de pays qui ne figure pas dans EdStatData.csv\" %(liste_pays_unique_df_no_country))"
   ]
  },
  {
   "cell_type": "code",
   "execution_count": 30,
   "metadata": {
    "scrolled": true
   },
   "outputs": [
    {
     "data": {
      "text/plain": [
       "array(['VGB'], dtype=object)"
      ]
     },
     "execution_count": 30,
     "metadata": {},
     "output_type": "execute_result"
    }
   ],
   "source": [
    "temp = df[~df['Country Code'].isin(country['Country Code'])]['Country Code'].unique()\n",
    "temp"
   ]
  },
  {
   "cell_type": "markdown",
   "metadata": {},
   "source": [
    "Quoi correspond ce pays ?"
   ]
  },
  {
   "cell_type": "code",
   "execution_count": 31,
   "metadata": {
    "scrolled": true
   },
   "outputs": [
    {
     "data": {
      "text/html": [
       "<div>\n",
       "<style scoped>\n",
       "    .dataframe tbody tr th:only-of-type {\n",
       "        vertical-align: middle;\n",
       "    }\n",
       "\n",
       "    .dataframe tbody tr th {\n",
       "        vertical-align: top;\n",
       "    }\n",
       "\n",
       "    .dataframe thead th {\n",
       "        text-align: right;\n",
       "    }\n",
       "</style>\n",
       "<table border=\"1\" class=\"dataframe\">\n",
       "  <thead>\n",
       "    <tr style=\"text-align: right;\">\n",
       "      <th></th>\n",
       "      <th>Country Name</th>\n",
       "      <th>Country Code</th>\n",
       "      <th>Indicator Name</th>\n",
       "      <th>Indicator Code</th>\n",
       "      <th>1970</th>\n",
       "      <th>1971</th>\n",
       "      <th>1972</th>\n",
       "      <th>1973</th>\n",
       "      <th>1974</th>\n",
       "      <th>1975</th>\n",
       "      <th>...</th>\n",
       "      <th>2060</th>\n",
       "      <th>2065</th>\n",
       "      <th>2070</th>\n",
       "      <th>2075</th>\n",
       "      <th>2080</th>\n",
       "      <th>2085</th>\n",
       "      <th>2090</th>\n",
       "      <th>2095</th>\n",
       "      <th>2100</th>\n",
       "      <th>Unnamed: 69</th>\n",
       "    </tr>\n",
       "  </thead>\n",
       "  <tbody>\n",
       "    <tr>\n",
       "      <th>190580</th>\n",
       "      <td>British Virgin Islands</td>\n",
       "      <td>VGB</td>\n",
       "      <td>Adjusted net enrolment rate, lower secondary, ...</td>\n",
       "      <td>UIS.NERA.2</td>\n",
       "      <td>NaN</td>\n",
       "      <td>NaN</td>\n",
       "      <td>NaN</td>\n",
       "      <td>NaN</td>\n",
       "      <td>NaN</td>\n",
       "      <td>NaN</td>\n",
       "      <td>...</td>\n",
       "      <td>NaN</td>\n",
       "      <td>NaN</td>\n",
       "      <td>NaN</td>\n",
       "      <td>NaN</td>\n",
       "      <td>NaN</td>\n",
       "      <td>NaN</td>\n",
       "      <td>NaN</td>\n",
       "      <td>NaN</td>\n",
       "      <td>NaN</td>\n",
       "      <td>NaN</td>\n",
       "    </tr>\n",
       "  </tbody>\n",
       "</table>\n",
       "<p>1 rows × 70 columns</p>\n",
       "</div>"
      ],
      "text/plain": [
       "                  Country Name Country Code  \\\n",
       "190580  British Virgin Islands          VGB   \n",
       "\n",
       "                                           Indicator Name Indicator Code  \\\n",
       "190580  Adjusted net enrolment rate, lower secondary, ...     UIS.NERA.2   \n",
       "\n",
       "        1970  1971  1972  1973  1974  1975  ...  2060  2065  2070  2075  2080  \\\n",
       "190580   NaN   NaN   NaN   NaN   NaN   NaN  ...   NaN   NaN   NaN   NaN   NaN   \n",
       "\n",
       "        2085  2090  2095  2100  Unnamed: 69  \n",
       "190580   NaN   NaN   NaN   NaN          NaN  \n",
       "\n",
       "[1 rows x 70 columns]"
      ]
     },
     "execution_count": 31,
     "metadata": {},
     "output_type": "execute_result"
    }
   ],
   "source": [
    "df.loc[df[\"Country Code\"]==\"VGB\"].head(1)"
   ]
  },
  {
   "cell_type": "markdown",
   "metadata": {},
   "source": [
    "### indicateurs à sélectionner ?"
   ]
  },
  {
   "cell_type": "code",
   "execution_count": 32,
   "metadata": {},
   "outputs": [
    {
     "data": {
      "text/plain": [
       "3665"
      ]
     },
     "execution_count": 32,
     "metadata": {},
     "output_type": "execute_result"
    }
   ],
   "source": [
    "df[\"Indicator Name\"].nunique()"
   ]
  },
  {
   "cell_type": "code",
   "execution_count": 33,
   "metadata": {
    "scrolled": true
   },
   "outputs": [
    {
     "data": {
      "text/html": [
       "<div>\n",
       "<style scoped>\n",
       "    .dataframe tbody tr th:only-of-type {\n",
       "        vertical-align: middle;\n",
       "    }\n",
       "\n",
       "    .dataframe tbody tr th {\n",
       "        vertical-align: top;\n",
       "    }\n",
       "\n",
       "    .dataframe thead th {\n",
       "        text-align: right;\n",
       "    }\n",
       "</style>\n",
       "<table border=\"1\" class=\"dataframe\">\n",
       "  <thead>\n",
       "    <tr style=\"text-align: right;\">\n",
       "      <th></th>\n",
       "      <th>Indicator Name</th>\n",
       "      <th>Indicator Code</th>\n",
       "    </tr>\n",
       "  </thead>\n",
       "  <tbody>\n",
       "    <tr>\n",
       "      <th>0</th>\n",
       "      <td>Adjusted net enrolment rate, lower secondary, ...</td>\n",
       "      <td>UIS.NERA.2</td>\n",
       "    </tr>\n",
       "    <tr>\n",
       "      <th>1</th>\n",
       "      <td>Adjusted net enrolment rate, lower secondary, ...</td>\n",
       "      <td>UIS.NERA.2.F</td>\n",
       "    </tr>\n",
       "    <tr>\n",
       "      <th>2</th>\n",
       "      <td>Adjusted net enrolment rate, lower secondary, ...</td>\n",
       "      <td>UIS.NERA.2.GPI</td>\n",
       "    </tr>\n",
       "    <tr>\n",
       "      <th>3</th>\n",
       "      <td>Adjusted net enrolment rate, lower secondary, ...</td>\n",
       "      <td>UIS.NERA.2.M</td>\n",
       "    </tr>\n",
       "    <tr>\n",
       "      <th>4</th>\n",
       "      <td>Adjusted net enrolment rate, primary, both sex...</td>\n",
       "      <td>SE.PRM.TENR</td>\n",
       "    </tr>\n",
       "  </tbody>\n",
       "</table>\n",
       "</div>"
      ],
      "text/plain": [
       "                                      Indicator Name  Indicator Code\n",
       "0  Adjusted net enrolment rate, lower secondary, ...      UIS.NERA.2\n",
       "1  Adjusted net enrolment rate, lower secondary, ...    UIS.NERA.2.F\n",
       "2  Adjusted net enrolment rate, lower secondary, ...  UIS.NERA.2.GPI\n",
       "3  Adjusted net enrolment rate, lower secondary, ...    UIS.NERA.2.M\n",
       "4  Adjusted net enrolment rate, primary, both sex...     SE.PRM.TENR"
      ]
     },
     "execution_count": 33,
     "metadata": {},
     "output_type": "execute_result"
    }
   ],
   "source": [
    "list_indicator = df.loc[:,['Indicator Name','Indicator Code']].drop_duplicates()\n",
    "list_indicator.head()"
   ]
  },
  {
   "cell_type": "code",
   "execution_count": 34,
   "metadata": {},
   "outputs": [
    {
     "data": {
      "text/html": [
       "<div>\n",
       "<style scoped>\n",
       "    .dataframe tbody tr th:only-of-type {\n",
       "        vertical-align: middle;\n",
       "    }\n",
       "\n",
       "    .dataframe tbody tr th {\n",
       "        vertical-align: top;\n",
       "    }\n",
       "\n",
       "    .dataframe thead th {\n",
       "        text-align: right;\n",
       "    }\n",
       "</style>\n",
       "<table border=\"1\" class=\"dataframe\">\n",
       "  <thead>\n",
       "    <tr style=\"text-align: right;\">\n",
       "      <th></th>\n",
       "      <th>Indicator Name</th>\n",
       "      <th>Indicator Code</th>\n",
       "    </tr>\n",
       "  </thead>\n",
       "  <tbody>\n",
       "    <tr>\n",
       "      <th>3660</th>\n",
       "      <td>Youth illiterate population, 15-24 years, male...</td>\n",
       "      <td>UIS.LP.AG15T24.M</td>\n",
       "    </tr>\n",
       "    <tr>\n",
       "      <th>3661</th>\n",
       "      <td>Youth literacy rate, population 15-24 years, b...</td>\n",
       "      <td>SE.ADT.1524.LT.ZS</td>\n",
       "    </tr>\n",
       "    <tr>\n",
       "      <th>3662</th>\n",
       "      <td>Youth literacy rate, population 15-24 years, f...</td>\n",
       "      <td>SE.ADT.1524.LT.FE.ZS</td>\n",
       "    </tr>\n",
       "    <tr>\n",
       "      <th>3663</th>\n",
       "      <td>Youth literacy rate, population 15-24 years, g...</td>\n",
       "      <td>SE.ADT.1524.LT.FM.ZS</td>\n",
       "    </tr>\n",
       "    <tr>\n",
       "      <th>3664</th>\n",
       "      <td>Youth literacy rate, population 15-24 years, m...</td>\n",
       "      <td>SE.ADT.1524.LT.MA.ZS</td>\n",
       "    </tr>\n",
       "  </tbody>\n",
       "</table>\n",
       "</div>"
      ],
      "text/plain": [
       "                                         Indicator Name        Indicator Code\n",
       "3660  Youth illiterate population, 15-24 years, male...      UIS.LP.AG15T24.M\n",
       "3661  Youth literacy rate, population 15-24 years, b...     SE.ADT.1524.LT.ZS\n",
       "3662  Youth literacy rate, population 15-24 years, f...  SE.ADT.1524.LT.FE.ZS\n",
       "3663  Youth literacy rate, population 15-24 years, g...  SE.ADT.1524.LT.FM.ZS\n",
       "3664  Youth literacy rate, population 15-24 years, m...  SE.ADT.1524.LT.MA.ZS"
      ]
     },
     "execution_count": 34,
     "metadata": {},
     "output_type": "execute_result"
    }
   ],
   "source": [
    "list_indicator.tail()"
   ]
  },
  {
   "cell_type": "markdown",
   "metadata": {},
   "source": [
    "Nous devons selectionner à minima 4 indicateurs parmis 3665. On peut s'informer sur le site de la Banque Mondiale.\n",
    "https://datatopics.worldbank.org/education/indicators\n"
   ]
  },
  {
   "cell_type": "code",
   "execution_count": 35,
   "metadata": {
    "scrolled": false
   },
   "outputs": [
    {
     "data": {
      "text/html": [
       "<div>\n",
       "<style scoped>\n",
       "    .dataframe tbody tr th:only-of-type {\n",
       "        vertical-align: middle;\n",
       "    }\n",
       "\n",
       "    .dataframe tbody tr th {\n",
       "        vertical-align: top;\n",
       "    }\n",
       "\n",
       "    .dataframe thead th {\n",
       "        text-align: right;\n",
       "    }\n",
       "</style>\n",
       "<table border=\"1\" class=\"dataframe\">\n",
       "  <thead>\n",
       "    <tr style=\"text-align: right;\">\n",
       "      <th></th>\n",
       "      <th>Indicator Name</th>\n",
       "      <th>Indicator Code</th>\n",
       "    </tr>\n",
       "  </thead>\n",
       "  <tbody>\n",
       "    <tr>\n",
       "      <th>1375</th>\n",
       "      <td>Internet users (per 100 people)</td>\n",
       "      <td>IT.NET.USER.P2</td>\n",
       "    </tr>\n",
       "  </tbody>\n",
       "</table>\n",
       "</div>"
      ],
      "text/plain": [
       "                       Indicator Name  Indicator Code\n",
       "1375  Internet users (per 100 people)  IT.NET.USER.P2"
      ]
     },
     "execution_count": 35,
     "metadata": {},
     "output_type": "execute_result"
    }
   ],
   "source": [
    "list_indicator[list_indicator[\"Indicator Name\"].str.contains(\"Internet\")] # taux d'accès à internet"
   ]
  },
  {
   "cell_type": "markdown",
   "metadata": {},
   "source": [
    "Taux d'internet pour 100 personnes est un indicateur qui nous intéresse. IT.NET.USER.P2"
   ]
  },
  {
   "cell_type": "code",
   "execution_count": 36,
   "metadata": {
    "scrolled": true
   },
   "outputs": [
    {
     "data": {
      "text/html": [
       "<div>\n",
       "<style scoped>\n",
       "    .dataframe tbody tr th:only-of-type {\n",
       "        vertical-align: middle;\n",
       "    }\n",
       "\n",
       "    .dataframe tbody tr th {\n",
       "        vertical-align: top;\n",
       "    }\n",
       "\n",
       "    .dataframe thead th {\n",
       "        text-align: right;\n",
       "    }\n",
       "</style>\n",
       "<table border=\"1\" class=\"dataframe\">\n",
       "  <thead>\n",
       "    <tr style=\"text-align: right;\">\n",
       "      <th></th>\n",
       "      <th>Indicator Name</th>\n",
       "      <th>Indicator Code</th>\n",
       "    </tr>\n",
       "  </thead>\n",
       "  <tbody>\n",
       "    <tr>\n",
       "      <th>2084</th>\n",
       "      <td>Personal computers (per 100 people)</td>\n",
       "      <td>IT.CMP.PCMP.P2</td>\n",
       "    </tr>\n",
       "    <tr>\n",
       "      <th>2102</th>\n",
       "      <td>PIAAC: Adults by proficiency level in problem ...</td>\n",
       "      <td>LO.PIAAC.TEC.NO</td>\n",
       "    </tr>\n",
       "    <tr>\n",
       "      <th>2103</th>\n",
       "      <td>PIAAC: Adults by proficiency level in problem ...</td>\n",
       "      <td>LO.PIAAC.TEC.OPT</td>\n",
       "    </tr>\n",
       "    <tr>\n",
       "      <th>2139</th>\n",
       "      <td>PIAAC: Female adults by proficiency level in p...</td>\n",
       "      <td>LO.PIAAC.TEC.FE.FAILNO</td>\n",
       "    </tr>\n",
       "    <tr>\n",
       "      <th>2154</th>\n",
       "      <td>PIAAC: Male adults by proficiency level in pro...</td>\n",
       "      <td>LO.PIAAC.TEC.MA.FAILNO</td>\n",
       "    </tr>\n",
       "    <tr>\n",
       "      <th>2181</th>\n",
       "      <td>PIAAC: Young adults by proficiency level in pr...</td>\n",
       "      <td>LO.PIAAC.TEC.YOU.FAILNO</td>\n",
       "    </tr>\n",
       "    <tr>\n",
       "      <th>2182</th>\n",
       "      <td>PIAAC: Young adults by proficiency level in pr...</td>\n",
       "      <td>LO.PIAAC.TEC.YOU.OPT</td>\n",
       "    </tr>\n",
       "  </tbody>\n",
       "</table>\n",
       "</div>"
      ],
      "text/plain": [
       "                                         Indicator Name  \\\n",
       "2084                Personal computers (per 100 people)   \n",
       "2102  PIAAC: Adults by proficiency level in problem ...   \n",
       "2103  PIAAC: Adults by proficiency level in problem ...   \n",
       "2139  PIAAC: Female adults by proficiency level in p...   \n",
       "2154  PIAAC: Male adults by proficiency level in pro...   \n",
       "2181  PIAAC: Young adults by proficiency level in pr...   \n",
       "2182  PIAAC: Young adults by proficiency level in pr...   \n",
       "\n",
       "               Indicator Code  \n",
       "2084           IT.CMP.PCMP.P2  \n",
       "2102          LO.PIAAC.TEC.NO  \n",
       "2103         LO.PIAAC.TEC.OPT  \n",
       "2139   LO.PIAAC.TEC.FE.FAILNO  \n",
       "2154   LO.PIAAC.TEC.MA.FAILNO  \n",
       "2181  LO.PIAAC.TEC.YOU.FAILNO  \n",
       "2182     LO.PIAAC.TEC.YOU.OPT  "
      ]
     },
     "execution_count": 36,
     "metadata": {},
     "output_type": "execute_result"
    }
   ],
   "source": [
    "list_indicator[list_indicator[\"Indicator Name\"].str.contains(\"computer\")] # taux d'odinateur personnel"
   ]
  },
  {
   "cell_type": "markdown",
   "metadata": {},
   "source": [
    "Taux d'ordinateur personnel pour 100 personnes est un indicateur qui nous intéresse également. IT.CMP.PCMP.P2\n"
   ]
  },
  {
   "cell_type": "code",
   "execution_count": 37,
   "metadata": {
    "scrolled": false
   },
   "outputs": [
    {
     "data": {
      "text/html": [
       "<div>\n",
       "<style scoped>\n",
       "    .dataframe tbody tr th:only-of-type {\n",
       "        vertical-align: middle;\n",
       "    }\n",
       "\n",
       "    .dataframe tbody tr th {\n",
       "        vertical-align: top;\n",
       "    }\n",
       "\n",
       "    .dataframe thead th {\n",
       "        text-align: right;\n",
       "    }\n",
       "</style>\n",
       "<table border=\"1\" class=\"dataframe\">\n",
       "  <thead>\n",
       "    <tr style=\"text-align: right;\">\n",
       "      <th></th>\n",
       "      <th>Indicator Name</th>\n",
       "      <th>Indicator Code</th>\n",
       "    </tr>\n",
       "  </thead>\n",
       "  <tbody>\n",
       "    <tr>\n",
       "      <th>16</th>\n",
       "      <td>Adult illiterate population, 15+ years, % female</td>\n",
       "      <td>UIS.LPP.AG15T99</td>\n",
       "    </tr>\n",
       "    <tr>\n",
       "      <th>17</th>\n",
       "      <td>Adult illiterate population, 15+ years, both s...</td>\n",
       "      <td>UIS.LP.AG15T99</td>\n",
       "    </tr>\n",
       "    <tr>\n",
       "      <th>18</th>\n",
       "      <td>Adult illiterate population, 15+ years, female...</td>\n",
       "      <td>UIS.LP.AG15T99.F</td>\n",
       "    </tr>\n",
       "    <tr>\n",
       "      <th>19</th>\n",
       "      <td>Adult illiterate population, 15+ years, male (...</td>\n",
       "      <td>UIS.LP.AG15T99.M</td>\n",
       "    </tr>\n",
       "    <tr>\n",
       "      <th>20</th>\n",
       "      <td>Adult literacy rate, population 15+ years, bot...</td>\n",
       "      <td>SE.ADT.LITR.ZS</td>\n",
       "    </tr>\n",
       "    <tr>\n",
       "      <th>...</th>\n",
       "      <td>...</td>\n",
       "      <td>...</td>\n",
       "    </tr>\n",
       "    <tr>\n",
       "      <th>3660</th>\n",
       "      <td>Youth illiterate population, 15-24 years, male...</td>\n",
       "      <td>UIS.LP.AG15T24.M</td>\n",
       "    </tr>\n",
       "    <tr>\n",
       "      <th>3661</th>\n",
       "      <td>Youth literacy rate, population 15-24 years, b...</td>\n",
       "      <td>SE.ADT.1524.LT.ZS</td>\n",
       "    </tr>\n",
       "    <tr>\n",
       "      <th>3662</th>\n",
       "      <td>Youth literacy rate, population 15-24 years, f...</td>\n",
       "      <td>SE.ADT.1524.LT.FE.ZS</td>\n",
       "    </tr>\n",
       "    <tr>\n",
       "      <th>3663</th>\n",
       "      <td>Youth literacy rate, population 15-24 years, g...</td>\n",
       "      <td>SE.ADT.1524.LT.FM.ZS</td>\n",
       "    </tr>\n",
       "    <tr>\n",
       "      <th>3664</th>\n",
       "      <td>Youth literacy rate, population 15-24 years, m...</td>\n",
       "      <td>SE.ADT.1524.LT.MA.ZS</td>\n",
       "    </tr>\n",
       "  </tbody>\n",
       "</table>\n",
       "<p>509 rows × 2 columns</p>\n",
       "</div>"
      ],
      "text/plain": [
       "                                         Indicator Name        Indicator Code\n",
       "16     Adult illiterate population, 15+ years, % female       UIS.LPP.AG15T99\n",
       "17    Adult illiterate population, 15+ years, both s...        UIS.LP.AG15T99\n",
       "18    Adult illiterate population, 15+ years, female...      UIS.LP.AG15T99.F\n",
       "19    Adult illiterate population, 15+ years, male (...      UIS.LP.AG15T99.M\n",
       "20    Adult literacy rate, population 15+ years, bot...        SE.ADT.LITR.ZS\n",
       "...                                                 ...                   ...\n",
       "3660  Youth illiterate population, 15-24 years, male...      UIS.LP.AG15T24.M\n",
       "3661  Youth literacy rate, population 15-24 years, b...     SE.ADT.1524.LT.ZS\n",
       "3662  Youth literacy rate, population 15-24 years, f...  SE.ADT.1524.LT.FE.ZS\n",
       "3663  Youth literacy rate, population 15-24 years, g...  SE.ADT.1524.LT.FM.ZS\n",
       "3664  Youth literacy rate, population 15-24 years, m...  SE.ADT.1524.LT.MA.ZS\n",
       "\n",
       "[509 rows x 2 columns]"
      ]
     },
     "execution_count": 37,
     "metadata": {},
     "output_type": "execute_result"
    }
   ],
   "source": [
    "list_indicator[list_indicator[\"Indicator Name\"].str.contains(\"population\")] # niveau de population"
   ]
  },
  {
   "cell_type": "code",
   "execution_count": 38,
   "metadata": {},
   "outputs": [
    {
     "data": {
      "text/html": [
       "<div>\n",
       "<style scoped>\n",
       "    .dataframe tbody tr th:only-of-type {\n",
       "        vertical-align: middle;\n",
       "    }\n",
       "\n",
       "    .dataframe tbody tr th {\n",
       "        vertical-align: top;\n",
       "    }\n",
       "\n",
       "    .dataframe thead th {\n",
       "        text-align: right;\n",
       "    }\n",
       "</style>\n",
       "<table border=\"1\" class=\"dataframe\">\n",
       "  <thead>\n",
       "    <tr style=\"text-align: right;\">\n",
       "      <th></th>\n",
       "      <th>Indicator Name</th>\n",
       "      <th>Indicator Code</th>\n",
       "    </tr>\n",
       "  </thead>\n",
       "  <tbody>\n",
       "    <tr>\n",
       "      <th>1204</th>\n",
       "      <td>Enrolment in tertiary education, all programme...</td>\n",
       "      <td>SE.TER.ENRL</td>\n",
       "    </tr>\n",
       "    <tr>\n",
       "      <th>1205</th>\n",
       "      <td>Enrolment in tertiary education, all programme...</td>\n",
       "      <td>SE.TER.ENRL.FE</td>\n",
       "    </tr>\n",
       "    <tr>\n",
       "      <th>2050</th>\n",
       "      <td>Percentage of students in tertiary education w...</td>\n",
       "      <td>SE.TER.ENRL.FE.ZS</td>\n",
       "    </tr>\n",
       "  </tbody>\n",
       "</table>\n",
       "</div>"
      ],
      "text/plain": [
       "                                         Indicator Name     Indicator Code\n",
       "1204  Enrolment in tertiary education, all programme...        SE.TER.ENRL\n",
       "1205  Enrolment in tertiary education, all programme...     SE.TER.ENRL.FE\n",
       "2050  Percentage of students in tertiary education w...  SE.TER.ENRL.FE.ZS"
      ]
     },
     "execution_count": 38,
     "metadata": {},
     "output_type": "execute_result"
    }
   ],
   "source": [
    "list_indicator[list_indicator[\"Indicator Code\"].str.contains(\"SE.TER.ENRL\")] # étudiant du tertiaire (université)"
   ]
  },
  {
   "cell_type": "code",
   "execution_count": 39,
   "metadata": {},
   "outputs": [
    {
     "data": {
      "text/html": [
       "<div>\n",
       "<style scoped>\n",
       "    .dataframe tbody tr th:only-of-type {\n",
       "        vertical-align: middle;\n",
       "    }\n",
       "\n",
       "    .dataframe tbody tr th {\n",
       "        vertical-align: top;\n",
       "    }\n",
       "\n",
       "    .dataframe thead th {\n",
       "        text-align: right;\n",
       "    }\n",
       "</style>\n",
       "<table border=\"1\" class=\"dataframe\">\n",
       "  <thead>\n",
       "    <tr style=\"text-align: right;\">\n",
       "      <th></th>\n",
       "      <th>Indicator Name</th>\n",
       "      <th>Indicator Code</th>\n",
       "    </tr>\n",
       "  </thead>\n",
       "  <tbody>\n",
       "    <tr>\n",
       "      <th>1214</th>\n",
       "      <td>Enrolment in upper secondary education, both s...</td>\n",
       "      <td>UIS.E.3</td>\n",
       "    </tr>\n",
       "  </tbody>\n",
       "</table>\n",
       "</div>"
      ],
      "text/plain": [
       "                                         Indicator Name Indicator Code\n",
       "1214  Enrolment in upper secondary education, both s...        UIS.E.3"
      ]
     },
     "execution_count": 39,
     "metadata": {},
     "output_type": "execute_result"
    }
   ],
   "source": [
    "# UIS.E.3     UIS.E.4\n",
    "list_indicator[list_indicator[\"Indicator Code\"].str.contains(\"UIS.E.3\")].head(1) # étudiant secondaire"
   ]
  },
  {
   "cell_type": "code",
   "execution_count": 40,
   "metadata": {
    "scrolled": false
   },
   "outputs": [
    {
     "data": {
      "text/html": [
       "<div>\n",
       "<style scoped>\n",
       "    .dataframe tbody tr th:only-of-type {\n",
       "        vertical-align: middle;\n",
       "    }\n",
       "\n",
       "    .dataframe tbody tr th {\n",
       "        vertical-align: top;\n",
       "    }\n",
       "\n",
       "    .dataframe thead th {\n",
       "        text-align: right;\n",
       "    }\n",
       "</style>\n",
       "<table border=\"1\" class=\"dataframe\">\n",
       "  <thead>\n",
       "    <tr style=\"text-align: right;\">\n",
       "      <th></th>\n",
       "      <th>Indicator Name</th>\n",
       "      <th>Indicator Code</th>\n",
       "    </tr>\n",
       "  </thead>\n",
       "  <tbody>\n",
       "    <tr>\n",
       "      <th>1248</th>\n",
       "      <td>GDP, PPP (constant 2011 international $)</td>\n",
       "      <td>NY.GDP.MKTP.PP.KD</td>\n",
       "    </tr>\n",
       "    <tr>\n",
       "      <th>1249</th>\n",
       "      <td>GDP, PPP (current international $)</td>\n",
       "      <td>NY.GDP.MKTP.PP.CD</td>\n",
       "    </tr>\n",
       "  </tbody>\n",
       "</table>\n",
       "</div>"
      ],
      "text/plain": [
       "                                Indicator Name     Indicator Code\n",
       "1248  GDP, PPP (constant 2011 international $)  NY.GDP.MKTP.PP.KD\n",
       "1249        GDP, PPP (current international $)  NY.GDP.MKTP.PP.CD"
      ]
     },
     "execution_count": 40,
     "metadata": {},
     "output_type": "execute_result"
    }
   ],
   "source": [
    "list_indicator[list_indicator[\"Indicator Name\"].str.contains(\"GDP, PPP\")] # niveau de richesse"
   ]
  },
  {
   "cell_type": "markdown",
   "metadata": {},
   "source": [
    "On identifie les années avec le moins de valeurs manquantes."
   ]
  },
  {
   "cell_type": "code",
   "execution_count": 41,
   "metadata": {},
   "outputs": [
    {
     "data": {
      "text/plain": [
       "2010    0.726650\n",
       "2005    0.792421\n",
       "2000    0.800801\n",
       "2012    0.833962\n",
       "2011    0.835374\n",
       "2009    0.839775\n",
       "2006    0.841800\n",
       "2013    0.844961\n",
       "2007    0.845228\n",
       "2008    0.848481\n",
       "dtype: float64"
      ]
     },
     "execution_count": 41,
     "metadata": {},
     "output_type": "execute_result"
    }
   ],
   "source": [
    "df.select_dtypes(include=['float64']).isna().mean().sort_values().head(10)"
   ]
  },
  {
   "cell_type": "markdown",
   "metadata": {},
   "source": [
    "On regarde les années et indicateurs qui ont le moins de valeurs manquantes pour finaliser notre sélection."
   ]
  },
  {
   "cell_type": "code",
   "execution_count": 42,
   "metadata": {},
   "outputs": [
    {
     "data": {
      "text/html": [
       "<div>\n",
       "<style scoped>\n",
       "    .dataframe tbody tr th:only-of-type {\n",
       "        vertical-align: middle;\n",
       "    }\n",
       "\n",
       "    .dataframe tbody tr th {\n",
       "        vertical-align: top;\n",
       "    }\n",
       "\n",
       "    .dataframe thead th {\n",
       "        text-align: right;\n",
       "    }\n",
       "</style>\n",
       "<table border=\"1\" class=\"dataframe\">\n",
       "  <thead>\n",
       "    <tr style=\"text-align: right;\">\n",
       "      <th></th>\n",
       "      <th></th>\n",
       "      <th>Indicator Name</th>\n",
       "      <th>Indicator Code</th>\n",
       "      <th>2010</th>\n",
       "      <th>2015</th>\n",
       "      <th>2017</th>\n",
       "    </tr>\n",
       "    <tr>\n",
       "      <th>Indicator Name</th>\n",
       "      <th>Indicator Code</th>\n",
       "      <th></th>\n",
       "      <th></th>\n",
       "      <th></th>\n",
       "      <th></th>\n",
       "      <th></th>\n",
       "    </tr>\n",
       "  </thead>\n",
       "  <tbody>\n",
       "    <tr>\n",
       "      <th>Adjusted net enrolment rate, lower secondary, both sexes (%)</th>\n",
       "      <th>UIS.NERA.2</th>\n",
       "      <td>0</td>\n",
       "      <td>0</td>\n",
       "      <td>136</td>\n",
       "      <td>239</td>\n",
       "      <td>242</td>\n",
       "    </tr>\n",
       "    <tr>\n",
       "      <th>Adjusted net enrolment rate, lower secondary, female (%)</th>\n",
       "      <th>UIS.NERA.2.F</th>\n",
       "      <td>0</td>\n",
       "      <td>0</td>\n",
       "      <td>139</td>\n",
       "      <td>239</td>\n",
       "      <td>242</td>\n",
       "    </tr>\n",
       "    <tr>\n",
       "      <th>Adjusted net enrolment rate, lower secondary, gender parity index (GPI)</th>\n",
       "      <th>UIS.NERA.2.GPI</th>\n",
       "      <td>0</td>\n",
       "      <td>0</td>\n",
       "      <td>139</td>\n",
       "      <td>239</td>\n",
       "      <td>242</td>\n",
       "    </tr>\n",
       "    <tr>\n",
       "      <th>Adjusted net enrolment rate, lower secondary, male (%)</th>\n",
       "      <th>UIS.NERA.2.M</th>\n",
       "      <td>0</td>\n",
       "      <td>0</td>\n",
       "      <td>139</td>\n",
       "      <td>239</td>\n",
       "      <td>242</td>\n",
       "    </tr>\n",
       "    <tr>\n",
       "      <th>Adjusted net enrolment rate, primary, both sexes (%)</th>\n",
       "      <th>SE.PRM.TENR</th>\n",
       "      <td>0</td>\n",
       "      <td>0</td>\n",
       "      <td>86</td>\n",
       "      <td>123</td>\n",
       "      <td>242</td>\n",
       "    </tr>\n",
       "    <tr>\n",
       "      <th>...</th>\n",
       "      <th>...</th>\n",
       "      <td>...</td>\n",
       "      <td>...</td>\n",
       "      <td>...</td>\n",
       "      <td>...</td>\n",
       "      <td>...</td>\n",
       "    </tr>\n",
       "    <tr>\n",
       "      <th>Youth illiterate population, 15-24 years, male (number)</th>\n",
       "      <th>UIS.LP.AG15T24.M</th>\n",
       "      <td>0</td>\n",
       "      <td>0</td>\n",
       "      <td>182</td>\n",
       "      <td>211</td>\n",
       "      <td>242</td>\n",
       "    </tr>\n",
       "    <tr>\n",
       "      <th>Youth literacy rate, population 15-24 years, both sexes (%)</th>\n",
       "      <th>SE.ADT.1524.LT.ZS</th>\n",
       "      <td>0</td>\n",
       "      <td>0</td>\n",
       "      <td>175</td>\n",
       "      <td>210</td>\n",
       "      <td>242</td>\n",
       "    </tr>\n",
       "    <tr>\n",
       "      <th>Youth literacy rate, population 15-24 years, female (%)</th>\n",
       "      <th>SE.ADT.1524.LT.FE.ZS</th>\n",
       "      <td>0</td>\n",
       "      <td>0</td>\n",
       "      <td>175</td>\n",
       "      <td>210</td>\n",
       "      <td>242</td>\n",
       "    </tr>\n",
       "    <tr>\n",
       "      <th>Youth literacy rate, population 15-24 years, gender parity index (GPI)</th>\n",
       "      <th>SE.ADT.1524.LT.FM.ZS</th>\n",
       "      <td>0</td>\n",
       "      <td>0</td>\n",
       "      <td>175</td>\n",
       "      <td>210</td>\n",
       "      <td>242</td>\n",
       "    </tr>\n",
       "    <tr>\n",
       "      <th>Youth literacy rate, population 15-24 years, male (%)</th>\n",
       "      <th>SE.ADT.1524.LT.MA.ZS</th>\n",
       "      <td>0</td>\n",
       "      <td>0</td>\n",
       "      <td>175</td>\n",
       "      <td>210</td>\n",
       "      <td>242</td>\n",
       "    </tr>\n",
       "  </tbody>\n",
       "</table>\n",
       "<p>3665 rows × 5 columns</p>\n",
       "</div>"
      ],
      "text/plain": [
       "                                                                         Indicator Name  \\\n",
       "Indicator Name                                     Indicator Code                         \n",
       "Adjusted net enrolment rate, lower secondary, b... UIS.NERA.2                         0   \n",
       "Adjusted net enrolment rate, lower secondary, f... UIS.NERA.2.F                       0   \n",
       "Adjusted net enrolment rate, lower secondary, g... UIS.NERA.2.GPI                     0   \n",
       "Adjusted net enrolment rate, lower secondary, m... UIS.NERA.2.M                       0   \n",
       "Adjusted net enrolment rate, primary, both sexe... SE.PRM.TENR                        0   \n",
       "...                                                                                 ...   \n",
       "Youth illiterate population, 15-24 years, male ... UIS.LP.AG15T24.M                   0   \n",
       "Youth literacy rate, population 15-24 years, bo... SE.ADT.1524.LT.ZS                  0   \n",
       "Youth literacy rate, population 15-24 years, fe... SE.ADT.1524.LT.FE.ZS               0   \n",
       "Youth literacy rate, population 15-24 years, ge... SE.ADT.1524.LT.FM.ZS               0   \n",
       "Youth literacy rate, population 15-24 years, ma... SE.ADT.1524.LT.MA.ZS               0   \n",
       "\n",
       "                                                                         Indicator Code  \\\n",
       "Indicator Name                                     Indicator Code                         \n",
       "Adjusted net enrolment rate, lower secondary, b... UIS.NERA.2                         0   \n",
       "Adjusted net enrolment rate, lower secondary, f... UIS.NERA.2.F                       0   \n",
       "Adjusted net enrolment rate, lower secondary, g... UIS.NERA.2.GPI                     0   \n",
       "Adjusted net enrolment rate, lower secondary, m... UIS.NERA.2.M                       0   \n",
       "Adjusted net enrolment rate, primary, both sexe... SE.PRM.TENR                        0   \n",
       "...                                                                                 ...   \n",
       "Youth illiterate population, 15-24 years, male ... UIS.LP.AG15T24.M                   0   \n",
       "Youth literacy rate, population 15-24 years, bo... SE.ADT.1524.LT.ZS                  0   \n",
       "Youth literacy rate, population 15-24 years, fe... SE.ADT.1524.LT.FE.ZS               0   \n",
       "Youth literacy rate, population 15-24 years, ge... SE.ADT.1524.LT.FM.ZS               0   \n",
       "Youth literacy rate, population 15-24 years, ma... SE.ADT.1524.LT.MA.ZS               0   \n",
       "\n",
       "                                                                         2010  \\\n",
       "Indicator Name                                     Indicator Code               \n",
       "Adjusted net enrolment rate, lower secondary, b... UIS.NERA.2             136   \n",
       "Adjusted net enrolment rate, lower secondary, f... UIS.NERA.2.F           139   \n",
       "Adjusted net enrolment rate, lower secondary, g... UIS.NERA.2.GPI         139   \n",
       "Adjusted net enrolment rate, lower secondary, m... UIS.NERA.2.M           139   \n",
       "Adjusted net enrolment rate, primary, both sexe... SE.PRM.TENR             86   \n",
       "...                                                                       ...   \n",
       "Youth illiterate population, 15-24 years, male ... UIS.LP.AG15T24.M       182   \n",
       "Youth literacy rate, population 15-24 years, bo... SE.ADT.1524.LT.ZS      175   \n",
       "Youth literacy rate, population 15-24 years, fe... SE.ADT.1524.LT.FE.ZS   175   \n",
       "Youth literacy rate, population 15-24 years, ge... SE.ADT.1524.LT.FM.ZS   175   \n",
       "Youth literacy rate, population 15-24 years, ma... SE.ADT.1524.LT.MA.ZS   175   \n",
       "\n",
       "                                                                         2015  \\\n",
       "Indicator Name                                     Indicator Code               \n",
       "Adjusted net enrolment rate, lower secondary, b... UIS.NERA.2             239   \n",
       "Adjusted net enrolment rate, lower secondary, f... UIS.NERA.2.F           239   \n",
       "Adjusted net enrolment rate, lower secondary, g... UIS.NERA.2.GPI         239   \n",
       "Adjusted net enrolment rate, lower secondary, m... UIS.NERA.2.M           239   \n",
       "Adjusted net enrolment rate, primary, both sexe... SE.PRM.TENR            123   \n",
       "...                                                                       ...   \n",
       "Youth illiterate population, 15-24 years, male ... UIS.LP.AG15T24.M       211   \n",
       "Youth literacy rate, population 15-24 years, bo... SE.ADT.1524.LT.ZS      210   \n",
       "Youth literacy rate, population 15-24 years, fe... SE.ADT.1524.LT.FE.ZS   210   \n",
       "Youth literacy rate, population 15-24 years, ge... SE.ADT.1524.LT.FM.ZS   210   \n",
       "Youth literacy rate, population 15-24 years, ma... SE.ADT.1524.LT.MA.ZS   210   \n",
       "\n",
       "                                                                         2017  \n",
       "Indicator Name                                     Indicator Code              \n",
       "Adjusted net enrolment rate, lower secondary, b... UIS.NERA.2             242  \n",
       "Adjusted net enrolment rate, lower secondary, f... UIS.NERA.2.F           242  \n",
       "Adjusted net enrolment rate, lower secondary, g... UIS.NERA.2.GPI         242  \n",
       "Adjusted net enrolment rate, lower secondary, m... UIS.NERA.2.M           242  \n",
       "Adjusted net enrolment rate, primary, both sexe... SE.PRM.TENR            242  \n",
       "...                                                                       ...  \n",
       "Youth illiterate population, 15-24 years, male ... UIS.LP.AG15T24.M       242  \n",
       "Youth literacy rate, population 15-24 years, bo... SE.ADT.1524.LT.ZS      242  \n",
       "Youth literacy rate, population 15-24 years, fe... SE.ADT.1524.LT.FE.ZS   242  \n",
       "Youth literacy rate, population 15-24 years, ge... SE.ADT.1524.LT.FM.ZS   242  \n",
       "Youth literacy rate, population 15-24 years, ma... SE.ADT.1524.LT.MA.ZS   242  \n",
       "\n",
       "[3665 rows x 5 columns]"
      ]
     },
     "execution_count": 42,
     "metadata": {},
     "output_type": "execute_result"
    }
   ],
   "source": [
    "df2 = df[[\"Indicator Name\",\"Indicator Code\",\"2010\",\"2015\",\"2017\"]].groupby([\"Indicator Name\",\"Indicator Code\"]).apply(lambda x: x.isnull().sum())\n",
    "df2"
   ]
  },
  {
   "cell_type": "code",
   "execution_count": 43,
   "metadata": {
    "scrolled": true
   },
   "outputs": [
    {
     "data": {
      "text/html": [
       "<div>\n",
       "<style scoped>\n",
       "    .dataframe tbody tr th:only-of-type {\n",
       "        vertical-align: middle;\n",
       "    }\n",
       "\n",
       "    .dataframe tbody tr th {\n",
       "        vertical-align: top;\n",
       "    }\n",
       "\n",
       "    .dataframe thead th {\n",
       "        text-align: right;\n",
       "    }\n",
       "</style>\n",
       "<table border=\"1\" class=\"dataframe\">\n",
       "  <thead>\n",
       "    <tr style=\"text-align: right;\">\n",
       "      <th></th>\n",
       "      <th></th>\n",
       "      <th>Indicator Name</th>\n",
       "      <th>Indicator Code</th>\n",
       "      <th>2010</th>\n",
       "      <th>2015</th>\n",
       "      <th>2017</th>\n",
       "    </tr>\n",
       "    <tr>\n",
       "      <th>Indicator Name</th>\n",
       "      <th>Indicator Code</th>\n",
       "      <th></th>\n",
       "      <th></th>\n",
       "      <th></th>\n",
       "      <th></th>\n",
       "      <th></th>\n",
       "    </tr>\n",
       "  </thead>\n",
       "  <tbody>\n",
       "    <tr>\n",
       "      <th>Population, total</th>\n",
       "      <th>SP.POP.TOTL</th>\n",
       "      <td>0</td>\n",
       "      <td>0</td>\n",
       "      <td>2</td>\n",
       "      <td>10</td>\n",
       "      <td>242</td>\n",
       "    </tr>\n",
       "    <tr>\n",
       "      <th>Population growth (annual %)</th>\n",
       "      <th>SP.POP.GROW</th>\n",
       "      <td>0</td>\n",
       "      <td>0</td>\n",
       "      <td>2</td>\n",
       "      <td>10</td>\n",
       "      <td>242</td>\n",
       "    </tr>\n",
       "    <tr>\n",
       "      <th>GDP at market prices (current US$)</th>\n",
       "      <th>NY.GDP.MKTP.CD</th>\n",
       "      <td>0</td>\n",
       "      <td>0</td>\n",
       "      <td>14</td>\n",
       "      <td>24</td>\n",
       "      <td>242</td>\n",
       "    </tr>\n",
       "    <tr>\n",
       "      <th>GDP per capita (current US$)</th>\n",
       "      <th>NY.GDP.PCAP.CD</th>\n",
       "      <td>0</td>\n",
       "      <td>0</td>\n",
       "      <td>14</td>\n",
       "      <td>24</td>\n",
       "      <td>242</td>\n",
       "    </tr>\n",
       "    <tr>\n",
       "      <th>GDP at market prices (constant 2005 US$)</th>\n",
       "      <th>NY.GDP.MKTP.KD</th>\n",
       "      <td>0</td>\n",
       "      <td>0</td>\n",
       "      <td>15</td>\n",
       "      <td>27</td>\n",
       "      <td>242</td>\n",
       "    </tr>\n",
       "  </tbody>\n",
       "</table>\n",
       "</div>"
      ],
      "text/plain": [
       "                                                         Indicator Name  \\\n",
       "Indicator Name                           Indicator Code                   \n",
       "Population, total                        SP.POP.TOTL                  0   \n",
       "Population growth (annual %)             SP.POP.GROW                  0   \n",
       "GDP at market prices (current US$)       NY.GDP.MKTP.CD               0   \n",
       "GDP per capita (current US$)             NY.GDP.PCAP.CD               0   \n",
       "GDP at market prices (constant 2005 US$) NY.GDP.MKTP.KD               0   \n",
       "\n",
       "                                                         Indicator Code  2010  \\\n",
       "Indicator Name                           Indicator Code                         \n",
       "Population, total                        SP.POP.TOTL                  0     2   \n",
       "Population growth (annual %)             SP.POP.GROW                  0     2   \n",
       "GDP at market prices (current US$)       NY.GDP.MKTP.CD               0    14   \n",
       "GDP per capita (current US$)             NY.GDP.PCAP.CD               0    14   \n",
       "GDP at market prices (constant 2005 US$) NY.GDP.MKTP.KD               0    15   \n",
       "\n",
       "                                                         2015  2017  \n",
       "Indicator Name                           Indicator Code              \n",
       "Population, total                        SP.POP.TOTL       10   242  \n",
       "Population growth (annual %)             SP.POP.GROW       10   242  \n",
       "GDP at market prices (current US$)       NY.GDP.MKTP.CD    24   242  \n",
       "GDP per capita (current US$)             NY.GDP.PCAP.CD    24   242  \n",
       "GDP at market prices (constant 2005 US$) NY.GDP.MKTP.KD    27   242  "
      ]
     },
     "execution_count": 43,
     "metadata": {},
     "output_type": "execute_result"
    }
   ],
   "source": [
    "df2.sort_values(\"2010\").head()"
   ]
  },
  {
   "cell_type": "code",
   "execution_count": 44,
   "metadata": {
    "scrolled": false
   },
   "outputs": [
    {
     "data": {
      "text/html": [
       "<div>\n",
       "<style scoped>\n",
       "    .dataframe tbody tr th:only-of-type {\n",
       "        vertical-align: middle;\n",
       "    }\n",
       "\n",
       "    .dataframe tbody tr th {\n",
       "        vertical-align: top;\n",
       "    }\n",
       "\n",
       "    .dataframe thead th {\n",
       "        text-align: right;\n",
       "    }\n",
       "</style>\n",
       "<table border=\"1\" class=\"dataframe\">\n",
       "  <thead>\n",
       "    <tr style=\"text-align: right;\">\n",
       "      <th></th>\n",
       "      <th></th>\n",
       "      <th>Indicator Name</th>\n",
       "      <th>Indicator Code</th>\n",
       "      <th>2010</th>\n",
       "      <th>2015</th>\n",
       "      <th>2017</th>\n",
       "    </tr>\n",
       "    <tr>\n",
       "      <th>Indicator Name</th>\n",
       "      <th>Indicator Code</th>\n",
       "      <th></th>\n",
       "      <th></th>\n",
       "      <th></th>\n",
       "      <th></th>\n",
       "      <th></th>\n",
       "    </tr>\n",
       "  </thead>\n",
       "  <tbody>\n",
       "    <tr>\n",
       "      <th>Population growth (annual %)</th>\n",
       "      <th>SP.POP.GROW</th>\n",
       "      <td>0</td>\n",
       "      <td>0</td>\n",
       "      <td>2</td>\n",
       "      <td>10</td>\n",
       "      <td>242</td>\n",
       "    </tr>\n",
       "    <tr>\n",
       "      <th>Population, total</th>\n",
       "      <th>SP.POP.TOTL</th>\n",
       "      <td>0</td>\n",
       "      <td>0</td>\n",
       "      <td>2</td>\n",
       "      <td>10</td>\n",
       "      <td>242</td>\n",
       "    </tr>\n",
       "    <tr>\n",
       "      <th>Internet users (per 100 people)</th>\n",
       "      <th>IT.NET.USER.P2</th>\n",
       "      <td>0</td>\n",
       "      <td>0</td>\n",
       "      <td>15</td>\n",
       "      <td>19</td>\n",
       "      <td>242</td>\n",
       "    </tr>\n",
       "    <tr>\n",
       "      <th>GDP at market prices (current US$)</th>\n",
       "      <th>NY.GDP.MKTP.CD</th>\n",
       "      <td>0</td>\n",
       "      <td>0</td>\n",
       "      <td>14</td>\n",
       "      <td>24</td>\n",
       "      <td>242</td>\n",
       "    </tr>\n",
       "    <tr>\n",
       "      <th>GDP per capita (current US$)</th>\n",
       "      <th>NY.GDP.PCAP.CD</th>\n",
       "      <td>0</td>\n",
       "      <td>0</td>\n",
       "      <td>14</td>\n",
       "      <td>24</td>\n",
       "      <td>242</td>\n",
       "    </tr>\n",
       "  </tbody>\n",
       "</table>\n",
       "</div>"
      ],
      "text/plain": [
       "                                                   Indicator Name  \\\n",
       "Indicator Name                     Indicator Code                   \n",
       "Population growth (annual %)       SP.POP.GROW                  0   \n",
       "Population, total                  SP.POP.TOTL                  0   \n",
       "Internet users (per 100 people)    IT.NET.USER.P2               0   \n",
       "GDP at market prices (current US$) NY.GDP.MKTP.CD               0   \n",
       "GDP per capita (current US$)       NY.GDP.PCAP.CD               0   \n",
       "\n",
       "                                                   Indicator Code  2010  2015  \\\n",
       "Indicator Name                     Indicator Code                               \n",
       "Population growth (annual %)       SP.POP.GROW                  0     2    10   \n",
       "Population, total                  SP.POP.TOTL                  0     2    10   \n",
       "Internet users (per 100 people)    IT.NET.USER.P2               0    15    19   \n",
       "GDP at market prices (current US$) NY.GDP.MKTP.CD               0    14    24   \n",
       "GDP per capita (current US$)       NY.GDP.PCAP.CD               0    14    24   \n",
       "\n",
       "                                                   2017  \n",
       "Indicator Name                     Indicator Code        \n",
       "Population growth (annual %)       SP.POP.GROW      242  \n",
       "Population, total                  SP.POP.TOTL      242  \n",
       "Internet users (per 100 people)    IT.NET.USER.P2   242  \n",
       "GDP at market prices (current US$) NY.GDP.MKTP.CD   242  \n",
       "GDP per capita (current US$)       NY.GDP.PCAP.CD   242  "
      ]
     },
     "execution_count": 44,
     "metadata": {},
     "output_type": "execute_result"
    }
   ],
   "source": [
    "df2.sort_values(\"2015\").head()"
   ]
  },
  {
   "cell_type": "markdown",
   "metadata": {},
   "source": [
    "Si les années 2010 et 2015 donnent peut de NA sur les données économiques\n",
    "L'année 2020  nous offre des données démographique mieux renseigné sur la partie % d'étudiant."
   ]
  },
  {
   "cell_type": "code",
   "execution_count": 45,
   "metadata": {
    "scrolled": true
   },
   "outputs": [
    {
     "data": {
      "text/plain": [
       "Indicator Code    0.0\n",
       "2020              1.0\n",
       "dtype: float64"
      ]
     },
     "execution_count": 45,
     "metadata": {},
     "output_type": "execute_result"
    }
   ],
   "source": [
    "df.loc[df[\"Indicator Code\"]==\"UIS.E.3\",[\"Indicator Code\",\"2020\"]].isna().mean()"
   ]
  },
  {
   "cell_type": "markdown",
   "metadata": {},
   "source": [
    "## Sélection des variables en fonction du taux de remplissage"
   ]
  },
  {
   "cell_type": "code",
   "execution_count": 46,
   "metadata": {},
   "outputs": [],
   "source": [
    "nos_indicateurs = [\"IT.NET.USER.P2\", # taux d'accès internet\n",
    "                   \"IT.CMP.PCMP.P2\", # taux d'accès à un ordinateur personnel\n",
    "                   \"SE.TER.ENRL\", #  étudiant du tertiaire (université)\n",
    "                   \"UIS.E.3\", # étudiant secondaire\n",
    "                   \"UIS.E.4\", # étudiant post secondaire\n",
    "                   \"SP.POP.TOTL\", # population totale\n",
    "                   \"SP.POP.GROW\", # croissance démographique \n",
    "                   \"NY.GDP.MKTP.CD\", # Pib prix des marchés\n",
    "                   \"NY.GDP.PCAP.CD\"] # pib par tête/habitant"
   ]
  },
  {
   "cell_type": "code",
   "execution_count": 47,
   "metadata": {},
   "outputs": [],
   "source": [
    "data = df.loc[df[\"Indicator Code\"].isin(nos_indicateurs),:]\n"
   ]
  },
  {
   "cell_type": "code",
   "execution_count": 48,
   "metadata": {},
   "outputs": [
    {
     "data": {
      "image/png": "[encoded data removed]",
      "text/plain": [
       "<Figure size 2160x432 with 1 Axes>"
      ]
     },
     "metadata": {},
     "output_type": "display_data"
    }
   ],
   "source": [
    "taux_de_remplissage = 1-((data.isna().sum())/data.shape[0])\n",
    "taux_de_remplissage = taux_de_remplissage.to_frame()\n",
    "#taux_de_remplissage\n",
    "plt.figure(figsize=(30,6))\n",
    "sns.lineplot(x=taux_de_remplissage.index, y=taux_de_remplissage[0], data=taux_de_remplissage).set(title='Taux de remplissage par variables', xlabel='',ylabel='')\n",
    "plt.show()"
   ]
  },
  {
   "cell_type": "markdown",
   "metadata": {},
   "source": [
    "On sélectionne des dates pertinantes"
   ]
  },
  {
   "cell_type": "code",
   "execution_count": 49,
   "metadata": {},
   "outputs": [],
   "source": [
    "nos_variables = ['Country Name', 'Country Code', 'Indicator Name', 'Indicator Code','1985','1990','1995','1998','1999','2000','2010',\n",
    "       '2015','2016','2017','2020', '2025', '2030', '2035', '2040', '2045',\n",
    "       '2050']"
   ]
  },
  {
   "cell_type": "code",
   "execution_count": 50,
   "metadata": {},
   "outputs": [],
   "source": [
    "data = df.loc[df[\"Indicator Code\"].isin(nos_indicateurs),:]\n",
    "data = data[nos_variables]"
   ]
  },
  {
   "cell_type": "code",
   "execution_count": 51,
   "metadata": {},
   "outputs": [
    {
     "data": {
      "text/html": [
       "<div>\n",
       "<style scoped>\n",
       "    .dataframe tbody tr th:only-of-type {\n",
       "        vertical-align: middle;\n",
       "    }\n",
       "\n",
       "    .dataframe tbody tr th {\n",
       "        vertical-align: top;\n",
       "    }\n",
       "\n",
       "    .dataframe thead th {\n",
       "        text-align: right;\n",
       "    }\n",
       "</style>\n",
       "<table border=\"1\" class=\"dataframe\">\n",
       "  <thead>\n",
       "    <tr style=\"text-align: right;\">\n",
       "      <th></th>\n",
       "      <th>Country Code</th>\n",
       "      <th>Indicator Name</th>\n",
       "      <th>Indicator Code</th>\n",
       "      <th>1985</th>\n",
       "      <th>1990</th>\n",
       "      <th>1995</th>\n",
       "      <th>1998</th>\n",
       "      <th>1999</th>\n",
       "      <th>2000</th>\n",
       "      <th>2010</th>\n",
       "      <th>2015</th>\n",
       "      <th>2016</th>\n",
       "      <th>2017</th>\n",
       "      <th>2020</th>\n",
       "      <th>2025</th>\n",
       "      <th>2030</th>\n",
       "      <th>2035</th>\n",
       "      <th>2040</th>\n",
       "      <th>2045</th>\n",
       "      <th>2050</th>\n",
       "    </tr>\n",
       "    <tr>\n",
       "      <th>Country Name</th>\n",
       "      <th></th>\n",
       "      <th></th>\n",
       "      <th></th>\n",
       "      <th></th>\n",
       "      <th></th>\n",
       "      <th></th>\n",
       "      <th></th>\n",
       "      <th></th>\n",
       "      <th></th>\n",
       "      <th></th>\n",
       "      <th></th>\n",
       "      <th></th>\n",
       "      <th></th>\n",
       "      <th></th>\n",
       "      <th></th>\n",
       "      <th></th>\n",
       "      <th></th>\n",
       "      <th></th>\n",
       "      <th></th>\n",
       "      <th></th>\n",
       "    </tr>\n",
       "  </thead>\n",
       "  <tbody>\n",
       "    <tr>\n",
       "      <th>False</th>\n",
       "      <td>0.0</td>\n",
       "      <td>0.0</td>\n",
       "      <td>0.0</td>\n",
       "      <td>0.549128</td>\n",
       "      <td>0.385675</td>\n",
       "      <td>0.380624</td>\n",
       "      <td>0.329201</td>\n",
       "      <td>0.192378</td>\n",
       "      <td>0.187787</td>\n",
       "      <td>0.266758</td>\n",
       "      <td>0.426997</td>\n",
       "      <td>0.487603</td>\n",
       "      <td>1.0</td>\n",
       "      <td>1.0</td>\n",
       "      <td>1.0</td>\n",
       "      <td>1.0</td>\n",
       "      <td>1.0</td>\n",
       "      <td>1.0</td>\n",
       "      <td>1.0</td>\n",
       "      <td>1.0</td>\n",
       "    </tr>\n",
       "  </tbody>\n",
       "</table>\n",
       "</div>"
      ],
      "text/plain": [
       "              Country Code  Indicator Name  Indicator Code      1985  \\\n",
       "Country Name                                                           \n",
       "False                  0.0             0.0             0.0  0.549128   \n",
       "\n",
       "                  1990      1995      1998      1999      2000      2010  \\\n",
       "Country Name                                                               \n",
       "False         0.385675  0.380624  0.329201  0.192378  0.187787  0.266758   \n",
       "\n",
       "                  2015      2016  2017  2020  2025  2030  2035  2040  2045  \\\n",
       "Country Name                                                                 \n",
       "False         0.426997  0.487603   1.0   1.0   1.0   1.0   1.0   1.0   1.0   \n",
       "\n",
       "              2050  \n",
       "Country Name        \n",
       "False          1.0  "
      ]
     },
     "execution_count": 51,
     "metadata": {},
     "output_type": "execute_result"
    }
   ],
   "source": [
    "data.isna().groupby('Country Name').mean()"
   ]
  },
  {
   "cell_type": "code",
   "execution_count": 52,
   "metadata": {
    "scrolled": true
   },
   "outputs": [],
   "source": [
    "taux_de_remplissage = 1-((data.isna().sum())/data.shape[0])\n",
    "taux_de_remplissage = taux_de_remplissage.to_frame()\n",
    "#taux_de_remplissage"
   ]
  },
  {
   "cell_type": "code",
   "execution_count": 53,
   "metadata": {},
   "outputs": [
    {
     "data": {
      "image/png": "[encoded data removed]",
      "text/plain": [
       "<Figure size 2160x432 with 1 Axes>"
      ]
     },
     "metadata": {},
     "output_type": "display_data"
    }
   ],
   "source": [
    "plt.figure(figsize=(30,6))\n",
    "sns.lineplot(x=taux_de_remplissage.index, y=taux_de_remplissage[0], data=taux_de_remplissage).set(title='Taux de remplissage par variables', xlabel='',ylabel='')\n",
    "plt.show()"
   ]
  },
  {
   "cell_type": "code",
   "execution_count": 54,
   "metadata": {},
   "outputs": [
    {
     "data": {
      "text/plain": [
       "array(['Enrolment in post-secondary non-tertiary education, both sexes (number)',\n",
       "       'Enrolment in tertiary education, all programmes, both sexes (number)',\n",
       "       'Enrolment in upper secondary education, both sexes (number)',\n",
       "       'GDP at market prices (current US$)',\n",
       "       'GDP per capita (current US$)', 'Internet users (per 100 people)',\n",
       "       'Personal computers (per 100 people)',\n",
       "       'Population growth (annual %)', 'Population, total'], dtype=object)"
      ]
     },
     "execution_count": 54,
     "metadata": {},
     "output_type": "execute_result"
    }
   ],
   "source": [
    "data[\"Indicator Name\"].unique()"
   ]
  },
  {
   "cell_type": "markdown",
   "metadata": {},
   "source": [
    "Résumé: Le fichier EdtstatData est notre principal source d'information. Le meilleur taux de remplissage se situe en 2000.\\\n",
    "2015 et 2016 ont un taux de remplissage de 60 % et ont l'avantage d'être plus récente. Il nous faudra défnir une stratégie d'imputation dans la partie \"nettoyage\"."
   ]
  },
  {
   "cell_type": "markdown",
   "metadata": {},
   "source": [
    "###  IV.  fichier EdStatsFootNote "
   ]
  },
  {
   "cell_type": "code",
   "execution_count": 55,
   "metadata": {},
   "outputs": [
    {
     "data": {
      "text/html": [
       "<div>\n",
       "<style scoped>\n",
       "    .dataframe tbody tr th:only-of-type {\n",
       "        vertical-align: middle;\n",
       "    }\n",
       "\n",
       "    .dataframe tbody tr th {\n",
       "        vertical-align: top;\n",
       "    }\n",
       "\n",
       "    .dataframe thead th {\n",
       "        text-align: right;\n",
       "    }\n",
       "</style>\n",
       "<table border=\"1\" class=\"dataframe\">\n",
       "  <thead>\n",
       "    <tr style=\"text-align: right;\">\n",
       "      <th></th>\n",
       "      <th>CountryCode</th>\n",
       "      <th>SeriesCode</th>\n",
       "      <th>Year</th>\n",
       "      <th>DESCRIPTION</th>\n",
       "      <th>Unnamed: 4</th>\n",
       "    </tr>\n",
       "  </thead>\n",
       "  <tbody>\n",
       "    <tr>\n",
       "      <th>0</th>\n",
       "      <td>ABW</td>\n",
       "      <td>SE.PRE.ENRL.FE</td>\n",
       "      <td>YR2001</td>\n",
       "      <td>Country estimation.</td>\n",
       "      <td>NaN</td>\n",
       "    </tr>\n",
       "    <tr>\n",
       "      <th>1</th>\n",
       "      <td>ABW</td>\n",
       "      <td>SE.TER.TCHR.FE</td>\n",
       "      <td>YR2005</td>\n",
       "      <td>Country estimation.</td>\n",
       "      <td>NaN</td>\n",
       "    </tr>\n",
       "    <tr>\n",
       "      <th>2</th>\n",
       "      <td>ABW</td>\n",
       "      <td>SE.PRE.TCHR.FE</td>\n",
       "      <td>YR2000</td>\n",
       "      <td>Country estimation.</td>\n",
       "      <td>NaN</td>\n",
       "    </tr>\n",
       "  </tbody>\n",
       "</table>\n",
       "</div>"
      ],
      "text/plain": [
       "  CountryCode      SeriesCode    Year          DESCRIPTION  Unnamed: 4\n",
       "0         ABW  SE.PRE.ENRL.FE  YR2001  Country estimation.         NaN\n",
       "1         ABW  SE.TER.TCHR.FE  YR2005  Country estimation.         NaN\n",
       "2         ABW  SE.PRE.TCHR.FE  YR2000  Country estimation.         NaN"
      ]
     },
     "execution_count": 55,
     "metadata": {},
     "output_type": "execute_result"
    }
   ],
   "source": [
    "## IV. EdStatsFootNote\n",
    "footnote = pd.read_csv('EdStatsFootNote.csv')\n",
    "footnote.head(3)"
   ]
  },
  {
   "cell_type": "code",
   "execution_count": 56,
   "metadata": {
    "scrolled": true
   },
   "outputs": [
    {
     "data": {
      "text/plain": [
       "239"
      ]
     },
     "execution_count": 56,
     "metadata": {},
     "output_type": "execute_result"
    }
   ],
   "source": [
    "footnote.CountryCode.nunique()"
   ]
  },
  {
   "cell_type": "code",
   "execution_count": 57,
   "metadata": {
    "scrolled": true
   },
   "outputs": [
    {
     "data": {
      "text/plain": [
       "5"
      ]
     },
     "execution_count": 57,
     "metadata": {},
     "output_type": "execute_result"
    }
   ],
   "source": [
    "footnote.columns.nunique()"
   ]
  },
  {
   "cell_type": "code",
   "execution_count": 58,
   "metadata": {
    "scrolled": true
   },
   "outputs": [
    {
     "data": {
      "text/plain": [
       "CountryCode         0\n",
       "SeriesCode          0\n",
       "Year                0\n",
       "DESCRIPTION         0\n",
       "Unnamed: 4     643638\n",
       "dtype: int64"
      ]
     },
     "execution_count": 58,
     "metadata": {},
     "output_type": "execute_result"
    }
   ],
   "source": [
    "footnote.isna().sum()"
   ]
  },
  {
   "cell_type": "code",
   "execution_count": 59,
   "metadata": {},
   "outputs": [
    {
     "data": {
      "text/plain": [
       "CountryCode    0.0\n",
       "SeriesCode     0.0\n",
       "Year           0.0\n",
       "DESCRIPTION    0.0\n",
       "Unnamed: 4     1.0\n",
       "dtype: float64"
      ]
     },
     "execution_count": 59,
     "metadata": {},
     "output_type": "execute_result"
    }
   ],
   "source": [
    "footnote.isna().mean()"
   ]
  },
  {
   "cell_type": "markdown",
   "metadata": {},
   "source": [
    "On supprimme la colonne 'Unnamed: 4' composée exclusivement de valeurs manquantes"
   ]
  },
  {
   "cell_type": "code",
   "execution_count": 60,
   "metadata": {},
   "outputs": [],
   "source": [
    "footnote.drop('Unnamed: 4', axis=1, inplace = True)"
   ]
  },
  {
   "cell_type": "code",
   "execution_count": 61,
   "metadata": {},
   "outputs": [
    {
     "data": {
      "text/html": [
       "<div>\n",
       "<style scoped>\n",
       "    .dataframe tbody tr th:only-of-type {\n",
       "        vertical-align: middle;\n",
       "    }\n",
       "\n",
       "    .dataframe tbody tr th {\n",
       "        vertical-align: top;\n",
       "    }\n",
       "\n",
       "    .dataframe thead th {\n",
       "        text-align: right;\n",
       "    }\n",
       "</style>\n",
       "<table border=\"1\" class=\"dataframe\">\n",
       "  <thead>\n",
       "    <tr style=\"text-align: right;\">\n",
       "      <th></th>\n",
       "      <th>CountryCode</th>\n",
       "      <th>SeriesCode</th>\n",
       "      <th>Year</th>\n",
       "      <th>DESCRIPTION</th>\n",
       "    </tr>\n",
       "  </thead>\n",
       "  <tbody>\n",
       "    <tr>\n",
       "      <th>0</th>\n",
       "      <td>ABW</td>\n",
       "      <td>SE.PRE.ENRL.FE</td>\n",
       "      <td>YR2001</td>\n",
       "      <td>Country estimation.</td>\n",
       "    </tr>\n",
       "  </tbody>\n",
       "</table>\n",
       "</div>"
      ],
      "text/plain": [
       "  CountryCode      SeriesCode    Year          DESCRIPTION\n",
       "0         ABW  SE.PRE.ENRL.FE  YR2001  Country estimation."
      ]
     },
     "execution_count": 61,
     "metadata": {},
     "output_type": "execute_result"
    }
   ],
   "source": [
    "footnote.head(1)"
   ]
  },
  {
   "cell_type": "code",
   "execution_count": 62,
   "metadata": {},
   "outputs": [
    {
     "data": {
      "text/plain": [
       "array(['YR2001', 'YR2005', 'YR2000', 'YR2004', 'YR2006', 'YR2003',\n",
       "       'YR1999', 'YR2008', 'YR2002', 'YR2007', 'YR2017', 'YR2010',\n",
       "       'YR2009', 'YR2011', 'YR2012', 'YR2015', 'YR2014', 'YR1970',\n",
       "       'YR1971', 'YR1972', 'YR1973', 'YR1974', 'YR1975', 'YR1976',\n",
       "       'YR1977', 'YR1978', 'YR1979', 'YR1980', 'YR1981', 'YR1982',\n",
       "       'YR1983', 'YR1984', 'YR1985', 'YR1986', 'YR1987', 'YR1988',\n",
       "       'YR1989', 'YR1990', 'YR1991', 'YR1992', 'YR1993', 'YR1994',\n",
       "       'YR1995', 'YR1996', 'YR1997', 'YR1998', 'YR2013', 'YR2016',\n",
       "       'YR2020', 'YR2025', 'YR2030', 'YR2035', 'YR2040', 'YR2045',\n",
       "       'YR2050', 'yr2012'], dtype=object)"
      ]
     },
     "execution_count": 62,
     "metadata": {},
     "output_type": "execute_result"
    }
   ],
   "source": [
    "footnote.Year.unique()"
   ]
  },
  {
   "cell_type": "code",
   "execution_count": 63,
   "metadata": {},
   "outputs": [
    {
     "data": {
      "text/plain": [
       "56"
      ]
     },
     "execution_count": 63,
     "metadata": {},
     "output_type": "execute_result"
    }
   ],
   "source": [
    "footnote.Year.nunique()"
   ]
  },
  {
   "cell_type": "code",
   "execution_count": 64,
   "metadata": {
    "scrolled": true
   },
   "outputs": [
    {
     "data": {
      "text/plain": [
       "array(['SE.PRE.ENRL.FE', 'SE.TER.TCHR.FE', 'SE.PRE.TCHR.FE', ...,\n",
       "       'UIS.AFR.GTCTR.2.F', 'UIS.AFR.GTCTR.2.M', 'UIS.AFR.GTCTR.2.T'],\n",
       "      dtype=object)"
      ]
     },
     "execution_count": 64,
     "metadata": {},
     "output_type": "execute_result"
    }
   ],
   "source": [
    "footnote.SeriesCode.unique()"
   ]
  },
  {
   "cell_type": "code",
   "execution_count": 65,
   "metadata": {},
   "outputs": [
    {
     "data": {
      "text/plain": [
       "array(['Country estimation.', 'UIS Estimation',\n",
       "       'UNESCO Institute for Statistics (UIS) estimate', ...,\n",
       "       'Uncertainty bound is 91.6 - 109.3',\n",
       "       'Uncertainty bound is 54.3 - 76',\n",
       "       'Uncertainty bound is 48.3 - 73.3'], dtype=object)"
      ]
     },
     "execution_count": 65,
     "metadata": {},
     "output_type": "execute_result"
    }
   ],
   "source": [
    "footnote.DESCRIPTION.unique()"
   ]
  },
  {
   "cell_type": "code",
   "execution_count": 66,
   "metadata": {},
   "outputs": [
    {
     "name": "stdout",
     "output_type": "stream",
     "text": [
      "<class 'pandas.core.frame.DataFrame'>\n",
      "RangeIndex: 643638 entries, 0 to 643637\n",
      "Data columns (total 4 columns):\n",
      " #   Column       Non-Null Count   Dtype \n",
      "---  ------       --------------   ----- \n",
      " 0   CountryCode  643638 non-null  object\n",
      " 1   SeriesCode   643638 non-null  object\n",
      " 2   Year         643638 non-null  object\n",
      " 3   DESCRIPTION  643638 non-null  object\n",
      "dtypes: object(4)\n",
      "memory usage: 19.6+ MB\n"
     ]
    }
   ],
   "source": [
    "footnote.info()"
   ]
  },
  {
   "cell_type": "markdown",
   "metadata": {},
   "source": [
    "Résumé: Le fichier footnote est de type descriptif. Il ne nous sera pas utile dans le cadre de notre analyse."
   ]
  },
  {
   "cell_type": "markdown",
   "metadata": {},
   "source": [
    "### V. fichier EdStatsSeries"
   ]
  },
  {
   "cell_type": "code",
   "execution_count": 67,
   "metadata": {},
   "outputs": [
    {
     "name": "stdout",
     "output_type": "stream",
     "text": [
      "<class 'pandas.core.frame.DataFrame'>\n",
      "RangeIndex: 3665 entries, 0 to 3664\n",
      "Data columns (total 21 columns):\n",
      " #   Column                               Non-Null Count  Dtype  \n",
      "---  ------                               --------------  -----  \n",
      " 0   Series Code                          3665 non-null   object \n",
      " 1   Topic                                3665 non-null   object \n",
      " 2   Indicator Name                       3665 non-null   object \n",
      " 3   Short definition                     2156 non-null   object \n",
      " 4   Long definition                      3665 non-null   object \n",
      " 5   Unit of measure                      0 non-null      float64\n",
      " 6   Periodicity                          99 non-null     object \n",
      " 7   Base Period                          314 non-null    object \n",
      " 8   Other notes                          552 non-null    object \n",
      " 9   Aggregation method                   47 non-null     object \n",
      " 10  Limitations and exceptions           14 non-null     object \n",
      " 11  Notes from original source           0 non-null      float64\n",
      " 12  General comments                     14 non-null     object \n",
      " 13  Source                               3665 non-null   object \n",
      " 14  Statistical concept and methodology  23 non-null     object \n",
      " 15  Development relevance                3 non-null      object \n",
      " 16  Related source links                 215 non-null    object \n",
      " 17  Other web links                      0 non-null      float64\n",
      " 18  Related indicators                   0 non-null      float64\n",
      " 19  License Type                         0 non-null      float64\n",
      " 20  Unnamed: 20                          0 non-null      float64\n",
      "dtypes: float64(6), object(15)\n",
      "memory usage: 601.4+ KB\n"
     ]
    }
   ],
   "source": [
    "## V. EdStatsSeries\n",
    "series = pd.read_csv('EdStatsSeries.csv')\n",
    "series.info()"
   ]
  },
  {
   "cell_type": "code",
   "execution_count": 68,
   "metadata": {
    "scrolled": false
   },
   "outputs": [
    {
     "data": {
      "image/png": "[encoded data removed]",
      "text/plain": [
       "<Figure size 432x288 with 2 Axes>"
      ]
     },
     "metadata": {},
     "output_type": "display_data"
    }
   ],
   "source": [
    "sns.heatmap(series.isna())\n",
    "plt.show()"
   ]
  },
  {
   "cell_type": "code",
   "execution_count": 69,
   "metadata": {},
   "outputs": [
    {
     "data": {
      "text/plain": [
       "Series Code                            0.000000\n",
       "Topic                                  0.000000\n",
       "Indicator Name                         0.000000\n",
       "Long definition                        0.000000\n",
       "Source                                 0.000000\n",
       "Short definition                       0.411733\n",
       "Other notes                            0.849386\n",
       "Base Period                            0.914325\n",
       "Related source links                   0.941337\n",
       "Periodicity                            0.972988\n",
       "Aggregation method                     0.987176\n",
       "Statistical concept and methodology    0.993724\n",
       "Limitations and exceptions             0.996180\n",
       "General comments                       0.996180\n",
       "Development relevance                  0.999181\n",
       "Notes from original source             1.000000\n",
       "License Type                           1.000000\n",
       "Unit of measure                        1.000000\n",
       "Other web links                        1.000000\n",
       "Related indicators                     1.000000\n",
       "Unnamed: 20                            1.000000\n",
       "dtype: float64"
      ]
     },
     "execution_count": 69,
     "metadata": {},
     "output_type": "execute_result"
    }
   ],
   "source": [
    "# On check notre graphique \n",
    "series.isna().mean().sort_values()"
   ]
  },
  {
   "cell_type": "code",
   "execution_count": 70,
   "metadata": {
    "scrolled": true
   },
   "outputs": [
    {
     "data": {
      "text/html": [
       "<div>\n",
       "<style scoped>\n",
       "    .dataframe tbody tr th:only-of-type {\n",
       "        vertical-align: middle;\n",
       "    }\n",
       "\n",
       "    .dataframe tbody tr th {\n",
       "        vertical-align: top;\n",
       "    }\n",
       "\n",
       "    .dataframe thead th {\n",
       "        text-align: right;\n",
       "    }\n",
       "</style>\n",
       "<table border=\"1\" class=\"dataframe\">\n",
       "  <thead>\n",
       "    <tr style=\"text-align: right;\">\n",
       "      <th></th>\n",
       "      <th>Series Code</th>\n",
       "      <th>Topic</th>\n",
       "      <th>Indicator Name</th>\n",
       "      <th>Short definition</th>\n",
       "      <th>Long definition</th>\n",
       "      <th>Unit of measure</th>\n",
       "      <th>Periodicity</th>\n",
       "      <th>Base Period</th>\n",
       "      <th>Other notes</th>\n",
       "      <th>Aggregation method</th>\n",
       "      <th>...</th>\n",
       "      <th>Notes from original source</th>\n",
       "      <th>General comments</th>\n",
       "      <th>Source</th>\n",
       "      <th>Statistical concept and methodology</th>\n",
       "      <th>Development relevance</th>\n",
       "      <th>Related source links</th>\n",
       "      <th>Other web links</th>\n",
       "      <th>Related indicators</th>\n",
       "      <th>License Type</th>\n",
       "      <th>Unnamed: 20</th>\n",
       "    </tr>\n",
       "  </thead>\n",
       "  <tbody>\n",
       "    <tr>\n",
       "      <th>3660</th>\n",
       "      <td>UIS.XUNIT.USCONST.3.FSGOV</td>\n",
       "      <td>Expenditures</td>\n",
       "      <td>Government expenditure per upper secondary stu...</td>\n",
       "      <td>NaN</td>\n",
       "      <td>Average total (current, capital and transfers)...</td>\n",
       "      <td>NaN</td>\n",
       "      <td>NaN</td>\n",
       "      <td>NaN</td>\n",
       "      <td>NaN</td>\n",
       "      <td>NaN</td>\n",
       "      <td>...</td>\n",
       "      <td>NaN</td>\n",
       "      <td>NaN</td>\n",
       "      <td>UNESCO Institute for Statistics</td>\n",
       "      <td>NaN</td>\n",
       "      <td>NaN</td>\n",
       "      <td>NaN</td>\n",
       "      <td>NaN</td>\n",
       "      <td>NaN</td>\n",
       "      <td>NaN</td>\n",
       "      <td>NaN</td>\n",
       "    </tr>\n",
       "    <tr>\n",
       "      <th>3661</th>\n",
       "      <td>UIS.XUNIT.USCONST.4.FSGOV</td>\n",
       "      <td>Expenditures</td>\n",
       "      <td>Government expenditure per post-secondary non-...</td>\n",
       "      <td>NaN</td>\n",
       "      <td>Average total (current, capital and transfers)...</td>\n",
       "      <td>NaN</td>\n",
       "      <td>NaN</td>\n",
       "      <td>NaN</td>\n",
       "      <td>NaN</td>\n",
       "      <td>NaN</td>\n",
       "      <td>...</td>\n",
       "      <td>NaN</td>\n",
       "      <td>NaN</td>\n",
       "      <td>UNESCO Institute for Statistics</td>\n",
       "      <td>NaN</td>\n",
       "      <td>NaN</td>\n",
       "      <td>NaN</td>\n",
       "      <td>NaN</td>\n",
       "      <td>NaN</td>\n",
       "      <td>NaN</td>\n",
       "      <td>NaN</td>\n",
       "    </tr>\n",
       "    <tr>\n",
       "      <th>3662</th>\n",
       "      <td>UIS.XUNIT.USCONST.56.FSGOV</td>\n",
       "      <td>Expenditures</td>\n",
       "      <td>Government expenditure per tertiary student (c...</td>\n",
       "      <td>NaN</td>\n",
       "      <td>Average total (current, capital and transfers)...</td>\n",
       "      <td>NaN</td>\n",
       "      <td>NaN</td>\n",
       "      <td>NaN</td>\n",
       "      <td>NaN</td>\n",
       "      <td>NaN</td>\n",
       "      <td>...</td>\n",
       "      <td>NaN</td>\n",
       "      <td>NaN</td>\n",
       "      <td>UNESCO Institute for Statistics</td>\n",
       "      <td>NaN</td>\n",
       "      <td>NaN</td>\n",
       "      <td>NaN</td>\n",
       "      <td>NaN</td>\n",
       "      <td>NaN</td>\n",
       "      <td>NaN</td>\n",
       "      <td>NaN</td>\n",
       "    </tr>\n",
       "    <tr>\n",
       "      <th>3663</th>\n",
       "      <td>XGDP.23.FSGOV.FDINSTADM.FFD</td>\n",
       "      <td>Expenditures</td>\n",
       "      <td>Government expenditure in secondary institutio...</td>\n",
       "      <td>Total general (local, regional and central) go...</td>\n",
       "      <td>Total general (local, regional and central) go...</td>\n",
       "      <td>NaN</td>\n",
       "      <td>NaN</td>\n",
       "      <td>NaN</td>\n",
       "      <td>Secondary</td>\n",
       "      <td>NaN</td>\n",
       "      <td>...</td>\n",
       "      <td>NaN</td>\n",
       "      <td>NaN</td>\n",
       "      <td>UNESCO Institute for Statistics</td>\n",
       "      <td>NaN</td>\n",
       "      <td>NaN</td>\n",
       "      <td>NaN</td>\n",
       "      <td>NaN</td>\n",
       "      <td>NaN</td>\n",
       "      <td>NaN</td>\n",
       "      <td>NaN</td>\n",
       "    </tr>\n",
       "    <tr>\n",
       "      <th>3664</th>\n",
       "      <td>XGDP.56.FSGOV.FDINSTADM.FFD</td>\n",
       "      <td>Expenditures</td>\n",
       "      <td>Government expenditure in tertiary institution...</td>\n",
       "      <td>Total general (local, regional and central) go...</td>\n",
       "      <td>Total general (local, regional and central) go...</td>\n",
       "      <td>NaN</td>\n",
       "      <td>NaN</td>\n",
       "      <td>NaN</td>\n",
       "      <td>Tertiary</td>\n",
       "      <td>NaN</td>\n",
       "      <td>...</td>\n",
       "      <td>NaN</td>\n",
       "      <td>NaN</td>\n",
       "      <td>UNESCO Institute for Statistics</td>\n",
       "      <td>NaN</td>\n",
       "      <td>NaN</td>\n",
       "      <td>NaN</td>\n",
       "      <td>NaN</td>\n",
       "      <td>NaN</td>\n",
       "      <td>NaN</td>\n",
       "      <td>NaN</td>\n",
       "    </tr>\n",
       "  </tbody>\n",
       "</table>\n",
       "<p>5 rows × 21 columns</p>\n",
       "</div>"
      ],
      "text/plain": [
       "                      Series Code         Topic  \\\n",
       "3660    UIS.XUNIT.USCONST.3.FSGOV  Expenditures   \n",
       "3661    UIS.XUNIT.USCONST.4.FSGOV  Expenditures   \n",
       "3662   UIS.XUNIT.USCONST.56.FSGOV  Expenditures   \n",
       "3663  XGDP.23.FSGOV.FDINSTADM.FFD  Expenditures   \n",
       "3664  XGDP.56.FSGOV.FDINSTADM.FFD  Expenditures   \n",
       "\n",
       "                                         Indicator Name  \\\n",
       "3660  Government expenditure per upper secondary stu...   \n",
       "3661  Government expenditure per post-secondary non-...   \n",
       "3662  Government expenditure per tertiary student (c...   \n",
       "3663  Government expenditure in secondary institutio...   \n",
       "3664  Government expenditure in tertiary institution...   \n",
       "\n",
       "                                       Short definition  \\\n",
       "3660                                                NaN   \n",
       "3661                                                NaN   \n",
       "3662                                                NaN   \n",
       "3663  Total general (local, regional and central) go...   \n",
       "3664  Total general (local, regional and central) go...   \n",
       "\n",
       "                                        Long definition  Unit of measure  \\\n",
       "3660  Average total (current, capital and transfers)...              NaN   \n",
       "3661  Average total (current, capital and transfers)...              NaN   \n",
       "3662  Average total (current, capital and transfers)...              NaN   \n",
       "3663  Total general (local, regional and central) go...              NaN   \n",
       "3664  Total general (local, regional and central) go...              NaN   \n",
       "\n",
       "     Periodicity Base Period Other notes Aggregation method  ...  \\\n",
       "3660         NaN         NaN         NaN                NaN  ...   \n",
       "3661         NaN         NaN         NaN                NaN  ...   \n",
       "3662         NaN         NaN         NaN                NaN  ...   \n",
       "3663         NaN         NaN   Secondary                NaN  ...   \n",
       "3664         NaN         NaN    Tertiary                NaN  ...   \n",
       "\n",
       "     Notes from original source  General comments  \\\n",
       "3660                        NaN               NaN   \n",
       "3661                        NaN               NaN   \n",
       "3662                        NaN               NaN   \n",
       "3663                        NaN               NaN   \n",
       "3664                        NaN               NaN   \n",
       "\n",
       "                               Source Statistical concept and methodology  \\\n",
       "3660  UNESCO Institute for Statistics                                 NaN   \n",
       "3661  UNESCO Institute for Statistics                                 NaN   \n",
       "3662  UNESCO Institute for Statistics                                 NaN   \n",
       "3663  UNESCO Institute for Statistics                                 NaN   \n",
       "3664  UNESCO Institute for Statistics                                 NaN   \n",
       "\n",
       "     Development relevance Related source links Other web links  \\\n",
       "3660                   NaN                  NaN             NaN   \n",
       "3661                   NaN                  NaN             NaN   \n",
       "3662                   NaN                  NaN             NaN   \n",
       "3663                   NaN                  NaN             NaN   \n",
       "3664                   NaN                  NaN             NaN   \n",
       "\n",
       "      Related indicators  License Type  Unnamed: 20  \n",
       "3660                 NaN           NaN          NaN  \n",
       "3661                 NaN           NaN          NaN  \n",
       "3662                 NaN           NaN          NaN  \n",
       "3663                 NaN           NaN          NaN  \n",
       "3664                 NaN           NaN          NaN  \n",
       "\n",
       "[5 rows x 21 columns]"
      ]
     },
     "execution_count": 70,
     "metadata": {},
     "output_type": "execute_result"
    }
   ],
   "source": [
    "series.tail(5)"
   ]
  },
  {
   "cell_type": "code",
   "execution_count": 71,
   "metadata": {
    "scrolled": true
   },
   "outputs": [
    {
     "data": {
      "text/html": [
       "<div>\n",
       "<style scoped>\n",
       "    .dataframe tbody tr th:only-of-type {\n",
       "        vertical-align: middle;\n",
       "    }\n",
       "\n",
       "    .dataframe tbody tr th {\n",
       "        vertical-align: top;\n",
       "    }\n",
       "\n",
       "    .dataframe thead th {\n",
       "        text-align: right;\n",
       "    }\n",
       "</style>\n",
       "<table border=\"1\" class=\"dataframe\">\n",
       "  <thead>\n",
       "    <tr style=\"text-align: right;\">\n",
       "      <th></th>\n",
       "      <th>Series Code</th>\n",
       "      <th>Topic</th>\n",
       "      <th>Indicator Name</th>\n",
       "      <th>Source</th>\n",
       "    </tr>\n",
       "  </thead>\n",
       "  <tbody>\n",
       "    <tr>\n",
       "      <th>0</th>\n",
       "      <td>BAR.NOED.1519.FE.ZS</td>\n",
       "      <td>Attainment</td>\n",
       "      <td>Barro-Lee: Percentage of female population age...</td>\n",
       "      <td>Robert J. Barro and Jong-Wha Lee: http://www.b...</td>\n",
       "    </tr>\n",
       "    <tr>\n",
       "      <th>1</th>\n",
       "      <td>BAR.NOED.1519.ZS</td>\n",
       "      <td>Attainment</td>\n",
       "      <td>Barro-Lee: Percentage of population age 15-19 ...</td>\n",
       "      <td>Robert J. Barro and Jong-Wha Lee: http://www.b...</td>\n",
       "    </tr>\n",
       "    <tr>\n",
       "      <th>2</th>\n",
       "      <td>BAR.NOED.15UP.FE.ZS</td>\n",
       "      <td>Attainment</td>\n",
       "      <td>Barro-Lee: Percentage of female population age...</td>\n",
       "      <td>Robert J. Barro and Jong-Wha Lee: http://www.b...</td>\n",
       "    </tr>\n",
       "    <tr>\n",
       "      <th>3</th>\n",
       "      <td>BAR.NOED.15UP.ZS</td>\n",
       "      <td>Attainment</td>\n",
       "      <td>Barro-Lee: Percentage of population age 15+ wi...</td>\n",
       "      <td>Robert J. Barro and Jong-Wha Lee: http://www.b...</td>\n",
       "    </tr>\n",
       "    <tr>\n",
       "      <th>4</th>\n",
       "      <td>BAR.NOED.2024.FE.ZS</td>\n",
       "      <td>Attainment</td>\n",
       "      <td>Barro-Lee: Percentage of female population age...</td>\n",
       "      <td>Robert J. Barro and Jong-Wha Lee: http://www.b...</td>\n",
       "    </tr>\n",
       "    <tr>\n",
       "      <th>...</th>\n",
       "      <td>...</td>\n",
       "      <td>...</td>\n",
       "      <td>...</td>\n",
       "      <td>...</td>\n",
       "    </tr>\n",
       "    <tr>\n",
       "      <th>3660</th>\n",
       "      <td>UIS.XUNIT.USCONST.3.FSGOV</td>\n",
       "      <td>Expenditures</td>\n",
       "      <td>Government expenditure per upper secondary stu...</td>\n",
       "      <td>UNESCO Institute for Statistics</td>\n",
       "    </tr>\n",
       "    <tr>\n",
       "      <th>3661</th>\n",
       "      <td>UIS.XUNIT.USCONST.4.FSGOV</td>\n",
       "      <td>Expenditures</td>\n",
       "      <td>Government expenditure per post-secondary non-...</td>\n",
       "      <td>UNESCO Institute for Statistics</td>\n",
       "    </tr>\n",
       "    <tr>\n",
       "      <th>3662</th>\n",
       "      <td>UIS.XUNIT.USCONST.56.FSGOV</td>\n",
       "      <td>Expenditures</td>\n",
       "      <td>Government expenditure per tertiary student (c...</td>\n",
       "      <td>UNESCO Institute for Statistics</td>\n",
       "    </tr>\n",
       "    <tr>\n",
       "      <th>3663</th>\n",
       "      <td>XGDP.23.FSGOV.FDINSTADM.FFD</td>\n",
       "      <td>Expenditures</td>\n",
       "      <td>Government expenditure in secondary institutio...</td>\n",
       "      <td>UNESCO Institute for Statistics</td>\n",
       "    </tr>\n",
       "    <tr>\n",
       "      <th>3664</th>\n",
       "      <td>XGDP.56.FSGOV.FDINSTADM.FFD</td>\n",
       "      <td>Expenditures</td>\n",
       "      <td>Government expenditure in tertiary institution...</td>\n",
       "      <td>UNESCO Institute for Statistics</td>\n",
       "    </tr>\n",
       "  </tbody>\n",
       "</table>\n",
       "<p>3665 rows × 4 columns</p>\n",
       "</div>"
      ],
      "text/plain": [
       "                      Series Code         Topic  \\\n",
       "0             BAR.NOED.1519.FE.ZS    Attainment   \n",
       "1                BAR.NOED.1519.ZS    Attainment   \n",
       "2             BAR.NOED.15UP.FE.ZS    Attainment   \n",
       "3                BAR.NOED.15UP.ZS    Attainment   \n",
       "4             BAR.NOED.2024.FE.ZS    Attainment   \n",
       "...                           ...           ...   \n",
       "3660    UIS.XUNIT.USCONST.3.FSGOV  Expenditures   \n",
       "3661    UIS.XUNIT.USCONST.4.FSGOV  Expenditures   \n",
       "3662   UIS.XUNIT.USCONST.56.FSGOV  Expenditures   \n",
       "3663  XGDP.23.FSGOV.FDINSTADM.FFD  Expenditures   \n",
       "3664  XGDP.56.FSGOV.FDINSTADM.FFD  Expenditures   \n",
       "\n",
       "                                         Indicator Name  \\\n",
       "0     Barro-Lee: Percentage of female population age...   \n",
       "1     Barro-Lee: Percentage of population age 15-19 ...   \n",
       "2     Barro-Lee: Percentage of female population age...   \n",
       "3     Barro-Lee: Percentage of population age 15+ wi...   \n",
       "4     Barro-Lee: Percentage of female population age...   \n",
       "...                                                 ...   \n",
       "3660  Government expenditure per upper secondary stu...   \n",
       "3661  Government expenditure per post-secondary non-...   \n",
       "3662  Government expenditure per tertiary student (c...   \n",
       "3663  Government expenditure in secondary institutio...   \n",
       "3664  Government expenditure in tertiary institution...   \n",
       "\n",
       "                                                 Source  \n",
       "0     Robert J. Barro and Jong-Wha Lee: http://www.b...  \n",
       "1     Robert J. Barro and Jong-Wha Lee: http://www.b...  \n",
       "2     Robert J. Barro and Jong-Wha Lee: http://www.b...  \n",
       "3     Robert J. Barro and Jong-Wha Lee: http://www.b...  \n",
       "4     Robert J. Barro and Jong-Wha Lee: http://www.b...  \n",
       "...                                                 ...  \n",
       "3660                    UNESCO Institute for Statistics  \n",
       "3661                    UNESCO Institute for Statistics  \n",
       "3662                    UNESCO Institute for Statistics  \n",
       "3663                    UNESCO Institute for Statistics  \n",
       "3664                    UNESCO Institute for Statistics  \n",
       "\n",
       "[3665 rows x 4 columns]"
      ]
     },
     "execution_count": 71,
     "metadata": {},
     "output_type": "execute_result"
    }
   ],
   "source": [
    "# On conserve uniquement les variables avec des données\n",
    "series = series.loc[:,['Series Code','Topic','Indicator Name','Source']]\n",
    "series"
   ]
  },
  {
   "cell_type": "code",
   "execution_count": 72,
   "metadata": {
    "scrolled": true
   },
   "outputs": [
    {
     "data": {
      "text/plain": [
       "array(['Robert J. Barro and Jong-Wha Lee: http://www.barrolee.com/',\n",
       "       'Demographic and Health Surveys (DHS)',\n",
       "       'World Bank staff calculations based on Multiple Indicator Cluster Survey (MICS) data',\n",
       "       'Multiple Indicator Cluster Surveys (MICS)',\n",
       "       'International Telecommunication Union, World Telecommunication/ICT Development Report and database.',\n",
       "       'Early Grade Reading Assessment (EGRA): https://www.eddataglobal.org/reading/',\n",
       "       'Latin American Laboratory for Assessment of the Quality of Education (LLECE)',\n",
       "       \"Programme d'Analyse des Systèmes Educatifs de la CONFEMEN/Program for the Analysis of CONFEMEN Education Systems (PASEC): http://www.pasec.confemen.org/\",\n",
       "       'OECD Programme for the International Assessment of Adult Competencies (PIAAC)',\n",
       "       'International Association for the Evaluation of Educational Achievement (IEA) Progress in International Reading Literacy Study (PIRLS)',\n",
       "       'OECD Programme for International Student Assessment (PISA)',\n",
       "       'Southern and Eastern Africa Consortium for Monitoring Educational Quality (SACMEQ) Data Archive, www.sacmeq.org',\n",
       "       \"International Association for the Evaluation of Educational Achievement (IEA)'s Trends in International Mathematics and Science Study\",\n",
       "       'World Bank national accounts data, and OECD National Accounts data files.',\n",
       "       'World Bank, International Comparison Program database.',\n",
       "       'Organisation for Economic Co-operation and Development (OECD)',\n",
       "       'Wittgenstein Centre for Demography and Global Human Capital: http://www.oeaw.ac.at/vid/dataexplorer/',\n",
       "       'Systems Approach for Better Education Results (SABER), World Bank',\n",
       "       'UNESCO Institute for Statistics', 'UNAIDS estimates.',\n",
       "       'Estimates Developed by the UN Inter-agency Group for Child Mortality Estimation (UNICEF, WHO, World Bank, UN DESA Population Division) at www.childmortality.org.',\n",
       "       'International Labour Organization, ILOSTAT database. Data retrieved in March 2017.',\n",
       "       'Derived using data from International Labour Organization, ILOSTAT database and World Bank population estimates. Labor data retrieved in November 2017.',\n",
       "       'International Labour Organization, Key Indicators of the Labour Market database.',\n",
       "       'International Labour Organization, ILOSTAT database. Data retrieved in November 2017.',\n",
       "       \"World Bank staff estimates using the World Bank's total population and age/sex distributions of the United Nations Population Division's World Population Prospects.\",\n",
       "       \"World Bank staff estimates based on age/sex distributions of United Nations Population Division's World Population Prospects.\",\n",
       "       'UNESCO Institute for Statistics (Derived)',\n",
       "       'UNESCO Institute for Statistics.',\n",
       "       'Derived from total population. Population source: (1) United Nations Population Division. World Population Prospects, (2) Census reports and other statistical publications from national statistical offices, (3) Eurostat: Demographic Statistics, (4) United Nations Statistical Division. Population and Vital Statistics Reprot (various years), (5) U.S. Census Bureau: International Database, and (6) Secretariat of the Pacific Community: Statistics and Demography Programme.',\n",
       "       '(1) United Nations Population Division. World Population Prospects, (2) Census reports and other statistical publications from national statistical offices, (3) Eurostat: Demographic Statistics, (4) United Nations Statistical Division. Population and Vital Statistics Report (various years), (5) U.S. Census Bureau: International Database, and (6) Secretariat of the Pacific Community: Statistics and Demography Programme.'],\n",
       "      dtype=object)"
      ]
     },
     "execution_count": 72,
     "metadata": {},
     "output_type": "execute_result"
    }
   ],
   "source": [
    "series.Source.unique()"
   ]
  },
  {
   "cell_type": "markdown",
   "metadata": {},
   "source": [
    "Ce dernier fichier semble être un recueil de sources académiques/conférences\n",
    "Définitions de variables ?"
   ]
  },
  {
   "cell_type": "code",
   "execution_count": 73,
   "metadata": {
    "scrolled": true
   },
   "outputs": [
    {
     "data": {
      "text/plain": [
       "3665"
      ]
     },
     "execution_count": 73,
     "metadata": {},
     "output_type": "execute_result"
    }
   ],
   "source": [
    "series['Series Code'].nunique()"
   ]
  },
  {
   "cell_type": "code",
   "execution_count": 74,
   "metadata": {
    "scrolled": false
   },
   "outputs": [
    {
     "data": {
      "text/plain": [
       "array(['Barro-Lee: Percentage of female population age 15-19 with no education',\n",
       "       'Barro-Lee: Percentage of population age 15-19 with no education',\n",
       "       'Barro-Lee: Percentage of female population age 15+ with no education',\n",
       "       ..., 'Government expenditure per tertiary student (constant US$)',\n",
       "       'Government expenditure in secondary institutions education as % of GDP (%)',\n",
       "       'Government expenditure in tertiary institutions as % of GDP (%)'],\n",
       "      dtype=object)"
      ]
     },
     "execution_count": 74,
     "metadata": {},
     "output_type": "execute_result"
    }
   ],
   "source": [
    "series['Indicator Name'].unique()\n",
    "# source : http://barrolee.com/"
   ]
  },
  {
   "cell_type": "markdown",
   "metadata": {},
   "source": [
    "Résumé: Fichier EdStatsSeries est un recueil de source, il ne nous sera pas utile dans le cadre de notre analyse."
   ]
  },
  {
   "cell_type": "markdown",
   "metadata": {},
   "source": [
    "## Conclusion de l'analyse exploratoire"
   ]
  },
  {
   "cell_type": "markdown",
   "metadata": {},
   "source": [
    "Pour le reste de l'analyse seul les fichiers country et EdStatData seront conservés. Nous avons sélectionné 9 variables d'intérêts pour faire une analyse de marché. Ces variables sont contenus dans le fichiers nos_indicateurs. Ils correspondent au Pib, Pib/hab, Taux de connexion internet/100, taux de possession d'un ordinateur/100pers, population étudiante universitaire, post lycée, ant lycée, croissance démographique, population totale. Nous allons maintenant passer au nettoyage."
   ]
  },
  {
   "cell_type": "markdown",
   "metadata": {},
   "source": [
    "# Nettoyage"
   ]
  },
  {
   "cell_type": "markdown",
   "metadata": {},
   "source": [
    "Jointure entre notre fichier country et edstatData.\\\n",
    "On conserve les dates avec le taux de remplissage le plus élevé.\n"
   ]
  },
  {
   "cell_type": "code",
   "execution_count": 75,
   "metadata": {
    "scrolled": false
   },
   "outputs": [],
   "source": [
    "country_clean_select = country_clean[[\"Country Code\",\"Region\",\"Income Group\"]]\n",
    "# country_clean_select =  country_clean_select.loc[country_clean_select['Income Group']!='Low income'] # Suppression des pays les plus pauvres\n",
    "\n",
    "data_select = data[['Country Name', 'Country Code', 'Indicator Name', 'Indicator Code','1990',\n",
    "       '1995', '1998', '1999', '2000', '2010', '2015', '2016']]"
   ]
  },
  {
   "cell_type": "code",
   "execution_count": 76,
   "metadata": {
    "scrolled": false
   },
   "outputs": [
    {
     "data": {
      "text/html": [
       "<div>\n",
       "<style scoped>\n",
       "    .dataframe tbody tr th:only-of-type {\n",
       "        vertical-align: middle;\n",
       "    }\n",
       "\n",
       "    .dataframe tbody tr th {\n",
       "        vertical-align: top;\n",
       "    }\n",
       "\n",
       "    .dataframe thead th {\n",
       "        text-align: right;\n",
       "    }\n",
       "</style>\n",
       "<table border=\"1\" class=\"dataframe\">\n",
       "  <thead>\n",
       "    <tr style=\"text-align: right;\">\n",
       "      <th></th>\n",
       "      <th>Country Code</th>\n",
       "      <th>Region</th>\n",
       "      <th>Income Group</th>\n",
       "      <th>Country Name</th>\n",
       "      <th>Indicator Name</th>\n",
       "      <th>Indicator Code</th>\n",
       "      <th>1990</th>\n",
       "      <th>1995</th>\n",
       "      <th>1998</th>\n",
       "      <th>1999</th>\n",
       "      <th>2000</th>\n",
       "      <th>2010</th>\n",
       "      <th>2015</th>\n",
       "      <th>2016</th>\n",
       "    </tr>\n",
       "  </thead>\n",
       "  <tbody>\n",
       "    <tr>\n",
       "      <th>0</th>\n",
       "      <td>ABW</td>\n",
       "      <td>Latin America &amp; Caribbean</td>\n",
       "      <td>High income: nonOECD</td>\n",
       "      <td>Aruba</td>\n",
       "      <td>Enrolment in post-secondary non-tertiary educa...</td>\n",
       "      <td>UIS.E.4</td>\n",
       "      <td>NaN</td>\n",
       "      <td>NaN</td>\n",
       "      <td>NaN</td>\n",
       "      <td>24.0</td>\n",
       "      <td>124.0</td>\n",
       "      <td>NaN</td>\n",
       "      <td>NaN</td>\n",
       "      <td>NaN</td>\n",
       "    </tr>\n",
       "    <tr>\n",
       "      <th>1</th>\n",
       "      <td>ABW</td>\n",
       "      <td>Latin America &amp; Caribbean</td>\n",
       "      <td>High income: nonOECD</td>\n",
       "      <td>Aruba</td>\n",
       "      <td>Enrolment in tertiary education, all programme...</td>\n",
       "      <td>SE.TER.ENRL</td>\n",
       "      <td>NaN</td>\n",
       "      <td>NaN</td>\n",
       "      <td>NaN</td>\n",
       "      <td>1446.0</td>\n",
       "      <td>1578.0</td>\n",
       "      <td>2330.0</td>\n",
       "      <td>1166.0</td>\n",
       "      <td>NaN</td>\n",
       "    </tr>\n",
       "  </tbody>\n",
       "</table>\n",
       "</div>"
      ],
      "text/plain": [
       "  Country Code                     Region          Income Group Country Name  \\\n",
       "0          ABW  Latin America & Caribbean  High income: nonOECD        Aruba   \n",
       "1          ABW  Latin America & Caribbean  High income: nonOECD        Aruba   \n",
       "\n",
       "                                      Indicator Name Indicator Code  1990  \\\n",
       "0  Enrolment in post-secondary non-tertiary educa...        UIS.E.4   NaN   \n",
       "1  Enrolment in tertiary education, all programme...    SE.TER.ENRL   NaN   \n",
       "\n",
       "   1995  1998    1999    2000    2010    2015  2016  \n",
       "0   NaN   NaN    24.0   124.0     NaN     NaN   NaN  \n",
       "1   NaN   NaN  1446.0  1578.0  2330.0  1166.0   NaN  "
      ]
     },
     "execution_count": 76,
     "metadata": {},
     "output_type": "execute_result"
    }
   ],
   "source": [
    "dt = pd.merge(country_clean_select,data_select,how='left')\n",
    "dt.head(2)"
   ]
  },
  {
   "cell_type": "code",
   "execution_count": 77,
   "metadata": {
    "scrolled": true
   },
   "outputs": [
    {
     "data": {
      "text/html": [
       "<div>\n",
       "<style scoped>\n",
       "    .dataframe tbody tr th:only-of-type {\n",
       "        vertical-align: middle;\n",
       "    }\n",
       "\n",
       "    .dataframe tbody tr th {\n",
       "        vertical-align: top;\n",
       "    }\n",
       "\n",
       "    .dataframe thead th {\n",
       "        text-align: right;\n",
       "    }\n",
       "</style>\n",
       "<table border=\"1\" class=\"dataframe\">\n",
       "  <thead>\n",
       "    <tr style=\"text-align: right;\">\n",
       "      <th></th>\n",
       "      <th>Country Code</th>\n",
       "      <th>Region</th>\n",
       "      <th>Income Group</th>\n",
       "      <th>Country Name</th>\n",
       "      <th>Indicator Name</th>\n",
       "      <th>Indicator Code</th>\n",
       "      <th>1990</th>\n",
       "      <th>1995</th>\n",
       "      <th>1998</th>\n",
       "      <th>1999</th>\n",
       "      <th>2000</th>\n",
       "      <th>2010</th>\n",
       "      <th>2015</th>\n",
       "      <th>2016</th>\n",
       "    </tr>\n",
       "  </thead>\n",
       "  <tbody>\n",
       "    <tr>\n",
       "      <th>0</th>\n",
       "      <td>ABW</td>\n",
       "      <td>Latin America &amp; Caribbean</td>\n",
       "      <td>High income: nonOECD</td>\n",
       "      <td>Aruba</td>\n",
       "      <td>Enrolment in post-secondary non-tertiary educa...</td>\n",
       "      <td>UIS.E.4</td>\n",
       "      <td>NaN</td>\n",
       "      <td>NaN</td>\n",
       "      <td>NaN</td>\n",
       "      <td>2.400000e+01</td>\n",
       "      <td>1.240000e+02</td>\n",
       "      <td>NaN</td>\n",
       "      <td>NaN</td>\n",
       "      <td>NaN</td>\n",
       "    </tr>\n",
       "    <tr>\n",
       "      <th>1</th>\n",
       "      <td>ABW</td>\n",
       "      <td>Latin America &amp; Caribbean</td>\n",
       "      <td>High income: nonOECD</td>\n",
       "      <td>Aruba</td>\n",
       "      <td>Enrolment in tertiary education, all programme...</td>\n",
       "      <td>SE.TER.ENRL</td>\n",
       "      <td>NaN</td>\n",
       "      <td>NaN</td>\n",
       "      <td>NaN</td>\n",
       "      <td>1.446000e+03</td>\n",
       "      <td>1.578000e+03</td>\n",
       "      <td>2.330000e+03</td>\n",
       "      <td>1.166000e+03</td>\n",
       "      <td>NaN</td>\n",
       "    </tr>\n",
       "    <tr>\n",
       "      <th>2</th>\n",
       "      <td>ABW</td>\n",
       "      <td>Latin America &amp; Caribbean</td>\n",
       "      <td>High income: nonOECD</td>\n",
       "      <td>Aruba</td>\n",
       "      <td>Enrolment in upper secondary education, both s...</td>\n",
       "      <td>UIS.E.3</td>\n",
       "      <td>NaN</td>\n",
       "      <td>NaN</td>\n",
       "      <td>NaN</td>\n",
       "      <td>3.258000e+03</td>\n",
       "      <td>3.119000e+03</td>\n",
       "      <td>3.913000e+03</td>\n",
       "      <td>NaN</td>\n",
       "      <td>NaN</td>\n",
       "    </tr>\n",
       "    <tr>\n",
       "      <th>3</th>\n",
       "      <td>ABW</td>\n",
       "      <td>Latin America &amp; Caribbean</td>\n",
       "      <td>High income: nonOECD</td>\n",
       "      <td>Aruba</td>\n",
       "      <td>GDP at market prices (current US$)</td>\n",
       "      <td>NY.GDP.MKTP.CD</td>\n",
       "      <td>NaN</td>\n",
       "      <td>1.320670e+09</td>\n",
       "      <td>1.665363e+09</td>\n",
       "      <td>1.722799e+09</td>\n",
       "      <td>1.873453e+09</td>\n",
       "      <td>2.467704e+09</td>\n",
       "      <td>NaN</td>\n",
       "      <td>NaN</td>\n",
       "    </tr>\n",
       "    <tr>\n",
       "      <th>4</th>\n",
       "      <td>ABW</td>\n",
       "      <td>Latin America &amp; Caribbean</td>\n",
       "      <td>High income: nonOECD</td>\n",
       "      <td>Aruba</td>\n",
       "      <td>GDP per capita (current US$)</td>\n",
       "      <td>NY.GDP.PCAP.CD</td>\n",
       "      <td>NaN</td>\n",
       "      <td>1.644179e+04</td>\n",
       "      <td>1.908135e+04</td>\n",
       "      <td>1.935620e+04</td>\n",
       "      <td>2.062070e+04</td>\n",
       "      <td>2.427194e+04</td>\n",
       "      <td>NaN</td>\n",
       "      <td>NaN</td>\n",
       "    </tr>\n",
       "    <tr>\n",
       "      <th>...</th>\n",
       "      <td>...</td>\n",
       "      <td>...</td>\n",
       "      <td>...</td>\n",
       "      <td>...</td>\n",
       "      <td>...</td>\n",
       "      <td>...</td>\n",
       "      <td>...</td>\n",
       "      <td>...</td>\n",
       "      <td>...</td>\n",
       "      <td>...</td>\n",
       "      <td>...</td>\n",
       "      <td>...</td>\n",
       "      <td>...</td>\n",
       "      <td>...</td>\n",
       "    </tr>\n",
       "    <tr>\n",
       "      <th>1921</th>\n",
       "      <td>ZWE</td>\n",
       "      <td>Sub-Saharan Africa</td>\n",
       "      <td>Low income</td>\n",
       "      <td>Zimbabwe</td>\n",
       "      <td>GDP per capita (current US$)</td>\n",
       "      <td>NY.GDP.PCAP.CD</td>\n",
       "      <td>8.625866e+02</td>\n",
       "      <td>6.281849e+02</td>\n",
       "      <td>5.382849e+02</td>\n",
       "      <td>5.684440e+02</td>\n",
       "      <td>5.473589e+02</td>\n",
       "      <td>7.199795e+02</td>\n",
       "      <td>1.033416e+03</td>\n",
       "      <td>1.029077e+03</td>\n",
       "    </tr>\n",
       "    <tr>\n",
       "      <th>1922</th>\n",
       "      <td>ZWE</td>\n",
       "      <td>Sub-Saharan Africa</td>\n",
       "      <td>Low income</td>\n",
       "      <td>Zimbabwe</td>\n",
       "      <td>Internet users (per 100 people)</td>\n",
       "      <td>IT.NET.USER.P2</td>\n",
       "      <td>0.000000e+00</td>\n",
       "      <td>7.683540e-03</td>\n",
       "      <td>8.164848e-02</td>\n",
       "      <td>1.616755e-01</td>\n",
       "      <td>4.014335e-01</td>\n",
       "      <td>6.400000e+00</td>\n",
       "      <td>2.274282e+01</td>\n",
       "      <td>2.311999e+01</td>\n",
       "    </tr>\n",
       "    <tr>\n",
       "      <th>1923</th>\n",
       "      <td>ZWE</td>\n",
       "      <td>Sub-Saharan Africa</td>\n",
       "      <td>Low income</td>\n",
       "      <td>Zimbabwe</td>\n",
       "      <td>Personal computers (per 100 people)</td>\n",
       "      <td>IT.CMP.PCMP.P2</td>\n",
       "      <td>1.911720e-02</td>\n",
       "      <td>2.835206e-01</td>\n",
       "      <td>1.063003e+00</td>\n",
       "      <td>1.211169e+00</td>\n",
       "      <td>1.559544e+00</td>\n",
       "      <td>NaN</td>\n",
       "      <td>NaN</td>\n",
       "      <td>NaN</td>\n",
       "    </tr>\n",
       "    <tr>\n",
       "      <th>1924</th>\n",
       "      <td>ZWE</td>\n",
       "      <td>Sub-Saharan Africa</td>\n",
       "      <td>Low income</td>\n",
       "      <td>Zimbabwe</td>\n",
       "      <td>Population growth (annual %)</td>\n",
       "      <td>SP.POP.GROW</td>\n",
       "      <td>2.793947e+00</td>\n",
       "      <td>1.813085e+00</td>\n",
       "      <td>1.552994e+00</td>\n",
       "      <td>1.429746e+00</td>\n",
       "      <td>1.298782e+00</td>\n",
       "      <td>1.976756e+00</td>\n",
       "      <td>2.345643e+00</td>\n",
       "      <td>2.336070e+00</td>\n",
       "    </tr>\n",
       "    <tr>\n",
       "      <th>1925</th>\n",
       "      <td>ZWE</td>\n",
       "      <td>Sub-Saharan Africa</td>\n",
       "      <td>Low income</td>\n",
       "      <td>Zimbabwe</td>\n",
       "      <td>Population, total</td>\n",
       "      <td>SP.POP.TOTL</td>\n",
       "      <td>1.018311e+07</td>\n",
       "      <td>1.132035e+07</td>\n",
       "      <td>1.189327e+07</td>\n",
       "      <td>1.206454e+07</td>\n",
       "      <td>1.222225e+07</td>\n",
       "      <td>1.408632e+07</td>\n",
       "      <td>1.577745e+07</td>\n",
       "      <td>1.615036e+07</td>\n",
       "    </tr>\n",
       "  </tbody>\n",
       "</table>\n",
       "<p>1926 rows × 14 columns</p>\n",
       "</div>"
      ],
      "text/plain": [
       "     Country Code                     Region          Income Group  \\\n",
       "0             ABW  Latin America & Caribbean  High income: nonOECD   \n",
       "1             ABW  Latin America & Caribbean  High income: nonOECD   \n",
       "2             ABW  Latin America & Caribbean  High income: nonOECD   \n",
       "3             ABW  Latin America & Caribbean  High income: nonOECD   \n",
       "4             ABW  Latin America & Caribbean  High income: nonOECD   \n",
       "...           ...                        ...                   ...   \n",
       "1921          ZWE         Sub-Saharan Africa            Low income   \n",
       "1922          ZWE         Sub-Saharan Africa            Low income   \n",
       "1923          ZWE         Sub-Saharan Africa            Low income   \n",
       "1924          ZWE         Sub-Saharan Africa            Low income   \n",
       "1925          ZWE         Sub-Saharan Africa            Low income   \n",
       "\n",
       "     Country Name                                     Indicator Name  \\\n",
       "0           Aruba  Enrolment in post-secondary non-tertiary educa...   \n",
       "1           Aruba  Enrolment in tertiary education, all programme...   \n",
       "2           Aruba  Enrolment in upper secondary education, both s...   \n",
       "3           Aruba                 GDP at market prices (current US$)   \n",
       "4           Aruba                       GDP per capita (current US$)   \n",
       "...           ...                                                ...   \n",
       "1921     Zimbabwe                       GDP per capita (current US$)   \n",
       "1922     Zimbabwe                    Internet users (per 100 people)   \n",
       "1923     Zimbabwe                Personal computers (per 100 people)   \n",
       "1924     Zimbabwe                       Population growth (annual %)   \n",
       "1925     Zimbabwe                                  Population, total   \n",
       "\n",
       "      Indicator Code          1990          1995          1998          1999  \\\n",
       "0            UIS.E.4           NaN           NaN           NaN  2.400000e+01   \n",
       "1        SE.TER.ENRL           NaN           NaN           NaN  1.446000e+03   \n",
       "2            UIS.E.3           NaN           NaN           NaN  3.258000e+03   \n",
       "3     NY.GDP.MKTP.CD           NaN  1.320670e+09  1.665363e+09  1.722799e+09   \n",
       "4     NY.GDP.PCAP.CD           NaN  1.644179e+04  1.908135e+04  1.935620e+04   \n",
       "...              ...           ...           ...           ...           ...   \n",
       "1921  NY.GDP.PCAP.CD  8.625866e+02  6.281849e+02  5.382849e+02  5.684440e+02   \n",
       "1922  IT.NET.USER.P2  0.000000e+00  7.683540e-03  8.164848e-02  1.616755e-01   \n",
       "1923  IT.CMP.PCMP.P2  1.911720e-02  2.835206e-01  1.063003e+00  1.211169e+00   \n",
       "1924     SP.POP.GROW  2.793947e+00  1.813085e+00  1.552994e+00  1.429746e+00   \n",
       "1925     SP.POP.TOTL  1.018311e+07  1.132035e+07  1.189327e+07  1.206454e+07   \n",
       "\n",
       "              2000          2010          2015          2016  \n",
       "0     1.240000e+02           NaN           NaN           NaN  \n",
       "1     1.578000e+03  2.330000e+03  1.166000e+03           NaN  \n",
       "2     3.119000e+03  3.913000e+03           NaN           NaN  \n",
       "3     1.873453e+09  2.467704e+09           NaN           NaN  \n",
       "4     2.062070e+04  2.427194e+04           NaN           NaN  \n",
       "...            ...           ...           ...           ...  \n",
       "1921  5.473589e+02  7.199795e+02  1.033416e+03  1.029077e+03  \n",
       "1922  4.014335e-01  6.400000e+00  2.274282e+01  2.311999e+01  \n",
       "1923  1.559544e+00           NaN           NaN           NaN  \n",
       "1924  1.298782e+00  1.976756e+00  2.345643e+00  2.336070e+00  \n",
       "1925  1.222225e+07  1.408632e+07  1.577745e+07  1.615036e+07  \n",
       "\n",
       "[1926 rows x 14 columns]"
      ]
     },
     "execution_count": 77,
     "metadata": {},
     "output_type": "execute_result"
    }
   ],
   "source": [
    "dt"
   ]
  },
  {
   "cell_type": "code",
   "execution_count": 78,
   "metadata": {
    "scrolled": true
   },
   "outputs": [
    {
     "data": {
      "text/plain": [
       "Country Code      0.000000\n",
       "Region            0.000000\n",
       "Income Group      0.000000\n",
       "Country Name      0.000000\n",
       "Indicator Name    0.000000\n",
       "Indicator Code    0.000000\n",
       "1990              0.392523\n",
       "1995              0.395639\n",
       "1998              0.358255\n",
       "1999              0.206646\n",
       "2000              0.201973\n",
       "2010              0.276220\n",
       "2015              0.413811\n",
       "2016              0.479232\n",
       "dtype: float64"
      ]
     },
     "execution_count": 78,
     "metadata": {},
     "output_type": "execute_result"
    }
   ],
   "source": [
    "dt.isnull().mean()"
   ]
  },
  {
   "cell_type": "markdown",
   "metadata": {},
   "source": [
    "## Imputation par la dernière valeure observée "
   ]
  },
  {
   "cell_type": "markdown",
   "metadata": {},
   "source": [
    "Quand la valeur de 2015 n'est pas renseignée, nous prenons une valeur antérieure."
   ]
  },
  {
   "cell_type": "code",
   "execution_count": 79,
   "metadata": {},
   "outputs": [],
   "source": [
    "dt['2016'] = np.where(dt['2016'].isnull(),dt['2015'],dt['2016'])"
   ]
  },
  {
   "cell_type": "code",
   "execution_count": 80,
   "metadata": {},
   "outputs": [],
   "source": [
    "dt['2016'] = np.where(dt['2016'].isnull(),dt['2010'],dt['2016'])"
   ]
  },
  {
   "cell_type": "code",
   "execution_count": 81,
   "metadata": {},
   "outputs": [],
   "source": [
    "dt['2016'] = np.where(dt['2016'].isnull(),dt['2000'],dt['2016'])"
   ]
  },
  {
   "cell_type": "code",
   "execution_count": 82,
   "metadata": {},
   "outputs": [],
   "source": [
    "dt['2016'] = np.where(dt['2016'].isnull(),dt['1999'],dt['2016'])"
   ]
  },
  {
   "cell_type": "code",
   "execution_count": 83,
   "metadata": {
    "scrolled": false
   },
   "outputs": [
    {
     "data": {
      "text/plain": [
       "Country Code      0.000000\n",
       "Region            0.000000\n",
       "Income Group      0.000000\n",
       "Country Name      0.000000\n",
       "Indicator Name    0.000000\n",
       "Indicator Code    0.000000\n",
       "1990              0.392523\n",
       "1995              0.395639\n",
       "1998              0.358255\n",
       "1999              0.206646\n",
       "2000              0.201973\n",
       "2010              0.276220\n",
       "2015              0.413811\n",
       "2016              0.126687\n",
       "dtype: float64"
      ]
     },
     "execution_count": 83,
     "metadata": {},
     "output_type": "execute_result"
    }
   ],
   "source": [
    "dt.isnull().mean()"
   ]
  },
  {
   "cell_type": "markdown",
   "metadata": {},
   "source": [
    "L'année 2016 est la plus récente qui ait un taux de remplissage correct après imputation"
   ]
  },
  {
   "cell_type": "code",
   "execution_count": 84,
   "metadata": {},
   "outputs": [
    {
     "data": {
      "text/html": [
       "<div>\n",
       "<style scoped>\n",
       "    .dataframe tbody tr th:only-of-type {\n",
       "        vertical-align: middle;\n",
       "    }\n",
       "\n",
       "    .dataframe tbody tr th {\n",
       "        vertical-align: top;\n",
       "    }\n",
       "\n",
       "    .dataframe thead th {\n",
       "        text-align: right;\n",
       "    }\n",
       "</style>\n",
       "<table border=\"1\" class=\"dataframe\">\n",
       "  <thead>\n",
       "    <tr style=\"text-align: right;\">\n",
       "      <th></th>\n",
       "      <th>2016</th>\n",
       "    </tr>\n",
       "  </thead>\n",
       "  <tbody>\n",
       "    <tr>\n",
       "      <th>0</th>\n",
       "      <td>124.0</td>\n",
       "    </tr>\n",
       "    <tr>\n",
       "      <th>1</th>\n",
       "      <td>1166.0</td>\n",
       "    </tr>\n",
       "  </tbody>\n",
       "</table>\n",
       "</div>"
      ],
      "text/plain": [
       "     2016\n",
       "0   124.0\n",
       "1  1166.0"
      ]
     },
     "execution_count": 84,
     "metadata": {},
     "output_type": "execute_result"
    }
   ],
   "source": [
    "dt.iloc[:,[13]].head(2)"
   ]
  },
  {
   "cell_type": "code",
   "execution_count": 85,
   "metadata": {
    "scrolled": true
   },
   "outputs": [
    {
     "data": {
      "text/html": [
       "<div>\n",
       "<style scoped>\n",
       "    .dataframe tbody tr th:only-of-type {\n",
       "        vertical-align: middle;\n",
       "    }\n",
       "\n",
       "    .dataframe tbody tr th {\n",
       "        vertical-align: top;\n",
       "    }\n",
       "\n",
       "    .dataframe thead th {\n",
       "        text-align: right;\n",
       "    }\n",
       "</style>\n",
       "<table border=\"1\" class=\"dataframe\">\n",
       "  <thead>\n",
       "    <tr style=\"text-align: right;\">\n",
       "      <th>Indicator Name</th>\n",
       "      <th>Enrolment in post-secondary non-tertiary education, both sexes (number)</th>\n",
       "      <th>Enrolment in tertiary education, all programmes, both sexes (number)</th>\n",
       "      <th>Enrolment in upper secondary education, both sexes (number)</th>\n",
       "      <th>GDP at market prices (current US$)</th>\n",
       "      <th>GDP per capita (current US$)</th>\n",
       "      <th>Internet users (per 100 people)</th>\n",
       "      <th>Personal computers (per 100 people)</th>\n",
       "      <th>Population growth (annual %)</th>\n",
       "      <th>Population, total</th>\n",
       "    </tr>\n",
       "    <tr>\n",
       "      <th>Country Name</th>\n",
       "      <th></th>\n",
       "      <th></th>\n",
       "      <th></th>\n",
       "      <th></th>\n",
       "      <th></th>\n",
       "      <th></th>\n",
       "      <th></th>\n",
       "      <th></th>\n",
       "      <th></th>\n",
       "    </tr>\n",
       "  </thead>\n",
       "  <tbody>\n",
       "    <tr>\n",
       "      <th>Afghanistan</th>\n",
       "      <td>51694.0</td>\n",
       "      <td>NaN</td>\n",
       "      <td>567344.0</td>\n",
       "      <td>1.946902e+10</td>\n",
       "      <td>561.778746</td>\n",
       "      <td>10.595726</td>\n",
       "      <td>NaN</td>\n",
       "      <td>2.689163</td>\n",
       "      <td>34656032.0</td>\n",
       "    </tr>\n",
       "    <tr>\n",
       "      <th>Albania</th>\n",
       "      <td>NaN</td>\n",
       "      <td>160527.0</td>\n",
       "      <td>140657.0</td>\n",
       "      <td>1.186387e+10</td>\n",
       "      <td>4124.982390</td>\n",
       "      <td>66.363445</td>\n",
       "      <td>0.756442</td>\n",
       "      <td>-0.159880</td>\n",
       "      <td>2876101.0</td>\n",
       "    </tr>\n",
       "    <tr>\n",
       "      <th>Algeria</th>\n",
       "      <td>NaN</td>\n",
       "      <td>1289474.0</td>\n",
       "      <td>1306432.0</td>\n",
       "      <td>1.590491e+11</td>\n",
       "      <td>3916.881571</td>\n",
       "      <td>42.945527</td>\n",
       "      <td>0.630528</td>\n",
       "      <td>1.825463</td>\n",
       "      <td>40606052.0</td>\n",
       "    </tr>\n",
       "    <tr>\n",
       "      <th>American Samoa</th>\n",
       "      <td>NaN</td>\n",
       "      <td>NaN</td>\n",
       "      <td>NaN</td>\n",
       "      <td>6.580000e+08</td>\n",
       "      <td>11834.745229</td>\n",
       "      <td>NaN</td>\n",
       "      <td>NaN</td>\n",
       "      <td>0.111575</td>\n",
       "      <td>55599.0</td>\n",
       "    </tr>\n",
       "    <tr>\n",
       "      <th>Andorra</th>\n",
       "      <td>1027.0</td>\n",
       "      <td>501.0</td>\n",
       "      <td>1221.0</td>\n",
       "      <td>2.858518e+09</td>\n",
       "      <td>36988.622030</td>\n",
       "      <td>97.930637</td>\n",
       "      <td>NaN</td>\n",
       "      <td>-0.944017</td>\n",
       "      <td>77281.0</td>\n",
       "    </tr>\n",
       "  </tbody>\n",
       "</table>\n",
       "</div>"
      ],
      "text/plain": [
       "Indicator Name  Enrolment in post-secondary non-tertiary education, both sexes (number)  \\\n",
       "Country Name                                                                              \n",
       "Afghanistan                                               51694.0                         \n",
       "Albania                                                       NaN                         \n",
       "Algeria                                                       NaN                         \n",
       "American Samoa                                                NaN                         \n",
       "Andorra                                                    1027.0                         \n",
       "\n",
       "Indicator Name  Enrolment in tertiary education, all programmes, both sexes (number)  \\\n",
       "Country Name                                                                           \n",
       "Afghanistan                                                   NaN                      \n",
       "Albania                                                  160527.0                      \n",
       "Algeria                                                 1289474.0                      \n",
       "American Samoa                                                NaN                      \n",
       "Andorra                                                     501.0                      \n",
       "\n",
       "Indicator Name  Enrolment in upper secondary education, both sexes (number)  \\\n",
       "Country Name                                                                  \n",
       "Afghanistan                                              567344.0             \n",
       "Albania                                                  140657.0             \n",
       "Algeria                                                 1306432.0             \n",
       "American Samoa                                                NaN             \n",
       "Andorra                                                    1221.0             \n",
       "\n",
       "Indicator Name  GDP at market prices (current US$)  \\\n",
       "Country Name                                         \n",
       "Afghanistan                           1.946902e+10   \n",
       "Albania                               1.186387e+10   \n",
       "Algeria                               1.590491e+11   \n",
       "American Samoa                        6.580000e+08   \n",
       "Andorra                               2.858518e+09   \n",
       "\n",
       "Indicator Name  GDP per capita (current US$)  Internet users (per 100 people)  \\\n",
       "Country Name                                                                    \n",
       "Afghanistan                       561.778746                        10.595726   \n",
       "Albania                          4124.982390                        66.363445   \n",
       "Algeria                          3916.881571                        42.945527   \n",
       "American Samoa                  11834.745229                              NaN   \n",
       "Andorra                         36988.622030                        97.930637   \n",
       "\n",
       "Indicator Name  Personal computers (per 100 people)  \\\n",
       "Country Name                                          \n",
       "Afghanistan                                     NaN   \n",
       "Albania                                    0.756442   \n",
       "Algeria                                    0.630528   \n",
       "American Samoa                                  NaN   \n",
       "Andorra                                         NaN   \n",
       "\n",
       "Indicator Name  Population growth (annual %)  Population, total  \n",
       "Country Name                                                     \n",
       "Afghanistan                         2.689163         34656032.0  \n",
       "Albania                            -0.159880          2876101.0  \n",
       "Algeria                             1.825463         40606052.0  \n",
       "American Samoa                      0.111575            55599.0  \n",
       "Andorra                            -0.944017            77281.0  "
      ]
     },
     "execution_count": 85,
     "metadata": {},
     "output_type": "execute_result"
    }
   ],
   "source": [
    "db = dt.iloc[:,[3,4,13]]\n",
    "db = db.pivot(index='Country Name',columns='Indicator Name', values='2016')\n",
    "db.head(5)"
   ]
  },
  {
   "cell_type": "code",
   "execution_count": 86,
   "metadata": {
    "scrolled": true
   },
   "outputs": [
    {
     "data": {
      "text/plain": [
       "Indicator Name\n",
       "Enrolment in post-secondary non-tertiary education, both sexes (number)    0.462617\n",
       "Enrolment in tertiary education, all programmes, both sexes (number)       0.163551\n",
       "Enrolment in upper secondary education, both sexes (number)                0.158879\n",
       "GDP at market prices (current US$)                                         0.028037\n",
       "GDP per capita (current US$)                                               0.028037\n",
       "Internet users (per 100 people)                                            0.051402\n",
       "Personal computers (per 100 people)                                        0.247664\n",
       "Population growth (annual %)                                               0.000000\n",
       "Population, total                                                          0.000000\n",
       "dtype: float64"
      ]
     },
     "execution_count": 86,
     "metadata": {},
     "output_type": "execute_result"
    }
   ],
   "source": [
    "db.isnull().mean()"
   ]
  },
  {
   "cell_type": "code",
   "execution_count": 87,
   "metadata": {
    "scrolled": true
   },
   "outputs": [],
   "source": [
    "db = db.iloc[:,[2,4,5,7,8]] # sélection des variables pertinantes."
   ]
  },
  {
   "cell_type": "code",
   "execution_count": 88,
   "metadata": {
    "scrolled": true
   },
   "outputs": [
    {
     "data": {
      "text/plain": [
       "177"
      ]
     },
     "execution_count": 88,
     "metadata": {},
     "output_type": "execute_result"
    }
   ],
   "source": [
    "(db.isnull().sum(axis=1) == 0).sum() # nb de pays complets ( sans Nan)"
   ]
  },
  {
   "cell_type": "code",
   "execution_count": 89,
   "metadata": {
    "scrolled": true
   },
   "outputs": [
    {
     "data": {
      "text/plain": [
       "(214, 5)"
      ]
     },
     "execution_count": 89,
     "metadata": {},
     "output_type": "execute_result"
    }
   ],
   "source": [
    "db.shape"
   ]
  },
  {
   "cell_type": "markdown",
   "metadata": {},
   "source": [
    "Nous ne conservons que 5 colonnes avec le moins de NA, ou  plus pertinante comme pib/tête a la place de pib"
   ]
  },
  {
   "cell_type": "markdown",
   "metadata": {},
   "source": [
    "## imputation KNN"
   ]
  },
  {
   "cell_type": "code",
   "execution_count": 90,
   "metadata": {},
   "outputs": [],
   "source": [
    "from sklearn.impute import KNNImputer"
   ]
  },
  {
   "cell_type": "code",
   "execution_count": 91,
   "metadata": {},
   "outputs": [],
   "source": [
    "imputer = KNNImputer(n_neighbors=3, weights=\"uniform\")\n",
    "array_impute = imputer.fit_transform(db)\n",
    "#array_impute"
   ]
  },
  {
   "cell_type": "code",
   "execution_count": 92,
   "metadata": {
    "scrolled": true
   },
   "outputs": [
    {
     "data": {
      "text/html": [
       "<div>\n",
       "<style scoped>\n",
       "    .dataframe tbody tr th:only-of-type {\n",
       "        vertical-align: middle;\n",
       "    }\n",
       "\n",
       "    .dataframe tbody tr th {\n",
       "        vertical-align: top;\n",
       "    }\n",
       "\n",
       "    .dataframe thead th {\n",
       "        text-align: right;\n",
       "    }\n",
       "</style>\n",
       "<table border=\"1\" class=\"dataframe\">\n",
       "  <thead>\n",
       "    <tr style=\"text-align: right;\">\n",
       "      <th>Indicator Name</th>\n",
       "      <th>Enrolment in upper secondary education, both sexes (number)</th>\n",
       "      <th>GDP per capita (current US$)</th>\n",
       "      <th>Internet users (per 100 people)</th>\n",
       "      <th>Population growth (annual %)</th>\n",
       "      <th>Population, total</th>\n",
       "    </tr>\n",
       "    <tr>\n",
       "      <th>Country Name</th>\n",
       "      <th></th>\n",
       "      <th></th>\n",
       "      <th></th>\n",
       "      <th></th>\n",
       "      <th></th>\n",
       "    </tr>\n",
       "  </thead>\n",
       "  <tbody>\n",
       "    <tr>\n",
       "      <th>Afghanistan</th>\n",
       "      <td>5.673440e+05</td>\n",
       "      <td>561.778746</td>\n",
       "      <td>10.595726</td>\n",
       "      <td>2.689163</td>\n",
       "      <td>34656032.0</td>\n",
       "    </tr>\n",
       "    <tr>\n",
       "      <th>Albania</th>\n",
       "      <td>1.406570e+05</td>\n",
       "      <td>4124.982390</td>\n",
       "      <td>66.363445</td>\n",
       "      <td>-0.159880</td>\n",
       "      <td>2876101.0</td>\n",
       "    </tr>\n",
       "    <tr>\n",
       "      <th>Algeria</th>\n",
       "      <td>1.306432e+06</td>\n",
       "      <td>3916.881571</td>\n",
       "      <td>42.945527</td>\n",
       "      <td>1.825463</td>\n",
       "      <td>40606052.0</td>\n",
       "    </tr>\n",
       "    <tr>\n",
       "      <th>American Samoa</th>\n",
       "      <td>1.878333e+03</td>\n",
       "      <td>11834.745229</td>\n",
       "      <td>61.868485</td>\n",
       "      <td>0.111575</td>\n",
       "      <td>55599.0</td>\n",
       "    </tr>\n",
       "    <tr>\n",
       "      <th>Andorra</th>\n",
       "      <td>1.221000e+03</td>\n",
       "      <td>36988.622030</td>\n",
       "      <td>97.930637</td>\n",
       "      <td>-0.944017</td>\n",
       "      <td>77281.0</td>\n",
       "    </tr>\n",
       "    <tr>\n",
       "      <th>...</th>\n",
       "      <td>...</td>\n",
       "      <td>...</td>\n",
       "      <td>...</td>\n",
       "      <td>...</td>\n",
       "      <td>...</td>\n",
       "    </tr>\n",
       "    <tr>\n",
       "      <th>Virgin Islands (U.S.)</th>\n",
       "      <td>3.183000e+03</td>\n",
       "      <td>36350.821635</td>\n",
       "      <td>59.608316</td>\n",
       "      <td>-0.603319</td>\n",
       "      <td>102951.0</td>\n",
       "    </tr>\n",
       "    <tr>\n",
       "      <th>West Bank and Gaza</th>\n",
       "      <td>1.521480e+05</td>\n",
       "      <td>2943.404534</td>\n",
       "      <td>61.178385</td>\n",
       "      <td>2.884693</td>\n",
       "      <td>4551566.0</td>\n",
       "    </tr>\n",
       "    <tr>\n",
       "      <th>Yemen, Rep.</th>\n",
       "      <td>5.856490e+05</td>\n",
       "      <td>990.334774</td>\n",
       "      <td>24.579208</td>\n",
       "      <td>2.451502</td>\n",
       "      <td>27584213.0</td>\n",
       "    </tr>\n",
       "    <tr>\n",
       "      <th>Zambia</th>\n",
       "      <td>5.682630e+05</td>\n",
       "      <td>1269.573537</td>\n",
       "      <td>25.506579</td>\n",
       "      <td>3.002816</td>\n",
       "      <td>16591390.0</td>\n",
       "    </tr>\n",
       "    <tr>\n",
       "      <th>Zimbabwe</th>\n",
       "      <td>4.082510e+05</td>\n",
       "      <td>1029.076649</td>\n",
       "      <td>23.119989</td>\n",
       "      <td>2.336070</td>\n",
       "      <td>16150362.0</td>\n",
       "    </tr>\n",
       "  </tbody>\n",
       "</table>\n",
       "<p>214 rows × 5 columns</p>\n",
       "</div>"
      ],
      "text/plain": [
       "Indicator Name         Enrolment in upper secondary education, both sexes (number)  \\\n",
       "Country Name                                                                         \n",
       "Afghanistan                                                 5.673440e+05             \n",
       "Albania                                                     1.406570e+05             \n",
       "Algeria                                                     1.306432e+06             \n",
       "American Samoa                                              1.878333e+03             \n",
       "Andorra                                                     1.221000e+03             \n",
       "...                                                                  ...             \n",
       "Virgin Islands (U.S.)                                       3.183000e+03             \n",
       "West Bank and Gaza                                          1.521480e+05             \n",
       "Yemen, Rep.                                                 5.856490e+05             \n",
       "Zambia                                                      5.682630e+05             \n",
       "Zimbabwe                                                    4.082510e+05             \n",
       "\n",
       "Indicator Name         GDP per capita (current US$)  \\\n",
       "Country Name                                          \n",
       "Afghanistan                              561.778746   \n",
       "Albania                                 4124.982390   \n",
       "Algeria                                 3916.881571   \n",
       "American Samoa                         11834.745229   \n",
       "Andorra                                36988.622030   \n",
       "...                                             ...   \n",
       "Virgin Islands (U.S.)                  36350.821635   \n",
       "West Bank and Gaza                      2943.404534   \n",
       "Yemen, Rep.                              990.334774   \n",
       "Zambia                                  1269.573537   \n",
       "Zimbabwe                                1029.076649   \n",
       "\n",
       "Indicator Name         Internet users (per 100 people)  \\\n",
       "Country Name                                             \n",
       "Afghanistan                                  10.595726   \n",
       "Albania                                      66.363445   \n",
       "Algeria                                      42.945527   \n",
       "American Samoa                               61.868485   \n",
       "Andorra                                      97.930637   \n",
       "...                                                ...   \n",
       "Virgin Islands (U.S.)                        59.608316   \n",
       "West Bank and Gaza                           61.178385   \n",
       "Yemen, Rep.                                  24.579208   \n",
       "Zambia                                       25.506579   \n",
       "Zimbabwe                                     23.119989   \n",
       "\n",
       "Indicator Name         Population growth (annual %)  Population, total  \n",
       "Country Name                                                            \n",
       "Afghanistan                                2.689163         34656032.0  \n",
       "Albania                                   -0.159880          2876101.0  \n",
       "Algeria                                    1.825463         40606052.0  \n",
       "American Samoa                             0.111575            55599.0  \n",
       "Andorra                                   -0.944017            77281.0  \n",
       "...                                             ...                ...  \n",
       "Virgin Islands (U.S.)                     -0.603319           102951.0  \n",
       "West Bank and Gaza                         2.884693          4551566.0  \n",
       "Yemen, Rep.                                2.451502         27584213.0  \n",
       "Zambia                                     3.002816         16591390.0  \n",
       "Zimbabwe                                   2.336070         16150362.0  \n",
       "\n",
       "[214 rows x 5 columns]"
      ]
     },
     "execution_count": 92,
     "metadata": {},
     "output_type": "execute_result"
    }
   ],
   "source": [
    "column_names = db.columns\n",
    "db_impute = pd.DataFrame(array_impute, index= db.index , columns=column_names) # Transformation en df \n",
    "db_impute"
   ]
  },
  {
   "cell_type": "markdown",
   "metadata": {},
   "source": [
    "On vérifie notre imputation."
   ]
  },
  {
   "cell_type": "code",
   "execution_count": 93,
   "metadata": {
    "scrolled": true
   },
   "outputs": [
    {
     "data": {
      "text/plain": [
       "Indicator Name\n",
       "Enrolment in upper secondary education, both sexes (number)    0\n",
       "GDP per capita (current US$)                                   0\n",
       "Internet users (per 100 people)                                0\n",
       "Population growth (annual %)                                   0\n",
       "Population, total                                              0\n",
       "dtype: int64"
      ]
     },
     "execution_count": 93,
     "metadata": {},
     "output_type": "execute_result"
    }
   ],
   "source": [
    "db_impute.isnull().sum()"
   ]
  },
  {
   "cell_type": "markdown",
   "metadata": {},
   "source": [
    "Pas de valeur manquante à signaler"
   ]
  },
  {
   "cell_type": "markdown",
   "metadata": {},
   "source": [
    "La population étudiante est exprimée en nombre, nous l'exprimons en taux en la divisant par la population totale."
   ]
  },
  {
   "cell_type": "code",
   "execution_count": 94,
   "metadata": {},
   "outputs": [],
   "source": [
    "db_impute['Enrolment in upper secondary education, both sexes (number)'] = (db_impute['Enrolment in upper secondary education, both sexes (number)']/db_impute['Population, total'])"
   ]
  },
  {
   "cell_type": "code",
   "execution_count": 95,
   "metadata": {
    "scrolled": false
   },
   "outputs": [
    {
     "data": {
      "text/html": [
       "<div>\n",
       "<style scoped>\n",
       "    .dataframe tbody tr th:only-of-type {\n",
       "        vertical-align: middle;\n",
       "    }\n",
       "\n",
       "    .dataframe tbody tr th {\n",
       "        vertical-align: top;\n",
       "    }\n",
       "\n",
       "    .dataframe thead th {\n",
       "        text-align: right;\n",
       "    }\n",
       "</style>\n",
       "<table border=\"1\" class=\"dataframe\">\n",
       "  <thead>\n",
       "    <tr style=\"text-align: right;\">\n",
       "      <th>Indicator Name</th>\n",
       "      <th>Enrolment in upper secondary education, both sexes (number)</th>\n",
       "      <th>GDP per capita (current US$)</th>\n",
       "      <th>Internet users (per 100 people)</th>\n",
       "      <th>Population growth (annual %)</th>\n",
       "      <th>Population, total</th>\n",
       "    </tr>\n",
       "  </thead>\n",
       "  <tbody>\n",
       "    <tr>\n",
       "      <th>count</th>\n",
       "      <td>214.000000</td>\n",
       "      <td>214.000000</td>\n",
       "      <td>214.000000</td>\n",
       "      <td>214.000000</td>\n",
       "      <td>2.140000e+02</td>\n",
       "    </tr>\n",
       "    <tr>\n",
       "      <th>mean</th>\n",
       "      <td>0.031413</td>\n",
       "      <td>17470.819067</td>\n",
       "      <td>51.905079</td>\n",
       "      <td>1.298697</td>\n",
       "      <td>3.465272e+07</td>\n",
       "    </tr>\n",
       "    <tr>\n",
       "      <th>std</th>\n",
       "      <td>0.016537</td>\n",
       "      <td>26449.911609</td>\n",
       "      <td>28.286229</td>\n",
       "      <td>1.193055</td>\n",
       "      <td>1.353470e+08</td>\n",
       "    </tr>\n",
       "    <tr>\n",
       "      <th>min</th>\n",
       "      <td>0.001619</td>\n",
       "      <td>285.727442</td>\n",
       "      <td>0.000000</td>\n",
       "      <td>-3.333512</td>\n",
       "      <td>1.109700e+04</td>\n",
       "    </tr>\n",
       "    <tr>\n",
       "      <th>25%</th>\n",
       "      <td>0.022208</td>\n",
       "      <td>2120.831416</td>\n",
       "      <td>25.594207</td>\n",
       "      <td>0.478115</td>\n",
       "      <td>9.096532e+05</td>\n",
       "    </tr>\n",
       "    <tr>\n",
       "      <th>50%</th>\n",
       "      <td>0.032186</td>\n",
       "      <td>6033.879723</td>\n",
       "      <td>54.000000</td>\n",
       "      <td>1.203879</td>\n",
       "      <td>6.318988e+06</td>\n",
       "    </tr>\n",
       "    <tr>\n",
       "      <th>75%</th>\n",
       "      <td>0.040788</td>\n",
       "      <td>21246.370799</td>\n",
       "      <td>76.463172</td>\n",
       "      <td>2.164907</td>\n",
       "      <td>2.363174e+07</td>\n",
       "    </tr>\n",
       "    <tr>\n",
       "      <th>max</th>\n",
       "      <td>0.142531</td>\n",
       "      <td>168146.015281</td>\n",
       "      <td>98.240016</td>\n",
       "      <td>5.217721</td>\n",
       "      <td>1.378665e+09</td>\n",
       "    </tr>\n",
       "  </tbody>\n",
       "</table>\n",
       "</div>"
      ],
      "text/plain": [
       "Indicator Name  Enrolment in upper secondary education, both sexes (number)  \\\n",
       "count                                                  214.000000             \n",
       "mean                                                     0.031413             \n",
       "std                                                      0.016537             \n",
       "min                                                      0.001619             \n",
       "25%                                                      0.022208             \n",
       "50%                                                      0.032186             \n",
       "75%                                                      0.040788             \n",
       "max                                                      0.142531             \n",
       "\n",
       "Indicator Name  GDP per capita (current US$)  Internet users (per 100 people)  \\\n",
       "count                             214.000000                       214.000000   \n",
       "mean                            17470.819067                        51.905079   \n",
       "std                             26449.911609                        28.286229   \n",
       "min                               285.727442                         0.000000   \n",
       "25%                              2120.831416                        25.594207   \n",
       "50%                              6033.879723                        54.000000   \n",
       "75%                             21246.370799                        76.463172   \n",
       "max                            168146.015281                        98.240016   \n",
       "\n",
       "Indicator Name  Population growth (annual %)  Population, total  \n",
       "count                             214.000000       2.140000e+02  \n",
       "mean                                1.298697       3.465272e+07  \n",
       "std                                 1.193055       1.353470e+08  \n",
       "min                                -3.333512       1.109700e+04  \n",
       "25%                                 0.478115       9.096532e+05  \n",
       "50%                                 1.203879       6.318988e+06  \n",
       "75%                                 2.164907       2.363174e+07  \n",
       "max                                 5.217721       1.378665e+09  "
      ]
     },
     "execution_count": 95,
     "metadata": {},
     "output_type": "execute_result"
    }
   ],
   "source": [
    "db_impute.describe()"
   ]
  },
  {
   "cell_type": "markdown",
   "metadata": {},
   "source": [
    "On a notre tableau/ dataframe final.\n",
    "Renommons les colonnes pour plus de lisibilité"
   ]
  },
  {
   "cell_type": "code",
   "execution_count": 96,
   "metadata": {},
   "outputs": [],
   "source": [
    "#"
   ]
  },
  {
   "cell_type": "markdown",
   "metadata": {},
   "source": [
    "# Analyse"
   ]
  },
  {
   "cell_type": "markdown",
   "metadata": {},
   "source": [
    "## Matrice des corrélations"
   ]
  },
  {
   "cell_type": "code",
   "execution_count": 97,
   "metadata": {
    "scrolled": true
   },
   "outputs": [
    {
     "data": {
      "text/html": [
       "<style  type=\"text/css\" >\n",
       "#T_a7e8560d_5dc2_11ed_8770_6045cb218ef9row0_col0,#T_a7e8560d_5dc2_11ed_8770_6045cb218ef9row1_col1,#T_a7e8560d_5dc2_11ed_8770_6045cb218ef9row2_col2,#T_a7e8560d_5dc2_11ed_8770_6045cb218ef9row3_col3,#T_a7e8560d_5dc2_11ed_8770_6045cb218ef9row4_col4{\n",
       "            background-color:  #b40426;\n",
       "            color:  #f1f1f1;\n",
       "        }#T_a7e8560d_5dc2_11ed_8770_6045cb218ef9row0_col1{\n",
       "            background-color:  #afcafc;\n",
       "            color:  #000000;\n",
       "        }#T_a7e8560d_5dc2_11ed_8770_6045cb218ef9row0_col2{\n",
       "            background-color:  #f1ccb8;\n",
       "            color:  #000000;\n",
       "        }#T_a7e8560d_5dc2_11ed_8770_6045cb218ef9row0_col3{\n",
       "            background-color:  #3f53c6;\n",
       "            color:  #f1f1f1;\n",
       "        }#T_a7e8560d_5dc2_11ed_8770_6045cb218ef9row0_col4{\n",
       "            background-color:  #4c66d6;\n",
       "            color:  #000000;\n",
       "        }#T_a7e8560d_5dc2_11ed_8770_6045cb218ef9row1_col0{\n",
       "            background-color:  #cad8ef;\n",
       "            color:  #000000;\n",
       "        }#T_a7e8560d_5dc2_11ed_8770_6045cb218ef9row1_col2{\n",
       "            background-color:  #f49a7b;\n",
       "            color:  #000000;\n",
       "        }#T_a7e8560d_5dc2_11ed_8770_6045cb218ef9row1_col3{\n",
       "            background-color:  #688aef;\n",
       "            color:  #000000;\n",
       "        }#T_a7e8560d_5dc2_11ed_8770_6045cb218ef9row1_col4,#T_a7e8560d_5dc2_11ed_8770_6045cb218ef9row2_col3,#T_a7e8560d_5dc2_11ed_8770_6045cb218ef9row3_col0,#T_a7e8560d_5dc2_11ed_8770_6045cb218ef9row3_col1,#T_a7e8560d_5dc2_11ed_8770_6045cb218ef9row3_col2{\n",
       "            background-color:  #3b4cc0;\n",
       "            color:  #f1f1f1;\n",
       "        }#T_a7e8560d_5dc2_11ed_8770_6045cb218ef9row2_col0{\n",
       "            background-color:  #f0cdbb;\n",
       "            color:  #000000;\n",
       "        }#T_a7e8560d_5dc2_11ed_8770_6045cb218ef9row2_col1{\n",
       "            background-color:  #f7aa8c;\n",
       "            color:  #000000;\n",
       "        }#T_a7e8560d_5dc2_11ed_8770_6045cb218ef9row2_col4{\n",
       "            background-color:  #3e51c5;\n",
       "            color:  #f1f1f1;\n",
       "        }#T_a7e8560d_5dc2_11ed_8770_6045cb218ef9row3_col4{\n",
       "            background-color:  #465ecf;\n",
       "            color:  #f1f1f1;\n",
       "        }#T_a7e8560d_5dc2_11ed_8770_6045cb218ef9row4_col0,#T_a7e8560d_5dc2_11ed_8770_6045cb218ef9row4_col3{\n",
       "            background-color:  #9ebeff;\n",
       "            color:  #000000;\n",
       "        }#T_a7e8560d_5dc2_11ed_8770_6045cb218ef9row4_col1{\n",
       "            background-color:  #6788ee;\n",
       "            color:  #000000;\n",
       "        }#T_a7e8560d_5dc2_11ed_8770_6045cb218ef9row4_col2{\n",
       "            background-color:  #97b8ff;\n",
       "            color:  #000000;\n",
       "        }</style><table id=\"T_a7e8560d_5dc2_11ed_8770_6045cb218ef9\" ><thead>    <tr>        <th class=\"index_name level0\" >Indicator Name</th>        <th class=\"col_heading level0 col0\" >Enrolment in upper secondary education, both sexes (number)</th>        <th class=\"col_heading level0 col1\" >GDP per capita (current US$)</th>        <th class=\"col_heading level0 col2\" >Internet users (per 100 people)</th>        <th class=\"col_heading level0 col3\" >Population growth (annual %)</th>        <th class=\"col_heading level0 col4\" >Population, total</th>    </tr>    <tr>        <th class=\"index_name level0\" >Indicator Name</th>        <th class=\"blank\" ></th>        <th class=\"blank\" ></th>        <th class=\"blank\" ></th>        <th class=\"blank\" ></th>        <th class=\"blank\" ></th>    </tr></thead><tbody>\n",
       "                <tr>\n",
       "                        <th id=\"T_a7e8560d_5dc2_11ed_8770_6045cb218ef9level0_row0\" class=\"row_heading level0 row0\" >Enrolment in upper secondary education, both sexes (number)</th>\n",
       "                        <td id=\"T_a7e8560d_5dc2_11ed_8770_6045cb218ef9row0_col0\" class=\"data row0 col0\" >1.00</td>\n",
       "                        <td id=\"T_a7e8560d_5dc2_11ed_8770_6045cb218ef9row0_col1\" class=\"data row0 col1\" >0.19</td>\n",
       "                        <td id=\"T_a7e8560d_5dc2_11ed_8770_6045cb218ef9row0_col2\" class=\"data row0 col2\" >0.41</td>\n",
       "                        <td id=\"T_a7e8560d_5dc2_11ed_8770_6045cb218ef9row0_col3\" class=\"data row0 col3\" >-0.44</td>\n",
       "                        <td id=\"T_a7e8560d_5dc2_11ed_8770_6045cb218ef9row0_col4\" class=\"data row0 col4\" >-0.00</td>\n",
       "            </tr>\n",
       "            <tr>\n",
       "                        <th id=\"T_a7e8560d_5dc2_11ed_8770_6045cb218ef9level0_row1\" class=\"row_heading level0 row1\" >GDP per capita (current US$)</th>\n",
       "                        <td id=\"T_a7e8560d_5dc2_11ed_8770_6045cb218ef9row1_col0\" class=\"data row1 col0\" >0.19</td>\n",
       "                        <td id=\"T_a7e8560d_5dc2_11ed_8770_6045cb218ef9row1_col1\" class=\"data row1 col1\" >1.00</td>\n",
       "                        <td id=\"T_a7e8560d_5dc2_11ed_8770_6045cb218ef9row1_col2\" class=\"data row1 col2\" >0.63</td>\n",
       "                        <td id=\"T_a7e8560d_5dc2_11ed_8770_6045cb218ef9row1_col3\" class=\"data row1 col3\" >-0.25</td>\n",
       "                        <td id=\"T_a7e8560d_5dc2_11ed_8770_6045cb218ef9row1_col4\" class=\"data row1 col4\" >-0.07</td>\n",
       "            </tr>\n",
       "            <tr>\n",
       "                        <th id=\"T_a7e8560d_5dc2_11ed_8770_6045cb218ef9level0_row2\" class=\"row_heading level0 row2\" >Internet users (per 100 people)</th>\n",
       "                        <td id=\"T_a7e8560d_5dc2_11ed_8770_6045cb218ef9row2_col0\" class=\"data row2 col0\" >0.41</td>\n",
       "                        <td id=\"T_a7e8560d_5dc2_11ed_8770_6045cb218ef9row2_col1\" class=\"data row2 col1\" >0.63</td>\n",
       "                        <td id=\"T_a7e8560d_5dc2_11ed_8770_6045cb218ef9row2_col2\" class=\"data row2 col2\" >1.00</td>\n",
       "                        <td id=\"T_a7e8560d_5dc2_11ed_8770_6045cb218ef9row2_col3\" class=\"data row2 col3\" >-0.47</td>\n",
       "                        <td id=\"T_a7e8560d_5dc2_11ed_8770_6045cb218ef9row2_col4\" class=\"data row2 col4\" >-0.06</td>\n",
       "            </tr>\n",
       "            <tr>\n",
       "                        <th id=\"T_a7e8560d_5dc2_11ed_8770_6045cb218ef9level0_row3\" class=\"row_heading level0 row3\" >Population growth (annual %)</th>\n",
       "                        <td id=\"T_a7e8560d_5dc2_11ed_8770_6045cb218ef9row3_col0\" class=\"data row3 col0\" >-0.44</td>\n",
       "                        <td id=\"T_a7e8560d_5dc2_11ed_8770_6045cb218ef9row3_col1\" class=\"data row3 col1\" >-0.25</td>\n",
       "                        <td id=\"T_a7e8560d_5dc2_11ed_8770_6045cb218ef9row3_col2\" class=\"data row3 col2\" >-0.47</td>\n",
       "                        <td id=\"T_a7e8560d_5dc2_11ed_8770_6045cb218ef9row3_col3\" class=\"data row3 col3\" >1.00</td>\n",
       "                        <td id=\"T_a7e8560d_5dc2_11ed_8770_6045cb218ef9row3_col4\" class=\"data row3 col4\" >-0.03</td>\n",
       "            </tr>\n",
       "            <tr>\n",
       "                        <th id=\"T_a7e8560d_5dc2_11ed_8770_6045cb218ef9level0_row4\" class=\"row_heading level0 row4\" >Population, total</th>\n",
       "                        <td id=\"T_a7e8560d_5dc2_11ed_8770_6045cb218ef9row4_col0\" class=\"data row4 col0\" >-0.00</td>\n",
       "                        <td id=\"T_a7e8560d_5dc2_11ed_8770_6045cb218ef9row4_col1\" class=\"data row4 col1\" >-0.07</td>\n",
       "                        <td id=\"T_a7e8560d_5dc2_11ed_8770_6045cb218ef9row4_col2\" class=\"data row4 col2\" >-0.06</td>\n",
       "                        <td id=\"T_a7e8560d_5dc2_11ed_8770_6045cb218ef9row4_col3\" class=\"data row4 col3\" >-0.03</td>\n",
       "                        <td id=\"T_a7e8560d_5dc2_11ed_8770_6045cb218ef9row4_col4\" class=\"data row4 col4\" >1.00</td>\n",
       "            </tr>\n",
       "    </tbody></table>"
      ],
      "text/plain": [
       "<pandas.io.formats.style.Styler at 0x15e9be74f10>"
      ]
     },
     "execution_count": 97,
     "metadata": {},
     "output_type": "execute_result"
    }
   ],
   "source": [
    "corr = db_impute.corr()\n",
    "corr.style.background_gradient(cmap='coolwarm').set_precision(2)"
   ]
  },
  {
   "cell_type": "markdown",
   "metadata": {},
   "source": [
    "Taux d'internet est corrélé positivement avec le Pib par individu et négativement avec la croissance démographique.\\\n",
    "On s'attend donc a avoir une sélection de pays riches à faible croissance démographique."
   ]
  },
  {
   "cell_type": "code",
   "execution_count": 98,
   "metadata": {
    "scrolled": false
   },
   "outputs": [
    {
     "data": {
      "text/html": [
       "<div>\n",
       "<style scoped>\n",
       "    .dataframe tbody tr th:only-of-type {\n",
       "        vertical-align: middle;\n",
       "    }\n",
       "\n",
       "    .dataframe tbody tr th {\n",
       "        vertical-align: top;\n",
       "    }\n",
       "\n",
       "    .dataframe thead th {\n",
       "        text-align: right;\n",
       "    }\n",
       "</style>\n",
       "<table border=\"1\" class=\"dataframe\">\n",
       "  <thead>\n",
       "    <tr style=\"text-align: right;\">\n",
       "      <th>Indicator Name</th>\n",
       "      <th>Enrolment in upper secondary education, both sexes (number)</th>\n",
       "      <th>GDP per capita (current US$)</th>\n",
       "      <th>Internet users (per 100 people)</th>\n",
       "      <th>Population growth (annual %)</th>\n",
       "      <th>Population, total</th>\n",
       "    </tr>\n",
       "    <tr>\n",
       "      <th>Country Name</th>\n",
       "      <th></th>\n",
       "      <th></th>\n",
       "      <th></th>\n",
       "      <th></th>\n",
       "      <th></th>\n",
       "    </tr>\n",
       "  </thead>\n",
       "  <tbody>\n",
       "    <tr>\n",
       "      <th>Afghanistan</th>\n",
       "      <td>0.016371</td>\n",
       "      <td>561.778746</td>\n",
       "      <td>10.595726</td>\n",
       "      <td>2.689163</td>\n",
       "      <td>34656032.0</td>\n",
       "    </tr>\n",
       "    <tr>\n",
       "      <th>Albania</th>\n",
       "      <td>0.048905</td>\n",
       "      <td>4124.982390</td>\n",
       "      <td>66.363445</td>\n",
       "      <td>-0.159880</td>\n",
       "      <td>2876101.0</td>\n",
       "    </tr>\n",
       "    <tr>\n",
       "      <th>Algeria</th>\n",
       "      <td>0.032173</td>\n",
       "      <td>3916.881571</td>\n",
       "      <td>42.945527</td>\n",
       "      <td>1.825463</td>\n",
       "      <td>40606052.0</td>\n",
       "    </tr>\n",
       "    <tr>\n",
       "      <th>American Samoa</th>\n",
       "      <td>0.033784</td>\n",
       "      <td>11834.745229</td>\n",
       "      <td>61.868485</td>\n",
       "      <td>0.111575</td>\n",
       "      <td>55599.0</td>\n",
       "    </tr>\n",
       "    <tr>\n",
       "      <th>Andorra</th>\n",
       "      <td>0.015799</td>\n",
       "      <td>36988.622030</td>\n",
       "      <td>97.930637</td>\n",
       "      <td>-0.944017</td>\n",
       "      <td>77281.0</td>\n",
       "    </tr>\n",
       "  </tbody>\n",
       "</table>\n",
       "</div>"
      ],
      "text/plain": [
       "Indicator Name  Enrolment in upper secondary education, both sexes (number)  \\\n",
       "Country Name                                                                  \n",
       "Afghanistan                                              0.016371             \n",
       "Albania                                                  0.048905             \n",
       "Algeria                                                  0.032173             \n",
       "American Samoa                                           0.033784             \n",
       "Andorra                                                  0.015799             \n",
       "\n",
       "Indicator Name  GDP per capita (current US$)  Internet users (per 100 people)  \\\n",
       "Country Name                                                                    \n",
       "Afghanistan                       561.778746                        10.595726   \n",
       "Albania                          4124.982390                        66.363445   \n",
       "Algeria                          3916.881571                        42.945527   \n",
       "American Samoa                  11834.745229                        61.868485   \n",
       "Andorra                         36988.622030                        97.930637   \n",
       "\n",
       "Indicator Name  Population growth (annual %)  Population, total  \n",
       "Country Name                                                     \n",
       "Afghanistan                         2.689163         34656032.0  \n",
       "Albania                            -0.159880          2876101.0  \n",
       "Algeria                             1.825463         40606052.0  \n",
       "American Samoa                      0.111575            55599.0  \n",
       "Andorra                            -0.944017            77281.0  "
      ]
     },
     "execution_count": 98,
     "metadata": {},
     "output_type": "execute_result"
    }
   ],
   "source": [
    "db_impute.head()"
   ]
  },
  {
   "cell_type": "markdown",
   "metadata": {},
   "source": [
    "## Pays candidats\n"
   ]
  },
  {
   "cell_type": "markdown",
   "metadata": {},
   "source": [
    "On regarde les pays sans la variable croissance démographique."
   ]
  },
  {
   "cell_type": "code",
   "execution_count": 99,
   "metadata": {
    "scrolled": true
   },
   "outputs": [
    {
     "data": {
      "text/plain": [
       "Country Name\n",
       "Germany           174.25\n",
       "Belgium           174.50\n",
       "Norway            174.50\n",
       "Netherlands       176.25\n",
       "Korea, Rep.       176.75\n",
       "France            176.75\n",
       "United States     177.00\n",
       "Australia         177.50\n",
       "Canada            189.25\n",
       "United Kingdom    192.75\n",
       "dtype: float64"
      ]
     },
     "execution_count": 99,
     "metadata": {},
     "output_type": "execute_result"
    }
   ],
   "source": [
    "candidats = db_impute.drop(columns='Population growth (annual %)').rank().mean(axis=1).sort_values().tail(10)\n",
    "candidats"
   ]
  },
  {
   "cell_type": "code",
   "execution_count": 100,
   "metadata": {},
   "outputs": [
    {
     "data": {
      "text/plain": [
       "Index(['Germany', 'Belgium', 'Norway', 'Netherlands', 'Korea, Rep.', 'France',\n",
       "       'United States', 'Australia', 'Canada', 'United Kingdom'],\n",
       "      dtype='object', name='Country Name')"
      ]
     },
     "execution_count": 100,
     "metadata": {},
     "output_type": "execute_result"
    }
   ],
   "source": [
    "candidats.index"
   ]
  },
  {
   "cell_type": "code",
   "execution_count": 101,
   "metadata": {},
   "outputs": [
    {
     "data": {
      "text/html": [
       "<div>\n",
       "<style scoped>\n",
       "    .dataframe tbody tr th:only-of-type {\n",
       "        vertical-align: middle;\n",
       "    }\n",
       "\n",
       "    .dataframe tbody tr th {\n",
       "        vertical-align: top;\n",
       "    }\n",
       "\n",
       "    .dataframe thead th {\n",
       "        text-align: right;\n",
       "    }\n",
       "</style>\n",
       "<table border=\"1\" class=\"dataframe\">\n",
       "  <thead>\n",
       "    <tr style=\"text-align: right;\">\n",
       "      <th>Indicator Name</th>\n",
       "      <th>Enrolment in upper secondary education, both sexes (number)</th>\n",
       "      <th>GDP per capita (current US$)</th>\n",
       "      <th>Internet users (per 100 people)</th>\n",
       "      <th>Population growth (annual %)</th>\n",
       "      <th>Population, total</th>\n",
       "    </tr>\n",
       "    <tr>\n",
       "      <th>Country Name</th>\n",
       "      <th></th>\n",
       "      <th></th>\n",
       "      <th></th>\n",
       "      <th></th>\n",
       "      <th></th>\n",
       "    </tr>\n",
       "  </thead>\n",
       "  <tbody>\n",
       "    <tr>\n",
       "      <th>Australia</th>\n",
       "      <td>0.041072</td>\n",
       "      <td>49927.819509</td>\n",
       "      <td>88.238658</td>\n",
       "      <td>1.410064</td>\n",
       "      <td>24127159.0</td>\n",
       "    </tr>\n",
       "    <tr>\n",
       "      <th>Belgium</th>\n",
       "      <td>0.046590</td>\n",
       "      <td>41236.266589</td>\n",
       "      <td>86.516500</td>\n",
       "      <td>0.653895</td>\n",
       "      <td>11348159.0</td>\n",
       "    </tr>\n",
       "    <tr>\n",
       "      <th>Canada</th>\n",
       "      <td>0.049948</td>\n",
       "      <td>42157.927991</td>\n",
       "      <td>89.840000</td>\n",
       "      <td>1.213891</td>\n",
       "      <td>36286425.0</td>\n",
       "    </tr>\n",
       "    <tr>\n",
       "      <th>France</th>\n",
       "      <td>0.039229</td>\n",
       "      <td>36854.968280</td>\n",
       "      <td>85.622200</td>\n",
       "      <td>0.407491</td>\n",
       "      <td>66896109.0</td>\n",
       "    </tr>\n",
       "    <tr>\n",
       "      <th>Germany</th>\n",
       "      <td>0.033225</td>\n",
       "      <td>42069.597987</td>\n",
       "      <td>89.647101</td>\n",
       "      <td>1.193867</td>\n",
       "      <td>82667685.0</td>\n",
       "    </tr>\n",
       "    <tr>\n",
       "      <th>Korea, Rep.</th>\n",
       "      <td>0.038435</td>\n",
       "      <td>27538.806128</td>\n",
       "      <td>92.716545</td>\n",
       "      <td>0.451318</td>\n",
       "      <td>51245707.0</td>\n",
       "    </tr>\n",
       "    <tr>\n",
       "      <th>Netherlands</th>\n",
       "      <td>0.041917</td>\n",
       "      <td>45669.814802</td>\n",
       "      <td>90.410959</td>\n",
       "      <td>0.462244</td>\n",
       "      <td>17018408.0</td>\n",
       "    </tr>\n",
       "    <tr>\n",
       "      <th>Norway</th>\n",
       "      <td>0.046477</td>\n",
       "      <td>70911.757159</td>\n",
       "      <td>97.298204</td>\n",
       "      <td>0.850590</td>\n",
       "      <td>5232929.0</td>\n",
       "    </tr>\n",
       "    <tr>\n",
       "      <th>United Kingdom</th>\n",
       "      <td>0.046934</td>\n",
       "      <td>40341.408246</td>\n",
       "      <td>94.775801</td>\n",
       "      <td>0.777542</td>\n",
       "      <td>65637239.0</td>\n",
       "    </tr>\n",
       "    <tr>\n",
       "      <th>United States</th>\n",
       "      <td>0.036213</td>\n",
       "      <td>57638.159088</td>\n",
       "      <td>76.176737</td>\n",
       "      <td>0.692801</td>\n",
       "      <td>323127513.0</td>\n",
       "    </tr>\n",
       "  </tbody>\n",
       "</table>\n",
       "</div>"
      ],
      "text/plain": [
       "Indicator Name  Enrolment in upper secondary education, both sexes (number)  \\\n",
       "Country Name                                                                  \n",
       "Australia                                                0.041072             \n",
       "Belgium                                                  0.046590             \n",
       "Canada                                                   0.049948             \n",
       "France                                                   0.039229             \n",
       "Germany                                                  0.033225             \n",
       "Korea, Rep.                                              0.038435             \n",
       "Netherlands                                              0.041917             \n",
       "Norway                                                   0.046477             \n",
       "United Kingdom                                           0.046934             \n",
       "United States                                            0.036213             \n",
       "\n",
       "Indicator Name  GDP per capita (current US$)  Internet users (per 100 people)  \\\n",
       "Country Name                                                                    \n",
       "Australia                       49927.819509                        88.238658   \n",
       "Belgium                         41236.266589                        86.516500   \n",
       "Canada                          42157.927991                        89.840000   \n",
       "France                          36854.968280                        85.622200   \n",
       "Germany                         42069.597987                        89.647101   \n",
       "Korea, Rep.                     27538.806128                        92.716545   \n",
       "Netherlands                     45669.814802                        90.410959   \n",
       "Norway                          70911.757159                        97.298204   \n",
       "United Kingdom                  40341.408246                        94.775801   \n",
       "United States                   57638.159088                        76.176737   \n",
       "\n",
       "Indicator Name  Population growth (annual %)  Population, total  \n",
       "Country Name                                                     \n",
       "Australia                           1.410064         24127159.0  \n",
       "Belgium                             0.653895         11348159.0  \n",
       "Canada                              1.213891         36286425.0  \n",
       "France                              0.407491         66896109.0  \n",
       "Germany                             1.193867         82667685.0  \n",
       "Korea, Rep.                         0.451318         51245707.0  \n",
       "Netherlands                         0.462244         17018408.0  \n",
       "Norway                              0.850590          5232929.0  \n",
       "United Kingdom                      0.777542         65637239.0  \n",
       "United States                       0.692801        323127513.0  "
      ]
     },
     "execution_count": 101,
     "metadata": {},
     "output_type": "execute_result"
    }
   ],
   "source": [
    "db_impute.loc[db_impute.index.isin(candidats.index)]"
   ]
  },
  {
   "cell_type": "markdown",
   "metadata": {},
   "source": [
    "On regarde le rang avec la variables croissance démographique."
   ]
  },
  {
   "cell_type": "code",
   "execution_count": 102,
   "metadata": {
    "scrolled": false
   },
   "outputs": [
    {
     "data": {
      "text/plain": [
       "Country Name\n",
       "Canada            173.0\n",
       "United Kingdom    168.6\n",
       "Australia         167.2\n",
       "New Zealand       166.0\n",
       "Germany           160.8\n",
       "Austria           158.0\n",
       "Luxembourg        155.6\n",
       "Singapore         155.6\n",
       "Norway            155.2\n",
       "United States     154.8\n",
       "dtype: float64"
      ]
     },
     "execution_count": 102,
     "metadata": {},
     "output_type": "execute_result"
    }
   ],
   "source": [
    "c2 = db_impute.rank(numeric_only=True).mean(axis=1).sort_values(ascending=False).head(10)\n",
    "c2"
   ]
  },
  {
   "cell_type": "markdown",
   "metadata": {},
   "source": [
    "4 pays sont différents entre les deux méthodes. Ils ont des taux de croissance démographique plus faible. Mais peuvent avoir comme la France une population totale plus importante qu'un pays comme le Luxembourg."
   ]
  },
  {
   "cell_type": "code",
   "execution_count": 118,
   "metadata": {},
   "outputs": [
    {
     "data": {
      "text/plain": [
       "Index(['Belgium', 'Netherlands', 'Korea, Rep.', 'France'], dtype='object', name='Country Name')"
      ]
     },
     "execution_count": 118,
     "metadata": {},
     "output_type": "execute_result"
    }
   ],
   "source": [
    "candidats.index[~candidats.index.isin(c2.index)]"
   ]
  },
  {
   "cell_type": "code",
   "execution_count": 126,
   "metadata": {
    "scrolled": false
   },
   "outputs": [
    {
     "data": {
      "text/html": [
       "<div>\n",
       "<style scoped>\n",
       "    .dataframe tbody tr th:only-of-type {\n",
       "        vertical-align: middle;\n",
       "    }\n",
       "\n",
       "    .dataframe tbody tr th {\n",
       "        vertical-align: top;\n",
       "    }\n",
       "\n",
       "    .dataframe thead th {\n",
       "        text-align: right;\n",
       "    }\n",
       "</style>\n",
       "<table border=\"1\" class=\"dataframe\">\n",
       "  <thead>\n",
       "    <tr style=\"text-align: right;\">\n",
       "      <th>Indicator Name</th>\n",
       "      <th>Enrolment in upper secondary education, both sexes (number)</th>\n",
       "      <th>GDP per capita (current US$)</th>\n",
       "      <th>Internet users (per 100 people)</th>\n",
       "      <th>Population growth (annual %)</th>\n",
       "      <th>Population, total</th>\n",
       "    </tr>\n",
       "    <tr>\n",
       "      <th>Country Name</th>\n",
       "      <th></th>\n",
       "      <th></th>\n",
       "      <th></th>\n",
       "      <th></th>\n",
       "      <th></th>\n",
       "    </tr>\n",
       "  </thead>\n",
       "  <tbody>\n",
       "    <tr>\n",
       "      <th>United States</th>\n",
       "      <td>0.036213</td>\n",
       "      <td>57638.159088</td>\n",
       "      <td>76.176737</td>\n",
       "      <td>0.692801</td>\n",
       "      <td>323127513.0</td>\n",
       "    </tr>\n",
       "    <tr>\n",
       "      <th>United Kingdom</th>\n",
       "      <td>0.046934</td>\n",
       "      <td>40341.408246</td>\n",
       "      <td>94.775801</td>\n",
       "      <td>0.777542</td>\n",
       "      <td>65637239.0</td>\n",
       "    </tr>\n",
       "    <tr>\n",
       "      <th>Norway</th>\n",
       "      <td>0.046477</td>\n",
       "      <td>70911.757159</td>\n",
       "      <td>97.298204</td>\n",
       "      <td>0.850590</td>\n",
       "      <td>5232929.0</td>\n",
       "    </tr>\n",
       "    <tr>\n",
       "      <th>Germany</th>\n",
       "      <td>0.033225</td>\n",
       "      <td>42069.597987</td>\n",
       "      <td>89.647101</td>\n",
       "      <td>1.193867</td>\n",
       "      <td>82667685.0</td>\n",
       "    </tr>\n",
       "    <tr>\n",
       "      <th>Canada</th>\n",
       "      <td>0.049948</td>\n",
       "      <td>42157.927991</td>\n",
       "      <td>89.840000</td>\n",
       "      <td>1.213891</td>\n",
       "      <td>36286425.0</td>\n",
       "    </tr>\n",
       "    <tr>\n",
       "      <th>Singapore</th>\n",
       "      <td>0.045139</td>\n",
       "      <td>52962.491569</td>\n",
       "      <td>81.000000</td>\n",
       "      <td>1.297436</td>\n",
       "      <td>5607283.0</td>\n",
       "    </tr>\n",
       "    <tr>\n",
       "      <th>Austria</th>\n",
       "      <td>0.043775</td>\n",
       "      <td>44676.345835</td>\n",
       "      <td>84.323331</td>\n",
       "      <td>1.314007</td>\n",
       "      <td>8747358.0</td>\n",
       "    </tr>\n",
       "    <tr>\n",
       "      <th>Australia</th>\n",
       "      <td>0.041072</td>\n",
       "      <td>49927.819509</td>\n",
       "      <td>88.238658</td>\n",
       "      <td>1.410064</td>\n",
       "      <td>24127159.0</td>\n",
       "    </tr>\n",
       "    <tr>\n",
       "      <th>New Zealand</th>\n",
       "      <td>0.056062</td>\n",
       "      <td>39416.358733</td>\n",
       "      <td>88.470186</td>\n",
       "      <td>2.088703</td>\n",
       "      <td>4692700.0</td>\n",
       "    </tr>\n",
       "    <tr>\n",
       "      <th>Luxembourg</th>\n",
       "      <td>0.036856</td>\n",
       "      <td>100573.139978</td>\n",
       "      <td>97.493930</td>\n",
       "      <td>2.319778</td>\n",
       "      <td>582972.0</td>\n",
       "    </tr>\n",
       "  </tbody>\n",
       "</table>\n",
       "</div>"
      ],
      "text/plain": [
       "Indicator Name  Enrolment in upper secondary education, both sexes (number)  \\\n",
       "Country Name                                                                  \n",
       "United States                                            0.036213             \n",
       "United Kingdom                                           0.046934             \n",
       "Norway                                                   0.046477             \n",
       "Germany                                                  0.033225             \n",
       "Canada                                                   0.049948             \n",
       "Singapore                                                0.045139             \n",
       "Austria                                                  0.043775             \n",
       "Australia                                                0.041072             \n",
       "New Zealand                                              0.056062             \n",
       "Luxembourg                                               0.036856             \n",
       "\n",
       "Indicator Name  GDP per capita (current US$)  Internet users (per 100 people)  \\\n",
       "Country Name                                                                    \n",
       "United States                   57638.159088                        76.176737   \n",
       "United Kingdom                  40341.408246                        94.775801   \n",
       "Norway                          70911.757159                        97.298204   \n",
       "Germany                         42069.597987                        89.647101   \n",
       "Canada                          42157.927991                        89.840000   \n",
       "Singapore                       52962.491569                        81.000000   \n",
       "Austria                         44676.345835                        84.323331   \n",
       "Australia                       49927.819509                        88.238658   \n",
       "New Zealand                     39416.358733                        88.470186   \n",
       "Luxembourg                     100573.139978                        97.493930   \n",
       "\n",
       "Indicator Name  Population growth (annual %)  Population, total  \n",
       "Country Name                                                     \n",
       "United States                       0.692801        323127513.0  \n",
       "United Kingdom                      0.777542         65637239.0  \n",
       "Norway                              0.850590          5232929.0  \n",
       "Germany                             1.193867         82667685.0  \n",
       "Canada                              1.213891         36286425.0  \n",
       "Singapore                           1.297436          5607283.0  \n",
       "Austria                             1.314007          8747358.0  \n",
       "Australia                           1.410064         24127159.0  \n",
       "New Zealand                         2.088703          4692700.0  \n",
       "Luxembourg                          2.319778           582972.0  "
      ]
     },
     "execution_count": 126,
     "metadata": {},
     "output_type": "execute_result"
    }
   ],
   "source": [
    "db_impute.loc[db_impute.index.isin(c2.index) ].sort_values('Population growth (annual %)')"
   ]
  },
  {
   "cell_type": "markdown",
   "metadata": {},
   "source": [
    "14 Pays d'intérêts "
   ]
  },
  {
   "cell_type": "code",
   "execution_count": 128,
   "metadata": {},
   "outputs": [
    {
     "data": {
      "text/html": [
       "<div>\n",
       "<style scoped>\n",
       "    .dataframe tbody tr th:only-of-type {\n",
       "        vertical-align: middle;\n",
       "    }\n",
       "\n",
       "    .dataframe tbody tr th {\n",
       "        vertical-align: top;\n",
       "    }\n",
       "\n",
       "    .dataframe thead th {\n",
       "        text-align: right;\n",
       "    }\n",
       "</style>\n",
       "<table border=\"1\" class=\"dataframe\">\n",
       "  <thead>\n",
       "    <tr style=\"text-align: right;\">\n",
       "      <th>Indicator Name</th>\n",
       "      <th>Enrolment in upper secondary education, both sexes (number)</th>\n",
       "      <th>GDP per capita (current US$)</th>\n",
       "      <th>Internet users (per 100 people)</th>\n",
       "      <th>Population growth (annual %)</th>\n",
       "      <th>Population, total</th>\n",
       "    </tr>\n",
       "    <tr>\n",
       "      <th>Country Name</th>\n",
       "      <th></th>\n",
       "      <th></th>\n",
       "      <th></th>\n",
       "      <th></th>\n",
       "      <th></th>\n",
       "    </tr>\n",
       "  </thead>\n",
       "  <tbody>\n",
       "    <tr>\n",
       "      <th>France</th>\n",
       "      <td>0.039229</td>\n",
       "      <td>36854.968280</td>\n",
       "      <td>85.622200</td>\n",
       "      <td>0.407491</td>\n",
       "      <td>66896109.0</td>\n",
       "    </tr>\n",
       "    <tr>\n",
       "      <th>Korea, Rep.</th>\n",
       "      <td>0.038435</td>\n",
       "      <td>27538.806128</td>\n",
       "      <td>92.716545</td>\n",
       "      <td>0.451318</td>\n",
       "      <td>51245707.0</td>\n",
       "    </tr>\n",
       "    <tr>\n",
       "      <th>Netherlands</th>\n",
       "      <td>0.041917</td>\n",
       "      <td>45669.814802</td>\n",
       "      <td>90.410959</td>\n",
       "      <td>0.462244</td>\n",
       "      <td>17018408.0</td>\n",
       "    </tr>\n",
       "    <tr>\n",
       "      <th>Belgium</th>\n",
       "      <td>0.046590</td>\n",
       "      <td>41236.266589</td>\n",
       "      <td>86.516500</td>\n",
       "      <td>0.653895</td>\n",
       "      <td>11348159.0</td>\n",
       "    </tr>\n",
       "    <tr>\n",
       "      <th>United States</th>\n",
       "      <td>0.036213</td>\n",
       "      <td>57638.159088</td>\n",
       "      <td>76.176737</td>\n",
       "      <td>0.692801</td>\n",
       "      <td>323127513.0</td>\n",
       "    </tr>\n",
       "    <tr>\n",
       "      <th>United Kingdom</th>\n",
       "      <td>0.046934</td>\n",
       "      <td>40341.408246</td>\n",
       "      <td>94.775801</td>\n",
       "      <td>0.777542</td>\n",
       "      <td>65637239.0</td>\n",
       "    </tr>\n",
       "    <tr>\n",
       "      <th>Norway</th>\n",
       "      <td>0.046477</td>\n",
       "      <td>70911.757159</td>\n",
       "      <td>97.298204</td>\n",
       "      <td>0.850590</td>\n",
       "      <td>5232929.0</td>\n",
       "    </tr>\n",
       "    <tr>\n",
       "      <th>Germany</th>\n",
       "      <td>0.033225</td>\n",
       "      <td>42069.597987</td>\n",
       "      <td>89.647101</td>\n",
       "      <td>1.193867</td>\n",
       "      <td>82667685.0</td>\n",
       "    </tr>\n",
       "    <tr>\n",
       "      <th>Canada</th>\n",
       "      <td>0.049948</td>\n",
       "      <td>42157.927991</td>\n",
       "      <td>89.840000</td>\n",
       "      <td>1.213891</td>\n",
       "      <td>36286425.0</td>\n",
       "    </tr>\n",
       "    <tr>\n",
       "      <th>Singapore</th>\n",
       "      <td>0.045139</td>\n",
       "      <td>52962.491569</td>\n",
       "      <td>81.000000</td>\n",
       "      <td>1.297436</td>\n",
       "      <td>5607283.0</td>\n",
       "    </tr>\n",
       "    <tr>\n",
       "      <th>Austria</th>\n",
       "      <td>0.043775</td>\n",
       "      <td>44676.345835</td>\n",
       "      <td>84.323331</td>\n",
       "      <td>1.314007</td>\n",
       "      <td>8747358.0</td>\n",
       "    </tr>\n",
       "    <tr>\n",
       "      <th>Australia</th>\n",
       "      <td>0.041072</td>\n",
       "      <td>49927.819509</td>\n",
       "      <td>88.238658</td>\n",
       "      <td>1.410064</td>\n",
       "      <td>24127159.0</td>\n",
       "    </tr>\n",
       "    <tr>\n",
       "      <th>New Zealand</th>\n",
       "      <td>0.056062</td>\n",
       "      <td>39416.358733</td>\n",
       "      <td>88.470186</td>\n",
       "      <td>2.088703</td>\n",
       "      <td>4692700.0</td>\n",
       "    </tr>\n",
       "    <tr>\n",
       "      <th>Luxembourg</th>\n",
       "      <td>0.036856</td>\n",
       "      <td>100573.139978</td>\n",
       "      <td>97.493930</td>\n",
       "      <td>2.319778</td>\n",
       "      <td>582972.0</td>\n",
       "    </tr>\n",
       "  </tbody>\n",
       "</table>\n",
       "</div>"
      ],
      "text/plain": [
       "Indicator Name  Enrolment in upper secondary education, both sexes (number)  \\\n",
       "Country Name                                                                  \n",
       "France                                                   0.039229             \n",
       "Korea, Rep.                                              0.038435             \n",
       "Netherlands                                              0.041917             \n",
       "Belgium                                                  0.046590             \n",
       "United States                                            0.036213             \n",
       "United Kingdom                                           0.046934             \n",
       "Norway                                                   0.046477             \n",
       "Germany                                                  0.033225             \n",
       "Canada                                                   0.049948             \n",
       "Singapore                                                0.045139             \n",
       "Austria                                                  0.043775             \n",
       "Australia                                                0.041072             \n",
       "New Zealand                                              0.056062             \n",
       "Luxembourg                                               0.036856             \n",
       "\n",
       "Indicator Name  GDP per capita (current US$)  Internet users (per 100 people)  \\\n",
       "Country Name                                                                    \n",
       "France                          36854.968280                        85.622200   \n",
       "Korea, Rep.                     27538.806128                        92.716545   \n",
       "Netherlands                     45669.814802                        90.410959   \n",
       "Belgium                         41236.266589                        86.516500   \n",
       "United States                   57638.159088                        76.176737   \n",
       "United Kingdom                  40341.408246                        94.775801   \n",
       "Norway                          70911.757159                        97.298204   \n",
       "Germany                         42069.597987                        89.647101   \n",
       "Canada                          42157.927991                        89.840000   \n",
       "Singapore                       52962.491569                        81.000000   \n",
       "Austria                         44676.345835                        84.323331   \n",
       "Australia                       49927.819509                        88.238658   \n",
       "New Zealand                     39416.358733                        88.470186   \n",
       "Luxembourg                     100573.139978                        97.493930   \n",
       "\n",
       "Indicator Name  Population growth (annual %)  Population, total  \n",
       "Country Name                                                     \n",
       "France                              0.407491         66896109.0  \n",
       "Korea, Rep.                         0.451318         51245707.0  \n",
       "Netherlands                         0.462244         17018408.0  \n",
       "Belgium                             0.653895         11348159.0  \n",
       "United States                       0.692801        323127513.0  \n",
       "United Kingdom                      0.777542         65637239.0  \n",
       "Norway                              0.850590          5232929.0  \n",
       "Germany                             1.193867         82667685.0  \n",
       "Canada                              1.213891         36286425.0  \n",
       "Singapore                           1.297436          5607283.0  \n",
       "Austria                             1.314007          8747358.0  \n",
       "Australia                           1.410064         24127159.0  \n",
       "New Zealand                         2.088703          4692700.0  \n",
       "Luxembourg                          2.319778           582972.0  "
      ]
     },
     "execution_count": 128,
     "metadata": {},
     "output_type": "execute_result"
    }
   ],
   "source": [
    "cibles = db_impute.loc[db_impute.index.isin(c2.index) | db_impute.index.isin(candidats.index) ].sort_values('Population growth (annual %)')\n",
    "cibles"
   ]
  },
  {
   "cell_type": "markdown",
   "metadata": {},
   "source": [
    "# Rang"
   ]
  },
  {
   "cell_type": "markdown",
   "metadata": {},
   "source": [
    "10 pays avec le meilleur taux d'accès à internet."
   ]
  },
  {
   "cell_type": "code",
   "execution_count": 104,
   "metadata": {
    "scrolled": true
   },
   "outputs": [
    {
     "data": {
      "text/plain": [
       "Country Name\n",
       "Iceland          214.0\n",
       "Liechtenstein    213.0\n",
       "Bermuda          212.0\n",
       "Bahrain          211.0\n",
       "Andorra          210.0\n",
       "Luxembourg       209.0\n",
       "Norway           208.0\n",
       "Denmark          207.0\n",
       "Monaco           206.0\n",
       "Faroe Islands    205.0\n",
       "Name: Internet users (per 100 people), dtype: float64"
      ]
     },
     "execution_count": 104,
     "metadata": {},
     "output_type": "execute_result"
    }
   ],
   "source": [
    "db_impute['Internet users (per 100 people)'].rank().sort_values(ascending=False).head(10)\n",
    "#.sort_values('Internet users (per 100 people)').mean(axis=1).sort_values(ascending=False).head(10)"
   ]
  },
  {
   "cell_type": "markdown",
   "metadata": {},
   "source": [
    "10 pays avec le plus grans PIB/Tête"
   ]
  },
  {
   "cell_type": "code",
   "execution_count": 105,
   "metadata": {
    "scrolled": true
   },
   "outputs": [
    {
     "data": {
      "text/plain": [
       "Country Name\n",
       "Liechtenstein                214.0\n",
       "Monaco                       213.0\n",
       "Turks and Caicos Islands     211.0\n",
       "Sint Maarten (Dutch part)    211.0\n",
       "St. Martin (French part)     211.0\n",
       "Luxembourg                   209.0\n",
       "Bermuda                      208.0\n",
       "Isle of Man                  207.0\n",
       "Switzerland                  206.0\n",
       "Macao SAR, China             205.0\n",
       "Name: GDP per capita (current US$), dtype: float64"
      ]
     },
     "execution_count": 105,
     "metadata": {},
     "output_type": "execute_result"
    }
   ],
   "source": [
    "db_impute['GDP per capita (current US$)'].rank().sort_values(ascending=False).head(10)"
   ]
  },
  {
   "cell_type": "markdown",
   "metadata": {},
   "source": [
    "10 pays avec le plus grand taux de population étudiante (lycée)"
   ]
  },
  {
   "cell_type": "code",
   "execution_count": 106,
   "metadata": {},
   "outputs": [
    {
     "data": {
      "text/plain": [
       "Country Name\n",
       "Tuvalu               214.0\n",
       "Samoa                213.0\n",
       "Brunei Darussalam    212.0\n",
       "Iceland              211.0\n",
       "Guam                 210.0\n",
       "Channel Islands      209.0\n",
       "Bolivia              208.0\n",
       "Sri Lanka            207.0\n",
       "Marshall Islands     206.0\n",
       "New Zealand          205.0\n",
       "Name: Enrolment in upper secondary education, both sexes (number), dtype: float64"
      ]
     },
     "execution_count": 106,
     "metadata": {},
     "output_type": "execute_result"
    }
   ],
   "source": [
    "db_impute['Enrolment in upper secondary education, both sexes (number)'].rank().sort_values(ascending=False).head(10)\n",
    "#.sort_values('Enrolment in upper secondary education, both sexes (number)').mean(axis=1).sort_values(ascending=False).head(10)"
   ]
  },
  {
   "cell_type": "markdown",
   "metadata": {},
   "source": [
    " Top 10 des pays les plus peuplés dans notre dataset"
   ]
  },
  {
   "cell_type": "code",
   "execution_count": 107,
   "metadata": {},
   "outputs": [
    {
     "data": {
      "text/plain": [
       "Country Name\n",
       "China                 214.0\n",
       "India                 213.0\n",
       "United States         212.0\n",
       "Indonesia             211.0\n",
       "Brazil                210.0\n",
       "Pakistan              209.0\n",
       "Nigeria               208.0\n",
       "Bangladesh            207.0\n",
       "Russian Federation    206.0\n",
       "Mexico                205.0\n",
       "Name: Population, total, dtype: float64"
      ]
     },
     "execution_count": 107,
     "metadata": {},
     "output_type": "execute_result"
    }
   ],
   "source": [
    "db_impute['Population, total'].rank().sort_values(ascending=False).head(10)"
   ]
  },
  {
   "cell_type": "markdown",
   "metadata": {},
   "source": [
    "Top 10 croissance démographique annuelle"
   ]
  },
  {
   "cell_type": "code",
   "execution_count": 108,
   "metadata": {},
   "outputs": [
    {
     "data": {
      "text/plain": [
       "Country Name\n",
       "Oman                 214.0\n",
       "South Sudan          213.0\n",
       "Equatorial Guinea    212.0\n",
       "Niger                211.0\n",
       "Bahrain              210.0\n",
       "Qatar                209.0\n",
       "Angola               208.0\n",
       "Uganda               207.0\n",
       "Congo, Dem. Rep.     206.0\n",
       "Jordan               205.0\n",
       "Name: Population growth (annual %), dtype: float64"
      ]
     },
     "execution_count": 108,
     "metadata": {},
     "output_type": "execute_result"
    }
   ],
   "source": [
    "db_impute['Population growth (annual %)'].rank().sort_values(ascending=False).head(10)"
   ]
  },
  {
   "cell_type": "markdown",
   "metadata": {},
   "source": [
    "## Prévisions"
   ]
  },
  {
   "cell_type": "markdown",
   "metadata": {},
   "source": [
    "Pour chacun de ces pays, quelle sera l’évolution de ce potentiel de clients ?"
   ]
  },
  {
   "cell_type": "markdown",
   "metadata": {},
   "source": [
    "Méthode: faute de donnée futur dans notre dataset (voir taux de remplissage -null à partir de 2017-). Nous allons calculer une évolution potentiel du marché.\n",
    "Pour chaques pays on mutiplie le taux d'étudiant * volume de la population * taux de croissance démographique.\n",
    "Ainsi on pourra voir l'intérêt de s'implanter dans un pays par l'évolution de la taille du marché. Soit l'évolution du volume d'étudiants dans un pays donné. "
   ]
  },
  {
   "cell_type": "code",
   "execution_count": 129,
   "metadata": {
    "scrolled": true
   },
   "outputs": [
    {
     "data": {
      "text/html": [
       "<div>\n",
       "<style scoped>\n",
       "    .dataframe tbody tr th:only-of-type {\n",
       "        vertical-align: middle;\n",
       "    }\n",
       "\n",
       "    .dataframe tbody tr th {\n",
       "        vertical-align: top;\n",
       "    }\n",
       "\n",
       "    .dataframe thead th {\n",
       "        text-align: right;\n",
       "    }\n",
       "</style>\n",
       "<table border=\"1\" class=\"dataframe\">\n",
       "  <thead>\n",
       "    <tr style=\"text-align: right;\">\n",
       "      <th>Indicator Name</th>\n",
       "      <th>Enrolment in upper secondary education, both sexes (number)</th>\n",
       "      <th>GDP per capita (current US$)</th>\n",
       "      <th>Internet users (per 100 people)</th>\n",
       "      <th>Population growth (annual %)</th>\n",
       "      <th>Population, total</th>\n",
       "      <th>taux_potentiel</th>\n",
       "    </tr>\n",
       "    <tr>\n",
       "      <th>Country Name</th>\n",
       "      <th></th>\n",
       "      <th></th>\n",
       "      <th></th>\n",
       "      <th></th>\n",
       "      <th></th>\n",
       "      <th></th>\n",
       "    </tr>\n",
       "  </thead>\n",
       "  <tbody>\n",
       "    <tr>\n",
       "      <th>France</th>\n",
       "      <td>0.039229</td>\n",
       "      <td>36854.968280</td>\n",
       "      <td>85.622200</td>\n",
       "      <td>0.407491</td>\n",
       "      <td>66896109.0</td>\n",
       "      <td>1.069362e+06</td>\n",
       "    </tr>\n",
       "    <tr>\n",
       "      <th>Korea, Rep.</th>\n",
       "      <td>0.038435</td>\n",
       "      <td>27538.806128</td>\n",
       "      <td>92.716545</td>\n",
       "      <td>0.451318</td>\n",
       "      <td>51245707.0</td>\n",
       "      <td>8.889399e+05</td>\n",
       "    </tr>\n",
       "    <tr>\n",
       "      <th>Netherlands</th>\n",
       "      <td>0.041917</td>\n",
       "      <td>45669.814802</td>\n",
       "      <td>90.410959</td>\n",
       "      <td>0.462244</td>\n",
       "      <td>17018408.0</td>\n",
       "      <td>3.297453e+05</td>\n",
       "    </tr>\n",
       "    <tr>\n",
       "      <th>Belgium</th>\n",
       "      <td>0.046590</td>\n",
       "      <td>41236.266589</td>\n",
       "      <td>86.516500</td>\n",
       "      <td>0.653895</td>\n",
       "      <td>11348159.0</td>\n",
       "      <td>3.457190e+05</td>\n",
       "    </tr>\n",
       "    <tr>\n",
       "      <th>United States</th>\n",
       "      <td>0.036213</td>\n",
       "      <td>57638.159088</td>\n",
       "      <td>76.176737</td>\n",
       "      <td>0.692801</td>\n",
       "      <td>323127513.0</td>\n",
       "      <td>8.106662e+06</td>\n",
       "    </tr>\n",
       "    <tr>\n",
       "      <th>United Kingdom</th>\n",
       "      <td>0.046934</td>\n",
       "      <td>40341.408246</td>\n",
       "      <td>94.775801</td>\n",
       "      <td>0.777542</td>\n",
       "      <td>65637239.0</td>\n",
       "      <td>2.395312e+06</td>\n",
       "    </tr>\n",
       "    <tr>\n",
       "      <th>Norway</th>\n",
       "      <td>0.046477</td>\n",
       "      <td>70911.757159</td>\n",
       "      <td>97.298204</td>\n",
       "      <td>0.850590</td>\n",
       "      <td>5232929.0</td>\n",
       "      <td>2.068720e+05</td>\n",
       "    </tr>\n",
       "    <tr>\n",
       "      <th>Germany</th>\n",
       "      <td>0.033225</td>\n",
       "      <td>42069.597987</td>\n",
       "      <td>89.647101</td>\n",
       "      <td>1.193867</td>\n",
       "      <td>82667685.0</td>\n",
       "      <td>3.279133e+06</td>\n",
       "    </tr>\n",
       "    <tr>\n",
       "      <th>Canada</th>\n",
       "      <td>0.049948</td>\n",
       "      <td>42157.927991</td>\n",
       "      <td>89.840000</td>\n",
       "      <td>1.213891</td>\n",
       "      <td>36286425.0</td>\n",
       "      <td>2.200116e+06</td>\n",
       "    </tr>\n",
       "    <tr>\n",
       "      <th>Singapore</th>\n",
       "      <td>0.045139</td>\n",
       "      <td>52962.491569</td>\n",
       "      <td>81.000000</td>\n",
       "      <td>1.297436</td>\n",
       "      <td>5607283.0</td>\n",
       "      <td>3.283923e+05</td>\n",
       "    </tr>\n",
       "    <tr>\n",
       "      <th>Austria</th>\n",
       "      <td>0.043775</td>\n",
       "      <td>44676.345835</td>\n",
       "      <td>84.323331</td>\n",
       "      <td>1.314007</td>\n",
       "      <td>8747358.0</td>\n",
       "      <td>5.031529e+05</td>\n",
       "    </tr>\n",
       "    <tr>\n",
       "      <th>Australia</th>\n",
       "      <td>0.041072</td>\n",
       "      <td>49927.819509</td>\n",
       "      <td>88.238658</td>\n",
       "      <td>1.410064</td>\n",
       "      <td>24127159.0</td>\n",
       "      <td>1.397304e+06</td>\n",
       "    </tr>\n",
       "    <tr>\n",
       "      <th>New Zealand</th>\n",
       "      <td>0.056062</td>\n",
       "      <td>39416.358733</td>\n",
       "      <td>88.470186</td>\n",
       "      <td>2.088703</td>\n",
       "      <td>4692700.0</td>\n",
       "      <td>5.494980e+05</td>\n",
       "    </tr>\n",
       "    <tr>\n",
       "      <th>Luxembourg</th>\n",
       "      <td>0.036856</td>\n",
       "      <td>100573.139978</td>\n",
       "      <td>97.493930</td>\n",
       "      <td>2.319778</td>\n",
       "      <td>582972.0</td>\n",
       "      <td>4.984274e+04</td>\n",
       "    </tr>\n",
       "  </tbody>\n",
       "</table>\n",
       "</div>"
      ],
      "text/plain": [
       "Indicator Name  Enrolment in upper secondary education, both sexes (number)  \\\n",
       "Country Name                                                                  \n",
       "France                                                   0.039229             \n",
       "Korea, Rep.                                              0.038435             \n",
       "Netherlands                                              0.041917             \n",
       "Belgium                                                  0.046590             \n",
       "United States                                            0.036213             \n",
       "United Kingdom                                           0.046934             \n",
       "Norway                                                   0.046477             \n",
       "Germany                                                  0.033225             \n",
       "Canada                                                   0.049948             \n",
       "Singapore                                                0.045139             \n",
       "Austria                                                  0.043775             \n",
       "Australia                                                0.041072             \n",
       "New Zealand                                              0.056062             \n",
       "Luxembourg                                               0.036856             \n",
       "\n",
       "Indicator Name  GDP per capita (current US$)  Internet users (per 100 people)  \\\n",
       "Country Name                                                                    \n",
       "France                          36854.968280                        85.622200   \n",
       "Korea, Rep.                     27538.806128                        92.716545   \n",
       "Netherlands                     45669.814802                        90.410959   \n",
       "Belgium                         41236.266589                        86.516500   \n",
       "United States                   57638.159088                        76.176737   \n",
       "United Kingdom                  40341.408246                        94.775801   \n",
       "Norway                          70911.757159                        97.298204   \n",
       "Germany                         42069.597987                        89.647101   \n",
       "Canada                          42157.927991                        89.840000   \n",
       "Singapore                       52962.491569                        81.000000   \n",
       "Austria                         44676.345835                        84.323331   \n",
       "Australia                       49927.819509                        88.238658   \n",
       "New Zealand                     39416.358733                        88.470186   \n",
       "Luxembourg                     100573.139978                        97.493930   \n",
       "\n",
       "Indicator Name  Population growth (annual %)  Population, total  \\\n",
       "Country Name                                                      \n",
       "France                              0.407491         66896109.0   \n",
       "Korea, Rep.                         0.451318         51245707.0   \n",
       "Netherlands                         0.462244         17018408.0   \n",
       "Belgium                             0.653895         11348159.0   \n",
       "United States                       0.692801        323127513.0   \n",
       "United Kingdom                      0.777542         65637239.0   \n",
       "Norway                              0.850590          5232929.0   \n",
       "Germany                             1.193867         82667685.0   \n",
       "Canada                              1.213891         36286425.0   \n",
       "Singapore                           1.297436          5607283.0   \n",
       "Austria                             1.314007          8747358.0   \n",
       "Australia                           1.410064         24127159.0   \n",
       "New Zealand                         2.088703          4692700.0   \n",
       "Luxembourg                          2.319778           582972.0   \n",
       "\n",
       "Indicator Name  taux_potentiel  \n",
       "Country Name                    \n",
       "France            1.069362e+06  \n",
       "Korea, Rep.       8.889399e+05  \n",
       "Netherlands       3.297453e+05  \n",
       "Belgium           3.457190e+05  \n",
       "United States     8.106662e+06  \n",
       "United Kingdom    2.395312e+06  \n",
       "Norway            2.068720e+05  \n",
       "Germany           3.279133e+06  \n",
       "Canada            2.200116e+06  \n",
       "Singapore         3.283923e+05  \n",
       "Austria           5.031529e+05  \n",
       "Australia         1.397304e+06  \n",
       "New Zealand       5.494980e+05  \n",
       "Luxembourg        4.984274e+04  "
      ]
     },
     "execution_count": 129,
     "metadata": {},
     "output_type": "execute_result"
    }
   ],
   "source": [
    "futur = cibles\n",
    "futur['taux_potentiel'] = futur['Enrolment in upper secondary education, both sexes (number)']*futur['Population, total']*futur['Population growth (annual %)']\n",
    "futur"
   ]
  },
  {
   "cell_type": "code",
   "execution_count": 147,
   "metadata": {
    "scrolled": true
   },
   "outputs": [
    {
     "data": {
      "text/html": [
       "<div>\n",
       "<style scoped>\n",
       "    .dataframe tbody tr th:only-of-type {\n",
       "        vertical-align: middle;\n",
       "    }\n",
       "\n",
       "    .dataframe tbody tr th {\n",
       "        vertical-align: top;\n",
       "    }\n",
       "\n",
       "    .dataframe thead th {\n",
       "        text-align: right;\n",
       "    }\n",
       "</style>\n",
       "<table border=\"1\" class=\"dataframe\">\n",
       "  <thead>\n",
       "    <tr style=\"text-align: right;\">\n",
       "      <th></th>\n",
       "      <th>Country Name</th>\n",
       "      <th>taux_potentiel</th>\n",
       "    </tr>\n",
       "  </thead>\n",
       "  <tbody>\n",
       "    <tr>\n",
       "      <th>0</th>\n",
       "      <td>United States</td>\n",
       "      <td>14.0</td>\n",
       "    </tr>\n",
       "    <tr>\n",
       "      <th>1</th>\n",
       "      <td>Germany</td>\n",
       "      <td>13.0</td>\n",
       "    </tr>\n",
       "    <tr>\n",
       "      <th>2</th>\n",
       "      <td>United Kingdom</td>\n",
       "      <td>12.0</td>\n",
       "    </tr>\n",
       "    <tr>\n",
       "      <th>3</th>\n",
       "      <td>Canada</td>\n",
       "      <td>11.0</td>\n",
       "    </tr>\n",
       "    <tr>\n",
       "      <th>4</th>\n",
       "      <td>Australia</td>\n",
       "      <td>10.0</td>\n",
       "    </tr>\n",
       "    <tr>\n",
       "      <th>5</th>\n",
       "      <td>France</td>\n",
       "      <td>9.0</td>\n",
       "    </tr>\n",
       "    <tr>\n",
       "      <th>6</th>\n",
       "      <td>Korea, Rep.</td>\n",
       "      <td>8.0</td>\n",
       "    </tr>\n",
       "    <tr>\n",
       "      <th>7</th>\n",
       "      <td>New Zealand</td>\n",
       "      <td>7.0</td>\n",
       "    </tr>\n",
       "    <tr>\n",
       "      <th>8</th>\n",
       "      <td>Austria</td>\n",
       "      <td>6.0</td>\n",
       "    </tr>\n",
       "    <tr>\n",
       "      <th>9</th>\n",
       "      <td>Belgium</td>\n",
       "      <td>5.0</td>\n",
       "    </tr>\n",
       "    <tr>\n",
       "      <th>10</th>\n",
       "      <td>Netherlands</td>\n",
       "      <td>4.0</td>\n",
       "    </tr>\n",
       "    <tr>\n",
       "      <th>11</th>\n",
       "      <td>Singapore</td>\n",
       "      <td>3.0</td>\n",
       "    </tr>\n",
       "    <tr>\n",
       "      <th>12</th>\n",
       "      <td>Norway</td>\n",
       "      <td>2.0</td>\n",
       "    </tr>\n",
       "    <tr>\n",
       "      <th>13</th>\n",
       "      <td>Luxembourg</td>\n",
       "      <td>1.0</td>\n",
       "    </tr>\n",
       "  </tbody>\n",
       "</table>\n",
       "</div>"
      ],
      "text/plain": [
       "      Country Name  taux_potentiel\n",
       "0    United States            14.0\n",
       "1          Germany            13.0\n",
       "2   United Kingdom            12.0\n",
       "3           Canada            11.0\n",
       "4        Australia            10.0\n",
       "5           France             9.0\n",
       "6      Korea, Rep.             8.0\n",
       "7      New Zealand             7.0\n",
       "8          Austria             6.0\n",
       "9          Belgium             5.0\n",
       "10     Netherlands             4.0\n",
       "11       Singapore             3.0\n",
       "12          Norway             2.0\n",
       "13      Luxembourg             1.0"
      ]
     },
     "execution_count": 147,
     "metadata": {},
     "output_type": "execute_result"
    }
   ],
   "source": [
    "f = futur.taux_potentiel.rank().sort_values(ascending=False).to_frame().reset_index()\n",
    "f = f.sort_\n",
    "f"
   ]
  },
  {
   "cell_type": "code",
   "execution_count": 151,
   "metadata": {
    "scrolled": true
   },
   "outputs": [
    {
     "data": {
      "text/html": [
       "<div>\n",
       "<style scoped>\n",
       "    .dataframe tbody tr th:only-of-type {\n",
       "        vertical-align: middle;\n",
       "    }\n",
       "\n",
       "    .dataframe tbody tr th {\n",
       "        vertical-align: top;\n",
       "    }\n",
       "\n",
       "    .dataframe thead th {\n",
       "        text-align: right;\n",
       "    }\n",
       "</style>\n",
       "<table border=\"1\" class=\"dataframe\">\n",
       "  <thead>\n",
       "    <tr style=\"text-align: right;\">\n",
       "      <th></th>\n",
       "      <th>Country Name</th>\n",
       "      <th>Rang_actuel</th>\n",
       "    </tr>\n",
       "  </thead>\n",
       "  <tbody>\n",
       "    <tr>\n",
       "      <th>0</th>\n",
       "      <td>Canada</td>\n",
       "      <td>9.666667</td>\n",
       "    </tr>\n",
       "    <tr>\n",
       "      <th>1</th>\n",
       "      <td>United Kingdom</td>\n",
       "      <td>9.500000</td>\n",
       "    </tr>\n",
       "    <tr>\n",
       "      <th>2</th>\n",
       "      <td>Australia</td>\n",
       "      <td>8.666667</td>\n",
       "    </tr>\n",
       "    <tr>\n",
       "      <th>3</th>\n",
       "      <td>Germany</td>\n",
       "      <td>8.166667</td>\n",
       "    </tr>\n",
       "    <tr>\n",
       "      <th>4</th>\n",
       "      <td>Norway</td>\n",
       "      <td>8.000000</td>\n",
       "    </tr>\n",
       "    <tr>\n",
       "      <th>5</th>\n",
       "      <td>United States</td>\n",
       "      <td>8.000000</td>\n",
       "    </tr>\n",
       "    <tr>\n",
       "      <th>6</th>\n",
       "      <td>Luxembourg</td>\n",
       "      <td>7.833333</td>\n",
       "    </tr>\n",
       "    <tr>\n",
       "      <th>7</th>\n",
       "      <td>New Zealand</td>\n",
       "      <td>7.666667</td>\n",
       "    </tr>\n",
       "    <tr>\n",
       "      <th>8</th>\n",
       "      <td>Austria</td>\n",
       "      <td>6.833333</td>\n",
       "    </tr>\n",
       "    <tr>\n",
       "      <th>9</th>\n",
       "      <td>Netherlands</td>\n",
       "      <td>6.666667</td>\n",
       "    </tr>\n",
       "    <tr>\n",
       "      <th>10</th>\n",
       "      <td>Singapore</td>\n",
       "      <td>6.500000</td>\n",
       "    </tr>\n",
       "    <tr>\n",
       "      <th>11</th>\n",
       "      <td>Belgium</td>\n",
       "      <td>6.000000</td>\n",
       "    </tr>\n",
       "    <tr>\n",
       "      <th>12</th>\n",
       "      <td>Korea, Rep.</td>\n",
       "      <td>6.000000</td>\n",
       "    </tr>\n",
       "    <tr>\n",
       "      <th>13</th>\n",
       "      <td>France</td>\n",
       "      <td>5.500000</td>\n",
       "    </tr>\n",
       "  </tbody>\n",
       "</table>\n",
       "</div>"
      ],
      "text/plain": [
       "      Country Name  Rang_actuel\n",
       "0           Canada     9.666667\n",
       "1   United Kingdom     9.500000\n",
       "2        Australia     8.666667\n",
       "3          Germany     8.166667\n",
       "4           Norway     8.000000\n",
       "5    United States     8.000000\n",
       "6       Luxembourg     7.833333\n",
       "7      New Zealand     7.666667\n",
       "8          Austria     6.833333\n",
       "9      Netherlands     6.666667\n",
       "10       Singapore     6.500000\n",
       "11         Belgium     6.000000\n",
       "12     Korea, Rep.     6.000000\n",
       "13          France     5.500000"
      ]
     },
     "execution_count": 151,
     "metadata": {},
     "output_type": "execute_result"
    }
   ],
   "source": [
    "p = cibles.rank(numeric_only=True).mean(axis=1).sort_values(ascending=False).to_frame().reset_index()\n",
    "p.rename(columns = {0: \"Rang_actuel\"},inplace=True)\n",
    "p"
   ]
  },
  {
   "cell_type": "code",
   "execution_count": 167,
   "metadata": {
    "scrolled": true
   },
   "outputs": [
    {
     "data": {
      "text/html": [
       "<div>\n",
       "<style scoped>\n",
       "    .dataframe tbody tr th:only-of-type {\n",
       "        vertical-align: middle;\n",
       "    }\n",
       "\n",
       "    .dataframe tbody tr th {\n",
       "        vertical-align: top;\n",
       "    }\n",
       "\n",
       "    .dataframe thead th {\n",
       "        text-align: right;\n",
       "    }\n",
       "</style>\n",
       "<table border=\"1\" class=\"dataframe\">\n",
       "  <thead>\n",
       "    <tr style=\"text-align: right;\">\n",
       "      <th></th>\n",
       "      <th>Country Name</th>\n",
       "      <th>Rang_actuel</th>\n",
       "      <th>taux_potentiel</th>\n",
       "    </tr>\n",
       "  </thead>\n",
       "  <tbody>\n",
       "    <tr>\n",
       "      <th>0</th>\n",
       "      <td>Canada</td>\n",
       "      <td>9.666667</td>\n",
       "      <td>11.0</td>\n",
       "    </tr>\n",
       "    <tr>\n",
       "      <th>1</th>\n",
       "      <td>United Kingdom</td>\n",
       "      <td>9.500000</td>\n",
       "      <td>12.0</td>\n",
       "    </tr>\n",
       "    <tr>\n",
       "      <th>2</th>\n",
       "      <td>Australia</td>\n",
       "      <td>8.666667</td>\n",
       "      <td>10.0</td>\n",
       "    </tr>\n",
       "    <tr>\n",
       "      <th>3</th>\n",
       "      <td>Germany</td>\n",
       "      <td>8.166667</td>\n",
       "      <td>13.0</td>\n",
       "    </tr>\n",
       "    <tr>\n",
       "      <th>4</th>\n",
       "      <td>Norway</td>\n",
       "      <td>8.000000</td>\n",
       "      <td>2.0</td>\n",
       "    </tr>\n",
       "    <tr>\n",
       "      <th>5</th>\n",
       "      <td>United States</td>\n",
       "      <td>8.000000</td>\n",
       "      <td>14.0</td>\n",
       "    </tr>\n",
       "    <tr>\n",
       "      <th>6</th>\n",
       "      <td>Luxembourg</td>\n",
       "      <td>7.833333</td>\n",
       "      <td>1.0</td>\n",
       "    </tr>\n",
       "    <tr>\n",
       "      <th>7</th>\n",
       "      <td>New Zealand</td>\n",
       "      <td>7.666667</td>\n",
       "      <td>7.0</td>\n",
       "    </tr>\n",
       "    <tr>\n",
       "      <th>8</th>\n",
       "      <td>Austria</td>\n",
       "      <td>6.833333</td>\n",
       "      <td>6.0</td>\n",
       "    </tr>\n",
       "    <tr>\n",
       "      <th>9</th>\n",
       "      <td>Netherlands</td>\n",
       "      <td>6.666667</td>\n",
       "      <td>4.0</td>\n",
       "    </tr>\n",
       "    <tr>\n",
       "      <th>10</th>\n",
       "      <td>Singapore</td>\n",
       "      <td>6.500000</td>\n",
       "      <td>3.0</td>\n",
       "    </tr>\n",
       "    <tr>\n",
       "      <th>11</th>\n",
       "      <td>Belgium</td>\n",
       "      <td>6.000000</td>\n",
       "      <td>5.0</td>\n",
       "    </tr>\n",
       "    <tr>\n",
       "      <th>12</th>\n",
       "      <td>Korea, Rep.</td>\n",
       "      <td>6.000000</td>\n",
       "      <td>8.0</td>\n",
       "    </tr>\n",
       "    <tr>\n",
       "      <th>13</th>\n",
       "      <td>France</td>\n",
       "      <td>5.500000</td>\n",
       "      <td>9.0</td>\n",
       "    </tr>\n",
       "  </tbody>\n",
       "</table>\n",
       "</div>"
      ],
      "text/plain": [
       "      Country Name  Rang_actuel  taux_potentiel\n",
       "0           Canada     9.666667            11.0\n",
       "1   United Kingdom     9.500000            12.0\n",
       "2        Australia     8.666667            10.0\n",
       "3          Germany     8.166667            13.0\n",
       "4           Norway     8.000000             2.0\n",
       "5    United States     8.000000            14.0\n",
       "6       Luxembourg     7.833333             1.0\n",
       "7      New Zealand     7.666667             7.0\n",
       "8          Austria     6.833333             6.0\n",
       "9      Netherlands     6.666667             4.0\n",
       "10       Singapore     6.500000             3.0\n",
       "11         Belgium     6.000000             5.0\n",
       "12     Korea, Rep.     6.000000             8.0\n",
       "13          France     5.500000             9.0"
      ]
     },
     "execution_count": 167,
     "metadata": {},
     "output_type": "execute_result"
    }
   ],
   "source": [
    "pf = pd.merge(p,f)\n",
    "pf = pf.sort_values('Rang_actuel',ascending=False)\n",
    "pf"
   ]
  },
  {
   "cell_type": "markdown",
   "metadata": {},
   "source": [
    "On visualise noes pays en terme d'importance présent et future"
   ]
  },
  {
   "cell_type": "code",
   "execution_count": 166,
   "metadata": {
    "scrolled": true
   },
   "outputs": [
    {
     "data": {
      "image/png": "[encoded data removed]",
      "text/plain": [
       "<Figure size 648x432 with 1 Axes>"
      ]
     },
     "metadata": {},
     "output_type": "display_data"
    }
   ],
   "source": [
    "plt.figure(figsize=(9,6))\n",
    "sns.scatterplot(data=pf, y= 'Country Name', x=\"Rang_actuel\",hue='taux_potentiel')\n",
    "plt.show()"
   ]
  },
  {
   "cell_type": "markdown",
   "metadata": {},
   "source": [
    "Dans quels pays l'entreprise doit-elle opérer en priorité ?\n"
   ]
  },
  {
   "cell_type": "markdown",
   "metadata": {},
   "source": [
    "On propose de sélectionner que 6 pays qui ont le plus de potentiel présent et futur parmis nos 14 candidats:\n",
    "- États Unis d'Amérique\n",
    "- Norvège \n",
    "- Allemagne\n",
    "- Australie \n",
    "- Royaume-Uni\n",
    "- Canada "
   ]
  }
 ],
 "metadata": {
  "kernelspec": {
   "display_name": "Python 3",
   "language": "python",
   "name": "python3"
  },
  "language_info": {
   "codemirror_mode": {
    "name": "ipython",
    "version": 3
   },
   "file_extension": ".py",
   "mimetype": "text/x-python",
   "name": "python",
   "nbconvert_exporter": "python",
   "pygments_lexer": "ipython3",
   "version": "3.8.5"
  }
 },
 "nbformat": 4,
 "nbformat_minor": 4
}
